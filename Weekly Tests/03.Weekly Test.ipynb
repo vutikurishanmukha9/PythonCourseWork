{
 "cells": [
  {
   "cell_type": "markdown",
   "id": "cc3c9bdc",
   "metadata": {},
   "source": [
    "**Q1. Recursive Power Calculation**"
   ]
  },
  {
   "cell_type": "code",
   "execution_count": 1,
   "id": "129a6e7f",
   "metadata": {},
   "outputs": [
    {
     "name": "stdout",
     "output_type": "stream",
     "text": [
      "8\n",
      "1\n",
      "81\n"
     ]
    }
   ],
   "source": [
    "def power(base, exp):\n",
    "    if exp == 0:\n",
    "        return 1\n",
    "    return base * power(base, exp - 1)\n",
    "\n",
    "print(power(2, 3))  \n",
    "print(power(5, 0)) \n",
    "print(power(3, 4))  \n"
   ]
  },
  {
   "cell_type": "markdown",
   "id": "dd33f710",
   "metadata": {},
   "source": [
    "**Q2. Recursive Sum of Digits**"
   ]
  },
  {
   "cell_type": "code",
   "execution_count": 2,
   "id": "34e50f3c",
   "metadata": {},
   "outputs": [
    {
     "name": "stdout",
     "output_type": "stream",
     "text": [
      "6\n",
      "0\n",
      "30\n"
     ]
    }
   ],
   "source": [
    "def sum_of_digits(n):\n",
    "    if n == 0:\n",
    "        return 0\n",
    "    return n % 10 + sum_of_digits(n // 10)\n",
    "\n",
    "print(sum_of_digits(123))   \n",
    "print(sum_of_digits(0))     \n",
    "print(sum_of_digits(9876))  \n"
   ]
  },
  {
   "cell_type": "markdown",
   "id": "548ec8ae",
   "metadata": {},
   "source": [
    "**Q3. Generate Multiplication Table**"
   ]
  },
  {
   "cell_type": "code",
   "execution_count": 3,
   "id": "881268cb",
   "metadata": {},
   "outputs": [
    {
     "name": "stdout",
     "output_type": "stream",
     "text": [
      "[2, 4, 6, 8, 10, 12, 14, 16, 18, 20]\n",
      "[5, 10, 15, 20, 25, 30, 35, 40, 45, 50]\n"
     ]
    }
   ],
   "source": [
    "def generate_table(n):\n",
    "    return [n * i for i in range(1, 11)]\n",
    "print(generate_table(2))  \n",
    "print(generate_table(5))  "
   ]
  },
  {
   "cell_type": "markdown",
   "id": "769b9c4b",
   "metadata": {},
   "source": [
    "**Q4. Check Anagram**"
   ]
  },
  {
   "cell_type": "code",
   "execution_count": 4,
   "id": "aca423fd",
   "metadata": {},
   "outputs": [
    {
     "name": "stdout",
     "output_type": "stream",
     "text": [
      "True\n",
      "True\n",
      "False\n"
     ]
    }
   ],
   "source": [
    "def is_anagram(str1, str2):\n",
    "    return sorted(str1.replace(\" \", \"\").lower()) == sorted(str2.replace(\" \", \"\").lower())\n",
    "\n",
    "print(is_anagram(\"listen\", \"silent\"))  \n",
    "print(is_anagram(\"Hello\", \"Olelh\"))    \n",
    "print(is_anagram(\"apple\", \"pale\"))     \n"
   ]
  },
  {
   "cell_type": "markdown",
   "id": "9f398fa7",
   "metadata": {},
   "source": [
    "**Q5. Count Word Occurrences**"
   ]
  },
  {
   "cell_type": "code",
   "execution_count": 5,
   "id": "ca5fa836",
   "metadata": {},
   "outputs": [
    {
     "name": "stdout",
     "output_type": "stream",
     "text": [
      "{'this': 2, 'is': 2, 'a': 1, 'test': 1}\n",
      "{'hello': 2, 'world': 1}\n"
     ]
    }
   ],
   "source": [
    "def count_words(text):\n",
    "    words = text.split()\n",
    "    freq = {}\n",
    "    for word in words:\n",
    "        freq[word] = freq.get(word, 0) + 1\n",
    "    return freq\n",
    "\n",
    "print(count_words(\"this is a test this is\"))  \n",
    "print(count_words(\"hello hello world\"))  \n"
   ]
  },
  {
   "cell_type": "markdown",
   "id": "c264694e",
   "metadata": {},
   "source": [
    "**Q6. Simulate LRU Cache**"
   ]
  },
  {
   "cell_type": "code",
   "execution_count": 6,
   "id": "839772c8",
   "metadata": {},
   "outputs": [
    {
     "name": "stdout",
     "output_type": "stream",
     "text": [
      "[1, 4, 2]\n",
      "[8, 7]\n",
      "[1, 3]\n"
     ]
    }
   ],
   "source": [
    "def lru_cache(requests, size):\n",
    "    cache = []\n",
    "    for r in requests:\n",
    "        if r in cache:\n",
    "            cache.remove(r)\n",
    "        elif len(cache) == size:\n",
    "            cache.pop()  \n",
    "        cache.insert(0, r) \n",
    "    return cache\n",
    "\n",
    "\n",
    "print(lru_cache([1,2,3,2,4,1], 3))  \n",
    "print(lru_cache([5,6,7,8], 2))      \n",
    "print(lru_cache([1,2,3,1], 2))      \n"
   ]
  },
  {
   "cell_type": "markdown",
   "id": "1fb2beed",
   "metadata": {},
   "source": [
    "**Q7. Flatten 2D List**"
   ]
  },
  {
   "cell_type": "code",
   "execution_count": 7,
   "id": "c2e7f485",
   "metadata": {},
   "outputs": [
    {
     "name": "stdout",
     "output_type": "stream",
     "text": [
      "[1, 2, 3, 4]\n",
      "[5, 6, 7, 8]\n"
     ]
    }
   ],
   "source": [
    "def flatten_matrix(matrix):\n",
    "    return [item for row in matrix for item in row]\n",
    "\n",
    "print(flatten_matrix([[1, 2], [3, 4]]))    \n",
    "print(flatten_matrix([[5], [6, 7], [8]]))  \n"
   ]
  },
  {
   "cell_type": "markdown",
   "id": "ad06caae",
   "metadata": {},
   "source": [
    "**Q8. Create Email Address (Lambda Function)**"
   ]
  },
  {
   "cell_type": "code",
   "execution_count": 8,
   "id": "6b79f17e",
   "metadata": {},
   "outputs": [
    {
     "name": "stdout",
     "output_type": "stream",
     "text": [
      "john.doe@gmail.com\n",
      "alice.smith@yahoo.com\n"
     ]
    }
   ],
   "source": [
    "create_email = lambda first, last, domain: f\"{first.lower()}.{last.lower()}@{domain.lower()}.com\"\n",
    "\n",
    "print(create_email(\"John\", \"Doe\", \"gmail\"))    \n",
    "print(create_email(\"ALICE\", \"Smith\", \"yahoo\")) \n"
   ]
  },
  {
   "cell_type": "markdown",
   "id": "ba617fc8",
   "metadata": {},
   "source": [
    "**Q9. Find All Factors using filter()**"
   ]
  },
  {
   "cell_type": "code",
   "execution_count": null,
   "id": "f388dbcf",
   "metadata": {},
   "outputs": [],
   "source": [
    "def get_factors(n):\n",
    "    return list(filter(lambda x: n % x == 0, range(1, n+1)))\n",
    "\n",
    "\n",
    "print(get_factors(12))  \n",
    "print(get_factors(17))  \n",
    "print(get_factors(28))"
   ]
  },
  {
   "cell_type": "markdown",
   "id": "54b713a3",
   "metadata": {},
   "source": [
    "**Q10. Format Invoice Entry**"
   ]
  },
  {
   "cell_type": "code",
   "execution_count": null,
   "id": "9f1ac7f4",
   "metadata": {},
   "outputs": [],
   "source": [
    "def format_invoice(item, quantity, price):\n",
    "    total = quantity * price\n",
    "    return f\"{item} x{quantity} @ ₹{price} = ₹{total}\"\n",
    "\n",
    "print(format_invoice(\"Pen\", 3, 10))         \n",
    "print(format_invoice(\"Notebook\", 2, 45))"
   ]
  }
 ],
 "metadata": {
  "kernelspec": {
   "display_name": "Python 3",
   "language": "python",
   "name": "python3"
  },
  "language_info": {
   "codemirror_mode": {
    "name": "ipython",
    "version": 3
   },
   "file_extension": ".py",
   "mimetype": "text/x-python",
   "name": "python",
   "nbconvert_exporter": "python",
   "pygments_lexer": "ipython3",
   "version": "3.12.1"
  }
 },
 "nbformat": 4,
 "nbformat_minor": 5
}

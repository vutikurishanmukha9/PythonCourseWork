{
 "cells": [
  {
   "cell_type": "markdown",
   "id": "01542ae2",
   "metadata": {},
   "source": [
    "**Q1. Compute Geometric Values (Math Module)**"
   ]
  },
  {
   "cell_type": "code",
   "execution_count": 2,
   "id": "9af63f5f",
   "metadata": {},
   "outputs": [
    {
     "name": "stdout",
     "output_type": "stream",
     "text": [
      "(153.94, 43.98)\n",
      "(19.63, 15.71)\n"
     ]
    }
   ],
   "source": [
    "import math\n",
    "\n",
    "def circle_geometry(radius):\n",
    "    area = round(math.pi * radius ** 2, 2)\n",
    "    circumference = round(2 * math.pi * radius, 2)\n",
    "    return (area, circumference)\n",
    "\n",
    "print(circle_geometry(7))     \n",
    "print(circle_geometry(2.5))   \n"
   ]
  },
  {
   "cell_type": "markdown",
   "id": "6a368103",
   "metadata": {},
   "source": [
    "**Q2. Random Team Picker (Random Module)**"
   ]
  },
  {
   "cell_type": "code",
   "execution_count": 3,
   "id": "eb89c88e",
   "metadata": {},
   "outputs": [
    {
     "name": "stdout",
     "output_type": "stream",
     "text": [
      "['Charlie', 'David']\n",
      "['B', 'C', 'A']\n"
     ]
    }
   ],
   "source": [
    "import random\n",
    "\n",
    "def pick_random_team(members, team_size):\n",
    "    return random.sample(members, team_size)  \n",
    "\n",
    "\n",
    "print(pick_random_team([\"Alice\", \"Bob\", \"Charlie\", \"David\"], 2))  \n",
    "\n",
    "print(pick_random_team([\"A\", \"B\", \"C\", \"D\", \"E\"], 3))  \n",
    "\n"
   ]
  },
  {
   "cell_type": "markdown",
   "id": "9d4d2aaf",
   "metadata": {},
   "source": [
    "**Q3. Temperature Alert (Lambda + Filter)**"
   ]
  },
  {
   "cell_type": "code",
   "execution_count": 4,
   "id": "9b4bf4fe",
   "metadata": {},
   "outputs": [
    {
     "name": "stdout",
     "output_type": "stream",
     "text": [
      "[42, 45, 41]\n"
     ]
    }
   ],
   "source": [
    "temperatures = [36, 42, 39, 45, 41]\n",
    "high_temps = list(filter(lambda t: t > 40, temperatures))\n",
    "print(high_temps) \n"
   ]
  },
  {
   "cell_type": "markdown",
   "id": "75a103e1",
   "metadata": {},
   "source": [
    "**Q4. Identify Prime Numbers (Recursion)**"
   ]
  },
  {
   "cell_type": "code",
   "execution_count": 5,
   "id": "00155c4d",
   "metadata": {},
   "outputs": [
    {
     "name": "stdout",
     "output_type": "stream",
     "text": [
      "True\n",
      "False\n"
     ]
    }
   ],
   "source": [
    "def is_prime(n, i=2):\n",
    "    if n <= 2:\n",
    "        return n == 2\n",
    "    if n % i == 0:\n",
    "        return False\n",
    "    if i * i > n:\n",
    "        return True\n",
    "    return is_prime(n, i + 1)\n",
    "\n",
    "\n",
    "print(is_prime(11))  \n",
    "print(is_prime(15))  \n"
   ]
  },
  {
   "cell_type": "markdown",
   "id": "ab1500b3",
   "metadata": {},
   "source": [
    "**Q5. Reverse Digits (Recursion)**"
   ]
  },
  {
   "cell_type": "code",
   "execution_count": 6,
   "id": "bf9ebeba",
   "metadata": {},
   "outputs": [
    {
     "name": "stdout",
     "output_type": "stream",
     "text": [
      "4321\n",
      "54\n"
     ]
    }
   ],
   "source": [
    "def reverse_number(n, rev=0):\n",
    "    if n == 0:\n",
    "        return rev\n",
    "    return reverse_number(n // 10, rev * 10 + n % 10)\n",
    "\n",
    "print(reverse_number(1234))  \n",
    "print(reverse_number(450))   "
   ]
  },
  {
   "cell_type": "markdown",
   "id": "e268650a",
   "metadata": {},
   "source": [
    "**Q6. Filter by Starting Letter (Lambda)**"
   ]
  },
  {
   "cell_type": "code",
   "execution_count": 7,
   "id": "8b8e9fb0",
   "metadata": {},
   "outputs": [
    {
     "name": "stdout",
     "output_type": "stream",
     "text": [
      "['cat', 'car']\n",
      "['apple', 'apricot']\n"
     ]
    }
   ],
   "source": [
    "def filter_by_starting_letter(words, char):\n",
    "    return list(filter(lambda w: w.startswith(char), words))\n",
    "\n",
    "print(filter_by_starting_letter([\"cat\", \"car\", \"bat\", \"apple\"], 'c'))  \n",
    "\n",
    "print(filter_by_starting_letter([\"apple\", \"banana\", \"apricot\"], 'a'))  \n"
   ]
  },
  {
   "cell_type": "markdown",
   "id": "0f501bd4",
   "metadata": {},
   "source": [
    "**Q7. Create Your Own Utility Module**"
   ]
  },
  {
   "cell_type": "code",
   "execution_count": null,
   "id": "8f8deb6c",
   "metadata": {},
   "outputs": [],
   "source": [
    "def is_palindrome(word):\n",
    "    return word == word[::-1]\n",
    "\n",
    "def capitalize_words(text):\n",
    "    return \" \".join([w.capitalize() for w in text.split()])"
   ]
  },
  {
   "cell_type": "code",
   "execution_count": null,
   "id": "9c1f8426",
   "metadata": {},
   "outputs": [],
   "source": [
    "import string_utils\n",
    "\n",
    "print(string_utils.is_palindrome(\"madam\"))   # True\n",
    "print(string_utils.capitalize_words(\"hello world\"))  # \"Hello World\""
   ]
  },
  {
   "cell_type": "markdown",
   "id": "74d72747",
   "metadata": {},
   "source": [
    "**Q8. Remove Duplicates Case-Insensitive (Set + Lambda)**"
   ]
  },
  {
   "cell_type": "code",
   "execution_count": 10,
   "id": "c9ebfe13",
   "metadata": {},
   "outputs": [
    {
     "name": "stdout",
     "output_type": "stream",
     "text": [
      "['cherry', 'banana', 'apple']\n"
     ]
    }
   ],
   "source": [
    "def remove_duplicates(words):\n",
    "    return list(set(map(lambda w: w.lower(), words)))\n",
    "\n",
    "print(remove_duplicates([\"Apple\", \"apple\", \"Banana\", \"BANANA\", \"Cherry\"]))  \n"
   ]
  },
  {
   "cell_type": "markdown",
   "id": "166b4c43",
   "metadata": {},
   "source": [
    "**Q9. Countdown Timer (Generator)**"
   ]
  },
  {
   "cell_type": "code",
   "execution_count": null,
   "id": "45eadcd3",
   "metadata": {},
   "outputs": [
    {
     "name": "stdout",
     "output_type": "stream",
     "text": [
      "[3, 2, 1, 0]\n",
      "[5, 4, 3, 2, 1, 0]\n"
     ]
    }
   ],
   "source": [
    "def countdown(n):\n",
    "    while n >= 0:\n",
    "        yield n\n",
    "        n -= 1\n",
    "\n",
    "print(list(countdown(3)))  \n",
    "print(list(countdown(5)))  "
   ]
  },
  {
   "cell_type": "markdown",
   "id": "b925cc69",
   "metadata": {},
   "source": [
    "**Q10. Nested Sum (Recursion)**"
   ]
  },
  {
   "cell_type": "code",
   "execution_count": 12,
   "id": "4193136f",
   "metadata": {},
   "outputs": [
    {
     "name": "stdout",
     "output_type": "stream",
     "text": [
      "10\n",
      "15\n"
     ]
    }
   ],
   "source": [
    "def nested_sum(lst):\n",
    "    total = 0\n",
    "    for item in lst:\n",
    "        if isinstance(item, list):\n",
    "            total += nested_sum(item)\n",
    "        else:\n",
    "            total += item\n",
    "    return total\n",
    "\n",
    "print(nested_sum([1, [2, 3], 4]))        \n",
    "print(nested_sum([[1, 2], [3, [4, 5]]]))"
   ]
  }
 ],
 "metadata": {
  "kernelspec": {
   "display_name": "Python 3",
   "language": "python",
   "name": "python3"
  },
  "language_info": {
   "codemirror_mode": {
    "name": "ipython",
    "version": 3
   },
   "file_extension": ".py",
   "mimetype": "text/x-python",
   "name": "python",
   "nbconvert_exporter": "python",
   "pygments_lexer": "ipython3",
   "version": "3.12.1"
  }
 },
 "nbformat": 4,
 "nbformat_minor": 5
}

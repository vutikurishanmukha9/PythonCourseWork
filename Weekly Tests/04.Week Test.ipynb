{
 "cells": [
  {
   "cell_type": "markdown",
   "id": "01542ae2",
   "metadata": {},
   "source": [
    "**Q1. Compute Geometric Values (Math Module)**"
   ]
  },
  {
   "cell_type": "markdown",
   "id": "070cdc53",
   "metadata": {},
   "source": [
    "You're designing a calculator for engineers. Use the math module to write a function\n",
    "\n",
    "\n",
    "circle_geometry(radius) that returns:\n",
    "\n",
    "\n",
    "● The area of the circle (πr2)\n",
    "\n",
    "\n",
    "● The circumference (2πr)\n",
    "\n",
    "\n",
    "Round both values to 2 decimal places and return as a tuple.\n",
    "Test Cases:\n",
    "\n",
    "\n",
    "● circle_geometry(7) → (153.94, 43.98)\n",
    "\n",
    "\n",
    "● circle_geometry(2.5) → (19.63, 15.71)"
   ]
  },
  {
   "cell_type": "code",
   "execution_count": 2,
   "id": "9af63f5f",
   "metadata": {},
   "outputs": [
    {
     "name": "stdout",
     "output_type": "stream",
     "text": [
      "(153.94, 43.98)\n",
      "(19.63, 15.71)\n"
     ]
    }
   ],
   "source": [
    "import math\n",
    "\n",
    "def circle_geometry(radius):\n",
    "    area = round(math.pi * radius ** 2, 2)\n",
    "    circumference = round(2 * math.pi * radius, 2)\n",
    "    return (area, circumference)\n",
    "\n",
    "print(circle_geometry(7))     \n",
    "print(circle_geometry(2.5))   \n"
   ]
  },
  {
   "cell_type": "markdown",
   "id": "6a368103",
   "metadata": {},
   "source": [
    "**Q2. Random Team Picker (Random Module)**"
   ]
  },
  {
   "cell_type": "code",
   "execution_count": 3,
   "id": "eb89c88e",
   "metadata": {},
   "outputs": [
    {
     "name": "stdout",
     "output_type": "stream",
     "text": [
      "['Charlie', 'David']\n",
      "['B', 'C', 'A']\n"
     ]
    }
   ],
   "source": [
    "import random\n",
    "\n",
    "def pick_random_team(members, team_size):\n",
    "    return random.sample(members, team_size)  \n",
    "\n",
    "\n",
    "print(pick_random_team([\"Alice\", \"Bob\", \"Charlie\", \"David\"], 2))  \n",
    "\n",
    "print(pick_random_team([\"A\", \"B\", \"C\", \"D\", \"E\"], 3))  \n",
    "\n"
   ]
  }
 ],
 "metadata": {
  "kernelspec": {
   "display_name": "Python 3",
   "language": "python",
   "name": "python3"
  },
  "language_info": {
   "codemirror_mode": {
    "name": "ipython",
    "version": 3
   },
   "file_extension": ".py",
   "mimetype": "text/x-python",
   "name": "python",
   "nbconvert_exporter": "python",
   "pygments_lexer": "ipython3",
   "version": "3.12.1"
  }
 },
 "nbformat": 4,
 "nbformat_minor": 5
}

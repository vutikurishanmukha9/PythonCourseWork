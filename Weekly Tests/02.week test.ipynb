{
 "cells": [
  {
   "cell_type": "code",
   "execution_count": 6,
   "id": "9cc70873",
   "metadata": {},
   "outputs": [
    {
     "name": "stdout",
     "output_type": "stream",
     "text": [
      "No Tax\n"
     ]
    }
   ],
   "source": [
    "salary=int(input(\"Enter the amount: \"))\n",
    "if 0 < salary <=250000:\n",
    "    print(\"No Tax\")\n",
    "elif 250001<= salary <= 500000:\n",
    "    print(salary*0.05)\n",
    "elif 500001<= salary <= 1000000:\n",
    "    print(salary*0.2)\n",
    "elif salary>1000000:\n",
    "    print(salary*0.3)"
   ]
  },
  {
   "cell_type": "code",
   "execution_count": null,
   "id": "ada731c2",
   "metadata": {},
   "outputs": [
    {
     "name": "stdout",
     "output_type": "stream",
     "text": [
      "No charges for this\n",
      "No charges for this\n"
     ]
    }
   ],
   "source": [
    "# Q2. Movie Ticket Pricing System\n",
    "n=int(input(\"Enter the no.of People: \"))\n",
    "total_price=0\n",
    "for i in range(n):\n",
    "    age=int(input(\"Enter the AGE: \"))\n",
    "    if age<5:\n",
    "        continue\n",
    "    elif 5<=age<=18:\n",
    "        total_price+=100\n",
    "    elif 19<=age<=60:\n",
    "        total_price+=150\n",
    "    elif age>60:\n",
    "        total_price+=120\n",
    "print(total_price)"
   ]
  },
  {
   "cell_type": "code",
   "execution_count": 9,
   "id": "9f814731",
   "metadata": {},
   "outputs": [
    {
     "name": "stdout",
     "output_type": "stream",
     "text": [
      "3994.0\n"
     ]
    }
   ],
   "source": [
    "# Q3. Electricity Bill Generator\n",
    "units=int(input(\"Enter the input: \"))\n",
    "\n",
    "if units<=100:\n",
    "    print(units*1.5)\n",
    "\n",
    "elif 101<=units<=200:\n",
    "    bill=(100*1.5)+(units-100)*2.5\n",
    "    print(bill)\n",
    "\n",
    "elif 201<=units<=500:\n",
    "    bill=(100*1.5)+(100*2.5)+(units-200)*4\n",
    "    print(bill)\n",
    "\n",
    "elif units>500:\n",
    "    bill=(100*1.5)+(100*2.5)+(300*4)+(units-500)*6\n",
    "    print(bill)"
   ]
  },
  {
   "cell_type": "code",
   "execution_count": null,
   "id": "081c3d1e",
   "metadata": {},
   "outputs": [],
   "source": []
  }
 ],
 "metadata": {
  "language_info": {
   "name": "python"
  }
 },
 "nbformat": 4,
 "nbformat_minor": 5
}

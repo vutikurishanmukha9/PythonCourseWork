{
 "cells": [
  {
   "cell_type": "code",
   "execution_count": 6,
   "id": "9cc70873",
   "metadata": {},
   "outputs": [
    {
     "name": "stdout",
     "output_type": "stream",
     "text": [
      "No Tax\n"
     ]
    }
   ],
   "source": [
    "salary=int(input(\"Enter the amount: \"))\n",
    "if 0 < salary <=250000:\n",
    "    print(\"No Tax\")\n",
    "elif 250001<= salary <= 500000:\n",
    "    print(salary*0.05)\n",
    "elif 500001<= salary <= 1000000:\n",
    "    print(salary*0.2)\n",
    "elif salary>1000000:\n",
    "    print(salary*0.3)"
   ]
  },
  {
   "cell_type": "code",
   "execution_count": null,
   "id": "ada731c2",
   "metadata": {},
   "outputs": [
    {
     "name": "stdout",
     "output_type": "stream",
     "text": [
      "No charges for this\n",
      "No charges for this\n"
     ]
    }
   ],
   "source": [
    "# Q2. Movie Ticket Pricing System\n",
    "n=int(input(\"Enter the no.of People: \"))\n",
    "total_price=0\n",
    "for i in range(n):\n",
    "    age=int(input(\"Enter the AGE: \"))\n",
    "    if age<5:\n",
    "        continue\n",
    "    elif 5<=age<=18:\n",
    "        total_price+=100\n",
    "    elif 19<=age<=60:\n",
    "        total_price+=150\n",
    "    elif age>60:\n",
    "        total_price+=120\n",
    "print(total_price)"
   ]
  },
  {
   "cell_type": "code",
   "execution_count": 9,
   "id": "9f814731",
   "metadata": {},
   "outputs": [
    {
     "name": "stdout",
     "output_type": "stream",
     "text": [
      "3994.0\n"
     ]
    }
   ],
   "source": [
    "# Q3. Electricity Bill Generator\n",
    "units=int(input(\"Enter the input: \"))\n",
    "\n",
    "if units<=100:\n",
    "    print(units*1.5)\n",
    "\n",
    "elif 101<=units<=200:\n",
    "    bill=(100*1.5)+(units-100)*2.5\n",
    "    print(bill)\n",
    "\n",
    "elif 201<=units<=500:\n",
    "    bill=(100*1.5)+(100*2.5)+(units-200)*4\n",
    "    print(bill)\n",
    "\n",
    "elif units>500:\n",
    "    bill=(100*1.5)+(100*2.5)+(300*4)+(units-500)*6\n",
    "    print(bill)"
   ]
  },
  {
   "cell_type": "code",
   "execution_count": null,
   "id": "081c3d1e",
   "metadata": {},
   "outputs": [],
   "source": [
    "# Q4. Car Parking Fee Calculator\n",
    "hr=int(input(\"Enter the Hours: \"))\n",
    "if hr<=2:\n",
    "    print(30)\n",
    "elif 2<hr<24:\n",
    "    print(30+(hr-2)*10)\n",
    "elif hr==24:\n",
    "    print(200)"
   ]
  },
  {
   "cell_type": "code",
   "execution_count": 10,
   "id": "3a9e631e",
   "metadata": {},
   "outputs": [
    {
     "name": "stdout",
     "output_type": "stream",
     "text": [
      "ghjkl Overstcoked\n"
     ]
    }
   ],
   "source": [
    "# Q5. Product Inventory Checker (Nested Conditionals)\n",
    "n = int(input(\"Enter the Stock required: \"))\n",
    "name = input(\"Enter the name of the stock: \")\n",
    "if n == 0:\n",
    "    print(f'{name} is out of stock')\n",
    "elif 10 <= n <= 1:\n",
    "    print(f'{name} is Low Stock')\n",
    "elif 50 <= n <= 11:\n",
    "    print(f'{name} is IN Stock')\n",
    "else:\n",
    "    print(f'{name} Overstcoked')"
   ]
  },
  {
   "cell_type": "code",
   "execution_count": 15,
   "id": "e93617b8",
   "metadata": {},
   "outputs": [
    {
     "name": "stdout",
     "output_type": "stream",
     "text": [
      "0 1 0 1 0 \n",
      "1 0 1 0 1 \n",
      "0 1 0 1 0 \n",
      "1 0 1 0 1 \n",
      "0 1 0 1 0 \n"
     ]
    }
   ],
   "source": [
    "# Q6. Pattern – Row-wise Alternating 0 and 1 (Nested Loops)\n",
    "n = int(input(\"Enter the input: \"))\n",
    "for row in range(1,n+1):\n",
    "    for col in range(1,n+1):\n",
    "        if (row+col) % 2 != 0:\n",
    "            print(\"1\" ,end = \" \")\n",
    "        else:\n",
    "            print(\"0\" ,end = \" \")\n",
    "    print()"
   ]
  },
  {
   "cell_type": "code",
   "execution_count": 1,
   "id": "fac6f2fb",
   "metadata": {},
   "outputs": [
    {
     "name": "stdout",
     "output_type": "stream",
     "text": [
      "1. Monthly – ₹500\n",
      "2. Quarterly – ₹1300\n",
      "3. Yearly – ₹5000\n",
      "4. Exit\n",
      "Exiting program.\n"
     ]
    }
   ],
   "source": [
    "# Q7. Gym Subscription Billing (Menu Driven Program)\n",
    "menu = {\n",
    "    1: \"Monthly – ₹500\",\n",
    "    2: \"Quarterly – ₹1300\",\n",
    "    3: \"Yearly – ₹5000\",\n",
    "    4: \"Exit\"\n",
    "}\n",
    "\n",
    "while True:\n",
    "    for key, value in menu.items():\n",
    "        print(f\"{key}. {value}\")\n",
    "    choice = int(input(\"Enter your choice: \"))\n",
    "    if choice == 4:\n",
    "        print(\"Exiting program.\")\n",
    "        break\n",
    "    n = int(input(\"Enter the no. of people: \"))\n",
    "    if choice == 1:\n",
    "        print(f\"Total: ₹{n * 500}/-\")\n",
    "    elif choice == 2:\n",
    "        print(f\"Total: ₹{n * 1300}/-\")\n",
    "    elif choice == 3:\n",
    "        print(f\"Total: ₹{n * 5000}/-\")\n",
    "    else:\n",
    "        print(\"Invalid choice. Please try again.\")"
   ]
  },
  {
   "cell_type": "code",
   "execution_count": null,
   "id": "136b41ed",
   "metadata": {},
   "outputs": [],
   "source": [
    "# Q8. Billing Bot – Apply Discount Based on Amount\n",
    "amount=float(input(\"Enter the amount: \"))\n",
    "discount_acc=0\n",
    "if 0<amount<=990:\n",
    "    pass\n",
    "elif 1000<=amount<=4999:\n",
    "    discount_acc=amount*0.05\n",
    "elif 5000<=amount<=9999:\n",
    "    discount_acc=amount*0.1\n",
    "elif amount>=10000:\n",
    "    discount_acc=amount*0.15\n",
    "\n",
    "print(amount-discount_acc)"
   ]
  },
  {
   "cell_type": "code",
   "execution_count": null,
   "id": "78143de2",
   "metadata": {},
   "outputs": [],
   "source": [
    "# Q9 : ATM PIN Verification with Blocking Logic\n",
    "\n",
    "stored_pin=1234\n",
    "for i in range(3):\n",
    "    pin=int(input(\"PIN: \"))\n",
    "    if pin==stored_pin:\n",
    "        print(\"Access Granted\")\n",
    "        break\n",
    "else:\n",
    "    print('ATM Blocked. Try Again Later')"
   ]
  },
  {
   "cell_type": "code",
   "execution_count": 6,
   "id": "22e409c8",
   "metadata": {},
   "outputs": [
    {
     "name": "stdout",
     "output_type": "stream",
     "text": [
      "Remaining avilable seats are: 52\n"
     ]
    }
   ],
   "source": [
    "# Q10 : Bus Booking System – Track Full and Empty Seats\n",
    "n = int(input(\"Enter the no.of seats availble: \"))\n",
    "li = list(map(int,input(\"Enter your seat numbers\").split()))\n",
    "s = len(li)\n",
    "print(f'Remaining avilable seats are: {n-s}')"
   ]
  }
 ],
 "metadata": {
  "kernelspec": {
   "display_name": "Python 3",
   "language": "python",
   "name": "python3"
  },
  "language_info": {
   "codemirror_mode": {
    "name": "ipython",
    "version": 3
   },
   "file_extension": ".py",
   "mimetype": "text/x-python",
   "name": "python",
   "nbconvert_exporter": "python",
   "pygments_lexer": "ipython3",
   "version": "3.12.1"
  }
 },
 "nbformat": 4,
 "nbformat_minor": 5
}

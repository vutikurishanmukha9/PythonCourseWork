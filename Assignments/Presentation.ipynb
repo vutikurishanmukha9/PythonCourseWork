{
 "cells": [
  {
   "cell_type": "markdown",
   "id": "c129475a",
   "metadata": {},
   "source": [
    "**Generators**"
   ]
  },
  {
   "cell_type": "code",
   "execution_count": 6,
   "id": "29f9b9e9",
   "metadata": {},
   "outputs": [
    {
     "name": "stdout",
     "output_type": "stream",
     "text": [
      "Kohli\n",
      "Salt\n",
      "Paddikkal\n",
      "Rajat Patidhar\n",
      "Jitesh\n"
     ]
    }
   ],
   "source": [
    "def IPL(RCB):\n",
    "    for players in RCB:\n",
    "        yield players\n",
    "RCB = ['Kohli','Salt','Paddikkal','Rajat Patidhar','Jitesh','Tim David','Krunal pandya','Bhuvineshwar kumar','Hazle Wood','Yash Dayal','Suyash Sharma']\n",
    "player = IPL(RCB)\n",
    "print(next(player))\n",
    "print(next(player))\n",
    "print(next(player))\n",
    "print(next(player))\n",
    "print(next(player))"
   ]
  },
  {
   "cell_type": "code",
   "execution_count": 4,
   "id": "ee753d2e",
   "metadata": {},
   "outputs": [
    {
     "name": "stdout",
     "output_type": "stream",
     "text": [
      "Kohli\n",
      "Salt\n",
      "Paddikkal\n",
      "Rajat Patidhar\n",
      "Jitesh\n",
      "Tim David\n",
      "Krunal Pandya\n",
      "Bhuvineshwar Kumar\n",
      "Hazle Wood\n",
      "Yash Dayal\n",
      "Suyash Sharma\n"
     ]
    }
   ],
   "source": [
    "def IPL(RCB):\n",
    "    return RCB\n",
    "RCB = ['Kohli','Salt','Paddikkal','Rajat Patidhar','Jitesh',\n",
    "       'Tim David','Krunal Pandya','Bhuvineshwar Kumar',\n",
    "       'Hazle Wood','Yash Dayal','Suyash Sharma']\n",
    "players = IPL(RCB)\n",
    "for p in players:\n",
    "    print(p)\n"
   ]
  },
  {
   "cell_type": "code",
   "execution_count": 9,
   "id": "2a347abc",
   "metadata": {},
   "outputs": [
    {
     "name": "stdout",
     "output_type": "stream",
     "text": [
      "[0, 2, 4, 6, 8, 10, 12, 14, 16, 18, 20, 22, 24, 26, 28, 30, 32, 34, 36, 38, 40, 42, 44, 46, 48, 50, 52, 54, 56, 58, 60, 62, 64, 66, 68, 70, 72, 74, 76, 78, 80, 82, 84, 86, 88, 90, 92, 94, 96, 98, 100, 102, 104, 106, 108, 110, 112, 114, 116, 118, 120, 122, 124, 126, 128, 130, 132, 134, 136, 138, 140, 142, 144, 146, 148, 150, 152, 154, 156, 158, 160, 162, 164, 166, 168, 170, 172, 174, 176, 178, 180, 182, 184, 186, 188, 190, 192, 194, 196, 198, 200, 202, 204, 206, 208, 210, 212, 214, 216, 218, 220, 222, 224, 226, 228, 230, 232, 234, 236, 238, 240, 242, 244, 246, 248, 250]\n"
     ]
    }
   ],
   "source": [
    "n = int(input(\"Enter the number:  \"))\n",
    "show = [i for i in range(n+1) if i % 2 == 0]\n",
    "print(show)"
   ]
  },
  {
   "cell_type": "code",
   "execution_count": 12,
   "id": "1603e680",
   "metadata": {},
   "outputs": [
    {
     "name": "stdout",
     "output_type": "stream",
     "text": [
      "['Rajat Patidhar', 'Krunal pandya', 'Bhuvineshwar kumar', 'Hazle Wood', 'Yash Dayal', 'Suyash Sharma']\n"
     ]
    }
   ],
   "source": [
    "data = ['kohli','Kohli','Sala','Paddikkal','Rajat Patidhar','Jitesh','Tim David','Krunal pandya','Bhuvineshwar kumar','Hazle Wood','Yash Dayal','Suyash Sharma']\n",
    "show = [i for i in data if len(i) > 9]\n",
    "print(show)"
   ]
  },
  {
   "cell_type": "code",
   "execution_count": 54,
   "id": "3d1f07b7",
   "metadata": {},
   "outputs": [
    {
     "name": "stdout",
     "output_type": "stream",
     "text": [
      "['Kohli', 'Krunal pandya', 'Suyash Sharma']\n"
     ]
    }
   ],
   "source": [
    "data = ['Kohli','Salt','Paddikkal','Rajat Patidhar','Jitesh','Tim David','Krunal pandya','Bhuvineshwar kumar','Hazle Wood','Yash Dayal','Suyash Sharma']\n",
    "show = [i for i in data if i.endswith(('a','e','i','o','u'))]\n",
    "print(show)"
   ]
  },
  {
   "cell_type": "code",
   "execution_count": 58,
   "id": "e22c9293",
   "metadata": {},
   "outputs": [
    {
     "name": "stdout",
     "output_type": "stream",
     "text": [
      "['Kohli', 'Krunal pandya', 'Suyash Sharma']\n"
     ]
    }
   ],
   "source": [
    "data = ['Kohli','Salt','Paddikkal','Rajat Patidhar','Jitesh','Tim David','Krunal pandya','Bhuvineshwar kumar','Hazle Wood','Yash Dayal','Suyash Sharma']\n",
    "Container = []\n",
    "for player in data:\n",
    "    if player.endswith(('a','e','i','o','u')):\n",
    "        Container.append(player)\n",
    "print(Container)\n"
   ]
  },
  {
   "cell_type": "code",
   "execution_count": 23,
   "id": "ec2619bc",
   "metadata": {},
   "outputs": [
    {
     "name": "stdout",
     "output_type": "stream",
     "text": [
      "{'RCB': 'Qualified', 'PK': 'Qualified', 'MI': 'Qualified', 'GT': 'Qualified', 'CSK': 'eliminated', 'SRH': 'eliminated', 'RR': 'eliminated'}\n"
     ]
    }
   ],
   "source": [
    "IPL_teams = {\"RCB\":18,\"PK\":18,\"MI\":16,\"GT\":14,\"CSK\":8,\"SRH\":12,\"RR\":12}\n",
    "playoffs = {Teams:(\"Qualified\" if score >= 14 else \"eliminated\") for Teams,score in IPL_teams.items()}\n",
    "print(playoffs)"
   ]
  },
  {
   "cell_type": "code",
   "execution_count": 48,
   "id": "b85e6f7d",
   "metadata": {},
   "outputs": [
    {
     "name": "stdout",
     "output_type": "stream",
     "text": [
      "{'RCB': 'Qualified', 'PK': 'Qualified', 'MI': 'Qualified', 'GT': 'Qualified', 'CSK': 'Elminated', 'SRH': 'Elminated', 'RR': 'Elminated'}\n"
     ]
    }
   ],
   "source": [
    "RCB = {\"RCB\":18,\"PK\":18,\"MI\":16,\"GT\":14,\"CSK\":8,\"SRH\":12,\"RR\":12}\n",
    "playoffs = {}\n",
    "for teams, score in RCB.items():\n",
    "    if score >= 14:\n",
    "        playoffs[teams] = \"Qualified\"\n",
    "    else:\n",
    "        playoffs[teams] = \"Elminated\"\n",
    "print(playoffs)"
   ]
  },
  {
   "cell_type": "code",
   "execution_count": 28,
   "id": "39a40b7c",
   "metadata": {},
   "outputs": [
    {
     "name": "stdout",
     "output_type": "stream",
     "text": [
      "[1, 2, 3, 4, 5, 6, 7, 8, 9, 10, 11, 12, 13, 14, 15, 16, 17, 18]\n"
     ]
    }
   ],
   "source": [
    "n = int(input())\n",
    "show = [i for i in range(1,n+1)]\n",
    "print(show)"
   ]
  },
  {
   "cell_type": "code",
   "execution_count": 45,
   "id": "a304ff93",
   "metadata": {},
   "outputs": [
    {
     "name": "stdout",
     "output_type": "stream",
     "text": [
      "Kohli\n",
      "Salt\n",
      "Paddikkal\n",
      "Rajat Patidhar\n",
      "Jitesh\n",
      "Tim David\n",
      "Krunal pandya\n",
      "Bhuvineshwar kumar\n",
      "Hazle Wood\n",
      "Yash Dayal\n",
      "Suyash Sharma\n"
     ]
    }
   ],
   "source": [
    "def IPL(RCB):\n",
    "    return RCB\n",
    "RCB = ['Kohli','Salt','Paddikkal','Rajat Patidhar','Jitesh','Tim David','Krunal pandya','Bhuvineshwar kumar','Hazle Wood','Yash Dayal','Suyash Sharma']\n",
    "player = IPL(RCB)\n",
    "for player in RCB:\n",
    "    print(player)\n"
   ]
  },
  {
   "cell_type": "code",
   "execution_count": 44,
   "id": "41c3c93a",
   "metadata": {},
   "outputs": [
    {
     "name": "stdout",
     "output_type": "stream",
     "text": [
      "Kohli\n",
      "Salt\n",
      "Paddikkal\n",
      "Rajat Patidhar\n"
     ]
    }
   ],
   "source": [
    "def IPL(RCB):\n",
    "    for player in RCB:\n",
    "        yield player\n",
    "RCB = ['Kohli','Salt','Paddikkal','Rajat Patidhar','Jitesh','Tim David','Krunal pandya','Bhuvineshwar kumar','Hazle Wood','Yash Dayal','Suyash Sharma']\n",
    "\n",
    "player = IPL(RCB)\n",
    "print(next(player))\n",
    "print(next(player))\n",
    "print(next(player))\n",
    "print(next(player))"
   ]
  },
  {
   "cell_type": "code",
   "execution_count": 46,
   "id": "4cfd6cc1",
   "metadata": {},
   "outputs": [
    {
     "name": "stdout",
     "output_type": "stream",
     "text": [
      "{'RCB': 'Quailfied', 'PK': 'Quailfied', 'MI': 'Quailfied', 'GT': 'Quailfied', 'CSK': 'Eleminated', 'SRH': 'Eleminated', 'RR': 'Eleminated'}\n"
     ]
    }
   ],
   "source": [
    "RCB = {\"RCB\":18,\"PK\":18,\"MI\":16,\"GT\":14,\"CSK\":8,\"SRH\":12,\"RR\":12}\n",
    "show = {teams:(\"Quailfied\" if scores >= 14 else \"Eleminated\")for teams,scores in RCB.items()}\n",
    "print(show)"
   ]
  },
  {
   "cell_type": "code",
   "execution_count": 51,
   "id": "2e9ac8d0",
   "metadata": {},
   "outputs": [
    {
     "name": "stdout",
     "output_type": "stream",
     "text": [
      "{'RCB': 'Qualified', 'PK': 'Qualified', 'MI': 'Qualified', 'GT': 'Qualified', 'CSK': 'Elimenated', 'SRH': 'Elimenated', 'RR': 'Elimenated'}\n"
     ]
    }
   ],
   "source": [
    "playoffs = {\"RCB\":18,\"PK\":18,\"MI\":16,\"GT\":14,\"CSK\":8,\"SRH\":12,\"RR\":12}\n",
    "show = {}\n",
    "for teams,score in playoffs.items():\n",
    "    if score >= 14:\n",
    "        show[teams] = \"Qualified\"\n",
    "    else:\n",
    "        show[teams] = \"Elimenated\"\n",
    "print(show)\n"
   ]
  },
  {
   "cell_type": "code",
   "execution_count": 65,
   "id": "7a0ab8f8",
   "metadata": {},
   "outputs": [
    {
     "name": "stdout",
     "output_type": "stream",
     "text": [
      "{'Paddikkal', 'Jitesh', 'Tim David', 'Suyash Sharma', 'Hazle Wood', 'Bhuvineshwar kumar', 'Kohli', 'Salt', 'Rajat Patidhar', 'Yash Dayal', 'Krunal pandya'}\n"
     ]
    }
   ],
   "source": [
    "Players = {'kohli','Kohli','Salt','Paddikkal','Rajat Patidhar','Jitesh','Tim David','Krunal pandya','Bhuvineshwar kumar','Hazle Wood','Yash Dayal','Suyash Sharma'}\n",
    "show = {player for player in players}\n",
    "print(show)"
   ]
  }
 ],
 "metadata": {
  "kernelspec": {
   "display_name": "Python 3",
   "language": "python",
   "name": "python3"
  },
  "language_info": {
   "codemirror_mode": {
    "name": "ipython",
    "version": 3
   },
   "file_extension": ".py",
   "mimetype": "text/x-python",
   "name": "python",
   "nbconvert_exporter": "python",
   "pygments_lexer": "ipython3",
   "version": "3.12.1"
  }
 },
 "nbformat": 4,
 "nbformat_minor": 5
}

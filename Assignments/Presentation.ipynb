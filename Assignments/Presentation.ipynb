{
 "cells": [
  {
   "cell_type": "code",
   "execution_count": 88,
   "id": "2a347abc",
   "metadata": {},
   "outputs": [
    {
     "name": "stdout",
     "output_type": "stream",
     "text": [
      "[0, 2, 4, 6, 8, 10]\n"
     ]
    }
   ],
   "source": [
    "n = int(input(\"Enter the number:  \"))\n",
    "show = [i for i in range(n+1) if i % 2 == 0]\n",
    "print(show)"
   ]
  },
  {
   "cell_type": "code",
   "execution_count": 89,
   "id": "ae0b74cf",
   "metadata": {},
   "outputs": [
    {
     "name": "stdout",
     "output_type": "stream",
     "text": [
      "2 4 6 8 10 "
     ]
    }
   ],
   "source": [
    "n = int(input())\n",
    "for i in range(1,n+1):\n",
    "    if i % 2 == 0:\n",
    "        print(i,end = \" \")"
   ]
  },
  {
   "cell_type": "code",
   "execution_count": 90,
   "id": "1603e680",
   "metadata": {},
   "outputs": [
    {
     "name": "stdout",
     "output_type": "stream",
     "text": [
      "['Rajat Patidhar', 'Krunal pandya', 'Bhuvineshwar kumar', 'Hazle Wood', 'Yash Dayal', 'Suyash Sharma']\n"
     ]
    }
   ],
   "source": [
    "data = ['kohli','Kohli','Salt','Paddikkal','Rajat Patidhar',\n",
    "        'Jitesh','Tim David','Krunal pandya','Bhuvineshwar kumar',\n",
    "        'Hazle Wood','Yash Dayal','Suyash Sharma']\n",
    "show = [i for i in data if len(i) > 9]\n",
    "print(show)"
   ]
  },
  {
   "cell_type": "code",
   "execution_count": null,
   "id": "f4036e54",
   "metadata": {},
   "outputs": [],
   "source": [
    "data = ['kohli','Kohli','Salt','Paddikkal','Rajat Patidhar'\n",
    "        ,'Jitesh','Tim David','Krunal pandya','Bhuvineshwar kumar',\n",
    "        'Hazle Wood','Yash Dayal','Suyash Sharma']\n",
    "con = []\n",
    "for players in data:\n",
    "    if len(players) > 10:\n",
    "        con.append(players)\n",
    "print(con)"
   ]
  },
  {
   "cell_type": "code",
   "execution_count": 91,
   "id": "3d1f07b7",
   "metadata": {},
   "outputs": [
    {
     "name": "stdout",
     "output_type": "stream",
     "text": [
      "['Kohli', 'Krunal pandya', 'Suyash Sharma']\n"
     ]
    }
   ],
   "source": [
    "data = ['Kohli','Salt','Paddikkal','Rajat Patidhar','Jitesh',\n",
    "        'Tim David','Krunal pandya','Bhuvineshwar kumar','Hazle Wood'\n",
    "        ,'Yash Dayal','Suyash Sharma']\n",
    "show = [i for i in data if i.endswith(('a','e','i','o','u'))]\n",
    "print(show)"
   ]
  },
  {
   "cell_type": "code",
   "execution_count": 87,
   "id": "e22c9293",
   "metadata": {},
   "outputs": [
    {
     "name": "stdout",
     "output_type": "stream",
     "text": [
      "['Kohli', 'Krunal pandya', 'Suyash Sharma']\n"
     ]
    }
   ],
   "source": [
    "data = ['Kohli','Salt','Paddikkal','Rajat Patidhar','Jitesh',\n",
    "    'Tim David','Krunal pandya','Bhuvineshwar kumar','Hazle Wood'\n",
    "    ,'Yash Dayal','Suyash Sharma']\n",
    "    \n",
    "Container = []\n",
    "for player in data:\n",
    "    if player.endswith(('a','e','i','o','u')):\n",
    "        Container.append(player)\n",
    "print(Container)\n"
   ]
  },
  {
   "cell_type": "code",
   "execution_count": 92,
   "id": "ec2619bc",
   "metadata": {},
   "outputs": [
    {
     "name": "stdout",
     "output_type": "stream",
     "text": [
      "{'RCB': 'Qualified', 'PK': 'Qualified', 'MI': 'Qualified', 'GT': 'Qualified', 'CSK': 'eliminated', 'SRH': 'eliminated', 'RR': 'eliminated'}\n"
     ]
    }
   ],
   "source": [
    "IPL_teams = {\"RCB\":18,\"PK\":18,\"MI\":16,\"GT\":14,\"CSK\":8,\"SRH\":12,\"RR\":12}\n",
    "playoffs = {Teams:(\"Qualified\" if score >= 14 else \"eliminated\") for Teams,score in IPL_teams.items()}\n",
    "print(playoffs)"
   ]
  },
  {
   "cell_type": "code",
   "execution_count": 93,
   "id": "b85e6f7d",
   "metadata": {},
   "outputs": [
    {
     "name": "stdout",
     "output_type": "stream",
     "text": [
      "{'RCB': 'Qualified', 'PK': 'Qualified', 'MI': 'Qualified', 'GT': 'Qualified', 'CSK': 'Elminated', 'SRH': 'Elminated', 'RR': 'Elminated'}\n"
     ]
    }
   ],
   "source": [
    "RCB = {\"RCB\":18,\"PK\":18,\"MI\":16,\"GT\":14,\"CSK\":8,\"SRH\":12,\"RR\":12}\n",
    "playoffs = {}\n",
    "for teams, score in RCB.items():\n",
    "    if score >= 14:\n",
    "        playoffs[teams] = \"Qualified\"\n",
    "    else:\n",
    "        playoffs[teams] = \"Elminated\"\n",
    "print(playoffs)"
   ]
  },
  {
   "cell_type": "code",
   "execution_count": null,
   "id": "41c3c93a",
   "metadata": {},
   "outputs": [],
   "source": [
    "def IPL(RCB):\n",
    "    for player in RCB:\n",
    "        yield player\n",
    "RCB = ['Kohli','Salt','Paddikkal','Rajat Patidhar','Jitesh',\n",
    "        'Tim David','Krunal pandya','Bhuvineshwar kumar',\n",
    "        'Hazle Wood','Yash Dayal','Suyash Sharma']\n",
    "\n",
    "player = IPL(RCB)\n",
    "print(next(player))\n",
    "print(next(player))\n",
    "print(next(player))\n",
    "print(next(player))"
   ]
  },
  {
   "cell_type": "code",
   "execution_count": null,
   "id": "4cfd6cc1",
   "metadata": {},
   "outputs": [],
   "source": [
    "RCB = {\"RCB\":18,\"PK\":18,\"MI\":16,\"GT\":14,\"CSK\":8,\"SRH\":12,\"RR\":12}\n",
    "show = {teams:(\"Quailfied\" if scores >= 14 else \"Eleminated\")for teams,scores in RCB.items()}\n",
    "print(show)"
   ]
  },
  {
   "cell_type": "code",
   "execution_count": null,
   "id": "2e9ac8d0",
   "metadata": {},
   "outputs": [],
   "source": [
    "playoffs = {\"RCB\":19,\"PK\":19,\"MI\":18,\"GT\":16,\"CSK\":8,\"SRH\":12,\"RR\":12}\n",
    "show = {}\n",
    "for teams,score in playoffs.items():\n",
    "    if score >= 14:\n",
    "        show[teams] = \"Qualified\"\n",
    "    else:\n",
    "        show[teams] = \"Elimenated\"\n",
    "print(show)\n"
   ]
  },
  {
   "cell_type": "code",
   "execution_count": null,
   "id": "f2a1a194",
   "metadata": {},
   "outputs": [],
   "source": [
    "students = [\"Kolhi\", \"Warner\", \"ABD\"]\n",
    "\n",
    "scores = [973, 780, 701]\n",
    "\n",
    "show = {name:score for name,score in zip(students,scores)}\n",
    "print(show)"
   ]
  },
  {
   "cell_type": "markdown",
   "id": "c129475a",
   "metadata": {},
   "source": [
    "**Generators**"
   ]
  },
  {
   "cell_type": "code",
   "execution_count": 97,
   "id": "29f9b9e9",
   "metadata": {},
   "outputs": [
    {
     "name": "stdout",
     "output_type": "stream",
     "text": [
      "Kohli\n",
      "Salt\n",
      "Paddikkal\n"
     ]
    }
   ],
   "source": [
    "def IPL(RCB):\n",
    "    for players in RCB:\n",
    "        yield players\n",
    "RCB = ['Kohli','Salt','Paddikkal','Rajat Patidhar',\n",
    "        'Jitesh','Tim David','Krunal pandya','Bhuvineshwar kumar'\n",
    "        ,'Hazle Wood','Yash Dayal','Suyash Sharma']\n",
    "player = IPL(RCB)\n",
    "print(next(player))\n",
    "print(next(player))\n",
    "print(next(player))"
   ]
  },
  {
   "cell_type": "code",
   "execution_count": null,
   "id": "2172bd6e",
   "metadata": {},
   "outputs": [],
   "source": [
    "def IPL(RCB):\n",
    "    for players in RCB:\n",
    "        yield players\n",
    "RCB = ['Kohli','Sala','Paddikkal','Rajat Patidhar','Jitesh'\n",
    "        ,'Tim David','Krunal pandya','Bhuvineshwar kumar',\n",
    "        'Hazle Wood','Yash Dayal','Suyash Sharma']\n",
    "players = IPL(RCB)\n",
    "while True:\n",
    "    scroll = input(\"C / E\").upper()\n",
    "    if scroll == 'C':\n",
    "        print(next(players))\n",
    "    else:\n",
    "        break"
   ]
  },
  {
   "cell_type": "code",
   "execution_count": null,
   "id": "276b352f",
   "metadata": {},
   "outputs": [],
   "source": [
    "def IPL(RCB):\n",
    "    for players in RCB:\n",
    "        yield players\n",
    "RCB = [\n",
    "    'Kohli', 'Salt', 'Padikkal', 'Rajat', 'Jitesh',\n",
    "    'Tim David', 'Krunal', 'Bhuvineshwar Kumar',\n",
    "    'Hazlewood', 'Yash Dayal', 'Suyash Sharma'\n",
    "]\n",
    "\n",
    "players = IPL(RCB)\n",
    "\n",
    "while True:\n",
    "    Next_Player = input(\"[O]ut / [N]ot OUT:  \").upper()\n",
    "    if Next_Player == 'O':\n",
    "        try:\n",
    "            print(next(players))\n",
    "        except StopIteration:\n",
    "            print(\"No more players left!\")\n",
    "            break\n",
    "    else:\n",
    "        print(\"Match Ended!\")\n",
    "        break\n"
   ]
  },
  {
   "cell_type": "code",
   "execution_count": 94,
   "id": "ee753d2e",
   "metadata": {},
   "outputs": [
    {
     "name": "stdout",
     "output_type": "stream",
     "text": [
      "Kohli\n",
      "Salt\n",
      "Paddikkal\n",
      "Rajat Patidhar\n",
      "Jitesh\n",
      "Tim David\n",
      "Krunal Pandya\n",
      "Bhuvineshwar Kumar\n",
      "Hazle Wood\n",
      "Yash Dayal\n",
      "Suyash Sharma\n"
     ]
    }
   ],
   "source": [
    "def IPL(RCB):\n",
    "    return RCB\n",
    "RCB = ['Kohli','Salt','Paddikkal','Rajat Patidhar','Jitesh',\n",
    "       'Tim David','Krunal Pandya','Bhuvineshwar Kumar',\n",
    "       'Hazle Wood','Yash Dayal','Suyash Sharma']\n",
    "players = IPL(RCB)\n",
    "for p in players:\n",
    "    print(p)\n"
   ]
  }
 ],
 "metadata": {
  "kernelspec": {
   "display_name": "Python 3",
   "language": "python",
   "name": "python3"
  },
  "language_info": {
   "codemirror_mode": {
    "name": "ipython",
    "version": 3
   },
   "file_extension": ".py",
   "mimetype": "text/x-python",
   "name": "python",
   "nbconvert_exporter": "python",
   "pygments_lexer": "ipython3",
   "version": "3.12.1"
  }
 },
 "nbformat": 4,
 "nbformat_minor": 5
}

{
 "cells": [
  {
   "cell_type": "markdown",
   "id": "94990a31",
   "metadata": {},
   "source": [
    "# Railway Passenger Details\n",
    "This notebook collects railway passenger details and displays them using various Python output formats."
   ]
  },
  {
   "cell_type": "code",
   "execution_count": null,
   "id": "2019929c",
   "metadata": {},
   "outputs": [],
   "source": [
    "# Import Required Libraries\n",
    "# No external libraries needed for basic input/output"
   ]
  },
  {
   "cell_type": "code",
   "execution_count": 2,
   "id": "d6b8ab84",
   "metadata": {},
   "outputs": [
    {
     "ename": "ValueError",
     "evalue": "invalid literal for int() with base 10: ''",
     "output_type": "error",
     "traceback": [
      "\u001b[31m---------------------------------------------------------------------------\u001b[39m",
      "\u001b[31mValueError\u001b[39m                                Traceback (most recent call last)",
      "\u001b[36mCell\u001b[39m\u001b[36m \u001b[39m\u001b[32mIn[2]\u001b[39m\u001b[32m, line 2\u001b[39m\n\u001b[32m      1\u001b[39m \u001b[38;5;66;03m# Collect Passenger Details via Input\u001b[39;00m\n\u001b[32m----> \u001b[39m\u001b[32m2\u001b[39m Passenger_Count = \u001b[38;5;28;43mint\u001b[39;49m\u001b[43m(\u001b[49m\u001b[38;5;28;43minput\u001b[39;49m\u001b[43m(\u001b[49m\u001b[33;43m\"\u001b[39;49m\u001b[33;43mEnter the Passenger count: \u001b[39;49m\u001b[33;43m\"\u001b[39;49m\u001b[43m)\u001b[49m\u001b[43m)\u001b[49m\n\u001b[32m      3\u001b[39m Passenger_Name = \u001b[38;5;28minput\u001b[39m(\u001b[33m\"\u001b[39m\u001b[33mEnter the Passenger Name: \u001b[39m\u001b[33m\"\u001b[39m)\n\u001b[32m      4\u001b[39m Boarding_time = \u001b[38;5;28mfloat\u001b[39m(\u001b[38;5;28minput\u001b[39m(\u001b[33m\"\u001b[39m\u001b[33mEnter the Boarding Time of the passenger: \u001b[39m\u001b[33m\"\u001b[39m))\n",
      "\u001b[31mValueError\u001b[39m: invalid literal for int() with base 10: ''"
     ]
    }
   ],
   "source": [
    "# Collect Passenger Details via Input\n",
    "Passenger_Count = int(input(\"Enter the Passenger count: \"))\n",
    "Passenger_Name = input(\"Enter the Passenger Name: \")\n",
    "Boarding_time = float(input(\"Enter the Boarding Time of the passenger: \"))\n",
    "Destination_Station = input(\"Enter the Name of the Destination Station: \")\n",
    "Boarding_station = input(\"Enter the Name of the Boarding Station: \")\n",
    "Confirmed_Seat_Number = eval(input(\"Enter the Confirmed Seat Number as a tuple: \"))\n",
    "# Conditional Input for Ordered Food\n",
    "Willing_To_order_the_food = input(\"Will the passenger order food? (YES/NO): \").strip().upper()\n",
    "Ordered_Food = {}\n",
    "if Willing_To_order_the_food == \"YES\":\n",
    "    print(\"Enter food in dictionary format. Example: {'Veg': 'Paneer Biryani', 'Drink': 'Lassi'}\")\n",
    "    Ordered_Food = eval(input(\"Enter the ordered food: \"))"
   ]
  },
  {
   "cell_type": "code",
   "execution_count": null,
   "id": "937ffbc5",
   "metadata": {},
   "outputs": [],
   "source": []
  },
  {
   "cell_type": "code",
   "execution_count": null,
   "id": "7f768a47",
   "metadata": {},
   "outputs": [],
   "source": [
    "# Display Passenger Details with Various Print Methods\n",
    "print(\"\\n--- Passenger Details ---\")\n",
    "# Comma-separated printing\n",
    "print(\"Count of the Passenger travelling is:\", Passenger_Count)\n",
    "# String concatenation\n",
    "print(\"Name of the passenger travelling is: \" + Passenger_Name)\n",
    "# f-string\n",
    "print(f\"The Boarding Time of {Passenger_Name} is: {Boarding_time}\")\n",
    "# .format() method\n",
    "print(\"The Destination station of the passenger is: {}\".format(Destination_Station))\n",
    "# %% formatting\n",
    "print(\"The Boarding station of the passenger is: %s\" % Boarding_station)\n",
    "# f-string for tuple\n",
    "print(f\"The Confirmed seat number of the Passenger is: {Confirmed_Seat_Number}\")\n",
    "# Ternary in f-string\n",
    "print(f\"Will the passenger order food? {'True' if Willing_To_order_the_food == 'YES' else 'False'}\")\n",
    "# .format() with conditional\n",
    "print(\"The ordered food of the passenger is: {}\".format(Ordered_Food if Ordered_Food else \"No food ordered.\"))"
   ]
  }
 ],
 "metadata": {
  "kernelspec": {
   "display_name": "Python 3",
   "language": "python",
   "name": "python3"
  },
  "language_info": {
   "codemirror_mode": {
    "name": "ipython",
    "version": 3
   },
   "file_extension": ".py",
   "mimetype": "text/x-python",
   "name": "python",
   "nbconvert_exporter": "python",
   "pygments_lexer": "ipython3",
   "version": "3.12.1"
  }
 },
 "nbformat": 4,
 "nbformat_minor": 5
}

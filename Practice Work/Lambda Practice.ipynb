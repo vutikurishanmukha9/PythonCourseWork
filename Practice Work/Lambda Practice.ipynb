{
 "cells": [
  {
   "cell_type": "markdown",
   "id": "9be29944",
   "metadata": {},
   "source": [
    "**Square List Using map() and Lambda**"
   ]
  },
  {
   "cell_type": "code",
   "execution_count": 1,
   "id": "5a2b0cb6",
   "metadata": {},
   "outputs": [
    {
     "name": "stdout",
     "output_type": "stream",
     "text": [
      "[1, 529, 16]\n"
     ]
    }
   ],
   "source": [
    "n = list(map(int,input().split()))\n",
    "\n",
    "s = list(map(lambda x: x**2, n))\n",
    "\n",
    "print(list(s))\n"
   ]
  },
  {
   "cell_type": "markdown",
   "id": "57fcbee8",
   "metadata": {},
   "source": [
    "**Multiply by 2 Using Lambda**"
   ]
  },
  {
   "cell_type": "code",
   "execution_count": 6,
   "id": "37a29ce7",
   "metadata": {},
   "outputs": [
    {
     "name": "stdout",
     "output_type": "stream",
     "text": [
      "[2, 4, 6, 8, 10, 12, 14, 16, 18]\n"
     ]
    }
   ],
   "source": [
    "n = list(map(int,input(\"Enter the input: \").split()))\n",
    "s = list(map(lambda x: x*2, n))\n",
    "\n",
    "print(s)\n"
   ]
  },
  {
   "cell_type": "markdown",
   "id": "bc234fb0",
   "metadata": {},
   "source": [
    "**Check if number is even using lambda**"
   ]
  },
  {
   "cell_type": "code",
   "execution_count": 8,
   "id": "64e20d8b",
   "metadata": {},
   "outputs": [
    {
     "name": "stdout",
     "output_type": "stream",
     "text": [
      "even\n"
     ]
    }
   ],
   "source": [
    "n = int(input(\"Enter the input: \"))\n",
    "\n",
    "s = lambda x:'even' if x % 2 == 0 else 'odd'\n",
    "\n",
    "print(s(n))"
   ]
  },
  {
   "cell_type": "markdown",
   "id": "8b2f948e",
   "metadata": {},
   "source": [
    "**Get maximum of two numbers using lambda**"
   ]
  },
  {
   "cell_type": "code",
   "execution_count": 9,
   "id": "43adc7ac",
   "metadata": {},
   "outputs": [
    {
     "name": "stdout",
     "output_type": "stream",
     "text": [
      "21\n"
     ]
    }
   ],
   "source": [
    "a,b = map(int,input(\"Enter the input: \").split())\n",
    "\n",
    "s = lambda a,b : a if a > b else b\n",
    "\n",
    "print(s(a,b))"
   ]
  },
  {
   "cell_type": "markdown",
   "id": "589a3691",
   "metadata": {},
   "source": [
    "**Square of a number using lambda**"
   ]
  },
  {
   "cell_type": "code",
   "execution_count": 7,
   "id": "f8b8f07d",
   "metadata": {},
   "outputs": [
    {
     "name": "stdout",
     "output_type": "stream",
     "text": [
      "144\n"
     ]
    }
   ],
   "source": [
    "l = int(input(\"Enter the input: \"))\n",
    "s = lambda l: l**2\n",
    "print(s(l))"
   ]
  },
  {
   "cell_type": "markdown",
   "id": "335d1aa7",
   "metadata": {},
   "source": [
    "**Check if number is even using lambda**"
   ]
  },
  {
   "cell_type": "code",
   "execution_count": 17,
   "id": "9a626c94",
   "metadata": {},
   "outputs": [
    {
     "name": "stdout",
     "output_type": "stream",
     "text": [
      "odd\n"
     ]
    }
   ],
   "source": [
    "l = int(input(\"Enter the input: \"))\n",
    "s = lambda n: \"even\" if n % 2 == 0 else \"odd\" \n",
    "print(s(l))"
   ]
  },
  {
   "cell_type": "markdown",
   "id": "873244aa",
   "metadata": {},
   "source": [
    "**Get maximum of two numbers using lambda**"
   ]
  },
  {
   "cell_type": "code",
   "execution_count": 20,
   "id": "77cec794",
   "metadata": {},
   "outputs": [
    {
     "name": "stdout",
     "output_type": "stream",
     "text": [
      "20\n"
     ]
    }
   ],
   "source": [
    "a,b = map(int,input(\"Enter the 2 numbers:\").split())\n",
    "s = lambda a,b : a if a > b else b\n",
    "print(s(a,b))"
   ]
  },
  {
   "cell_type": "markdown",
   "id": "47d8af73",
   "metadata": {},
   "source": [
    "**Multiply two numbers using lambda**"
   ]
  },
  {
   "cell_type": "code",
   "execution_count": 21,
   "id": "232354a1",
   "metadata": {},
   "outputs": [
    {
     "name": "stdout",
     "output_type": "stream",
     "text": [
      "5400\n"
     ]
    }
   ],
   "source": [
    "a,b = map(int,input(\"ENter the 2 numbers: \").split())\n",
    "s = lambda a,b: a*b\n",
    "print(s(a,b))"
   ]
  },
  {
   "cell_type": "markdown",
   "id": "b848c4d5",
   "metadata": {},
   "source": [
    "**Sort a list of tuples by second element using lambda**"
   ]
  },
  {
   "cell_type": "code",
   "execution_count": 25,
   "id": "57053490",
   "metadata": {},
   "outputs": [
    {
     "name": "stdout",
     "output_type": "stream",
     "text": [
      "[(1, 3), (4, 2), (2, 1)]\n"
     ]
    }
   ],
   "source": [
    "a = [(1, 3), (2, 1), (4, 2)]\n",
    "print(sorted(a,key = lambda i: i[1],reverse = True))"
   ]
  },
  {
   "cell_type": "markdown",
   "id": "75b799fd",
   "metadata": {},
   "source": [
    "**Filter even numbers from a list using lambda and filter()**"
   ]
  },
  {
   "cell_type": "code",
   "execution_count": 26,
   "id": "fa8cbed6",
   "metadata": {},
   "outputs": [
    {
     "name": "stdout",
     "output_type": "stream",
     "text": [
      "[2, 4, 6, 8, 10]\n"
     ]
    }
   ],
   "source": [
    "s = list(map(int,input(\"Enter the input: \").split()))\n",
    "n = list(filter(lambda x: x%2 == 0, s))\n",
    "print(n)"
   ]
  },
  {
   "cell_type": "markdown",
   "id": "f76fd4ce",
   "metadata": {},
   "source": [
    "**Square each element in a list using lambda and map()**"
   ]
  },
  {
   "cell_type": "code",
   "execution_count": 27,
   "id": "70739633",
   "metadata": {},
   "outputs": [
    {
     "name": "stdout",
     "output_type": "stream",
     "text": [
      "[1, 4, 9, 16, 25, 36, 49, 64, 81, 100]\n"
     ]
    }
   ],
   "source": [
    "l = list(map(int,input(\"Enter the input: \").split()))\n",
    "n = list(map(lambda s: s**2, l))\n",
    "print(n)"
   ]
  },
  {
   "cell_type": "markdown",
   "id": "86392745",
   "metadata": {},
   "source": [
    "**Convert list of strings to uppercase using lambda**"
   ]
  },
  {
   "cell_type": "code",
   "execution_count": 31,
   "id": "cbf79730",
   "metadata": {},
   "outputs": [
    {
     "name": "stdout",
     "output_type": "stream",
     "text": [
      "SHANMUKHA\n"
     ]
    }
   ],
   "source": [
    "s = input(\"Enter the input: \")\n",
    "n = lambda s: s.upper()\n",
    "print(n(s))"
   ]
  },
  {
   "cell_type": "markdown",
   "id": "3ebf8332",
   "metadata": {},
   "source": [
    "**Return length of a string using lambda**"
   ]
  },
  {
   "cell_type": "code",
   "execution_count": 32,
   "id": "20fe20c8",
   "metadata": {},
   "outputs": [
    {
     "name": "stdout",
     "output_type": "stream",
     "text": [
      "28\n"
     ]
    }
   ],
   "source": [
    "s = input(\"Enter the input: \")\n",
    "n = lambda s: len(s)\n",
    "print(n(s))"
   ]
  },
  {
   "cell_type": "markdown",
   "id": "2057dff0",
   "metadata": {},
   "source": [
    "**Check if string starts with a vowel using lambda**"
   ]
  },
  {
   "cell_type": "code",
   "execution_count": 34,
   "id": "b1777b17",
   "metadata": {},
   "outputs": [
    {
     "name": "stdout",
     "output_type": "stream",
     "text": [
      "True\n"
     ]
    }
   ],
   "source": [
    "s = input(\"Enter the input: \")\n",
    "vowels = 'aeiouAEIOU'\n",
    "n = lambda s: True if s[0] in vowels else False\n",
    "print(n(s))\n"
   ]
  },
  {
   "cell_type": "markdown",
   "id": "cf448ef6",
   "metadata": {},
   "source": [
    "**Add 10 to each element using lambda and map()**"
   ]
  },
  {
   "cell_type": "code",
   "execution_count": 1,
   "id": "03f3694c",
   "metadata": {},
   "outputs": [
    {
     "name": "stdout",
     "output_type": "stream",
     "text": [
      "[11, 10, 12, 10, 13, 10, 11, 10, 11, 10, 12, 10, 40]\n"
     ]
    }
   ],
   "source": [
    "s = list(map(int,input(\"Enter the input: \").split()))\n",
    "n = list(map(lambda x: x+10, s))\n",
    "print(n)"
   ]
  },
  {
   "cell_type": "markdown",
   "id": "636d5327",
   "metadata": {},
   "source": [
    "**Filter strings longer than 3 characters**`"
   ]
  },
  {
   "cell_type": "code",
   "execution_count": 2,
   "id": "09869bc6",
   "metadata": {},
   "outputs": [
    {
     "ename": "TypeError",
     "evalue": "map() must have at least two arguments.",
     "output_type": "error",
     "traceback": [
      "\u001b[31m---------------------------------------------------------------------------\u001b[39m",
      "\u001b[31mTypeError\u001b[39m                                 Traceback (most recent call last)",
      "\u001b[36mCell\u001b[39m\u001b[36m \u001b[39m\u001b[32mIn[2]\u001b[39m\u001b[32m, line 1\u001b[39m\n\u001b[32m----> \u001b[39m\u001b[32m1\u001b[39m strings = \u001b[38;5;28mlist\u001b[39m(\u001b[38;5;28;43mmap\u001b[39;49m\u001b[43m(\u001b[49m\u001b[38;5;28;43minput\u001b[39;49m\u001b[43m(\u001b[49m\u001b[33;43m\"\u001b[39;49m\u001b[33;43mEnter the input: \u001b[39;49m\u001b[33;43m\"\u001b[39;49m\u001b[43m)\u001b[49m\u001b[43m)\u001b[49m)\n\u001b[32m      2\u001b[39m filtered = [s \u001b[38;5;28;01mfor\u001b[39;00m s \u001b[38;5;129;01min\u001b[39;00m strings \u001b[38;5;28;01mif\u001b[39;00m \u001b[38;5;28mlen\u001b[39m(s) > \u001b[32m3\u001b[39m]\n\u001b[32m      3\u001b[39m \u001b[38;5;28mprint\u001b[39m(filtered)\n",
      "\u001b[31mTypeError\u001b[39m: map() must have at least two arguments."
     ]
    }
   ],
   "source": [
    "strings = list(map(input(\"Enter the input: \")))\n",
    "filtered = [s for s in strings if len(s) > 3]\n",
    "print(filtered)\n"
   ]
  }
 ],
 "metadata": {
  "kernelspec": {
   "display_name": "Python 3",
   "language": "python",
   "name": "python3"
  },
  "language_info": {
   "codemirror_mode": {
    "name": "ipython",
    "version": 3
   },
   "file_extension": ".py",
   "mimetype": "text/x-python",
   "name": "python",
   "nbconvert_exporter": "python",
   "pygments_lexer": "ipython3",
   "version": "3.12.1"
  }
 },
 "nbformat": 4,
 "nbformat_minor": 5
}

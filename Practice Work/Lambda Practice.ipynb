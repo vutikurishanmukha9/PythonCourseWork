{
 "cells": [
  {
   "cell_type": "markdown",
   "id": "9be29944",
   "metadata": {},
   "source": [
    "**Square List Using map() and Lambda**"
   ]
  },
  {
   "cell_type": "code",
   "execution_count": 5,
   "id": "5a2b0cb6",
   "metadata": {},
   "outputs": [
    {
     "name": "stdout",
     "output_type": "stream",
     "text": [
      "[1, 4, 9, 16]\n"
     ]
    }
   ],
   "source": [
    "n = list(map(int,input().split()))\n",
    "\n",
    "s = list(map(lambda x: x**2, n))\n",
    "\n",
    "print(list(s))\n"
   ]
  },
  {
   "cell_type": "markdown",
   "id": "57fcbee8",
   "metadata": {},
   "source": [
    "**Multiply by 2 Using Lambda**"
   ]
  },
  {
   "cell_type": "code",
   "execution_count": 6,
   "id": "37a29ce7",
   "metadata": {},
   "outputs": [
    {
     "name": "stdout",
     "output_type": "stream",
     "text": [
      "[2, 4, 6, 8, 10, 12, 14, 16, 18]\n"
     ]
    }
   ],
   "source": [
    "n = list(map(int,input(\"Enter the input: \").split()))\n",
    "s = list(map(lambda x: x*2, n))\n",
    "\n",
    "print(s)\n"
   ]
  },
  {
   "cell_type": "markdown",
   "id": "bc234fb0",
   "metadata": {},
   "source": [
    "**Check if number is even using lambda**"
   ]
  },
  {
   "cell_type": "code",
   "execution_count": 8,
   "id": "64e20d8b",
   "metadata": {},
   "outputs": [
    {
     "name": "stdout",
     "output_type": "stream",
     "text": [
      "even\n"
     ]
    }
   ],
   "source": [
    "n = int(input(\"Enter the input: \"))\n",
    "\n",
    "s = lambda x:'even' if x % 2 == 0 else 'odd'\n",
    "\n",
    "print(s(n))"
   ]
  },
  {
   "cell_type": "markdown",
   "id": "8b2f948e",
   "metadata": {},
   "source": [
    "**Get maximum of two numbers using lambda**"
   ]
  },
  {
   "cell_type": "code",
   "execution_count": 9,
   "id": "43adc7ac",
   "metadata": {},
   "outputs": [
    {
     "name": "stdout",
     "output_type": "stream",
     "text": [
      "21\n"
     ]
    }
   ],
   "source": [
    "a,b = map(int,input(\"Enter the input: \").split())\n",
    "\n",
    "s = lambda a,b : a if a > b else b\n",
    "\n",
    "print(s(a,b))"
   ]
  }
 ],
 "metadata": {
  "kernelspec": {
   "display_name": "Python 3",
   "language": "python",
   "name": "python3"
  },
  "language_info": {
   "codemirror_mode": {
    "name": "ipython",
    "version": 3
   },
   "file_extension": ".py",
   "mimetype": "text/x-python",
   "name": "python",
   "nbconvert_exporter": "python",
   "pygments_lexer": "ipython3",
   "version": "3.12.1"
  }
 },
 "nbformat": 4,
 "nbformat_minor": 5
}

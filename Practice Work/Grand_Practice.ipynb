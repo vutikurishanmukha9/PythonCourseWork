{
 "cells": [
  {
   "cell_type": "markdown",
   "id": "d754fe15",
   "metadata": {},
   "source": [
    "re.match(): Checks for a match only at the beginning of the string.\n",
    "\n",
    "re.search(): Searches the entire string for the first occurrence of the pattern.\n",
    "\n",
    "re.findall(): Returns all occurrences of the pattern in the string as a list.\n",
    "\n",
    "re.finditer(): Returns an iterator yielding match objects for all occurrences.\n",
    "\n",
    "re.sub(): Replaces occurrences of the pattern with a specified string.\n",
    "\n",
    "re.split(): Splits the string by occurrences of the pattern."
   ]
  },
  {
   "cell_type": "code",
   "execution_count": 9,
   "id": "63bfa688",
   "metadata": {},
   "outputs": [
    {
     "name": "stdout",
     "output_type": "stream",
     "text": [
      "Shanmukh\n"
     ]
    }
   ],
   "source": [
    "print(\"Shanmukh\")"
   ]
  },
  {
   "cell_type": "code",
   "execution_count": 10,
   "id": "628e0225",
   "metadata": {},
   "outputs": [
    {
     "name": "stdout",
     "output_type": "stream",
     "text": [
      "S\n"
     ]
    }
   ],
   "source": [
    "import re\n",
    "\n",
    "res = re.match(r'[A-Z]', 'SHANMUKH')\n",
    "\n",
    "print(res.group())"
   ]
  },
  {
   "cell_type": "code",
   "execution_count": 11,
   "id": "c7a68dd7",
   "metadata": {},
   "outputs": [
    {
     "name": "stdout",
     "output_type": "stream",
     "text": [
      "['2', '3', '4', '5', '6', '7', '8', '9', '1', '2', '3', '4', '5', '6', '7', '8', '9']\n"
     ]
    }
   ],
   "source": [
    "import re\n",
    "\n",
    "res = re.findall(r'[1-9]','sha23456789nmukh123456789')\n",
    "print(res)"
   ]
  },
  {
   "cell_type": "code",
   "execution_count": 12,
   "id": "01334fd4",
   "metadata": {},
   "outputs": [
    {
     "name": "stdout",
     "output_type": "stream",
     "text": [
      "shanmukh\n"
     ]
    }
   ],
   "source": [
    "import re\n",
    "\n",
    "res = re.search(r'shanmukh','shanmukh1234567890qwertyuio')\n",
    "\n",
    "print(res.group())"
   ]
  },
  {
   "cell_type": "code",
   "execution_count": 13,
   "id": "4ff7614c",
   "metadata": {},
   "outputs": [
    {
     "name": "stdout",
     "output_type": "stream",
     "text": [
      "1\n"
     ]
    }
   ],
   "source": [
    "try:\n",
    "    n = int(input(\"Enter the input: \"))\n",
    "    b = int(input(\"Enter the Input: \"))\n",
    "    s = n//b\n",
    "except Exception as e:\n",
    "    print(f'There is the {e}')\n",
    "else:\n",
    "    print(s)"
   ]
  },
  {
   "cell_type": "code",
   "execution_count": 1,
   "id": "7557766d",
   "metadata": {},
   "outputs": [
    {
     "name": "stdout",
     "output_type": "stream",
     "text": [
      "All good, you entered: shan\n"
     ]
    },
    {
     "ename": "NameError",
     "evalue": "name 'c' is not defined",
     "output_type": "error",
     "traceback": [
      "\u001b[31m---------------------------------------------------------------------------\u001b[39m",
      "\u001b[31mNameError\u001b[39m                                 Traceback (most recent call last)",
      "\u001b[36mCell\u001b[39m\u001b[36m \u001b[39m\u001b[32mIn[1]\u001b[39m\u001b[32m, line 15\u001b[39m\n\u001b[32m     13\u001b[39m \u001b[38;5;28;01melse\u001b[39;00m:\n\u001b[32m     14\u001b[39m     \u001b[38;5;28mprint\u001b[39m(\u001b[33m\"\u001b[39m\u001b[33mAll good, you entered:\u001b[39m\u001b[33m\"\u001b[39m, s)\n\u001b[32m---> \u001b[39m\u001b[32m15\u001b[39m     \u001b[38;5;28mprint\u001b[39m(\u001b[43mc\u001b[49m)\n",
      "\u001b[31mNameError\u001b[39m: name 'c' is not defined"
     ]
    }
   ],
   "source": [
    "try:\n",
    "    s = input(\"Enter the Input: \")\n",
    "except Exception as e:\n",
    "    print(e)\n",
    "    try:\n",
    "        b = input(\"Enter the Input: \")\n",
    "    except Exception as e:\n",
    "        print(e)\n",
    "        try:\n",
    "            c = s + b\n",
    "        except Exception as e:\n",
    "            print(f'There is an error {e}')\n",
    "else:\n",
    "    print(\"All good, you entered:\", s)\n",
    "    print(c)"
   ]
  },
  {
   "cell_type": "code",
   "execution_count": 15,
   "id": "bbda2eeb",
   "metadata": {},
   "outputs": [
    {
     "name": "stdout",
     "output_type": "stream",
     "text": [
      "kohli     100\n",
      "rohit     500\n",
      "maxwel    400\n",
      "dhoni     250\n",
      "ABD       200\n",
      "dtype: int64\n"
     ]
    }
   ],
   "source": [
    "import pandas as pd\n",
    "\n",
    "Names = ['kohli','rohit','maxwel','dhoni','ABD']\n",
    "\n",
    "Runs = [100, 500, 400, 250, 200]\n",
    "\n",
    "team = pd.Series(Runs, index = Names)\n",
    "\n",
    "print(team)"
   ]
  },
  {
   "cell_type": "code",
   "execution_count": 16,
   "id": "dc2bb174",
   "metadata": {},
   "outputs": [
    {
     "name": "stdout",
     "output_type": "stream",
     "text": [
      "Mean of Team is : 290.0\n"
     ]
    }
   ],
   "source": [
    "print(f'Mean of Team is : {team.mean()}')"
   ]
  },
  {
   "cell_type": "code",
   "execution_count": 17,
   "id": "3c70799f",
   "metadata": {},
   "outputs": [
    {
     "name": "stdout",
     "output_type": "stream",
     "text": [
      "Median of the Team is : 250.0\n"
     ]
    }
   ],
   "source": [
    "print(f'Median of the Team is : {team.median()}')"
   ]
  },
  {
   "cell_type": "code",
   "execution_count": 18,
   "id": "f9cf3561",
   "metadata": {},
   "outputs": [
    {
     "name": "stdout",
     "output_type": "stream",
     "text": [
      "Mode of the team is : 0    100\n",
      "1    200\n",
      "2    250\n",
      "3    400\n",
      "4    500\n",
      "dtype: int64\n"
     ]
    }
   ],
   "source": [
    "print(f'Mode of the team is : {team.mode()}')"
   ]
  },
  {
   "cell_type": "code",
   "execution_count": 19,
   "id": "81575497",
   "metadata": {},
   "outputs": [
    {
     "name": "stdout",
     "output_type": "stream",
     "text": [
      "1450\n"
     ]
    }
   ],
   "source": [
    "print(team.sum())"
   ]
  },
  {
   "cell_type": "code",
   "execution_count": 22,
   "id": "908b69ab",
   "metadata": {},
   "outputs": [
    {
     "name": "stdout",
     "output_type": "stream",
     "text": [
      "kohli     100\n",
      "ABD       200\n",
      "dhoni     250\n",
      "maxwel    400\n",
      "rohit     500\n",
      "dtype: int64\n"
     ]
    }
   ],
   "source": [
    "print(team.sort_values())"
   ]
  },
  {
   "cell_type": "code",
   "execution_count": 23,
   "id": "b35583a2",
   "metadata": {},
   "outputs": [
    {
     "name": "stdout",
     "output_type": "stream",
     "text": [
      "ABD       200\n",
      "dhoni     250\n",
      "kohli     100\n",
      "maxwel    400\n",
      "rohit     500\n",
      "dtype: int64\n"
     ]
    }
   ],
   "source": [
    "print(team.sort_index())"
   ]
  },
  {
   "cell_type": "code",
   "execution_count": 20,
   "id": "0e582701",
   "metadata": {},
   "outputs": [
    {
     "name": "stdout",
     "output_type": "stream",
     "text": [
      "ravi       A\n",
      "raju       A\n",
      "vikram     B\n",
      "prudhvi    B\n",
      "sri        A\n",
      "dtype: object\n"
     ]
    }
   ],
   "source": [
    "import pandas as pd\n",
    "\n",
    "Grades = ['A','A','B','B','A']\n",
    "\n",
    "Students = ['ravi','raju','vikram','prudhvi','sri']\n",
    "\n",
    "res = pd.Series(Grades, index = Students)\n",
    "\n",
    "print(res)"
   ]
  },
  {
   "cell_type": "code",
   "execution_count": 26,
   "id": "5132f4a4",
   "metadata": {},
   "outputs": [
    {
     "name": "stdout",
     "output_type": "stream",
     "text": [
      "  Products   Price  Stock  Rating\n",
      "0   cylcle   45000      2       4\n",
      "1      car  500000      4       5\n",
      "2     bike   85000      5       4\n",
      "3   scooty   78000     10       5\n"
     ]
    }
   ],
   "source": [
    "import matplotlib.pyplot as plt\n",
    "\n",
    "import numpy as np \n",
    "\n",
    "import pandas as pd\n",
    "\n",
    "data = {\n",
    "    \"Products\" : [\"cylcle\", \"car\", \"bike\", \"scooty\"],\n",
    "    \"Price\" : [45000, 500000, 85000, 78000],\n",
    "    \"Stock\" : [2, 4, 5, 10],\n",
    "    \"Rating\" : [4, 5, 4, 5]\n",
    "}\n",
    "\n",
    "df = pd.DataFrame(data)\n",
    "\n",
    "print(df)"
   ]
  },
  {
   "cell_type": "code",
   "execution_count": 31,
   "id": "5efd02cd",
   "metadata": {},
   "outputs": [
    {
     "name": "stdout",
     "output_type": "stream",
     "text": [
      "  Products  Price  Stock  Rating\n",
      "0   cylcle  45000      2       4\n",
      "\n",
      "\n",
      "  Products  Price  Stock  Rating\n",
      "3   scooty  78000     10       5\n"
     ]
    }
   ],
   "source": [
    "print(df.head(1))\n",
    "print(\"\\n\")\n",
    "print(df.tail(1))"
   ]
  },
  {
   "cell_type": "code",
   "execution_count": 34,
   "id": "b465f004",
   "metadata": {},
   "outputs": [
    {
     "name": "stdout",
     "output_type": "stream",
     "text": [
      "(4, 4)\n"
     ]
    }
   ],
   "source": [
    "print(df.shape)"
   ]
  },
  {
   "cell_type": "code",
   "execution_count": 35,
   "id": "cd3b02d2",
   "metadata": {},
   "outputs": [
    {
     "name": "stdout",
     "output_type": "stream",
     "text": [
      "Index(['Products', 'Price', 'Stock', 'Rating'], dtype='object')\n"
     ]
    }
   ],
   "source": [
    "print(df.columns)"
   ]
  },
  {
   "cell_type": "code",
   "execution_count": 36,
   "id": "1d138ed2",
   "metadata": {},
   "outputs": [
    {
     "name": "stdout",
     "output_type": "stream",
     "text": [
      "               Price     Stock   Rating\n",
      "count       4.000000   4.00000  4.00000\n",
      "mean   177000.000000   5.25000  4.50000\n",
      "std    216038.576802   3.40343  0.57735\n",
      "min     45000.000000   2.00000  4.00000\n",
      "25%     69750.000000   3.50000  4.00000\n",
      "50%     81500.000000   4.50000  4.50000\n",
      "75%    188750.000000   6.25000  5.00000\n",
      "max    500000.000000  10.00000  5.00000\n"
     ]
    }
   ],
   "source": [
    "print(df.describe())"
   ]
  },
  {
   "cell_type": "markdown",
   "id": "dfe0d607",
   "metadata": {},
   "source": [
    "Given a list of integers, remove duplicates without using set() and maintain the original order."
   ]
  },
  {
   "cell_type": "code",
   "execution_count": 41,
   "id": "a6400f79",
   "metadata": {},
   "outputs": [
    {
     "name": "stdout",
     "output_type": "stream",
     "text": [
      "{70, 40, 10, 80, 50, 20, 90, 60, 30}\n"
     ]
    }
   ],
   "source": [
    "a = [10,20,30,40,50,60,70,80,90,10,20,30,40,50,60,70,80,90]\n",
    "\n",
    "print(set(a))"
   ]
  },
  {
   "cell_type": "code",
   "execution_count": 59,
   "id": "d4df9b71",
   "metadata": {},
   "outputs": [
    {
     "data": {
      "image/png": "[encoded data removed]",
      "text/plain": [
       "<Figure size 640x480 with 1 Axes>"
      ]
     },
     "metadata": {},
     "output_type": "display_data"
    }
   ],
   "source": [
    "import matplotlib.pyplot as plt\n",
    "\n",
    "months = [\"Jan\", \"Feb\", \"Mar\", \"Apr\", \"May\"]\n",
    "\n",
    "sales = [150, 200, 180, 220, 210]\n",
    "\n",
    "plt.plot(months, sales, color = \"red\", marker = 'o', linestyle ='-', label = \"Practice\")\n",
    "\n",
    "plt.xlabel(\"months\")\n",
    "plt.ylabel(\"sales\")\n",
    "plt.grid(True)\n",
    "plt.legend()\n",
    "plt.show()"
   ]
  },
  {
   "cell_type": "code",
   "execution_count": 61,
   "id": "d353d18a",
   "metadata": {},
   "outputs": [
    {
     "data": {
      "image/png": "[encoded data removed]",
      "text/plain": [
       "<Figure size 640x480 with 1 Axes>"
      ]
     },
     "metadata": {},
     "output_type": "display_data"
    }
   ],
   "source": [
    "import matplotlib.pyplot as plt\n",
    "\n",
    "months = [\"Jan\", \"Feb\", \"Mar\", \"Apr\", \"May\"]\n",
    "\n",
    "sales = [150, 200, 180, 220, 210]\n",
    "\n",
    "plt.bar(months, sales, color = \"red\")\n",
    "plt.show()"
   ]
  },
  {
   "cell_type": "code",
   "execution_count": 69,
   "id": "0f02f08d",
   "metadata": {},
   "outputs": [
    {
     "data": {
      "image/png": "[encoded data removed]",
      "text/plain": [
       "<Figure size 640x480 with 1 Axes>"
      ]
     },
     "metadata": {},
     "output_type": "display_data"
    }
   ],
   "source": [
    "import matplotlib.pyplot as plt\n",
    "\n",
    "months = [\"Jan\", \"Feb\", \"Mar\", \"Apr\", \"May\"]\n",
    "\n",
    "sales = [150, 200, 180, 220, 210]\n",
    "\n",
    "plt.hist(sales, bins = 10, color = 'red', edgecolor = 'black')\n",
    "plt.show()\n",
    "\n",
    "plt.show()"
   ]
  },
  {
   "cell_type": "code",
   "execution_count": 1,
   "id": "2ee38962",
   "metadata": {},
   "outputs": [
    {
     "data": {
      "image/png": "[encoded data removed]",
      "text/plain": [
       "<Figure size 640x480 with 1 Axes>"
      ]
     },
     "metadata": {},
     "output_type": "display_data"
    },
    {
     "data": {
      "image/png": "[encoded data removed]",
      "text/plain": [
       "<Figure size 640x480 with 1 Axes>"
      ]
     },
     "metadata": {},
     "output_type": "display_data"
    },
    {
     "data": {
      "image/png": "[encoded data removed]",
      "text/plain": [
       "<Figure size 640x480 with 1 Axes>"
      ]
     },
     "metadata": {},
     "output_type": "display_data"
    },
    {
     "data": {
      "text/plain": [
       "<Figure size 640x480 with 0 Axes>"
      ]
     },
     "metadata": {},
     "output_type": "display_data"
    }
   ],
   "source": [
    "import matplotlib.pyplot as plt\n",
    "\n",
    "months = [\"Jan\", \"Feb\", \"Mar\", \"Apr\", \"May\"]\n",
    "\n",
    "sales = [150, 200, 180, 220, 210]\n",
    "\n",
    "\n",
    "plt.subplot(3,3,1)\n",
    "plt.plot(months, sales, color = \"red\", marker = 'o', linestyle ='-', label = \"Practice\")\n",
    "plt.show()\n",
    "\n",
    "plt.subplot(3,3,2)\n",
    "plt.bar(months, sales, color = \"red\")\n",
    "plt.show()\n",
    "\n",
    "plt.subplot(3,3,3)\n",
    "plt.hist(sales, bins = 10, color = \"red\",  edgecolor = 'black')\n",
    "plt.show()\n",
    "\n",
    "\n",
    "plt.tight_layout()\n",
    "plt.show()\n"
   ]
  },
  {
   "cell_type": "code",
   "execution_count": 2,
   "id": "6e15e8ed",
   "metadata": {},
   "outputs": [
    {
     "name": "stdout",
     "output_type": "stream",
     "text": [
      "5\n",
      "Positive\n"
     ]
    }
   ],
   "source": [
    "n = int(input(\"Enter the Input as a Number: \"))\n",
    "print(n)\n",
    "if n > 0:\n",
    "    print(\"Positive\")\n",
    "else:\n",
    "    print(\"Negative\")"
   ]
  },
  {
   "cell_type": "code",
   "execution_count": 3,
   "id": "a78dbe67",
   "metadata": {},
   "outputs": [
    {
     "name": "stdout",
     "output_type": "stream",
     "text": [
      "5\n",
      "Odd\n"
     ]
    }
   ],
   "source": [
    "n = int(input(\"Enter the Input: \"))\n",
    "print(n)\n",
    "\n",
    "if n % 2 == 0:\n",
    "    print(\"Even\")\n",
    "else:\n",
    "    print(\"Odd\")"
   ]
  },
  {
   "cell_type": "code",
   "execution_count": 5,
   "id": "3205b888",
   "metadata": {},
   "outputs": [
    {
     "name": "stdout",
     "output_type": "stream",
     "text": [
      "12\n",
      "Not divisible By 5\n"
     ]
    }
   ],
   "source": [
    "n = int(input(\"ENter the Input: \"))\n",
    "print(n)\n",
    "\n",
    "if n % 5 == 0:\n",
    "    print(\"Divisible By 5\")\n",
    "else:\n",
    "    print(\"Not divisible By 5\")"
   ]
  },
  {
   "cell_type": "code",
   "execution_count": 8,
   "id": "f4ab16d2",
   "metadata": {},
   "outputs": [
    {
     "name": "stdout",
     "output_type": "stream",
     "text": [
      "12\n",
      "Not Divisible By The Both\n"
     ]
    }
   ],
   "source": [
    "n = int(input(\"ENter the Input: \"))\n",
    "print(n)\n",
    "\n",
    "if n % 3 == 0 and n % 7 == 0:\n",
    "    print(\"It is Divisible By both 3,7\")\n",
    "else:\n",
    "    print(\"Not Divisible By The Both\")"
   ]
  },
  {
   "cell_type": "code",
   "execution_count": 10,
   "id": "d8c421d6",
   "metadata": {},
   "outputs": [
    {
     "name": "stdout",
     "output_type": "stream",
     "text": [
      "47\n",
      "Pass\n"
     ]
    }
   ],
   "source": [
    "n = int(input(\"ENter the Input: \"))\n",
    "print(n)\n",
    "\n",
    "if n >= 35:\n",
    "    print(\"Pass\")\n",
    "else:\n",
    "    print(\"Fail\")"
   ]
  },
  {
   "cell_type": "code",
   "execution_count": 12,
   "id": "40bd2910",
   "metadata": {},
   "outputs": [
    {
     "name": "stdout",
     "output_type": "stream",
     "text": [
      "It is Not a 3 Digit Number\n"
     ]
    }
   ],
   "source": [
    "n = int(input(\"Enter the input: \"))\n",
    "t = 0\n",
    "if 100 < abs(n) < 999:\n",
    "    print(\"It it 3 Digit Number\")\n",
    "else:\n",
    "    print(\"It is Not a 3 Digit Number\")"
   ]
  },
  {
   "cell_type": "code",
   "execution_count": 14,
   "id": "bfe3f92f",
   "metadata": {},
   "outputs": [
    {
     "name": "stdout",
     "output_type": "stream",
     "text": [
      "It is Not a Vowels\n"
     ]
    }
   ],
   "source": [
    "vowels = ['a','e','i','o','u','A','E','I','O','U']\n",
    "\n",
    "n = input(\"Enter the Input: \").split()\n",
    "\n",
    "if n in vowels:\n",
    "    print(\"The Character is vowels\")\n",
    "else:\n",
    "    print(\"It is Not a Vowels\")"
   ]
  },
  {
   "cell_type": "code",
   "execution_count": 15,
   "id": "67c499bb",
   "metadata": {},
   "outputs": [
    {
     "name": "stdout",
     "output_type": "stream",
     "text": [
      "1\n",
      "2\n",
      "3\n",
      "4\n",
      "5\n",
      "6\n",
      "7\n",
      "8\n",
      "9\n",
      "10\n",
      "11\n",
      "12\n",
      "13\n",
      "14\n",
      "15\n",
      "16\n",
      "17\n",
      "18\n",
      "19\n",
      "20\n"
     ]
    }
   ],
   "source": [
    "n = int(input(\"Enter the input: \"))\n",
    "for i in range(1, n+1):\n",
    "    print(i)"
   ]
  },
  {
   "cell_type": "code",
   "execution_count": 16,
   "id": "9bceed9b",
   "metadata": {},
   "outputs": [
    {
     "name": "stdout",
     "output_type": "stream",
     "text": [
      "2\n",
      "4\n",
      "6\n",
      "8\n",
      "10\n",
      "12\n",
      "14\n",
      "16\n",
      "18\n",
      "20\n"
     ]
    }
   ],
   "source": [
    "n = int(input(\"Enter the Input: \"))\n",
    "\n",
    "for i in range(1, n+1):\n",
    "    if i % 2 == 0:\n",
    "        print(i)"
   ]
  },
  {
   "cell_type": "code",
   "execution_count": 17,
   "id": "b8fe808e",
   "metadata": {},
   "outputs": [
    {
     "name": "stdout",
     "output_type": "stream",
     "text": [
      "55\n"
     ]
    }
   ],
   "source": [
    "n = int(input(\"Enter the INput: \"))\n",
    "total = 0\n",
    "for i in range(1, n+1):\n",
    "    total += i\n",
    "print(total)\n"
   ]
  },
  {
   "cell_type": "code",
   "execution_count": 18,
   "id": "d7083143",
   "metadata": {},
   "outputs": [
    {
     "name": "stdout",
     "output_type": "stream",
     "text": [
      "1\n",
      "3\n",
      "5\n",
      "7\n",
      "9\n",
      "11\n",
      "13\n",
      "15\n",
      "17\n",
      "19\n"
     ]
    }
   ],
   "source": [
    "n = int(input(\"Enter the Input: \"))\n",
    "\n",
    "for i in range(1, n+1):\n",
    "    if i % 2 != 0:\n",
    "        print(i)"
   ]
  },
  {
   "cell_type": "code",
   "execution_count": null,
   "id": "de88f50f",
   "metadata": {},
   "outputs": [
    {
     "name": "stdout",
     "output_type": "stream",
     "text": [
      "120\n"
     ]
    }
   ],
   "source": [
    "n = int(input(\"Enter the input: \"))\n",
    "s = 1\n",
    "for i in range(1, n+1):\n",
    "    s = s * i\n",
    "print(s)"
   ]
  },
  {
   "cell_type": "code",
   "execution_count": 20,
   "id": "53843896",
   "metadata": {},
   "outputs": [
    {
     "name": "stdout",
     "output_type": "stream",
     "text": [
      "12\n",
      "24\n",
      "36\n",
      "48\n",
      "60\n",
      "72\n",
      "84\n",
      "96\n",
      "108\n",
      "120\n",
      "132\n",
      "144\n"
     ]
    }
   ],
   "source": [
    "n = int(input(\"Enter the input: \"))\n",
    "\n",
    "for i in range(1, n+1):\n",
    "    print(n*i)"
   ]
  },
  {
   "cell_type": "code",
   "execution_count": 25,
   "id": "5709565b",
   "metadata": {},
   "outputs": [
    {
     "name": "stdout",
     "output_type": "stream",
     "text": [
      "number is Prime\n"
     ]
    }
   ],
   "source": [
    "n = int(input(\"Enter the Number: \"))\n",
    "t = 0\n",
    "\n",
    "for i in range(1,n+1):\n",
    "    if n % i == 0:\n",
    "        t = t + 1\n",
    "if t == 2:\n",
    "    print(\"number is Prime\")\n",
    "else:\n",
    "    print(\"Not Prime\")"
   ]
  },
  {
   "cell_type": "code",
   "execution_count": 30,
   "id": "d27bf1cf",
   "metadata": {},
   "outputs": [
    {
     "name": "stdout",
     "output_type": "stream",
     "text": [
      "3\n"
     ]
    }
   ],
   "source": [
    "n = int(input(\"Enter the Input: \"))\n",
    "total = 0\n",
    "\n",
    "while n > 0:\n",
    "    digit = n % 10     \n",
    "    total += digit     \n",
    "    n = n // 10   \n",
    "print(total)\n"
   ]
  },
  {
   "cell_type": "code",
   "execution_count": 31,
   "id": "85dbfd27",
   "metadata": {},
   "outputs": [
    {
     "name": "stdout",
     "output_type": "stream",
     "text": [
      "3\n"
     ]
    }
   ],
   "source": [
    "n = int(input(\"Enter the input: \"))\n",
    "count = 0\n",
    "for i in range(1, n+1):\n",
    "    if i % 3 == 0:\n",
    "        count += 1\n",
    "print(count)"
   ]
  },
  {
   "cell_type": "code",
   "execution_count": 33,
   "id": "b4826a59",
   "metadata": {},
   "outputs": [
    {
     "name": "stdout",
     "output_type": "stream",
     "text": [
      "5\n",
      "10\n",
      "15\n",
      "20\n",
      "25\n",
      "30\n",
      "35\n",
      "40\n",
      "45\n",
      "50\n"
     ]
    }
   ],
   "source": [
    "n = int(input(\"enter the Input: \"))\n",
    "for i in range(1,n+1):\n",
    "    if i % 5 == 0:\n",
    "        print(i)"
   ]
  },
  {
   "cell_type": "code",
   "execution_count": 35,
   "id": "b680e51d",
   "metadata": {},
   "outputs": [
    {
     "name": "stdout",
     "output_type": "stream",
     "text": [
      "30\n"
     ]
    }
   ],
   "source": [
    "a, b, c = map(int, input(\"Enter three numbers: \").split())\n",
    "\n",
    "max_num = a  \n",
    "\n",
    "for num in [b, c]:  \n",
    "    if num > max_num:\n",
    "        max_num = num\n",
    "\n",
    "print( max_num)\n"
   ]
  },
  {
   "cell_type": "code",
   "execution_count": 38,
   "id": "b9b657b6",
   "metadata": {},
   "outputs": [
    {
     "name": "stdout",
     "output_type": "stream",
     "text": [
      "963258741\n"
     ]
    }
   ],
   "source": [
    "n = int(input(\"Enter the Input: \"))\n",
    "reverse = 0\n",
    "\n",
    "while n > 0:\n",
    "    digit = n % 10            \n",
    "    reverse = reverse * 10 + digit  \n",
    "    n = n // 10   \n",
    "\n",
    "print(reverse)"
   ]
  },
  {
   "cell_type": "code",
   "execution_count": 39,
   "id": "24dcef74",
   "metadata": {},
   "outputs": [
    {
     "name": "stdout",
     "output_type": "stream",
     "text": [
      "55\n"
     ]
    }
   ],
   "source": [
    "n = int(input(\"Enter the Input: \"))\n",
    "total = 0\n",
    "\n",
    "for i in range(1,n+1):\n",
    "    total += i\n",
    "print(total)"
   ]
  },
  {
   "cell_type": "code",
   "execution_count": null,
   "id": "8ac5b2fe",
   "metadata": {},
   "outputs": [
    {
     "name": "stdout",
     "output_type": "stream",
     "text": [
      "18\n"
     ]
    }
   ],
   "source": [
    "n = int(input(\"Enter the Input: \"))\n",
    "total = 0\n",
    "\n",
    "for i in range(1, n+1):\n",
    "    if n % i == 0:\n",
    "        total += i\n",
    "print(total)"
   ]
  },
  {
   "cell_type": "code",
   "execution_count": 43,
   "id": "d008ca56",
   "metadata": {},
   "outputs": [
    {
     "name": "stdout",
     "output_type": "stream",
     "text": [
      "20\n",
      "18\n",
      "16\n",
      "14\n",
      "12\n",
      "10\n",
      "8\n",
      "6\n",
      "4\n",
      "2\n"
     ]
    }
   ],
   "source": [
    "n = int(input(\"Enter the Input: \"))\n",
    "\n",
    "for i in range(n, 0, -1):\n",
    "    if i % 2 == 0:\n",
    "        print(i)"
   ]
  }
 ],
 "metadata": {
  "kernelspec": {
   "display_name": "Python 3",
   "language": "python",
   "name": "python3"
  },
  "language_info": {
   "codemirror_mode": {
    "name": "ipython",
    "version": 3
   },
   "file_extension": ".py",
   "mimetype": "text/x-python",
   "name": "python",
   "nbconvert_exporter": "python",
   "pygments_lexer": "ipython3",
   "version": "3.12.1"
  }
 },
 "nbformat": 4,
 "nbformat_minor": 5
}

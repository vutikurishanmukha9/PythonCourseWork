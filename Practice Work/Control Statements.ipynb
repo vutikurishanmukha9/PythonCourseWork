{
 "cells": [
  {
   "cell_type": "code",
   "execution_count": null,
   "id": "41a2f5ff",
   "metadata": {},
   "outputs": [],
   "source": [
    "#Print numbers except multiples of 3\n",
    "\n",
    "n = int(input(\"Enter the input:  \"))\n",
    "for i in range(1, n + 1):\n",
    "    if i % 3 != 0:\n",
    "        print(i)\n",
    "    else:\n",
    "        continue"
   ]
  },
  {
   "cell_type": "code",
   "execution_count": 7,
   "id": "a0f445a2",
   "metadata": {},
   "outputs": [
    {
     "name": "stdout",
     "output_type": "stream",
     "text": [
      "100 is NOT a Prime number\n"
     ]
    }
   ],
   "source": [
    "n = int(input(\"Enter the input number: \"))\n",
    "\n",
    "if n <= 1:\n",
    "    print(n, \"is NOT a Prime number\")\n",
    "else:\n",
    "    for i in range(2, n):\n",
    "        if n % i == 0:\n",
    "            print(n, \"is NOT a Prime number\")\n",
    "            break\n",
    "    else:\n",
    "        print(n, \"is a Prime number\")\n"
   ]
  },
  {
   "cell_type": "code",
   "execution_count": 17,
   "id": "8832aaa8",
   "metadata": {},
   "outputs": [
    {
     "name": "stdout",
     "output_type": "stream",
     "text": [
      "a\n"
     ]
    }
   ],
   "source": [
    "n = input(\"Enter the string: \")\n",
    "vowels = \"aeiouAEIOU\"\n",
    "for char in n :\n",
    "    if char in vowels:\n",
    "        print(char)\n",
    "        break\n",
    "else:\n",
    "    print(char, end = \"\")\n",
    "    "
   ]
  },
  {
   "cell_type": "code",
   "execution_count": null,
   "id": "f28a2ccf",
   "metadata": {},
   "outputs": [],
   "source": [
    "# Password Checker\n",
    "while attempts > 0:\n",
    "    n = input(\"Enter the password: \")\n",
    "    if n == password:\n",
    "        print(\"Access Granted!\")\n",
    "        break\n",
    "    else:\n",
    "        attempts -= 1\n",
    "        print(f\"Incorrect password. Attempts left: {attempts}\")\n",
    "\n",
    "if attempts == 0:\n",
    "    print(\"Access Denied. Too many incorrect attempts.\")"
   ]
  }
 ],
 "metadata": {
  "kernelspec": {
   "display_name": "Python 3",
   "language": "python",
   "name": "python3"
  },
  "language_info": {
   "codemirror_mode": {
    "name": "ipython",
    "version": 3
   },
   "file_extension": ".py",
   "mimetype": "text/x-python",
   "name": "python",
   "nbconvert_exporter": "python",
   "pygments_lexer": "ipython3",
   "version": "3.12.1"
  }
 },
 "nbformat": 4,
 "nbformat_minor": 5
}

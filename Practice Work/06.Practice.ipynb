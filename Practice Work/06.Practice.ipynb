{
 "cells": [
  {
   "cell_type": "code",
   "execution_count": 34,
   "id": "b4346ee0",
   "metadata": {},
   "outputs": [
    {
     "name": "stdout",
     "output_type": "stream",
     "text": [
      "20\n"
     ]
    }
   ],
   "source": [
    "#Sum of Two numbers\n",
    "A = int(input(\"Enter the first number:  \"))\n",
    "B = int(input(\"Enter the second number: \"))\n",
    "c = print(A+B)"
   ]
  },
  {
   "cell_type": "code",
   "execution_count": 35,
   "id": "0a34801a",
   "metadata": {},
   "outputs": [
    {
     "name": "stdout",
     "output_type": "stream",
     "text": [
      "4\n"
     ]
    }
   ],
   "source": [
    "#Product of the two numbers\n",
    "A = int(input(\"Enter the First Number: \"))\n",
    "B = int(input(\"Enter the Second Number: \"))\n",
    "c = print(A*B)"
   ]
  },
  {
   "cell_type": "code",
   "execution_count": 36,
   "id": "fbf532b7",
   "metadata": {},
   "outputs": [
    {
     "name": "stdout",
     "output_type": "stream",
     "text": [
      "294\n"
     ]
    }
   ],
   "source": [
    "#Area of the Rectangle\n",
    "length = int(input(\"Enter the lenght of the Rectangle: \"))\n",
    "breadth = int(input(\"Enter the breadth of the Rectangle: \"))\n",
    "area = length * breadth\n",
    "print(area)\n"
   ]
  },
  {
   "cell_type": "code",
   "execution_count": 37,
   "id": "e887a04e",
   "metadata": {},
   "outputs": [
    {
     "name": "stdout",
     "output_type": "stream",
     "text": [
      "12218497334.871824\n",
      "12218497334\n"
     ]
    }
   ],
   "source": [
    "#Area of the circle\n",
    "import math\n",
    "r = int(input(\"Enter the radius of the circle: \"))\n",
    "area = math.pi*(r**2)\n",
    "print(area)\n",
    "print(int(area))"
   ]
  },
  {
   "cell_type": "code",
   "execution_count": 38,
   "id": "b1c84270",
   "metadata": {},
   "outputs": [
    {
     "name": "stdout",
     "output_type": "stream",
     "text": [
      "313 135135\n"
     ]
    }
   ],
   "source": [
    "#Swap Two Numbers\n",
    "a = int(input(\"Enter the first number: \"))\n",
    "b = int(input(\"Enter the second number: \"))\n",
    "\n",
    "a,b =b,a\n",
    "\n",
    "print(a,b)"
   ]
  },
  {
   "cell_type": "code",
   "execution_count": 39,
   "id": "9a5ec842",
   "metadata": {},
   "outputs": [
    {
     "name": "stdout",
     "output_type": "stream",
     "text": [
      "Given Number is an odd number\n"
     ]
    }
   ],
   "source": [
    "#Check Even or Odd\n",
    "n = int(input(\"enter the number: \"))\n",
    "if n % 2 == 0:\n",
    "    print(\"Given Number is an even number\")\n",
    "else:\n",
    "    print(\"Given Number is an odd number\")"
   ]
  },
  {
   "cell_type": "code",
   "execution_count": 40,
   "id": "99fea10a",
   "metadata": {},
   "outputs": [
    {
     "name": "stdout",
     "output_type": "stream",
     "text": [
      "Not a prime number\n"
     ]
    }
   ],
   "source": [
    "#Check prime or not \n",
    "n = int(input(\"Enter a number: \"))\n",
    "if n > 1:\n",
    "    for i in range(2, int(n**0.5) + 1):\n",
    "        if n % i == 0:\n",
    "            print(\"Not a prime number\")\n",
    "            break\n",
    "    else:\n",
    "        print(\"Prime number\")\n",
    "else:\n",
    "    print(\"Not a prime number\")"
   ]
  },
  {
   "cell_type": "code",
   "execution_count": 41,
   "id": "6439b33e",
   "metadata": {},
   "outputs": [
    {
     "name": "stdout",
     "output_type": "stream",
     "text": [
      "The Factorial of 1 is 1\n",
      "The Factorial of 2 is 2\n",
      "The Factorial of 3 is 6\n",
      "The Factorial of 4 is 24\n",
      "The Factorial of 5 is 120\n",
      "The Factorial of 6 is 720\n",
      "The Factorial of 7 is 5040\n",
      "The Factorial of 8 is 40320\n",
      "The Factorial of 9 is 362880\n",
      "The Factorial of 10 is 3628800\n",
      "The Factorial of 11 is 39916800\n",
      "The Factorial of 11 is 39916800\n"
     ]
    }
   ],
   "source": [
    "# Factorial of a Number\n",
    "n = int(input(\"enter the number: \"))\n",
    "factorial = 1\n",
    "for i in range(1,n+1):\n",
    "    factorial = factorial*i\n",
    "    print(f'The Factorial of {i} is',factorial)\n",
    "print(f'The Factorial of {n} is',factorial)"
   ]
  },
  {
   "cell_type": "code",
   "execution_count": 42,
   "id": "d6be17ab",
   "metadata": {},
   "outputs": [
    {
     "name": "stdout",
     "output_type": "stream",
     "text": [
      "The reversed input is: 112\n"
     ]
    }
   ],
   "source": [
    "#Reverse a String\n",
    "n = input(\"Enter the input: \")\n",
    "s = n[::-1]\n",
    "print(\"The reversed input is:\", s)"
   ]
  },
  {
   "cell_type": "code",
   "execution_count": 43,
   "id": "9a28a0e4",
   "metadata": {},
   "outputs": [
    {
     "name": "stdout",
     "output_type": "stream",
     "text": [
      "121 is a palindrome number\n"
     ]
    }
   ],
   "source": [
    "# Check Palindrome\n",
    "n = input(\"Enter a input: \")\n",
    "s = n[::-1]\n",
    "if n == s:\n",
    "    print(f'{n} is a palindrome number')\n",
    "else:\n",
    "    print(f'{n} is not a palindrome number')"
   ]
  },
  {
   "cell_type": "code",
   "execution_count": null,
   "id": "04e100fd",
   "metadata": {},
   "outputs": [],
   "source": [
    "#Count Vowels\n",
    "n = input(\"Enter a string: \")\n",
    "count = 0\n",
    "li = []\n",
    "a = 'aeiouAEIOU'\n",
    "for j in n:\n",
    "    if j in a:\n",
    "        count += 1\n",
    "        li.append(j)\n",
    "print(count, li)"
   ]
  },
  {
   "cell_type": "code",
   "execution_count": null,
   "id": "8ef988a6",
   "metadata": {},
   "outputs": [
    {
     "name": "stdout",
     "output_type": "stream",
     "text": [
      "The no of words in the asfgh fghj fgh g gn  is:5\n"
     ]
    }
   ],
   "source": [
    "# Count the no.of words\n",
    "n = input(\"Enter the input: \")\n",
    "words = n.split()\n",
    "print(f'The no of words in the {n} is:{len(words)}')\n"
   ]
  },
  {
   "cell_type": "code",
   "execution_count": 9,
   "id": "ded6e42d",
   "metadata": {},
   "outputs": [
    {
     "name": "stdout",
     "output_type": "stream",
     "text": [
      " 12 X 1 = 12\n",
      " 12 X 2 = 24\n",
      " 12 X 3 = 36\n",
      " 12 X 4 = 48\n",
      " 12 X 5 = 60\n",
      " 12 X 6 = 72\n",
      " 12 X 7 = 84\n",
      " 12 X 8 = 96\n",
      " 12 X 9 = 108\n",
      " 12 X 10 = 120\n",
      " 12 X 11 = 132\n",
      " 12 X 12 = 144\n",
      " 12 X 13 = 156\n",
      " 12 X 14 = 168\n",
      " 12 X 15 = 180\n",
      " 12 X 16 = 192\n",
      " 12 X 17 = 204\n",
      " 12 X 18 = 216\n",
      " 12 X 19 = 228\n",
      " 12 X 20 = 240\n"
     ]
    }
   ],
   "source": [
    "#Generate Multiplication Table\n",
    "\n",
    "n = int(input(\"Enter the number: \"))\n",
    "for i in range(1,21):\n",
    "    print(f' {n} X {i} = {n*i}')"
   ]
  },
  {
   "cell_type": "code",
   "execution_count": 14,
   "id": "599082f1",
   "metadata": {},
   "outputs": [
    {
     "name": "stdout",
     "output_type": "stream",
     "text": [
      "1 \n",
      "1 2 \n",
      "1 2 3 \n",
      "1 2 3 4 \n",
      "1 2 3 4 5 \n"
     ]
    }
   ],
   "source": [
    "n = int(input(\"Enter the number of rows: \"))\n",
    "for rows in range(1,n+1):\n",
    "    for col in range(1,rows + 1):\n",
    "        print(col, end = ' ')\n",
    "    print()"
   ]
  },
  {
   "cell_type": "code",
   "execution_count": 19,
   "id": "cde7d0cc",
   "metadata": {},
   "outputs": [
    {
     "name": "stdout",
     "output_type": "stream",
     "text": [
      "20, 20, 20 are all equal or there is a tie\n"
     ]
    }
   ],
   "source": [
    "#Find Largest Among Three Numbers\n",
    "a, b, c = map(int, input(\"Enter three numbers separated by space: \").split())\n",
    "if a > b and a > c:\n",
    "    print(f'{a} is the largest number among three')\n",
    "elif b > a and b > c:\n",
    "    print(f'{b} is the largest number among three')\n",
    "elif c > a and c > b:\n",
    "    print(f'{c} is the largest number among three')\n",
    "else:\n",
    "    print(f'{a}, {b}, {c} are all equal or there is a tie')"
   ]
  },
  {
   "cell_type": "code",
   "execution_count": null,
   "id": "635f416b",
   "metadata": {},
   "outputs": [
    {
     "name": "stdout",
     "output_type": "stream",
     "text": [
      "The greatest number is: 2\n",
      "The greatest number is: 3\n",
      "The greatest number is: 4\n",
      "The greatest number is: 5\n",
      "The greatest number is: 6\n",
      "The greatest number is: 7\n",
      "The greatest number is: 8\n",
      "The greatest number is: 9\n",
      "The greatest number is: 10\n"
     ]
    }
   ],
   "source": []
  }
 ],
 "metadata": {
  "kernelspec": {
   "display_name": "Python 3",
   "language": "python",
   "name": "python3"
  },
  "language_info": {
   "codemirror_mode": {
    "name": "ipython",
    "version": 3
   },
   "file_extension": ".py",
   "mimetype": "text/x-python",
   "name": "python",
   "nbconvert_exporter": "python",
   "pygments_lexer": "ipython3",
   "version": "3.12.1"
  }
 },
 "nbformat": 4,
 "nbformat_minor": 5
}

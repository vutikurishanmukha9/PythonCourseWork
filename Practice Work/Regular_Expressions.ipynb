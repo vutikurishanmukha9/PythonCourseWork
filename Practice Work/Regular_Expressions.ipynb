{
 "cells": [
  {
   "cell_type": "code",
   "execution_count": 11,
   "id": "bbbfbf9e",
   "metadata": {},
   "outputs": [
    {
     "name": "stdout",
     "output_type": "stream",
     "text": [
      "['1', '2', '3', '4', '5', '6', '7', '8', '9', '0', '1', '2', '3', '4', '5', '6', '7', '8', '9']\n"
     ]
    }
   ],
   "source": [
    "import re\n",
    "\n",
    "ans = re.findall(r'[0-9]','1234567890123456789')\n",
    "print(ans)"
   ]
  },
  {
   "cell_type": "code",
   "execution_count": 18,
   "id": "2862ed87",
   "metadata": {},
   "outputs": [
    {
     "name": "stdout",
     "output_type": "stream",
     "text": [
      "['S', 'H', 'A', 'N', 'M', 'U', 'K', 'H', 'A']\n"
     ]
    }
   ],
   "source": [
    "import re\n",
    "n = input(\"Enter the Input: \")\n",
    "\n",
    "ans = re.findall(r'[a-zA-Z]',n)\n",
    "\n",
    "print(ans)"
   ]
  },
  {
   "cell_type": "code",
   "execution_count": 25,
   "id": "251d73d4",
   "metadata": {},
   "outputs": [
    {
     "name": "stdout",
     "output_type": "stream",
     "text": [
      "sh (0, 2)\n",
      "an (2, 4)\n",
      "mu (4, 6)\n",
      "kh (6, 8)\n",
      "aS (8, 10)\n",
      "HA (10, 12)\n",
      "NM (12, 14)\n",
      "UK (14, 16)\n",
      "HA (16, 18)\n"
     ]
    }
   ],
   "source": [
    "import re\n",
    "\n",
    "text = input(\"Enter the Input: \")\n",
    "\n",
    "result = re.finditer(r'[a-zA-Z]{2}',text)\n",
    "\n",
    "for i in result:\n",
    "    print(i.group(),i.span())"
   ]
  },
  {
   "cell_type": "code",
   "execution_count": 31,
   "id": "3532db72",
   "metadata": {},
   "outputs": [
    {
     "name": "stdout",
     "output_type": "stream",
     "text": [
      "789 0\n",
      "456 3\n",
      "123 6\n",
      "741 9\n",
      "258 12\n",
      "963 15\n"
     ]
    }
   ],
   "source": [
    "import re\n",
    "\n",
    "text = input(\"Enter the Input: \")\n",
    "\n",
    "res = re.finditer(r'[0-9a-zA-Z]{3}',text)\n",
    "for i in res:\n",
    "    print(i.group(),i.start())"
   ]
  },
  {
   "cell_type": "code",
   "execution_count": 32,
   "id": "e2301939",
   "metadata": {},
   "outputs": [
    {
     "name": "stdout",
     "output_type": "stream",
     "text": [
      "7894561237\n"
     ]
    }
   ],
   "source": [
    "import re\n",
    "\n",
    "number = input(\"Enter the Your Phone Number: \")\n",
    "\n",
    "res = re.match(r'[0-9]{10}',number)\n",
    "\n",
    "print(res.group())"
   ]
  },
  {
   "cell_type": "code",
   "execution_count": null,
   "id": "afe4aa57",
   "metadata": {},
   "outputs": [],
   "source": [
    "pattern = r'^[A-Za-z]{2,25}( [A-Za-z]{2,25})+$' #Full Name\n",
    "\n",
    "pattern = r'^[a-zA-Z0-9._]+@[a-zA-Z0-9.-]+\\.[a-zA-Z]{2,}$' #Email\n",
    "\n",
    "pattern = r'^(?:\\+91|0)?[6-9]\\d{9}$' #Phone Number\n",
    "\n",
    "pattern = r'^(?=.*[A-Z])(?=.*[a-z])(?=.*\\d)(?=.*[@$!%*?&])[A-Za-z\\d@$!%*?&]{8,}$' #Password\n",
    "\n"
   ]
  },
  {
   "cell_type": "code",
   "execution_count": 3,
   "id": "2f880bdb",
   "metadata": {},
   "outputs": [
    {
     "name": "stdout",
     "output_type": "stream",
     "text": [
      "{'9', '1', '4', '8', '2', '6', '7', '3', '0', '5'}\n"
     ]
    }
   ],
   "source": [
    "import re\n",
    "\n",
    "res = re.findall(r'[0-9]','Shanmukh1234567890shanmukh1234567890')\n",
    "\n",
    "print(set(res))"
   ]
  },
  {
   "cell_type": "code",
   "execution_count": 12,
   "id": "4e08639c",
   "metadata": {},
   "outputs": [
    {
     "name": "stdout",
     "output_type": "stream",
     "text": [
      "     names  scores grades Satisfy\n",
      "0    starc       1      A    good\n",
      "1    kolhi      10      B    good\n",
      "2    dhoni      12      C     bad\n",
      "3    rohit      25      D    good\n",
      "4    siraj      56      E     bad\n",
      "5  cummins      20      F    good\n"
     ]
    }
   ],
   "source": [
    "import matplotlib.pyplot as plt\n",
    "\n",
    "import pandas as pd\n",
    "\n",
    "stats = {\n",
    "    'names' : ['starc','kolhi','dhoni','rohit','siraj','cummins'],\n",
    "    'scores' : [1,10,12,25,56,20],\n",
    "    'grades' : ['A','B','C','D','E','F'],\n",
    "    'Satisfy' : ['good','good','bad','good','bad','good']\n",
    "\n",
    "}\n",
    "\n",
    "df = pd.DataFrame(stats)\n",
    "\n",
    "print(df)"
   ]
  },
  {
   "cell_type": "code",
   "execution_count": null,
   "id": "650c1edd",
   "metadata": {},
   "outputs": [
    {
     "name": "stdout",
     "output_type": "stream",
     "text": [
      "   names  scores grades Satisfy\n",
      "0  starc       1      A    good\n"
     ]
    }
   ],
   "source": [
    "print(df.head(3))"
   ]
  },
  {
   "cell_type": "code",
   "execution_count": 14,
   "id": "97a19c3f",
   "metadata": {},
   "outputs": [
    {
     "name": "stdout",
     "output_type": "stream",
     "text": [
      "     names  scores grades Satisfy\n",
      "3    rohit      25      D    good\n",
      "4    siraj      56      E     bad\n",
      "5  cummins      20      F    good\n"
     ]
    }
   ],
   "source": [
    "print(df.tail(3))"
   ]
  },
  {
   "cell_type": "code",
   "execution_count": 15,
   "id": "e60f20bb",
   "metadata": {},
   "outputs": [
    {
     "name": "stdout",
     "output_type": "stream",
     "text": [
      "          scores\n",
      "count   6.000000\n",
      "mean   20.666667\n",
      "std    19.200694\n",
      "min     1.000000\n",
      "25%    10.500000\n",
      "50%    16.000000\n",
      "75%    23.750000\n",
      "max    56.000000\n"
     ]
    }
   ],
   "source": [
    "print(df.describe())"
   ]
  },
  {
   "cell_type": "code",
   "execution_count": 16,
   "id": "a52d2f53",
   "metadata": {},
   "outputs": [
    {
     "name": "stdout",
     "output_type": "stream",
     "text": [
      "Wireless Earphones      3000\n",
      "Iphone                148500\n",
      "Smart Watch            20000\n",
      "Mobile Phone           32500\n",
      "Laptop                 45200\n",
      "dtype: int64\n"
     ]
    }
   ],
   "source": [
    "import pandas as pd\n",
    "\n",
    "prices = [3000, 148500, 20000, 32500, 45200]\n",
    "\n",
    "products = [\"Wireless Earphones\",\"Iphone\", \"Smart Watch\", \"Mobile Phone\", \"Laptop\"]\n",
    "\n",
    "res = pd.Series(prices, index = products)\n",
    "print(res)"
   ]
  },
  {
   "cell_type": "code",
   "execution_count": null,
   "id": "37299f36",
   "metadata": {},
   "outputs": [
    {
     "name": "stdout",
     "output_type": "stream",
     "text": [
      "49840.0\n",
      "32500.0\n",
      "148500\n"
     ]
    }
   ],
   "source": [
    "print(res.mean())\n",
    "\n",
    "print(res.median())\n",
    "\n",
    "print(res.max())"
   ]
  },
  {
   "cell_type": "code",
   "execution_count": 21,
   "id": "a6226241",
   "metadata": {},
   "outputs": [
    {
     "name": "stdout",
     "output_type": "stream",
     "text": [
      "Wireless Earphones      5700.0\n",
      "Iphone                282150.0\n",
      "Smart Watch            38000.0\n",
      "Mobile Phone           61750.0\n",
      "Laptop                 85880.0\n",
      "dtype: float64\n"
     ]
    }
   ],
   "source": [
    "print(res.apply(lambda x: x*0.90 + x))"
   ]
  },
  {
   "cell_type": "code",
   "execution_count": 22,
   "id": "fff676e2",
   "metadata": {},
   "outputs": [
    {
     "name": "stdout",
     "output_type": "stream",
     "text": [
      "Wireless Earphones      3000\n",
      "Smart Watch            20000\n",
      "Mobile Phone           32500\n",
      "Laptop                 45200\n",
      "Iphone                148500\n",
      "dtype: int64\n"
     ]
    }
   ],
   "source": [
    "print(res.sort_values())"
   ]
  },
  {
   "cell_type": "code",
   "execution_count": 23,
   "id": "23be07cc",
   "metadata": {},
   "outputs": [
    {
     "name": "stdout",
     "output_type": "stream",
     "text": [
      "Iphone                148500\n",
      "Laptop                 45200\n",
      "Mobile Phone           32500\n",
      "Smart Watch            20000\n",
      "Wireless Earphones      3000\n",
      "dtype: int64\n"
     ]
    }
   ],
   "source": [
    "print(res.sort_index())"
   ]
  },
  {
   "cell_type": "code",
   "execution_count": null,
   "id": "169e4e60",
   "metadata": {},
   "outputs": [],
   "source": [
    "print(res.apply)"
   ]
  }
 ],
 "metadata": {
  "kernelspec": {
   "display_name": "Python 3",
   "language": "python",
   "name": "python3"
  },
  "language_info": {
   "codemirror_mode": {
    "name": "ipython",
    "version": 3
   },
   "file_extension": ".py",
   "mimetype": "text/x-python",
   "name": "python",
   "nbconvert_exporter": "python",
   "pygments_lexer": "ipython3",
   "version": "3.12.1"
  }
 },
 "nbformat": 4,
 "nbformat_minor": 5
}

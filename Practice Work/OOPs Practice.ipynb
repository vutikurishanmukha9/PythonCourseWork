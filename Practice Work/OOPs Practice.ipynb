{
 "cells": [
  {
   "cell_type": "markdown",
   "id": "0592a266",
   "metadata": {},
   "source": [
    "**Problem:** Create a Book class with title, author, and price. Add a method to display\n",
    "all book details."
   ]
  },
  {
   "cell_type": "code",
   "execution_count": null,
   "id": "20a056fd",
   "metadata": {},
   "outputs": [
    {
     "name": "stdout",
     "output_type": "stream",
     "text": [
      "Title:Shanmukha Diaries, Author:Shanmukha, Price:158260\n"
     ]
    }
   ],
   "source": [
    "class book:\n",
    "    def __init__(self,title,author,price):\n",
    "         self.title = title\n",
    "         self.author = author\n",
    "         self.price = price\n",
    "\n",
    "    def display(self):\n",
    "        print(f'Title:{self.title}, Author:{self.author}, Price:{self.price}')\n",
    "\n",
    "        \n",
    "book1 = book(\"Shanmukha Diaries\" , \"Shanmukha\" , \"158260\")\n",
    "book1.display()"
   ]
  },
  {
   "cell_type": "markdown",
   "id": "5fb4c776",
   "metadata": {},
   "source": [
    "**Problem**: Create an Employee class with name, base_salary. Add a method calculate_annual_salary."
   ]
  },
  {
   "cell_type": "code",
   "execution_count": 9,
   "id": "f9bf3fa9",
   "metadata": {},
   "outputs": [
    {
     "name": "stdout",
     "output_type": "stream",
     "text": [
      "Employee Name: Shanmukha , Annual Salary: 5400000\n"
     ]
    }
   ],
   "source": [
    "class Employee:\n",
    "    def __init__(self,name,base_salary):\n",
    "        self.name = name\n",
    "        self.base_salary = base_salary\n",
    "    \n",
    "    def calculate_salary(self):\n",
    "        return self.base_salary*12\n",
    "\n",
    "Shanmukh1 = Employee(\"Shanmukha\",450000)\n",
    "print(f'Employee Name: {Shanmukh1.name} , Annual Salary: {Shanmukh1.calculate_salary()}')\n"
   ]
  },
  {
   "cell_type": "markdown",
   "id": "aa41eef6",
   "metadata": {},
   "source": [
    "**Problem:** Create a Student class with a list of marks. Add a method to return average and pass/fail."
   ]
  },
  {
   "cell_type": "code",
   "execution_count": 11,
   "id": "301ccbc3",
   "metadata": {},
   "outputs": [
    {
     "name": "stdout",
     "output_type": "stream",
     "text": [
      "Passed True\n"
     ]
    }
   ],
   "source": [
    "class student:\n",
    "    def __init__(self,name,marks):\n",
    "        self.name = name\n",
    "        self.marks = marks\n",
    "    \n",
    "    def Grade(self):\n",
    "        avg = sum(self.marks) // len(self.marks)\n",
    "        return avg >= 40\n",
    "    \n",
    "s1 = student(\"Shanmukh\",[52,45,36,100])\n",
    "print(\"Passed\" , s1.Grade())"
   ]
  }
 ],
 "metadata": {
  "kernelspec": {
   "display_name": "Python 3",
   "language": "python",
   "name": "python3"
  },
  "language_info": {
   "codemirror_mode": {
    "name": "ipython",
    "version": 3
   },
   "file_extension": ".py",
   "mimetype": "text/x-python",
   "name": "python",
   "nbconvert_exporter": "python",
   "pygments_lexer": "ipython3",
   "version": "3.12.1"
  }
 },
 "nbformat": 4,
 "nbformat_minor": 5
}

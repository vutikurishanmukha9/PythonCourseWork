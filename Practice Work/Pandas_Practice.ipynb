{
 "cells": [
  {
   "cell_type": "code",
   "execution_count": 2,
   "id": "0aeb7789",
   "metadata": {},
   "outputs": [
    {
     "name": "stdout",
     "output_type": "stream",
     "text": [
      "    EmpID     Name Department  Salary JoiningDate       City  Experience\n",
      "0       1    Anita         HR   45000  2020-03-01  Bangalore           4\n",
      "1       2     Ravi         IT   60000  2019-07-15  Hyderabad           5\n",
      "2       3    Meera    Finance   52000  2021-01-10    Chennai           3\n",
      "3       4    Arjun         IT   75000  2018-11-20  Bangalore           6\n",
      "4       5  Lakshmi  Marketing   48000  2022-06-12       Pune           2\n",
      "5       6    Kiran    Finance   50000  2020-09-05      Delhi           4\n",
      "6       7    Sneha         HR   47000  2021-04-17     Mumbai           3\n",
      "7       8    Manoj         IT   82000  2017-05-14  Hyderabad           8\n",
      "8       9    Divya    Finance   54000  2021-09-22    Chennai           3\n",
      "9      10    Rahul  Marketing   51000  2019-04-19      Delhi           5\n",
      "10     11    Nisha         HR   46000  2020-08-11       Pune           4\n",
      "11     12    Varun         IT   70000  2016-12-01  Bangalore           9\n",
      "12     13    Pooja    Finance   58000  2019-03-23  Hyderabad           5\n",
      "13     14   Aakash         IT   64000  2022-01-17    Chennai           2\n",
      "14     15    Rohit  Marketing   49000  2020-07-09      Delhi           3\n",
      "15     16    Kavya    Finance   61000  2018-05-28     Mumbai           6\n",
      "16     17     Ajay         IT   85000  2015-10-15  Hyderabad          10\n",
      "17     18     Neha         HR   48000  2021-06-30    Chennai           2\n",
      "18     19   Suresh  Marketing   53000  2019-11-05  Bangalore           4\n",
      "19     20   Anjali    Finance   56000  2020-02-14       Pune           3\n"
     ]
    }
   ],
   "source": [
    "import pandas as pd\n",
    "\n",
    "Employees = [\n",
    "    {\"EmpID\": 1, \"Name\": \"Anita\", \"Department\": \"HR\", \"Salary\": 45000, \"JoiningDate\": \"2020-03-01\", \"City\": \"Bangalore\", \"Experience\": 4},\n",
    "    {\"EmpID\": 2, \"Name\": \"Ravi\", \"Department\": \"IT\", \"Salary\": 60000, \"JoiningDate\": \"2019-07-15\", \"City\": \"Hyderabad\", \"Experience\": 5},\n",
    "    {\"EmpID\": 3, \"Name\": \"Meera\", \"Department\": \"Finance\", \"Salary\": 52000, \"JoiningDate\": \"2021-01-10\", \"City\": \"Chennai\", \"Experience\": 3},\n",
    "    {\"EmpID\": 4, \"Name\": \"Arjun\", \"Department\": \"IT\", \"Salary\": 75000, \"JoiningDate\": \"2018-11-20\", \"City\": \"Bangalore\", \"Experience\": 6},\n",
    "    {\"EmpID\": 5, \"Name\": \"Lakshmi\", \"Department\": \"Marketing\", \"Salary\": 48000, \"JoiningDate\": \"2022-06-12\", \"City\": \"Pune\", \"Experience\": 2},\n",
    "    {\"EmpID\": 6, \"Name\": \"Kiran\", \"Department\": \"Finance\", \"Salary\": 50000, \"JoiningDate\": \"2020-09-05\", \"City\": \"Delhi\", \"Experience\": 4},\n",
    "    {\"EmpID\": 7, \"Name\": \"Sneha\", \"Department\": \"HR\", \"Salary\": 47000, \"JoiningDate\": \"2021-04-17\", \"City\": \"Mumbai\", \"Experience\": 3},\n",
    "    {\"EmpID\": 8, \"Name\": \"Manoj\", \"Department\": \"IT\", \"Salary\": 82000, \"JoiningDate\": \"2017-05-14\", \"City\": \"Hyderabad\", \"Experience\": 8},\n",
    "    {\"EmpID\": 9, \"Name\": \"Divya\", \"Department\": \"Finance\", \"Salary\": 54000, \"JoiningDate\": \"2021-09-22\", \"City\": \"Chennai\", \"Experience\": 3},\n",
    "    {\"EmpID\": 10, \"Name\": \"Rahul\", \"Department\": \"Marketing\", \"Salary\": 51000, \"JoiningDate\": \"2019-04-19\", \"City\": \"Delhi\", \"Experience\": 5},\n",
    "    {\"EmpID\": 11, \"Name\": \"Nisha\", \"Department\": \"HR\", \"Salary\": 46000, \"JoiningDate\": \"2020-08-11\", \"City\": \"Pune\", \"Experience\": 4},\n",
    "    {\"EmpID\": 12, \"Name\": \"Varun\", \"Department\": \"IT\", \"Salary\": 70000, \"JoiningDate\": \"2016-12-01\", \"City\": \"Bangalore\", \"Experience\": 9},\n",
    "    {\"EmpID\": 13, \"Name\": \"Pooja\", \"Department\": \"Finance\", \"Salary\": 58000, \"JoiningDate\": \"2019-03-23\", \"City\": \"Hyderabad\", \"Experience\": 5},\n",
    "    {\"EmpID\": 14, \"Name\": \"Aakash\", \"Department\": \"IT\", \"Salary\": 64000, \"JoiningDate\": \"2022-01-17\", \"City\": \"Chennai\", \"Experience\": 2},\n",
    "    {\"EmpID\": 15, \"Name\": \"Rohit\", \"Department\": \"Marketing\", \"Salary\": 49000, \"JoiningDate\": \"2020-07-09\", \"City\": \"Delhi\", \"Experience\": 3},\n",
    "    {\"EmpID\": 16, \"Name\": \"Kavya\", \"Department\": \"Finance\", \"Salary\": 61000, \"JoiningDate\": \"2018-05-28\", \"City\": \"Mumbai\", \"Experience\": 6},\n",
    "    {\"EmpID\": 17, \"Name\": \"Ajay\", \"Department\": \"IT\", \"Salary\": 85000, \"JoiningDate\": \"2015-10-15\", \"City\": \"Hyderabad\", \"Experience\": 10},\n",
    "    {\"EmpID\": 18, \"Name\": \"Neha\", \"Department\": \"HR\", \"Salary\": 48000, \"JoiningDate\": \"2021-06-30\", \"City\": \"Chennai\", \"Experience\": 2},\n",
    "    {\"EmpID\": 19, \"Name\": \"Suresh\", \"Department\": \"Marketing\", \"Salary\": 53000, \"JoiningDate\": \"2019-11-05\", \"City\": \"Bangalore\", \"Experience\": 4},\n",
    "    {\"EmpID\": 20, \"Name\": \"Anjali\", \"Department\": \"Finance\", \"Salary\": 56000, \"JoiningDate\": \"2020-02-14\", \"City\": \"Pune\", \"Experience\": 3}\n",
    "]\n",
    "\n",
    "\n",
    "df = pd.DataFrame(Employees)   \n",
    "print(df)"
   ]
  },
  {
   "cell_type": "code",
   "execution_count": 4,
   "id": "115e2949",
   "metadata": {},
   "outputs": [
    {
     "name": "stdout",
     "output_type": "stream",
     "text": [
      "The Head of the Employees \n",
      "    EmpID     Name Department  Salary JoiningDate       City  Experience\n",
      "0      1    Anita         HR   45000  2020-03-01  Bangalore           4\n",
      "1      2     Ravi         IT   60000  2019-07-15  Hyderabad           5\n",
      "2      3    Meera    Finance   52000  2021-01-10    Chennai           3\n",
      "3      4    Arjun         IT   75000  2018-11-20  Bangalore           6\n",
      "4      5  Lakshmi  Marketing   48000  2022-06-12       Pune           2\n",
      "5      6    Kiran    Finance   50000  2020-09-05      Delhi           4\n",
      "6      7    Sneha         HR   47000  2021-04-17     Mumbai           3\n",
      "7      8    Manoj         IT   82000  2017-05-14  Hyderabad           8\n",
      "8      9    Divya    Finance   54000  2021-09-22    Chennai           3\n",
      "9     10    Rahul  Marketing   51000  2019-04-19      Delhi           5\n"
     ]
    }
   ],
   "source": [
    "print(\"The Head of the Employees \\n\", df.head(10))"
   ]
  },
  {
   "cell_type": "code",
   "execution_count": 5,
   "id": "dead2e68",
   "metadata": {},
   "outputs": [
    {
     "name": "stdout",
     "output_type": "stream",
     "text": [
      "The Tail of the Employees \n",
      "     EmpID    Name Department  Salary JoiningDate       City  Experience\n",
      "10     11   Nisha         HR   46000  2020-08-11       Pune           4\n",
      "11     12   Varun         IT   70000  2016-12-01  Bangalore           9\n",
      "12     13   Pooja    Finance   58000  2019-03-23  Hyderabad           5\n",
      "13     14  Aakash         IT   64000  2022-01-17    Chennai           2\n",
      "14     15   Rohit  Marketing   49000  2020-07-09      Delhi           3\n",
      "15     16   Kavya    Finance   61000  2018-05-28     Mumbai           6\n",
      "16     17    Ajay         IT   85000  2015-10-15  Hyderabad          10\n",
      "17     18    Neha         HR   48000  2021-06-30    Chennai           2\n",
      "18     19  Suresh  Marketing   53000  2019-11-05  Bangalore           4\n",
      "19     20  Anjali    Finance   56000  2020-02-14       Pune           3\n"
     ]
    }
   ],
   "source": [
    "print(\"The Tail of the Employees \\n\", df.tail(10))"
   ]
  },
  {
   "cell_type": "code",
   "execution_count": 7,
   "id": "c3df30a3",
   "metadata": {},
   "outputs": [
    {
     "name": "stdout",
     "output_type": "stream",
     "text": [
      "The shape of the DataSet is \n",
      " (20, 7)\n"
     ]
    }
   ],
   "source": [
    "print(\"The shape of the DataSet is \\n\", df.shape)"
   ]
  },
  {
   "cell_type": "code",
   "execution_count": 9,
   "id": "9875a05e",
   "metadata": {},
   "outputs": [
    {
     "name": "stdout",
     "output_type": "stream",
     "text": [
      "<class 'pandas.core.frame.DataFrame'>\n",
      "RangeIndex: 20 entries, 0 to 19\n",
      "Data columns (total 7 columns):\n",
      " #   Column       Non-Null Count  Dtype \n",
      "---  ------       --------------  ----- \n",
      " 0   EmpID        20 non-null     int64 \n",
      " 1   Name         20 non-null     object\n",
      " 2   Department   20 non-null     object\n",
      " 3   Salary       20 non-null     int64 \n",
      " 4   JoiningDate  20 non-null     object\n",
      " 5   City         20 non-null     object\n",
      " 6   Experience   20 non-null     int64 \n",
      "dtypes: int64(3), object(4)\n",
      "memory usage: 1.2+ KB\n",
      "The Summary statastics of the Data set is \n",
      " None\n"
     ]
    }
   ],
   "source": [
    "print(\"The Summary statastics of the Data set is \\n\", df.info())"
   ]
  },
  {
   "cell_type": "code",
   "execution_count": 11,
   "id": "494540b0",
   "metadata": {},
   "outputs": [
    {
     "name": "stdout",
     "output_type": "stream",
     "text": [
      "The Columns of the Data set is the \n",
      " Index(['EmpID', 'Name', 'Department', 'Salary', 'JoiningDate', 'City',\n",
      "       'Experience'],\n",
      "      dtype='object')\n"
     ]
    }
   ],
   "source": [
    "print(\"The Columns of the Data set is the \\n\", df.columns)"
   ]
  },
  {
   "cell_type": "code",
   "execution_count": 14,
   "id": "34725b29",
   "metadata": {},
   "outputs": [
    {
     "name": "stdout",
     "output_type": "stream",
     "text": [
      "The Index of the Data set is the \n",
      " RangeIndex(start=0, stop=20, step=1)\n"
     ]
    }
   ],
   "source": [
    "print(\"The Index of the Data set is the \\n\", df.index)"
   ]
  },
  {
   "cell_type": "code",
   "execution_count": 15,
   "id": "5f579aa7",
   "metadata": {},
   "outputs": [
    {
     "name": "stdout",
     "output_type": "stream",
     "text": [
      "The Stastics of the Data set is \n",
      "           EmpID        Salary  Experience\n",
      "count  20.00000     20.000000   20.000000\n",
      "mean   10.50000  57700.000000    4.550000\n",
      "std     5.91608  11907.980517    2.282081\n",
      "min     1.00000  45000.000000    2.000000\n",
      "25%     5.75000  48750.000000    3.000000\n",
      "50%    10.50000  53500.000000    4.000000\n",
      "75%    15.25000  61750.000000    5.250000\n",
      "max    20.00000  85000.000000   10.000000\n"
     ]
    }
   ],
   "source": [
    "print(\"The Stastics of the Data set is \\n\", df.describe())"
   ]
  },
  {
   "cell_type": "code",
   "execution_count": 24,
   "id": "4d8c2d60",
   "metadata": {},
   "outputs": [
    {
     "name": "stdout",
     "output_type": "stream",
     "text": [
      "2017-05-14\n",
      "2017-05-14\n"
     ]
    }
   ],
   "source": [
    "print(df.loc[7, \"JoiningDate\"])\n",
    "\n",
    "print(df.iloc[7, 4])"
   ]
  },
  {
   "cell_type": "code",
   "execution_count": 33,
   "id": "fade9398",
   "metadata": {},
   "outputs": [
    {
     "name": "stdout",
     "output_type": "stream",
     "text": [
      "    EmpID   Name Department  Salary JoiningDate       City  Experience\n",
      "3       4  Arjun         IT   75000  2018-11-20  Bangalore           6\n",
      "7       8  Manoj         IT   82000  2017-05-14  Hyderabad           8\n",
      "11     12  Varun         IT   70000  2016-12-01  Bangalore           9\n",
      "15     16  Kavya    Finance   61000  2018-05-28     Mumbai           6\n",
      "16     17   Ajay         IT   85000  2015-10-15  Hyderabad          10\n"
     ]
    }
   ],
   "source": [
    "print(df.loc[df[\"Experience\"] > 5])\n"
   ]
  },
  {
   "cell_type": "code",
   "execution_count": 34,
   "id": "baf43b27",
   "metadata": {},
   "outputs": [
    {
     "name": "stdout",
     "output_type": "stream",
     "text": [
      "    EmpID    Name Department  Salary JoiningDate       City  Experience\n",
      "1       2    Ravi         IT   60000  2019-07-15  Hyderabad           5\n",
      "3       4   Arjun         IT   75000  2018-11-20  Bangalore           6\n",
      "7       8   Manoj         IT   82000  2017-05-14  Hyderabad           8\n",
      "11     12   Varun         IT   70000  2016-12-01  Bangalore           9\n",
      "12     13   Pooja    Finance   58000  2019-03-23  Hyderabad           5\n",
      "13     14  Aakash         IT   64000  2022-01-17    Chennai           2\n",
      "15     16   Kavya    Finance   61000  2018-05-28     Mumbai           6\n",
      "16     17    Ajay         IT   85000  2015-10-15  Hyderabad          10\n",
      "19     20  Anjali    Finance   56000  2020-02-14       Pune           3\n"
     ]
    }
   ],
   "source": [
    "print(df.loc[df[\"Salary\"] > 55000])"
   ]
  },
  {
   "cell_type": "code",
   "execution_count": 35,
   "id": "32b47c2c",
   "metadata": {},
   "outputs": [
    {
     "name": "stdout",
     "output_type": "stream",
     "text": [
      "    EmpID    Name Department  Salary JoiningDate       City  Experience\n",
      "1       2    Ravi         IT   60000  2019-07-15  Hyderabad           5\n",
      "3       4   Arjun         IT   75000  2018-11-20  Bangalore           6\n",
      "7       8   Manoj         IT   82000  2017-05-14  Hyderabad           8\n",
      "11     12   Varun         IT   70000  2016-12-01  Bangalore           9\n",
      "13     14  Aakash         IT   64000  2022-01-17    Chennai           2\n",
      "16     17    Ajay         IT   85000  2015-10-15  Hyderabad          10\n"
     ]
    }
   ],
   "source": [
    "print(df.loc[df[\"Department\"] == \"IT\"])"
   ]
  },
  {
   "cell_type": "code",
   "execution_count": 36,
   "id": "7d080c04",
   "metadata": {},
   "outputs": [
    {
     "name": "stdout",
     "output_type": "stream",
     "text": [
      "    EmpID   Name Department  Salary JoiningDate       City  Experience\n",
      "0       1  Anita         HR   45000  2020-03-01  Bangalore           4\n",
      "6       7  Sneha         HR   47000  2021-04-17     Mumbai           3\n",
      "10     11  Nisha         HR   46000  2020-08-11       Pune           4\n",
      "17     18   Neha         HR   48000  2021-06-30    Chennai           2\n"
     ]
    }
   ],
   "source": [
    "print(df.loc[df[\"Department\"] == \"HR\" ])"
   ]
  },
  {
   "cell_type": "code",
   "execution_count": 38,
   "id": "81eac9a9",
   "metadata": {},
   "outputs": [
    {
     "name": "stdout",
     "output_type": "stream",
     "text": [
      "    EmpID    Name Department  Salary JoiningDate       City  Experience\n",
      "2       3   Meera    Finance   52000  2021-01-10    Chennai           3\n",
      "5       6   Kiran    Finance   50000  2020-09-05      Delhi           4\n",
      "8       9   Divya    Finance   54000  2021-09-22    Chennai           3\n",
      "12     13   Pooja    Finance   58000  2019-03-23  Hyderabad           5\n",
      "15     16   Kavya    Finance   61000  2018-05-28     Mumbai           6\n",
      "19     20  Anjali    Finance   56000  2020-02-14       Pune           3\n"
     ]
    }
   ],
   "source": [
    "print(df.loc[df[\"Department\"] == \"Finance\"])"
   ]
  },
  {
   "cell_type": "code",
   "execution_count": 39,
   "id": "0e3d3983",
   "metadata": {},
   "outputs": [
    {
     "name": "stdout",
     "output_type": "stream",
     "text": [
      "    EmpID     Name Department  Salary JoiningDate       City  Experience\n",
      "4       5  Lakshmi  Marketing   48000  2022-06-12       Pune           2\n",
      "9      10    Rahul  Marketing   51000  2019-04-19      Delhi           5\n",
      "14     15    Rohit  Marketing   49000  2020-07-09      Delhi           3\n",
      "18     19   Suresh  Marketing   53000  2019-11-05  Bangalore           4\n"
     ]
    }
   ],
   "source": [
    "print(df.loc[df[\"Department\"] == \"Marketing\"])"
   ]
  },
  {
   "cell_type": "code",
   "execution_count": 40,
   "id": "47d051af",
   "metadata": {},
   "outputs": [
    {
     "name": "stdout",
     "output_type": "stream",
     "text": [
      "    EmpID   Name Department  Salary JoiningDate       City  Experience\n",
      "1       2   Ravi         IT   60000  2019-07-15  Hyderabad           5\n",
      "7       8  Manoj         IT   82000  2017-05-14  Hyderabad           8\n",
      "12     13  Pooja    Finance   58000  2019-03-23  Hyderabad           5\n",
      "16     17   Ajay         IT   85000  2015-10-15  Hyderabad          10\n"
     ]
    }
   ],
   "source": [
    "print(df.loc[df[\"City\"] == \"Hyderabad\"])"
   ]
  },
  {
   "cell_type": "code",
   "execution_count": null,
   "id": "bf2d123c",
   "metadata": {},
   "outputs": [
    {
     "name": "stdout",
     "output_type": "stream",
     "text": [
      "        EmpID         Name   Department           JoiningDate         City  \\\n",
      "Salary                                                                       \n",
      "45000       1        Anita           HR            2020-03-01    Bangalore   \n",
      "46000      11        Nisha           HR            2020-08-11         Pune   \n",
      "47000       7        Sneha           HR            2021-04-17       Mumbai   \n",
      "48000      23  LakshmiNeha  MarketingHR  2022-06-122021-06-30  PuneChennai   \n",
      "49000      15        Rohit    Marketing            2020-07-09        Delhi   \n",
      "50000       6        Kiran      Finance            2020-09-05        Delhi   \n",
      "51000      10        Rahul    Marketing            2019-04-19        Delhi   \n",
      "52000       3        Meera      Finance            2021-01-10      Chennai   \n",
      "53000      19       Suresh    Marketing            2019-11-05    Bangalore   \n",
      "54000       9        Divya      Finance            2021-09-22      Chennai   \n",
      "56000      20       Anjali      Finance            2020-02-14         Pune   \n",
      "58000      13        Pooja      Finance            2019-03-23    Hyderabad   \n",
      "60000       2         Ravi           IT            2019-07-15    Hyderabad   \n",
      "61000      16        Kavya      Finance            2018-05-28       Mumbai   \n",
      "64000      14       Aakash           IT            2022-01-17      Chennai   \n",
      "70000      12        Varun           IT            2016-12-01    Bangalore   \n",
      "75000       4        Arjun           IT            2018-11-20    Bangalore   \n",
      "82000       8        Manoj           IT            2017-05-14    Hyderabad   \n",
      "85000      17         Ajay           IT            2015-10-15    Hyderabad   \n",
      "\n",
      "        Experience  \n",
      "Salary              \n",
      "45000            4  \n",
      "46000            4  \n",
      "47000            3  \n",
      "48000            4  \n",
      "49000            3  \n",
      "50000            4  \n",
      "51000            5  \n",
      "52000            3  \n",
      "53000            4  \n",
      "54000            3  \n",
      "56000            3  \n",
      "58000            5  \n",
      "60000            5  \n",
      "61000            6  \n",
      "64000            2  \n",
      "70000            9  \n",
      "75000            6  \n",
      "82000            8  \n",
      "85000           10  \n"
     ]
    }
   ],
   "source": [
    "print(df.groupby(\"Salary\").suma())"
   ]
  },
  {
   "cell_type": "code",
   "execution_count": 43,
   "id": "efdbb83e",
   "metadata": {},
   "outputs": [
    {
     "name": "stdout",
     "output_type": "stream",
     "text": [
      "        EmpID    Name Department JoiningDate       City  Experience\n",
      "Salary                                                             \n",
      "45000       1   Anita         HR  2020-03-01  Bangalore           4\n",
      "46000      11   Nisha         HR  2020-08-11       Pune           4\n",
      "47000       7   Sneha         HR  2021-04-17     Mumbai           3\n",
      "48000      18    Neha  Marketing  2022-06-12       Pune           2\n",
      "49000      15   Rohit  Marketing  2020-07-09      Delhi           3\n",
      "50000       6   Kiran    Finance  2020-09-05      Delhi           4\n",
      "51000      10   Rahul  Marketing  2019-04-19      Delhi           5\n",
      "52000       3   Meera    Finance  2021-01-10    Chennai           3\n",
      "53000      19  Suresh  Marketing  2019-11-05  Bangalore           4\n",
      "54000       9   Divya    Finance  2021-09-22    Chennai           3\n",
      "56000      20  Anjali    Finance  2020-02-14       Pune           3\n",
      "58000      13   Pooja    Finance  2019-03-23  Hyderabad           5\n",
      "60000       2    Ravi         IT  2019-07-15  Hyderabad           5\n",
      "61000      16   Kavya    Finance  2018-05-28     Mumbai           6\n",
      "64000      14  Aakash         IT  2022-01-17    Chennai           2\n",
      "70000      12   Varun         IT  2016-12-01  Bangalore           9\n",
      "75000       4   Arjun         IT  2018-11-20  Bangalore           6\n",
      "82000       8   Manoj         IT  2017-05-14  Hyderabad           8\n",
      "85000      17    Ajay         IT  2015-10-15  Hyderabad          10\n"
     ]
    }
   ],
   "source": [
    "print(df.groupby(\"Salary\").max())"
   ]
  },
  {
   "cell_type": "code",
   "execution_count": 2,
   "id": "5053d16f",
   "metadata": {},
   "outputs": [
    {
     "name": "stdout",
     "output_type": "stream",
     "text": [
      "    EmpID     Name Department  Salary JoiningDate       City  Experience\n",
      "0       1    Anita         HR   45000  2020-03-01  Bangalore           4\n",
      "1       2     Ravi         IT   60000  2019-07-15  Hyderabad           5\n",
      "2       3    Meera    Finance   52000  2021-01-10    Chennai           3\n",
      "3       4    Arjun         IT   75000  2018-11-20  Bangalore           6\n",
      "4       5  Lakshmi  Marketing   48000  2022-06-12       Pune           2\n",
      "5       6    Kiran    Finance   50000  2020-09-05      Delhi           4\n",
      "6       7    Sneha         HR   47000  2021-04-17     Mumbai           3\n",
      "7       8    Manoj         IT   82000  2017-05-14  Hyderabad           8\n",
      "8       9    Divya    Finance   54000  2021-09-22    Chennai           3\n",
      "9      10    Rahul  Marketing   51000  2019-04-19      Delhi           5\n",
      "10     11    Nisha         HR   46000  2020-08-11       Pune           4\n",
      "11     12    Varun         IT   70000  2016-12-01  Bangalore           9\n",
      "12     13    Pooja    Finance   58000  2019-03-23  Hyderabad           5\n",
      "13     14   Aakash         IT   64000  2022-01-17    Chennai           2\n",
      "14     15    Rohit  Marketing   49000  2020-07-09      Delhi           3\n",
      "15     16    Kavya    Finance   61000  2018-05-28     Mumbai           6\n",
      "16     17     Ajay         IT   85000  2015-10-15  Hyderabad          10\n",
      "17     18     Neha         HR   48000  2021-06-30    Chennai           2\n",
      "18     19   Suresh  Marketing   53000  2019-11-05  Bangalore           4\n",
      "19     20   Anjali    Finance   56000  2020-02-14       Pune           3\n"
     ]
    }
   ],
   "source": [
    "import pandas as pd\n",
    "\n",
    "Employees = [\n",
    "    {\"EmpID\": 1, \"Name\": \"Anita\", \"Department\": \"HR\", \"Salary\": 45000, \"JoiningDate\": \"2020-03-01\", \"City\": \"Bangalore\", \"Experience\": 4},\n",
    "    {\"EmpID\": 2, \"Name\": \"Ravi\", \"Department\": \"IT\", \"Salary\": 60000, \"JoiningDate\": \"2019-07-15\", \"City\": \"Hyderabad\", \"Experience\": 5},\n",
    "    {\"EmpID\": 3, \"Name\": \"Meera\", \"Department\": \"Finance\", \"Salary\": 52000, \"JoiningDate\": \"2021-01-10\", \"City\": \"Chennai\", \"Experience\": 3},\n",
    "    {\"EmpID\": 4, \"Name\": \"Arjun\", \"Department\": \"IT\", \"Salary\": 75000, \"JoiningDate\": \"2018-11-20\", \"City\": \"Bangalore\", \"Experience\": 6},\n",
    "    {\"EmpID\": 5, \"Name\": \"Lakshmi\", \"Department\": \"Marketing\", \"Salary\": 48000, \"JoiningDate\": \"2022-06-12\", \"City\": \"Pune\", \"Experience\": 2},\n",
    "    {\"EmpID\": 6, \"Name\": \"Kiran\", \"Department\": \"Finance\", \"Salary\": 50000, \"JoiningDate\": \"2020-09-05\", \"City\": \"Delhi\", \"Experience\": 4},\n",
    "    {\"EmpID\": 7, \"Name\": \"Sneha\", \"Department\": \"HR\", \"Salary\": 47000, \"JoiningDate\": \"2021-04-17\", \"City\": \"Mumbai\", \"Experience\": 3},\n",
    "    {\"EmpID\": 8, \"Name\": \"Manoj\", \"Department\": \"IT\", \"Salary\": 82000, \"JoiningDate\": \"2017-05-14\", \"City\": \"Hyderabad\", \"Experience\": 8},\n",
    "    {\"EmpID\": 9, \"Name\": \"Divya\", \"Department\": \"Finance\", \"Salary\": 54000, \"JoiningDate\": \"2021-09-22\", \"City\": \"Chennai\", \"Experience\": 3},\n",
    "    {\"EmpID\": 10, \"Name\": \"Rahul\", \"Department\": \"Marketing\", \"Salary\": 51000, \"JoiningDate\": \"2019-04-19\", \"City\": \"Delhi\", \"Experience\": 5},\n",
    "    {\"EmpID\": 11, \"Name\": \"Nisha\", \"Department\": \"HR\", \"Salary\": 46000, \"JoiningDate\": \"2020-08-11\", \"City\": \"Pune\", \"Experience\": 4},\n",
    "    {\"EmpID\": 12, \"Name\": \"Varun\", \"Department\": \"IT\", \"Salary\": 70000, \"JoiningDate\": \"2016-12-01\", \"City\": \"Bangalore\", \"Experience\": 9},\n",
    "    {\"EmpID\": 13, \"Name\": \"Pooja\", \"Department\": \"Finance\", \"Salary\": 58000, \"JoiningDate\": \"2019-03-23\", \"City\": \"Hyderabad\", \"Experience\": 5},\n",
    "    {\"EmpID\": 14, \"Name\": \"Aakash\", \"Department\": \"IT\", \"Salary\": 64000, \"JoiningDate\": \"2022-01-17\", \"City\": \"Chennai\", \"Experience\": 2},\n",
    "    {\"EmpID\": 15, \"Name\": \"Rohit\", \"Department\": \"Marketing\", \"Salary\": 49000, \"JoiningDate\": \"2020-07-09\", \"City\": \"Delhi\", \"Experience\": 3},\n",
    "    {\"EmpID\": 16, \"Name\": \"Kavya\", \"Department\": \"Finance\", \"Salary\": 61000, \"JoiningDate\": \"2018-05-28\", \"City\": \"Mumbai\", \"Experience\": 6},\n",
    "    {\"EmpID\": 17, \"Name\": \"Ajay\", \"Department\": \"IT\", \"Salary\": 85000, \"JoiningDate\": \"2015-10-15\", \"City\": \"Hyderabad\", \"Experience\": 10},\n",
    "    {\"EmpID\": 18, \"Name\": \"Neha\", \"Department\": \"HR\", \"Salary\": 48000, \"JoiningDate\": \"2021-06-30\", \"City\": \"Chennai\", \"Experience\": 2},\n",
    "    {\"EmpID\": 19, \"Name\": \"Suresh\", \"Department\": \"Marketing\", \"Salary\": 53000, \"JoiningDate\": \"2019-11-05\", \"City\": \"Bangalore\", \"Experience\": 4},\n",
    "    {\"EmpID\": 20, \"Name\": \"Anjali\", \"Department\": \"Finance\", \"Salary\": 56000, \"JoiningDate\": \"2020-02-14\", \"City\": \"Pune\", \"Experience\": 3}\n",
    "]\n",
    "\n",
    "\n",
    "df = pd.DataFrame(Employees)   \n",
    "print(df)"
   ]
  },
  {
   "cell_type": "code",
   "execution_count": 3,
   "id": "719962ad",
   "metadata": {},
   "outputs": [
    {
     "name": "stdout",
     "output_type": "stream",
     "text": [
      "                  Salary              \n",
      "                    mean    max    min\n",
      "Department                            \n",
      "Finance     55166.666667  61000  50000\n",
      "HR          46500.000000  48000  45000\n",
      "IT          72666.666667  85000  60000\n",
      "Marketing   50250.000000  53000  48000\n"
     ]
    }
   ],
   "source": [
    "df_group = df.groupby(\"Department\").agg({\"Salary\":[\"mean\",\"max\",\"min\"]})\n",
    "\n",
    "print(df_group)"
   ]
  },
  {
   "cell_type": "code",
   "execution_count": 4,
   "id": "65ffd653",
   "metadata": {},
   "outputs": [
    {
     "name": "stdout",
     "output_type": "stream",
     "text": [
      "Department\n",
      "Finance      55166.666667\n",
      "HR           46500.000000\n",
      "IT           72666.666667\n",
      "Marketing    50250.000000\n",
      "Name: Salary, dtype: float64\n"
     ]
    }
   ],
   "source": [
    "grouped = df.groupby(\"Department\")[\"Salary\"].mean()\n",
    "\n",
    "print(grouped)"
   ]
  }
 ],
 "metadata": {
  "kernelspec": {
   "display_name": "Python 3",
   "language": "python",
   "name": "python3"
  },
  "language_info": {
   "codemirror_mode": {
    "name": "ipython",
    "version": 3
   },
   "file_extension": ".py",
   "mimetype": "text/x-python",
   "name": "python",
   "nbconvert_exporter": "python",
   "pygments_lexer": "ipython3",
   "version": "3.12.1"
  }
 },
 "nbformat": 4,
 "nbformat_minor": 5
}

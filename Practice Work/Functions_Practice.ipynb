{
 "cells": [
  {
   "cell_type": "code",
   "execution_count": 3,
   "id": "9a772341",
   "metadata": {},
   "outputs": [
    {
     "data": {
      "text/plain": [
       "50"
      ]
     },
     "execution_count": 3,
     "metadata": {},
     "output_type": "execute_result"
    }
   ],
   "source": [
    "def calc_sum(a,b):\n",
    "    sum = a + b\n",
    "    return sum\n",
    "calc_sum(20,30)"
   ]
  },
  {
   "cell_type": "code",
   "execution_count": 4,
   "id": "e3e97734",
   "metadata": {},
   "outputs": [
    {
     "data": {
      "text/plain": [
       "6000"
      ]
     },
     "execution_count": 4,
     "metadata": {},
     "output_type": "execute_result"
    }
   ],
   "source": [
    "def mul(a,b,c):\n",
    "    product = a*b*c\n",
    "    return product\n",
    "mul(10,20,30)"
   ]
  },
  {
   "cell_type": "code",
   "execution_count": 5,
   "id": "7d20c626",
   "metadata": {},
   "outputs": [
    {
     "data": {
      "text/plain": [
       "100"
      ]
     },
     "execution_count": 5,
     "metadata": {},
     "output_type": "execute_result"
    }
   ],
   "source": [
    "def remainder(a,b):\n",
    "    re = a % b\n",
    "    return re\n",
    "remainder(100,200)"
   ]
  },
  {
   "cell_type": "code",
   "execution_count": 9,
   "id": "6002e746",
   "metadata": {},
   "outputs": [
    {
     "data": {
      "text/plain": [
       "(1000, 0)"
      ]
     },
     "execution_count": 9,
     "metadata": {},
     "output_type": "execute_result"
    }
   ],
   "source": [
    "# Divisor = (Dividend-Remainder)//quotient\n",
    "# Dividend = Divisor * quotient + Remainder\n",
    "# Remainder = Dividend - (quotient*divisor)\n",
    "# quotient = (dividend - remainder)//Divisor\n",
    "def all(a,b):\n",
    "    Re = a % b\n",
    "    D = a // b\n",
    "    return Re,D\n",
    "all(1000,2000)"
   ]
  },
  {
   "cell_type": "code",
   "execution_count": 12,
   "id": "b05347ac",
   "metadata": {},
   "outputs": [
    {
     "name": "stdout",
     "output_type": "stream",
     "text": [
      "10 X 0 = 0\n",
      "10 X 1 = 10\n",
      "10 X 2 = 20\n",
      "10 X 3 = 30\n",
      "10 X 4 = 40\n",
      "10 X 5 = 50\n",
      "10 X 6 = 60\n",
      "10 X 7 = 70\n",
      "10 X 8 = 80\n",
      "10 X 9 = 90\n",
      "10 X 10 = 100\n",
      "22 X 0 = 0\n",
      "22 X 1 = 22\n",
      "22 X 2 = 44\n",
      "22 X 3 = 66\n",
      "22 X 4 = 88\n",
      "22 X 5 = 110\n",
      "22 X 6 = 132\n",
      "22 X 7 = 154\n",
      "22 X 8 = 176\n",
      "22 X 9 = 198\n",
      "22 X 10 = 220\n",
      "22 X 11 = 242\n",
      "22 X 12 = 264\n",
      "22 X 13 = 286\n",
      "22 X 14 = 308\n",
      "22 X 15 = 330\n",
      "22 X 16 = 352\n",
      "22 X 17 = 374\n",
      "22 X 18 = 396\n",
      "22 X 19 = 418\n",
      "22 X 20 = 440\n",
      "22 X 21 = 462\n",
      "22 X 22 = 484\n",
      "44 X 0 = 0\n",
      "44 X 1 = 44\n",
      "44 X 2 = 88\n",
      "44 X 3 = 132\n",
      "44 X 4 = 176\n",
      "44 X 5 = 220\n",
      "44 X 6 = 264\n",
      "44 X 7 = 308\n",
      "44 X 8 = 352\n",
      "44 X 9 = 396\n",
      "44 X 10 = 440\n",
      "44 X 11 = 484\n",
      "44 X 12 = 528\n",
      "44 X 13 = 572\n",
      "44 X 14 = 616\n",
      "44 X 15 = 660\n",
      "44 X 16 = 704\n",
      "44 X 17 = 748\n",
      "44 X 18 = 792\n",
      "44 X 19 = 836\n",
      "44 X 20 = 880\n",
      "44 X 21 = 924\n",
      "44 X 22 = 968\n",
      "44 X 23 = 1012\n",
      "44 X 24 = 1056\n",
      "44 X 25 = 1100\n",
      "44 X 26 = 1144\n",
      "44 X 27 = 1188\n",
      "44 X 28 = 1232\n",
      "44 X 29 = 1276\n",
      "44 X 30 = 1320\n",
      "44 X 31 = 1364\n",
      "44 X 32 = 1408\n",
      "44 X 33 = 1452\n",
      "44 X 34 = 1496\n",
      "44 X 35 = 1540\n",
      "44 X 36 = 1584\n",
      "44 X 37 = 1628\n",
      "44 X 38 = 1672\n",
      "44 X 39 = 1716\n",
      "44 X 40 = 1760\n",
      "44 X 41 = 1804\n",
      "44 X 42 = 1848\n",
      "44 X 43 = 1892\n",
      "44 X 44 = 1936\n",
      "78 X 0 = 0\n",
      "78 X 1 = 78\n",
      "78 X 2 = 156\n",
      "78 X 3 = 234\n",
      "78 X 4 = 312\n",
      "78 X 5 = 390\n",
      "78 X 6 = 468\n",
      "78 X 7 = 546\n",
      "78 X 8 = 624\n",
      "78 X 9 = 702\n",
      "78 X 10 = 780\n",
      "78 X 11 = 858\n",
      "78 X 12 = 936\n",
      "78 X 13 = 1014\n",
      "78 X 14 = 1092\n",
      "78 X 15 = 1170\n",
      "78 X 16 = 1248\n",
      "78 X 17 = 1326\n",
      "78 X 18 = 1404\n",
      "78 X 19 = 1482\n",
      "78 X 20 = 1560\n",
      "78 X 21 = 1638\n",
      "78 X 22 = 1716\n",
      "78 X 23 = 1794\n",
      "78 X 24 = 1872\n",
      "78 X 25 = 1950\n",
      "78 X 26 = 2028\n",
      "78 X 27 = 2106\n",
      "78 X 28 = 2184\n",
      "78 X 29 = 2262\n",
      "78 X 30 = 2340\n",
      "78 X 31 = 2418\n",
      "78 X 32 = 2496\n",
      "78 X 33 = 2574\n",
      "78 X 34 = 2652\n",
      "78 X 35 = 2730\n",
      "78 X 36 = 2808\n",
      "78 X 37 = 2886\n",
      "78 X 38 = 2964\n",
      "78 X 39 = 3042\n",
      "78 X 40 = 3120\n",
      "78 X 41 = 3198\n",
      "78 X 42 = 3276\n",
      "78 X 43 = 3354\n",
      "78 X 44 = 3432\n",
      "78 X 45 = 3510\n",
      "78 X 46 = 3588\n",
      "78 X 47 = 3666\n",
      "78 X 48 = 3744\n",
      "78 X 49 = 3822\n",
      "78 X 50 = 3900\n",
      "78 X 51 = 3978\n",
      "78 X 52 = 4056\n",
      "78 X 53 = 4134\n",
      "78 X 54 = 4212\n",
      "78 X 55 = 4290\n",
      "78 X 56 = 4368\n",
      "78 X 57 = 4446\n",
      "78 X 58 = 4524\n",
      "78 X 59 = 4602\n",
      "78 X 60 = 4680\n",
      "78 X 61 = 4758\n",
      "78 X 62 = 4836\n",
      "78 X 63 = 4914\n",
      "78 X 64 = 4992\n",
      "78 X 65 = 5070\n",
      "78 X 66 = 5148\n",
      "78 X 67 = 5226\n",
      "78 X 68 = 5304\n",
      "78 X 69 = 5382\n",
      "78 X 70 = 5460\n",
      "78 X 71 = 5538\n",
      "78 X 72 = 5616\n",
      "78 X 73 = 5694\n",
      "78 X 74 = 5772\n",
      "78 X 75 = 5850\n",
      "78 X 76 = 5928\n",
      "78 X 77 = 6006\n",
      "78 X 78 = 6084\n"
     ]
    }
   ],
   "source": [
    "def table(n):\n",
    "    for i in range(n+1):\n",
    "        \n",
    "        print(f'{n} X {i} = {i*n}')\n",
    "table(10)\n",
    "table(22)\n",
    "table(44)\n",
    "table(78)"
   ]
  },
  {
   "cell_type": "markdown",
   "id": "a1078b53",
   "metadata": {},
   "source": [
    "**AVG of three numbers**"
   ]
  },
  {
   "cell_type": "code",
   "execution_count": 3,
   "id": "45aa8ab4",
   "metadata": {},
   "outputs": [
    {
     "name": "stdout",
     "output_type": "stream",
     "text": [
      "20.0\n"
     ]
    }
   ],
   "source": [
    "def calc_avg(a, b, c):\n",
    "    avg = (a + b + c) / 3\n",
    "    return avg\n",
    "\n",
    "a, b, c = map(int, input().split())\n",
    "print(calc_avg(a, b, c))"
   ]
  },
  {
   "cell_type": "markdown",
   "id": "dd05b117",
   "metadata": {},
   "source": [
    "**Length of list using a function**"
   ]
  },
  {
   "cell_type": "code",
   "execution_count": 23,
   "id": "248b54fe",
   "metadata": {},
   "outputs": [
    {
     "name": "stdout",
     "output_type": "stream",
     "text": [
      "The Lenght of the List Li is : 1\n"
     ]
    }
   ],
   "source": [
    "def length(li):\n",
    "    return len(li)\n",
    "\n",
    "li = list(map(int,input().split()))\n",
    "print(\"The Lenght of the List Li is :\",length(li))"
   ]
  },
  {
   "cell_type": "markdown",
   "id": "896839d6",
   "metadata": {},
   "source": [
    "**Printing the elements in the list in a single line**"
   ]
  },
  {
   "cell_type": "code",
   "execution_count": 5,
   "id": "2e73f7db",
   "metadata": {},
   "outputs": [
    {
     "name": "stdout",
     "output_type": "stream",
     "text": [
      "1 2 3 4 5 6 7 8 9 9 8 7 4 5 6 1 2 3 "
     ]
    }
   ],
   "source": [
    "def List_single_line(li):\n",
    "    for i in li:\n",
    "        print(i,end = \" \")\n",
    "    return \n",
    "li = list(map(int,input().split()))\n",
    "List_single_line(li)"
   ]
  },
  {
   "cell_type": "code",
   "execution_count": null,
   "id": "5cda0f23",
   "metadata": {},
   "outputs": [
    {
     "name": "stdout",
     "output_type": "stream",
     "text": [
      "120\n"
     ]
    }
   ],
   "source": [
    "def factorial(n):\n",
    "    if n == 0:\n",
    "        return 1\n",
    "    else:\n",
    "        return n * factorial(n-1)\n",
    "\n",
    "n = int(input(\"Enter the number: \"))\n",
    "print(factorial(n))"
   ]
  },
  {
   "cell_type": "markdown",
   "id": "36eb4227",
   "metadata": {},
   "source": [
    "**Conversion of USD to INR**"
   ]
  },
  {
   "cell_type": "code",
   "execution_count": 13,
   "id": "fe9662c5",
   "metadata": {},
   "outputs": [
    {
     "name": "stdout",
     "output_type": "stream",
     "text": [
      "Converted amount:300650.0\n"
     ]
    }
   ],
   "source": [
    "def Currency(n):\n",
    "    return n * 85.9\n",
    "\n",
    "n = int(input(\"Enter the number: \"))\n",
    "print(f'Converted amount:{Currency(n)}')"
   ]
  },
  {
   "cell_type": "markdown",
   "id": "25723523",
   "metadata": {},
   "source": [
    "**Even or ODD**"
   ]
  },
  {
   "cell_type": "code",
   "execution_count": 15,
   "id": "a890ee6f",
   "metadata": {},
   "outputs": [
    {
     "name": "stdout",
     "output_type": "stream",
     "text": [
      "The Given Number is a: Odd\n"
     ]
    }
   ],
   "source": [
    "def check(n):\n",
    "    if n % 2 == 0:\n",
    "        return \"Even\"\n",
    "    else:\n",
    "        return \"Odd\"\n",
    "\n",
    "n = int(input(\"Enter the Number: \"))\n",
    "print(\"The Given Number is a:\",check(n))"
   ]
  },
  {
   "cell_type": "markdown",
   "id": "80f639e8",
   "metadata": {},
   "source": [
    "**Recursions**"
   ]
  },
  {
   "cell_type": "code",
   "execution_count": 18,
   "id": "1f503ee8",
   "metadata": {},
   "outputs": [
    {
     "name": "stdout",
     "output_type": "stream",
     "text": [
      "10\n",
      "9\n",
      "8\n",
      "7\n",
      "6\n",
      "5\n",
      "4\n",
      "3\n",
      "2\n",
      "1\n"
     ]
    }
   ],
   "source": [
    "def show(n):\n",
    "    if n == 0:\n",
    "        return 0\n",
    "    else:\n",
    "        print(n)\n",
    "        show(n-1)\n",
    "\n",
    "n = int(input(\"Enter the Number: \"))\n",
    "show(n)"
   ]
  },
  {
   "cell_type": "markdown",
   "id": "3335eeca",
   "metadata": {},
   "source": [
    "**Factorial**"
   ]
  },
  {
   "cell_type": "code",
   "execution_count": 20,
   "id": "fad1d322",
   "metadata": {},
   "outputs": [
    {
     "name": "stdout",
     "output_type": "stream",
     "text": [
      "24\n"
     ]
    }
   ],
   "source": [
    "def fact(n):\n",
    "    if n == 0 or n ==1:\n",
    "        return 1\n",
    "    else:\n",
    "        return n * fact(n-1)\n",
    "\n",
    "n = int(input(\"Enter the input: \"))\n",
    "print(fact(n))"
   ]
  }
 ],
 "metadata": {
  "kernelspec": {
   "display_name": "Python 3",
   "language": "python",
   "name": "python3"
  },
  "language_info": {
   "codemirror_mode": {
    "name": "ipython",
    "version": 3
   },
   "file_extension": ".py",
   "mimetype": "text/x-python",
   "name": "python",
   "nbconvert_exporter": "python",
   "pygments_lexer": "ipython3",
   "version": "3.12.1"
  }
 },
 "nbformat": 4,
 "nbformat_minor": 5
}

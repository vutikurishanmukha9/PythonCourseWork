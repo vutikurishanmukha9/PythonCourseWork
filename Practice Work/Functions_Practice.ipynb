{
 "cells": [
  {
   "cell_type": "code",
   "execution_count": 3,
   "id": "9a772341",
   "metadata": {},
   "outputs": [
    {
     "data": {
      "text/plain": [
       "50"
      ]
     },
     "execution_count": 3,
     "metadata": {},
     "output_type": "execute_result"
    }
   ],
   "source": [
    "def calc_sum(a,b):\n",
    "    sum = a + b\n",
    "    return sum\n",
    "calc_sum(20,30)"
   ]
  },
  {
   "cell_type": "code",
   "execution_count": 4,
   "id": "e3e97734",
   "metadata": {},
   "outputs": [
    {
     "data": {
      "text/plain": [
       "6000"
      ]
     },
     "execution_count": 4,
     "metadata": {},
     "output_type": "execute_result"
    }
   ],
   "source": [
    "def mul(a,b,c):\n",
    "    product = a*b*c\n",
    "    return product\n",
    "mul(10,20,30)"
   ]
  },
  {
   "cell_type": "code",
   "execution_count": 5,
   "id": "7d20c626",
   "metadata": {},
   "outputs": [
    {
     "data": {
      "text/plain": [
       "100"
      ]
     },
     "execution_count": 5,
     "metadata": {},
     "output_type": "execute_result"
    }
   ],
   "source": [
    "def remainder(a,b):\n",
    "    re = a % b\n",
    "    return re\n",
    "remainder(100,200)"
   ]
  },
  {
   "cell_type": "code",
   "execution_count": 9,
   "id": "6002e746",
   "metadata": {},
   "outputs": [
    {
     "data": {
      "text/plain": [
       "(1000, 0)"
      ]
     },
     "execution_count": 9,
     "metadata": {},
     "output_type": "execute_result"
    }
   ],
   "source": [
    "# Divisor = (Dividend-Remainder)//quotient\n",
    "# Dividend = Divisor * quotient + Remainder\n",
    "# Remainder = Dividend - (quotient*divisor)\n",
    "# quotient = (dividend - remainder)//Divisor\n",
    "def all(a,b):\n",
    "    Re = a % b\n",
    "    D = a // b\n",
    "    return Re,D\n",
    "all(1000,2000)"
   ]
  },
  {
   "cell_type": "code",
   "execution_count": 11,
   "id": "b05347ac",
   "metadata": {},
   "outputs": [
    {
     "name": "stdout",
     "output_type": "stream",
     "text": [
      "10 X 0 = 0\n",
      "10 X 1 = 10\n",
      "10 X 2 = 20\n",
      "10 X 3 = 30\n",
      "10 X 4 = 40\n",
      "10 X 5 = 50\n",
      "10 X 6 = 60\n",
      "10 X 7 = 70\n",
      "10 X 8 = 80\n",
      "10 X 9 = 90\n",
      "10 X 10 = 100\n"
     ]
    }
   ],
   "source": [
    "def table(n):\n",
    "    for i in range(n+1):\n",
    "        print(f'{n} X {i} = {i*n}')\n",
    "table(10)"
   ]
  },
  {
   "cell_type": "code",
   "execution_count": null,
   "id": "45aa8ab4",
   "metadata": {},
   "outputs": [],
   "source": []
  }
 ],
 "metadata": {
  "kernelspec": {
   "display_name": "Python 3",
   "language": "python",
   "name": "python3"
  },
  "language_info": {
   "codemirror_mode": {
    "name": "ipython",
    "version": 3
   },
   "file_extension": ".py",
   "mimetype": "text/x-python",
   "name": "python",
   "nbconvert_exporter": "python",
   "pygments_lexer": "ipython3",
   "version": "3.12.1"
  }
 },
 "nbformat": 4,
 "nbformat_minor": 5
}

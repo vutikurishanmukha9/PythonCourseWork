{
 "cells": [
  {
   "cell_type": "code",
   "execution_count": 3,
   "id": "9a772341",
   "metadata": {},
   "outputs": [
    {
     "data": {
      "text/plain": [
       "50"
      ]
     },
     "execution_count": 3,
     "metadata": {},
     "output_type": "execute_result"
    }
   ],
   "source": [
    "def calc_sum(a,b):\n",
    "    sum = a + b\n",
    "    return sum\n",
    "calc_sum(20,30)"
   ]
  },
  {
   "cell_type": "code",
   "execution_count": 4,
   "id": "e3e97734",
   "metadata": {},
   "outputs": [
    {
     "data": {
      "text/plain": [
       "6000"
      ]
     },
     "execution_count": 4,
     "metadata": {},
     "output_type": "execute_result"
    }
   ],
   "source": [
    "def mul(a,b,c):\n",
    "    product = a*b*c\n",
    "    return product\n",
    "mul(10,20,30)"
   ]
  },
  {
   "cell_type": "code",
   "execution_count": 5,
   "id": "7d20c626",
   "metadata": {},
   "outputs": [
    {
     "data": {
      "text/plain": [
       "100"
      ]
     },
     "execution_count": 5,
     "metadata": {},
     "output_type": "execute_result"
    }
   ],
   "source": [
    "def remainder(a,b):\n",
    "    re = a % b\n",
    "    return re\n",
    "remainder(100,200)"
   ]
  },
  {
   "cell_type": "code",
   "execution_count": 9,
   "id": "6002e746",
   "metadata": {},
   "outputs": [
    {
     "data": {
      "text/plain": [
       "(1000, 0)"
      ]
     },
     "execution_count": 9,
     "metadata": {},
     "output_type": "execute_result"
    }
   ],
   "source": [
    "# Divisor = (Dividend-Remainder)//quotient\n",
    "# Dividend = Divisor * quotient + Remainder\n",
    "# Remainder = Dividend - (quotient*divisor)\n",
    "# quotient = (dividend - remainder)//Divisor\n",
    "def all(a,b):\n",
    "    Re = a % b\n",
    "    D = a // b\n",
    "    return Re,D\n",
    "all(1000,2000)"
   ]
  },
  {
   "cell_type": "code",
   "execution_count": 12,
   "id": "b05347ac",
   "metadata": {},
   "outputs": [
    {
     "name": "stdout",
     "output_type": "stream",
     "text": [
      "10 X 0 = 0\n",
      "10 X 1 = 10\n",
      "10 X 2 = 20\n",
      "10 X 3 = 30\n",
      "10 X 4 = 40\n",
      "10 X 5 = 50\n",
      "10 X 6 = 60\n",
      "10 X 7 = 70\n",
      "10 X 8 = 80\n",
      "10 X 9 = 90\n",
      "10 X 10 = 100\n"
     ]
    }
   ],
   "source": [
    "def table(n):\n",
    "    for i in range(n+1):\n",
    "        print(f'{n} X {i} = {i*n}')\n",
    "        \n",
    "table(10)"
   ]
  },
  {
   "cell_type": "markdown",
   "id": "a1078b53",
   "metadata": {},
   "source": [
    "**AVG of three numbers**"
   ]
  },
  {
   "cell_type": "code",
   "execution_count": 3,
   "id": "45aa8ab4",
   "metadata": {},
   "outputs": [
    {
     "name": "stdout",
     "output_type": "stream",
     "text": [
      "20.0\n"
     ]
    }
   ],
   "source": [
    "def calc_avg(a, b, c):\n",
    "    avg = (a + b + c) / 3\n",
    "    return avg\n",
    "\n",
    "a, b, c = map(int, input().split())\n",
    "print(calc_avg(a, b, c))"
   ]
  },
  {
   "cell_type": "markdown",
   "id": "dd05b117",
   "metadata": {},
   "source": [
    "**Length of list using a function**"
   ]
  },
  {
   "cell_type": "code",
   "execution_count": 23,
   "id": "248b54fe",
   "metadata": {},
   "outputs": [
    {
     "name": "stdout",
     "output_type": "stream",
     "text": [
      "The Lenght of the List Li is : 1\n"
     ]
    }
   ],
   "source": [
    "def length(li):\n",
    "    return len(li)\n",
    "\n",
    "li = list(map(int,input().split()))\n",
    "print(\"The Lenght of the List Li is :\",length(li))"
   ]
  },
  {
   "cell_type": "markdown",
   "id": "896839d6",
   "metadata": {},
   "source": [
    "**Printing the elements in the list in a single line**"
   ]
  },
  {
   "cell_type": "code",
   "execution_count": 5,
   "id": "2e73f7db",
   "metadata": {},
   "outputs": [
    {
     "name": "stdout",
     "output_type": "stream",
     "text": [
      "1 2 3 4 5 6 7 8 9 9 8 7 4 5 6 1 2 3 "
     ]
    }
   ],
   "source": [
    "def List_single_line(li):\n",
    "    for i in li:\n",
    "        print(i,end = \" \")\n",
    "    return \n",
    "li = list(map(int,input().split()))\n",
    "List_single_line(li)"
   ]
  },
  {
   "cell_type": "code",
   "execution_count": null,
   "id": "5cda0f23",
   "metadata": {},
   "outputs": [
    {
     "name": "stdout",
     "output_type": "stream",
     "text": [
      "120\n"
     ]
    }
   ],
   "source": [
    "def factorial(n):\n",
    "    if n == 0:\n",
    "        return 1\n",
    "    else:\n",
    "        return n * factorial(n-1)\n",
    "\n",
    "n = int(input(\"Enter the number: \"))\n",
    "print(factorial(n))"
   ]
  },
  {
   "cell_type": "markdown",
   "id": "36eb4227",
   "metadata": {},
   "source": [
    "**Conversion of USD to INR**"
   ]
  },
  {
   "cell_type": "code",
   "execution_count": 13,
   "id": "fe9662c5",
   "metadata": {},
   "outputs": [
    {
     "name": "stdout",
     "output_type": "stream",
     "text": [
      "Converted amount:300650.0\n"
     ]
    }
   ],
   "source": [
    "def Currency(n):\n",
    "    return n * 85.9\n",
    "\n",
    "n = int(input(\"Enter the number: \"))\n",
    "print(f'Converted amount:{Currency(n)}')"
   ]
  },
  {
   "cell_type": "markdown",
   "id": "25723523",
   "metadata": {},
   "source": [
    "**Even or ODD**"
   ]
  },
  {
   "cell_type": "code",
   "execution_count": 15,
   "id": "a890ee6f",
   "metadata": {},
   "outputs": [
    {
     "name": "stdout",
     "output_type": "stream",
     "text": [
      "The Given Number is a: Odd\n"
     ]
    }
   ],
   "source": [
    "def check(n):\n",
    "    if n % 2 == 0:\n",
    "        return \"Even\"\n",
    "    else:\n",
    "        return \"Odd\"\n",
    "\n",
    "n = int(input(\"Enter the Number: \"))\n",
    "print(\"The Given Number is a:\",check(n))"
   ]
  },
  {
   "cell_type": "markdown",
   "id": "80f639e8",
   "metadata": {},
   "source": [
    "**Recursions**"
   ]
  },
  {
   "cell_type": "code",
   "execution_count": 18,
   "id": "1f503ee8",
   "metadata": {},
   "outputs": [
    {
     "name": "stdout",
     "output_type": "stream",
     "text": [
      "10\n",
      "9\n",
      "8\n",
      "7\n",
      "6\n",
      "5\n",
      "4\n",
      "3\n",
      "2\n",
      "1\n"
     ]
    }
   ],
   "source": [
    "def show(n):\n",
    "    if n == 0:\n",
    "        return 0\n",
    "    else:\n",
    "        print(n)\n",
    "        show(n-1)\n",
    "\n",
    "n = int(input(\"Enter the Number: \"))\n",
    "show(n)"
   ]
  },
  {
   "cell_type": "markdown",
   "id": "3335eeca",
   "metadata": {},
   "source": [
    "**Factorial**"
   ]
  },
  {
   "cell_type": "code",
   "execution_count": 20,
   "id": "fad1d322",
   "metadata": {},
   "outputs": [
    {
     "name": "stdout",
     "output_type": "stream",
     "text": [
      "24\n"
     ]
    }
   ],
   "source": [
    "def fact(n):\n",
    "    if n == 0 or n ==1:\n",
    "        return 1\n",
    "    else:\n",
    "        return n * fact(n-1)\n",
    "\n",
    "n = int(input(\"Enter the input: \"))\n",
    "print(fact(n))"
   ]
  },
  {
   "cell_type": "code",
   "execution_count": null,
   "id": "93389441",
   "metadata": {},
   "outputs": [],
   "source": [
    "**Square a Number**"
   ]
  },
  {
   "cell_type": "code",
   "execution_count": 1,
   "id": "17caa163",
   "metadata": {},
   "outputs": [
    {
     "data": {
      "text/plain": [
       "144"
      ]
     },
     "execution_count": 1,
     "metadata": {},
     "output_type": "execute_result"
    }
   ],
   "source": [
    "def square(n):\n",
    "    return n * n\n",
    "\n",
    "n = int(input(\"Enter the input: \"))\n",
    "square(n)"
   ]
  },
  {
   "cell_type": "markdown",
   "id": "6ecba667",
   "metadata": {},
   "source": [
    "**Area of a Circle**"
   ]
  },
  {
   "cell_type": "code",
   "execution_count": 3,
   "id": "e0f77c07",
   "metadata": {},
   "outputs": [
    {
     "name": "stdout",
     "output_type": "stream",
     "text": [
      "45238.93421169302\n"
     ]
    }
   ],
   "source": [
    "import math\n",
    "def area(r):\n",
    "    print(math.pi*r**2)\n",
    "    return\n",
    "\n",
    "r = int(input(\"Enter the area: \"))\n",
    "area(r)"
   ]
  },
  {
   "cell_type": "markdown",
   "id": "9946eedd",
   "metadata": {},
   "source": [
    "**Greet the User**"
   ]
  },
  {
   "cell_type": "code",
   "execution_count": 6,
   "id": "ca0fc3ab",
   "metadata": {},
   "outputs": [
    {
     "name": "stdout",
     "output_type": "stream",
     "text": [
      "Hello Kohli its been a long time to see you how are you\n"
     ]
    }
   ],
   "source": [
    "def greet(name):\n",
    "    print(f'Hello {name} its been a long time to see you how are you')\n",
    "    return \n",
    "\n",
    "name = input()\n",
    "greet(name)"
   ]
  },
  {
   "cell_type": "markdown",
   "id": "9727ed86",
   "metadata": {},
   "source": [
    "**Multiply Three Numbers**"
   ]
  },
  {
   "cell_type": "code",
   "execution_count": 8,
   "id": "27964617",
   "metadata": {},
   "outputs": [
    {
     "name": "stdout",
     "output_type": "stream",
     "text": [
      "6000\n"
     ]
    },
    {
     "data": {
      "text/plain": [
       "(10, 20, 30)"
      ]
     },
     "execution_count": 8,
     "metadata": {},
     "output_type": "execute_result"
    }
   ],
   "source": [
    "def product(a,b,c):\n",
    "    print(a*b*c)\n",
    "    return a,b,c\n",
    "a,b,c = map(int,input(\"Enter the values of A,B,C\").split())\n",
    "product(a,b,c)"
   ]
  },
  {
   "cell_type": "code",
   "execution_count": null,
   "id": "3dd6162a",
   "metadata": {},
   "outputs": [
    {
     "name": "stdout",
     "output_type": "stream",
     "text": [
      "1600.0\n"
     ]
    }
   ],
   "source": [
    "def Simple_Interest(P,T,R):\n",
    "    interest = (P*T*R)/100\n",
    "    return interest\n",
    "\n",
    "P,T,R = map(int,input(\"Enter the P T R: \").split())\n",
    "print(Simple_Interest(P,T,R))"
   ]
  },
  {
   "cell_type": "markdown",
   "id": "e8990abc",
   "metadata": {},
   "source": [
    "**Find Length of a String**"
   ]
  },
  {
   "cell_type": "code",
   "execution_count": 5,
   "id": "e740674d",
   "metadata": {},
   "outputs": [
    {
     "name": "stdout",
     "output_type": "stream",
     "text": [
      "23\n"
     ]
    }
   ],
   "source": [
    "def length(s):\n",
    "    return len(s)\n",
    "\n",
    "s = input(\"Enter the String as a Input: \")\n",
    "print(length(s))"
   ]
  },
  {
   "cell_type": "markdown",
   "id": "b540a1e6",
   "metadata": {},
   "source": [
    "**Append to a List**"
   ]
  },
  {
   "cell_type": "code",
   "execution_count": 6,
   "id": "92c33c38",
   "metadata": {},
   "outputs": [
    {
     "name": "stdout",
     "output_type": "stream",
     "text": [
      "ShanmukhaVutikuri\n"
     ]
    }
   ],
   "source": [
    "def Add(s,c):\n",
    "    return s + c\n",
    "\n",
    "s = input(\"Enter the Input1: \")\n",
    "c = input(\"Enter the Input2: \")\n",
    "print(Add(s,c))"
   ]
  },
  {
   "cell_type": "markdown",
   "id": "4a664ca3",
   "metadata": {},
   "source": [
    "**Double Each Element in a List**"
   ]
  },
  {
   "cell_type": "code",
   "execution_count": 14,
   "id": "8a72ab51",
   "metadata": {},
   "outputs": [
    {
     "name": "stdout",
     "output_type": "stream",
     "text": [
      "[2, 4]\n"
     ]
    }
   ],
   "source": [
    "def double(l):\n",
    "        return (i * 2 for i in l)\n",
    "l = list(map(int,input(\"Enter the List of Elements: \").split()))\n",
    "print(list(double(l)))"
   ]
  },
  {
   "cell_type": "markdown",
   "id": "66311765",
   "metadata": {},
   "source": [
    "**Sort a List**"
   ]
  },
  {
   "cell_type": "code",
   "execution_count": 19,
   "id": "a20d42d0",
   "metadata": {},
   "outputs": [
    {
     "name": "stdout",
     "output_type": "stream",
     "text": [
      "[1, 2, 2, 3, 4, 5, 5, 6, 7, 8, 8, 9, 10]\n"
     ]
    }
   ],
   "source": [
    "def asec(l):\n",
    "    return sorted(l)\n",
    "\n",
    "l = list(map(int,input(\"Enter the Input: \").split()))\n",
    "print(asec(l))"
   ]
  }
 ],
 "metadata": {
  "kernelspec": {
   "display_name": "Python 3",
   "language": "python",
   "name": "python3"
  },
  "language_info": {
   "codemirror_mode": {
    "name": "ipython",
    "version": 3
   },
   "file_extension": ".py",
   "mimetype": "text/x-python",
   "name": "python",
   "nbconvert_exporter": "python",
   "pygments_lexer": "ipython3",
   "version": "3.12.1"
  }
 },
 "nbformat": 4,
 "nbformat_minor": 5
}

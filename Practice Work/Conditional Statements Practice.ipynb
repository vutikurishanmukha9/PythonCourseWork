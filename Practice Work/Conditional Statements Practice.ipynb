{
 "cells": [
  {
   "cell_type": "code",
   "execution_count": 1,
   "id": "35f01c7a",
   "metadata": {},
   "outputs": [
    {
     "name": "stdout",
     "output_type": "stream",
     "text": [
      "20 is the even Number\n"
     ]
    }
   ],
   "source": [
    "# 1. Even or Odd\n",
    "n = int(input(\"Enter the input: \"))\n",
    "if n % 2 == 0:\n",
    "    print(f'{n} is the even Number')\n",
    "else:\n",
    "    print(f'{n} is the odd number')"
   ]
  },
  {
   "cell_type": "code",
   "execution_count": null,
   "id": "f4e2bd70",
   "metadata": {},
   "outputs": [
    {
     "name": "stdout",
     "output_type": "stream",
     "text": [
      "0 is equal to Zero\n"
     ]
    }
   ],
   "source": [
    "# 2. Positive, Negative, or Zero\n",
    "n = int(input(\"Enter the Input:  \"))\n",
    "if n > 0:\n",
    "    print(f'{n} is the positive number')\n",
    "elif n < 0:\n",
    "    print(f'{n } is the negative number')\n",
    "else:\n",
    "    print(f'{n} is equal to Zero')"
   ]
  },
  {
   "cell_type": "code",
   "execution_count": 4,
   "id": "3e0a22b5",
   "metadata": {},
   "outputs": [
    {
     "name": "stdout",
     "output_type": "stream",
     "text": [
      "10 is not eligible to vote\n"
     ]
    }
   ],
   "source": [
    "# 3. Eligible to Vote\n",
    "n = int(input(\"Enter the age: \"))\n",
    "if n >= 18:\n",
    "    print(f'{n} is eligible to vote')\n",
    "else:\n",
    "    print(f'{n} is not eligible to vote')"
   ]
  },
  {
   "cell_type": "code",
   "execution_count": 8,
   "id": "f816291a",
   "metadata": {},
   "outputs": [
    {
     "name": "stdout",
     "output_type": "stream",
     "text": [
      " a: 100 and  b: 100 are equal numbers\n"
     ]
    }
   ],
   "source": [
    "# 4. Greatest of Two Numbers\n",
    "a,b = map(int,input(\"Enter the input for the a,b : \").split())\n",
    "if a > b:\n",
    "    print(f'{a} is greater than the {b}')\n",
    "elif a < b:\n",
    "    print(f'{b} is greater than the {a}')\n",
    "else:\n",
    "    print(f' a: {a} and  b: {b} are equal numbers')"
   ]
  },
  {
   "cell_type": "code",
   "execution_count": 9,
   "id": "0381841c",
   "metadata": {},
   "outputs": [
    {
     "name": "stdout",
     "output_type": "stream",
     "text": [
      "300 is divisible by 5\n"
     ]
    }
   ],
   "source": [
    "# 5. Check Divisibility (by 5)\n",
    "n = int(input(\"Enter the number: \"))\n",
    "if n % 5 == 0:\n",
    "    print(f'{n} is divisible by 5')\n",
    "else:\n",
    "    print(f'{n} is not divisible by 5')"
   ]
  },
  {
   "cell_type": "code",
   "execution_count": 11,
   "id": "2af26953",
   "metadata": {},
   "outputs": [
    {
     "name": "stdout",
     "output_type": "stream",
     "text": [
      "Wrong Password\n"
     ]
    }
   ],
   "source": [
    "# 7. Password Checker\n",
    "\n",
    "password = \"admin123\"\n",
    "n = input(\"Enter the Password: \")\n",
    "if n == password:\n",
    "    print(\"Acess granted\")\n",
    "else:\n",
    "    print(\"Wrong Password\")"
   ]
  },
  {
   "cell_type": "code",
   "execution_count": 12,
   "id": "ed385e7a",
   "metadata": {},
   "outputs": [
    {
     "name": "stdout",
     "output_type": "stream",
     "text": [
      "a is a vowel\n"
     ]
    }
   ],
   "source": [
    "# 8. Vowel or Consonant\n",
    "Vowels = \"aeiouAEIOU\"\n",
    "n = input(\"Enter a character:  \")\n",
    "if n in Vowels:\n",
    "    print(f'{n} is a vowel')\n",
    "else:\n",
    "    print(f'{n} is a Consonant')"
   ]
  },
  {
   "cell_type": "code",
   "execution_count": 13,
   "id": "14921cc2",
   "metadata": {},
   "outputs": [
    {
     "name": "stdout",
     "output_type": "stream",
     "text": [
      "Faill\n"
     ]
    }
   ],
   "source": [
    "# 9. Grade Calculator\n",
    "n = int(input(\"Enter the Marks of the Student: \"))\n",
    "if n >= 80:\n",
    "    print(\"Grade: A+\")\n",
    "elif n < 80 and n >= 75:\n",
    "    print(\"Grade: A\")\n",
    "elif n < 75 and n >= 70:\n",
    "    print(\"Grade: B\")\n",
    "elif n < 70 and n >= 65:\n",
    "    print(\"Grade: C\")\n",
    "elif n < 65 and n >= 60:\n",
    "    print(\"Grade: D\")\n",
    "elif n < 60 and n >= 35:\n",
    "    print(\"Grade: E\")\n",
    "else:\n",
    "    print(\"Faill\")\n"
   ]
  },
  {
   "cell_type": "code",
   "execution_count": 17,
   "id": "cdd0e335",
   "metadata": {},
   "outputs": [
    {
     "name": "stdout",
     "output_type": "stream",
     "text": [
      "It is an Isosceles Triangle\n"
     ]
    }
   ],
   "source": [
    "a,b,c = map(int,input(\"Enter the values of a,b,c: \").split())\n",
    "if a == b and b == c and c == a:\n",
    "    print(\"It is an Equilateral Triangle\")\n",
    "elif a < b and c < b :\n",
    "    print(\"It is an Isosceles Triangle\")\n",
    "else:\n",
    "    print(\"It is an Scalene Triangle\")"
   ]
  },
  {
   "cell_type": "code",
   "execution_count": 20,
   "id": "e7ff8926",
   "metadata": {},
   "outputs": [
    {
     "name": "stdout",
     "output_type": "stream",
     "text": [
      "Number 500 is  not in the range of 10 to 100\n"
     ]
    }
   ],
   "source": [
    "# 11. Number in Range (10–100)\n",
    "n = int(input(\"Enter the Number: \"))\n",
    "if 10 <= n <= 100:\n",
    "    print(f'Number {n} is in the range of 10 to 100')\n",
    "else:\n",
    "    print(f'Number {n} is  not in the range of 10 to 100')"
   ]
  },
  {
   "cell_type": "code",
   "execution_count": 22,
   "id": "0bfc17ea",
   "metadata": {},
   "outputs": [
    {
     "name": "stdout",
     "output_type": "stream",
     "text": [
      "Input '@' is a special symbol\n"
     ]
    }
   ],
   "source": [
    "# 12. Character Type\n",
    "n = input(\"Enter the Input: \")\n",
    "if n.isalpha():\n",
    "    print(f\"Input '{n}' is a Character\")\n",
    "elif n.isdigit():\n",
    "    print(f\"Input '{n}' is a Digit\")\n",
    "elif n.isalnum():\n",
    "    print(f\"Input '{n}' is a Number\")\n",
    "elif n.isspace():\n",
    "    print(f\"Input '{n}' is a Space\")\n",
    "elif n.islower():\n",
    "    print(f\"Input '{n}' is a Lowercase\")\n",
    "elif n.isupper():\n",
    "    print(f\"Input '{n}' is an Uppercase\")\n",
    "elif n.istitle():\n",
    "    print(f\"Input '{n}' is a Title\")\n",
    "elif n.isdecimal():\n",
    "    print(f\"Input '{n}' is a Decimal\")\n",
    "else:\n",
    "    print(f\"Input '{n}' is a special symbol\")"
   ]
  },
  {
   "cell_type": "code",
   "execution_count": 24,
   "id": "90930ef1",
   "metadata": {},
   "outputs": [
    {
     "name": "stdout",
     "output_type": "stream",
     "text": [
      "Insufficient balance\n"
     ]
    }
   ],
   "source": [
    "Balance = 5000\n",
    "n = int(input(\"Enter the amount: \"))\n",
    "if (n % 500 == 0 or n % 1000 == 0) and n <= Balance:\n",
    "    print(\"Success\")\n",
    "elif n % 500 != 0 and n % 1000 != 0:\n",
    "    print(\"Invalid denomination\")\n",
    "else:\n",
    "    print(\"Insufficient balance\")\n",
    "    "
   ]
  },
  {
   "cell_type": "code",
   "execution_count": null,
   "id": "c2f38ac7",
   "metadata": {},
   "outputs": [],
   "source": [
    "14. 3-Digit Palindrome\n",
    "\n"
   ]
  }
 ],
 "metadata": {
  "kernelspec": {
   "display_name": "Python 3",
   "language": "python",
   "name": "python3"
  },
  "language_info": {
   "codemirror_mode": {
    "name": "ipython",
    "version": 3
   },
   "file_extension": ".py",
   "mimetype": "text/x-python",
   "name": "python",
   "nbconvert_exporter": "python",
   "pygments_lexer": "ipython3",
   "version": "3.12.1"
  }
 },
 "nbformat": 4,
 "nbformat_minor": 5
}

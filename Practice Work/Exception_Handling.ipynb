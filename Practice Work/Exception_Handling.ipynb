{
 "cells": [
  {
   "cell_type": "code",
   "execution_count": 2,
   "id": "46d83293",
   "metadata": {},
   "outputs": [
    {
     "name": "stdout",
     "output_type": "stream",
     "text": [
      "165\n",
      "8\n",
      "1\n",
      "Error Is Occured\n"
     ]
    }
   ],
   "source": [
    "try:\n",
    "    a = 45\n",
    "    a = a + 120\n",
    "    print(a)\n",
    "    l = [1,2,3,4,5,6,7,8,9]\n",
    "    k = l[7]\n",
    "    print(k)\n",
    "    d = {1:1,2:4,3:9}\n",
    "    print(d[1])\n",
    "    b = int(input(\"Enter the Input\"))\n",
    "except Exception as e:\n",
    "    print(\"Error Is Occured\")"
   ]
  },
  {
   "cell_type": "code",
   "execution_count": null,
   "id": "bf3ea64f",
   "metadata": {},
   "outputs": [
    {
     "name": "stdout",
     "output_type": "stream",
     "text": [
      "There is an error Enter the Postive value\n",
      "Remove the Card\n"
     ]
    }
   ],
   "source": [
    "try:\n",
    "    Data = int(input(\"Enter the Input: \"))\n",
    "    if Data < 0:\n",
    "        raise ValueError(\"Enter the Postive value\")\n",
    "except Exception as e:\n",
    "    print(f'There is an error {e}')\n",
    "else:\n",
    "    print(\"There is no erros\")\n",
    "finally:\n",
    "    print(\"Remove the Card\")"
   ]
  },
  {
   "cell_type": "markdown",
   "id": "15d50a61",
   "metadata": {},
   "source": [
    "Write a program that takes two integers as input and divides the first by the second. Handle the case where the second number is zero."
   ]
  },
  {
   "cell_type": "code",
   "execution_count": 10,
   "id": "0102fe79",
   "metadata": {},
   "outputs": [
    {
     "name": "stdout",
     "output_type": "stream",
     "text": [
      "The Number cannot be divided by division by zero\n"
     ]
    }
   ],
   "source": [
    "try:\n",
    "    a = int(input(\"Enter the 1st Number: \"))\n",
    "    b = int(input(\"Enter the 2nd Number: \"))\n",
    "    result = a/b\n",
    "    print(result)\n",
    "except Exception as e:\n",
    "    print(f'The Number cannot be divided by {e}')"
   ]
  },
  {
   "cell_type": "markdown",
   "id": "19ea828f",
   "metadata": {},
   "source": [
    "Create a list with 5 numbers. Ask the user for an index and print the element at that index. Handle invalid indexes gracefully."
   ]
  },
  {
   "cell_type": "code",
   "execution_count": 13,
   "id": "c61c9bd3",
   "metadata": {},
   "outputs": [
    {
     "name": "stdout",
     "output_type": "stream",
     "text": [
      "20\n"
     ]
    }
   ],
   "source": [
    "numbers = [10, 20, 30, 40, 50]\n",
    "\n",
    "try:\n",
    "    index = int(input(\"Enter the index of the value: \"))\n",
    "    print(numbers[index])\n",
    "except Exception as e:\n",
    "    print(f'The Index is out of Range {e}')"
   ]
  },
  {
   "cell_type": "markdown",
   "id": "74d8e2b0",
   "metadata": {},
   "source": [
    "Ask the user to enter a number. Convert it to an integer. If the user types something that’s not a number, catch the exception and print a warning."
   ]
  },
  {
   "cell_type": "code",
   "execution_count": 16,
   "id": "5d5da862",
   "metadata": {},
   "outputs": [
    {
     "name": "stdout",
     "output_type": "stream",
     "text": [
      "You entered the wrong Num invalid literal for int() with base 10: 'dfghjkl'\n"
     ]
    }
   ],
   "source": [
    "try:\n",
    "    data = int(input(\"Enter the number: \"))\n",
    "    print(data)\n",
    "except Exception as e:\n",
    "    print(f'You entered the wrong Num {e}')"
   ]
  },
  {
   "cell_type": "code",
   "execution_count": 19,
   "id": "3eb9b9f2",
   "metadata": {},
   "outputs": [
    {
     "name": "stdout",
     "output_type": "stream",
     "text": [
      "There is an error 'dfghjkl'\n"
     ]
    }
   ],
   "source": [
    "data = {\"name\": \"Shanmukha\", \"age\": 23, \"city\": \"Hyderabad\"}\n",
    "\n",
    "try:\n",
    "    key = input(\"Enter a key: \")\n",
    "    print(data[key])\n",
    "except Exception as e:\n",
    "    print(f'There is an error {e}')\n"
   ]
  },
  {
   "cell_type": "markdown",
   "id": "94c6c850",
   "metadata": {},
   "source": [
    "Write a program that takes two inputs and divides them. Handle both non-numeric input and division by zero separately, giving specific error messages."
   ]
  },
  {
   "cell_type": "code",
   "execution_count": 20,
   "id": "b1951818",
   "metadata": {},
   "outputs": [
    {
     "name": "stdout",
     "output_type": "stream",
     "text": [
      "Result: 0.8571428571428571\n"
     ]
    }
   ],
   "source": [
    "try:\n",
    "    x = int(input(\"Enter numerator: \"))\n",
    "    y = int(input(\"Enter denominator: \"))\n",
    "    result = x / y\n",
    "    print(\"Result:\", result)\n",
    "except ValueError:\n",
    "    print(\"Error: Please enter only numbers.\")\n",
    "except ZeroDivisionError:\n",
    "    print(\"Error: Division by zero is not allowed.\")\n"
   ]
  },
  {
   "cell_type": "code",
   "execution_count": null,
   "id": "898499e9",
   "metadata": {},
   "outputs": [
    {
     "name": "stdout",
     "output_type": "stream",
     "text": [
      "Result: 11.25\n"
     ]
    }
   ],
   "source": []
  }
 ],
 "metadata": {
  "kernelspec": {
   "display_name": "Python 3",
   "language": "python",
   "name": "python3"
  },
  "language_info": {
   "codemirror_mode": {
    "name": "ipython",
    "version": 3
   },
   "file_extension": ".py",
   "mimetype": "text/x-python",
   "name": "python",
   "nbconvert_exporter": "python",
   "pygments_lexer": "ipython3",
   "version": "3.12.1"
  }
 },
 "nbformat": 4,
 "nbformat_minor": 5
}

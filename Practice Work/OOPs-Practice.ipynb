{
 "cells": [
  {
   "cell_type": "markdown",
   "id": "15309172",
   "metadata": {},
   "source": [
    "**Problem:** Create a Book class with title, author, and price. Add a method to display all book details."
   ]
  },
  {
   "cell_type": "code",
   "execution_count": 6,
   "id": "88d2abe6",
   "metadata": {},
   "outputs": [
    {
     "name": "stdout",
     "output_type": "stream",
     "text": [
      "Book Title:Shanmukh  \n",
      "Author of the Book is:Vutikuri Shanmukha  \n",
      "Price of the Book is:148520\n"
     ]
    }
   ],
   "source": [
    "class Book:\n",
    "    def __init__(self,title,author,price):\n",
    "        self.title = title\n",
    "        self.author = author\n",
    "        self.price = price\n",
    "    \n",
    "\n",
    "    def display_details(self):\n",
    "        print(f'Book Title:{self.title}  \\nAuthor of the Book is:{self.author}  \\nPrice of the Book is:{self.price}')\n",
    "    \n",
    "\n",
    "book1 = Book(\"Shanmukh\",\"Vutikuri Shanmukha\",148520)\n",
    "book1.display_details()"
   ]
  },
  {
   "cell_type": "markdown",
   "id": "bd527f5a",
   "metadata": {},
   "source": [
    "**Problem:** Create an Employee class with name, base_salary. Add a method calculate_annual_salary."
   ]
  },
  {
   "cell_type": "code",
   "execution_count": 14,
   "id": "fde76573",
   "metadata": {},
   "outputs": [
    {
     "name": "stdout",
     "output_type": "stream",
     "text": [
      "Name of the Employe isShanmukha\n",
      "Base Salary: 45000\n",
      "Annual Salary: 540000\n"
     ]
    }
   ],
   "source": [
    "class Employee:\n",
    "    def __init__(self,name,base_salary):\n",
    "        self.name = name\n",
    "        self.base_salary = base_salary\n",
    "    def annual_salary(self):\n",
    "        return self.base_salary * 12\n",
    "\n",
    "\n",
    "emp = Employee(\"Shanmukha\",45000)\n",
    "print(f'Name of the Employe is{emp.name}\\nBase Salary: {emp.base_salary}\\nAnnual Salary: {emp.annual_salary()}')\n",
    "    "
   ]
  },
  {
   "cell_type": "markdown",
   "id": "02502c4a",
   "metadata": {},
   "source": [
    "**Problem:** Create a Student class with a list of marks. Add a method to return average and pass/fail."
   ]
  },
  {
   "cell_type": "code",
   "execution_count": null,
   "id": "83de9f4a",
   "metadata": {},
   "outputs": [
    {
     "name": "stdout",
     "output_type": "stream",
     "text": [
      "The grade of the Sanjay is:Pass\n"
     ]
    }
   ],
   "source": [
    "class student:\n",
    "    def __init__(self,name,marks):\n",
    "        self.name = name\n",
    "        self.marks = marks\n",
    "    \n",
    "    def marks_Cal(self):\n",
    "        avg = sum(self.marks)/len(self.marks)\n",
    "        if avg >= 40:\n",
    "            return \"Pass\"\n",
    "        else:\n",
    "            return \"Faill\"\n",
    "\n",
    "\n",
    "stu = student(\"Sanjay\",[14,12,25,36,78,96])\n",
    "print(f'The Result of the {stu.name} is:{stu.marks_Cal()}')"
   ]
  },
  {
   "cell_type": "markdown",
   "id": "0992e460",
   "metadata": {},
   "source": [
    "**Problem:** Create a BankAccount class with deposit, withdraw, and balance display."
   ]
  },
  {
   "cell_type": "code",
   "execution_count": 1,
   "id": "ff53ede9",
   "metadata": {},
   "outputs": [
    {
     "name": "stdout",
     "output_type": "stream",
     "text": [
      "406800000000\n",
      "Shanmukha\n"
     ]
    }
   ],
   "source": [
    "class BankAccount:\n",
    "    def __init__(self,owner):\n",
    "        self.owner = owner\n",
    "        self.balance = 0\n",
    "    \n",
    "    def deposit(self,amount):\n",
    "        self.balance += amount\n",
    "    \n",
    "    def withdraw(self,amount):\n",
    "        if self.balance >= amount:\n",
    "            self.balance -= amount\n",
    "        else:\n",
    "            print(\"No Balance\")\n",
    "    \n",
    "    def display(self):\n",
    "        print(f'{self.balance}')\n",
    "        print(self.owner)\n",
    "\n",
    "\n",
    "name = BankAccount(\"Shanmukha\")\n",
    "name.deposit(452000000000)\n",
    "name.withdraw(45200000000)\n",
    "name.display()"
   ]
  },
  {
   "cell_type": "markdown",
   "id": "cfdccb97",
   "metadata": {},
   "source": [
    "**Inheritence**"
   ]
  },
  {
   "cell_type": "markdown",
   "id": "162a6943",
   "metadata": {},
   "source": [
    "Create a base class Vehicle with attributes like brand and model. Derive classes Car and Bike that add specific attributes and methods."
   ]
  },
  {
   "cell_type": "code",
   "execution_count": null,
   "id": "cc5d888e",
   "metadata": {},
   "outputs": [
    {
     "name": "stdout",
     "output_type": "stream",
     "text": [
      "The Car of the Brand BMW has the 4 doors\n",
      "The Bike of the Brand Yamaha has the CC of 370\n"
     ]
    }
   ],
   "source": [
    "class vehicle:\n",
    "    def __init__(self,brand,model):\n",
    "        self.brand = brand\n",
    "        self.model = model\n",
    "\n",
    "class car(vehicle):\n",
    "    def __init__(self,brand,model,doors):\n",
    "        super().__init__(brand,model)\n",
    "        self.doors = doors\n",
    "    \n",
    "    def display(self):\n",
    "        print(f'The Car of the Brand {self.brand} has the {self.doors} doors')\n",
    "\n",
    "class bike(vehicle):\n",
    "    def __init__(self,brand,model,cc):\n",
    "        super().__init__(brand,model)\n",
    "        self.cc = cc\n",
    "    \n",
    "    def display(self):\n",
    "        print(f'The Bike of the Brand {self.brand} has the CC of {self.cc}')\n",
    "\n",
    "\n",
    "car1 = car(\"BMW\",\"Q7\",4)\n",
    "bike1= bike(\"Yamaha\",\"R15\",\"370\")\n",
    "\n",
    "car1.display()\n",
    "bike1.display()"
   ]
  },
  {
   "cell_type": "markdown",
   "id": "14489b94",
   "metadata": {},
   "source": [
    "Write a base class Shape with a method to calculate area. Derive classes Rectangle and Circle to implement their own area calculation."
   ]
  },
  {
   "cell_type": "code",
   "execution_count": 38,
   "id": "03fc1e41",
   "metadata": {},
   "outputs": [
    {
     "name": "stdout",
     "output_type": "stream",
     "text": [
      "1350\n",
      "6358.5\n"
     ]
    }
   ],
   "source": [
    "class shape:\n",
    "    def area(self):\n",
    "        pass\n",
    "\n",
    "class Rectangle(shape):\n",
    "    def __init__(self,l,b):\n",
    "        self.l = l\n",
    "        self.b = b\n",
    "    \n",
    "    def area(self):\n",
    "        return self.l * self.b\n",
    "\n",
    "class Circle(shape):\n",
    "    def __init__(self,r):\n",
    "        self.r = r\n",
    "    \n",
    "    def area(self):\n",
    "        return 3.14 * self.r ** 2\n",
    "\n",
    "rect = Rectangle(30,45)\n",
    "cir = Circle(45)\n",
    "\n",
    "print(rect.area())\n",
    "print(cir.area())"
   ]
  },
  {
   "cell_type": "markdown",
   "id": "a7b0b50f",
   "metadata": {},
   "source": [
    "Create a class Person with attributes name and age. Derive a class Student with roll number and marks, and another class Teacher with subject and salary."
   ]
  },
  {
   "cell_type": "code",
   "execution_count": 42,
   "id": "9a6c1549",
   "metadata": {},
   "outputs": [
    {
     "name": "stdout",
     "output_type": "stream",
     "text": [
      "The Name of the student is: Shanmukh of age: 24 with the Roll Number: 1234560 has scored:88\n",
      "The Name of the Teacher is: Shannu Teaching the SUbject: Social is earning the salary of: 45000\n"
     ]
    }
   ],
   "source": [
    "class person:\n",
    "    def __init__(self,name,age):\n",
    "        self.name = name\n",
    "        self.age = age\n",
    "\n",
    "class student(person):\n",
    "    def __init__(self,name,age,roll,marks):\n",
    "        super().__init__(name,age)\n",
    "        self.roll = roll\n",
    "        self.marks = marks\n",
    "    def display(self):\n",
    "        print(f'The Name of the student is: {self.name} of age: {self.age} with the Roll Number: {self.roll} has scored:{self.marks}')\n",
    "\n",
    "class Teacher(person):\n",
    "    def __init__(self,name,age,salary,subject):\n",
    "        super().__init__(name,age)\n",
    "        self.salary = salary\n",
    "        self.subject = subject\n",
    "    def display(self):\n",
    "        print(f'The Name of the Teacher is: {self.name} Teaching the SUbject: {self.subject} is earning the salary of: {self.salary}')\n",
    "\n",
    "student1 = student(\"Shanmukh\",24,\"1234560\",\"88\")\n",
    "teacher1 = Teacher(\"Shannu\",45,\"45000\",\"Social\")\n",
    "\n",
    "student1.display()\n",
    "teacher1.display()"
   ]
  },
  {
   "cell_type": "markdown",
   "id": "a1590488",
   "metadata": {},
   "source": [
    "Build a class Employee with attributes name and salary. Create subclasses Manager and Developer that add role-specific allowances."
   ]
  },
  {
   "cell_type": "code",
   "execution_count": 43,
   "id": "741be242",
   "metadata": {},
   "outputs": [
    {
     "name": "stdout",
     "output_type": "stream",
     "text": [
      "9000.0\n",
      "4020.0\n"
     ]
    }
   ],
   "source": [
    "class employee:\n",
    "    def __init__(self,name,salary):\n",
    "        self.name = name\n",
    "        self.salary = salary\n",
    "        pass\n",
    "\n",
    "class manager(employee):\n",
    "    def bonus(self):\n",
    "        return self.salary * 0.2\n",
    "\n",
    "class dev(employee):\n",
    "    def bonus(self):\n",
    "        return self.salary * 0.1\n",
    "\n",
    "\n",
    "man = manager(\"Shanmukh\",45000)\n",
    "de = dev(\"shan\",40200)\n",
    "print(man.bonus())\n",
    "print(de.bonus())"
   ]
  },
  {
   "cell_type": "markdown",
   "id": "b69ad224",
   "metadata": {},
   "source": [
    "**Encapsulation**"
   ]
  },
  {
   "cell_type": "markdown",
   "id": "56d8179a",
   "metadata": {},
   "source": [
    "Create a class Account with private attributes balance and password. Provide getters and setters to safely access/update them."
   ]
  },
  {
   "cell_type": "code",
   "execution_count": 47,
   "id": "01ffee0d",
   "metadata": {},
   "outputs": [
    {
     "name": "stdout",
     "output_type": "stream",
     "text": [
      "450000\n",
      "Access Denied\n"
     ]
    }
   ],
   "source": [
    "class Account:\n",
    "    def __init__(self,balance,password):\n",
    "        self.__balance = balance\n",
    "        self.__password = password\n",
    "    def get_balance(self,password):\n",
    "        if password == self.__password:\n",
    "            return self.__balance\n",
    "        else:\n",
    "            return \"Access Denied\"\n",
    "    def set__balance(self,passowrd,ammount):\n",
    "        if passowrd == self.__password:\n",
    "            if ammount >= 0:\n",
    "                self.__balance += ammount\n",
    "            else:\n",
    "                return \"Enter the Proper Ammount\"\n",
    "        else:\n",
    "            return \"Access Denied\"\n",
    "\n",
    "\n",
    "shan = Account(450000,12450)\n",
    "\n",
    "print(shan.get_balance(12450))    \n",
    "print(shan.get_balance(\"1234\")) "
   ]
  },
  {
   "cell_type": "markdown",
   "id": "32276c9e",
   "metadata": {},
   "source": [
    "Write a class Student with private attributes for marks. Provide methods to set marks (with validation) and calculate grade."
   ]
  },
  {
   "cell_type": "code",
   "execution_count": 56,
   "id": "ca3aceda",
   "metadata": {},
   "outputs": [
    {
     "name": "stdout",
     "output_type": "stream",
     "text": [
      "A\n"
     ]
    }
   ],
   "source": [
    "class student:\n",
    "    def __init__(self,name):\n",
    "        self.name = name\n",
    "        self.__marks = 0\n",
    "    \n",
    "    def set_marks(self,marks):\n",
    "        if 0 <= marks <= 100:\n",
    "            self.__marks = marks\n",
    "        else:\n",
    "            return \"Invalid Marks\"    \n",
    "    \n",
    "    def get_grade(self):\n",
    "        if self.__marks >= 90:\n",
    "            return \"A\"\n",
    "        elif self.__marks >= 75:\n",
    "            return \"B\"\n",
    "        elif self.__marks >= 50:\n",
    "            return \"C\"\n",
    "        else:\n",
    "            return \"Fail\"\n",
    "\n",
    "\n",
    "shan = student(\"Shanmukh\")\n",
    "shan.set_marks(99)\n",
    "print(shan.get_grade())"
   ]
  },
  {
   "cell_type": "markdown",
   "id": "dfa00486",
   "metadata": {},
   "source": [
    "Define a class BankAccount where balance can only be modified using deposit() and withdraw() methods, not directly."
   ]
  },
  {
   "cell_type": "code",
   "execution_count": null,
   "id": "9d59e5af",
   "metadata": {},
   "outputs": [
    {
     "name": "stdout",
     "output_type": "stream",
     "text": [
      "None\n",
      "None\n"
     ]
    }
   ],
   "source": [
    "class bankaccount:\n",
    "    def __init__(self,name,balance = 0,):\n",
    "        self.name = name\n",
    "        self.__balance = balance\n",
    "    \n",
    "    def deposit(self,ammount):\n",
    "        self.__balance += ammount\n",
    "        \n",
    "    \n",
    "    def withdraw(self,ammount):\n",
    "        if ammount <= self.__balance:\n",
    "            self.__balance -= ammount\n",
    "        else:\n",
    "            print(\"Insufficient balance\")\n",
    "    \n",
    "    def get_balance(self):\n",
    "        return self.__balance\n",
    "\n",
    "\n",
    "shan = bankaccount(\"shanm\")\n",
    "print(shan.deposit(450000))\n",
    "print(shan.withdraw(45820))"
   ]
  },
  {
   "cell_type": "markdown",
   "id": "8900b27d",
   "metadata": {},
   "source": [
    "Create a class Product with private attributes price and discount. Use methods to calculate final price after applying discount"
   ]
  },
  {
   "cell_type": "code",
   "execution_count": 62,
   "id": "cb22917c",
   "metadata": {},
   "outputs": [
    {
     "name": "stdout",
     "output_type": "stream",
     "text": [
      "9900.0\n"
     ]
    }
   ],
   "source": [
    "class product:\n",
    "    def __init__(self,price,discount):\n",
    "        self.__price = price\n",
    "        self.__discount = discount\n",
    "\n",
    "    def final(self):\n",
    "        return self.__price - (self.__price * self.__discount / 100)\n",
    "\n",
    "shan = product(45000,78)\n",
    "print(shan.final())"
   ]
  },
  {
   "cell_type": "markdown",
   "id": "65a64bc4",
   "metadata": {},
   "source": [
    "Write a class Employee with private salary attribute. Allow only HR (through a method) to update salary"
   ]
  },
  {
   "cell_type": "code",
   "execution_count": null,
   "id": "bdf5feec",
   "metadata": {},
   "outputs": [
    {
     "name": "stdout",
     "output_type": "stream",
     "text": [
      "45000\n",
      "48000\n"
     ]
    }
   ],
   "source": [
    "class employee:\n",
    "    def __init__(self,name,salary):\n",
    "        self.name = name\n",
    "        self.__salary = salary\n",
    "    \n",
    "    def get_salary(self):\n",
    "        return self.__salary\n",
    "    \n",
    "    def update_salary(self, new_salary,role):\n",
    "        if role == 'Hr':\n",
    "            self.__salary = new_salary\n",
    "        else:\n",
    "            return \"Access Denied\"\n",
    "\n",
    "shan = employee(\"shanmukh\",45000)\n",
    "print(shan.get_salary())\n",
    "shan.update_salary(48000,\"Hr\")\n",
    "print(shan.get_salary())"
   ]
  },
  {
   "cell_type": "markdown",
   "id": "28a9adf1",
   "metadata": {},
   "source": [
    "**Polymorphism**"
   ]
  },
  {
   "cell_type": "markdown",
   "id": "52374c02",
   "metadata": {},
   "source": [
    "Demonstrate operator overloading: Create a class Vector and overload the + operator to add two vectors."
   ]
  },
  {
   "cell_type": "code",
   "execution_count": 70,
   "id": "5462294c",
   "metadata": {},
   "outputs": [
    {
     "name": "stdout",
     "output_type": "stream",
     "text": [
      "Sum of vectors: (6, 8)\n"
     ]
    }
   ],
   "source": [
    "# class maths:\n",
    "#     def __init__(self,number1 , number2):\n",
    "#         self.number1 = number1\n",
    "#         self.number2 = number2\n",
    "\n",
    "\n",
    "#     def __add__(self,other):\n",
    "#         return maths (self.number1 + self.other, self.number2 + self.other)\n",
    "#     def __str__(self):\n",
    "#         return f\"({self.number1}, {self.number2})\"\n",
    "\n",
    "# v1 = maths(2, 3)\n",
    "# v2 = maths(4, 5)\n",
    "# print(\"Sum of vectors:\", v1 + v2)\n",
    "\n",
    "\n",
    "\n",
    "\n",
    "class Maths:\n",
    "    def __init__(self, number1, number2):\n",
    "        self.number1 = number1\n",
    "        self.number2 = number2\n",
    "\n",
    "    def __add__(self, other):  # operator overloading\n",
    "        return Maths(self.number1 + other.number1, self.number2 + other.number2)\n",
    "\n",
    "    def __str__(self):  # nice string representation\n",
    "        return f\"({self.number1}, {self.number2})\"\n",
    "\n",
    "\n",
    "v1 = Maths(2, 3)\n",
    "v2 = Maths(4, 5)\n",
    "\n",
    "print(\"Sum of vectors:\", v1 + v2)\n",
    "\n"
   ]
  }
 ],
 "metadata": {
  "kernelspec": {
   "display_name": "Python 3",
   "language": "python",
   "name": "python3"
  },
  "language_info": {
   "codemirror_mode": {
    "name": "ipython",
    "version": 3
   },
   "file_extension": ".py",
   "mimetype": "text/x-python",
   "name": "python",
   "nbconvert_exporter": "python",
   "pygments_lexer": "ipython3",
   "version": "3.12.1"
  }
 },
 "nbformat": 4,
 "nbformat_minor": 5
}

{
 "cells": [
  {
   "cell_type": "code",
   "execution_count": 4,
   "id": "10740a5e",
   "metadata": {},
   "outputs": [
    {
     "name": "stdout",
     "output_type": "stream",
     "text": [
      "----------------------------------------Welcome to the store----------------------------------------\n",
      "1. Rice - Rs 60\n",
      "2. Wheat Flour - Rs 45\n",
      "3. Sugar - Rs 40\n",
      "4. Milk - Rs 25\n",
      "5. Eggs (12 pcs) - Rs 70\n",
      "6. Cooking Oil - Rs 130\n",
      "7. Tea Powder - Rs 90\n",
      "8. Salt - Rs 20\n",
      "9. Bread - Rs 30\n",
      "10. Soap - Rs 25\n",
      "\n",
      " Bill Summary:\n",
      "Rice - 1 * Rs 60 = Rs 60\n",
      "Wheat Flour - 1 * Rs 45 = Rs 45\n",
      "\n",
      "Total Amount: Rs 105\n",
      "---------------------------------------Thank-You Visit Again----------------------------------------\n"
     ]
    }
   ],
   "source": [
    "data = {\n",
    "    1: {\"Name\": \"Rice\", \"Price\": 60},\n",
    "    2: {\"Name\": \"Wheat Flour\", \"Price\": 45},\n",
    "    3: {\"Name\": \"Sugar\", \"Price\": 40},\n",
    "    4: {\"Name\": \"Milk\", \"Price\": 25},\n",
    "    5: {\"Name\": \"Eggs (12 pcs)\", \"Price\": 70},\n",
    "    6: {\"Name\": \"Cooking Oil\", \"Price\": 130},\n",
    "    7: {\"Name\": \"Tea Powder\", \"Price\": 90},\n",
    "    8: {\"Name\": \"Salt\", \"Price\": 20},\n",
    "    9: {\"Name\": \"Bread\", \"Price\": 30},\n",
    "    10: {\"Name\": \"Soap\", \"Price\": 25}\n",
    "}\n",
    "\n",
    "# Display all items\n",
    "word = \"Welcome to the store\"\n",
    "print(word.center(100, '-'))\n",
    "\n",
    "for i in data:\n",
    "    print(f\"{i}. {data[i]['Name']} - Rs {data[i]['Price']}\")\n",
    "\n",
    "# User enters product indexes (can repeat)\n",
    "items = list(map(int, input(\"Enter the product indexes (e.g. 1 2 2 5 5 5): \").split()))\n",
    "\n",
    "# Count how many times each item was entered\n",
    "from collections import Counter\n",
    "item_counts = Counter(items)\n",
    "\n",
    "# Total calculation\n",
    "total = 0\n",
    "print(\"\\n Bill Summary:\")\n",
    "for i in item_counts:\n",
    "    if i in data:\n",
    "        c = item_counts[i]\n",
    "        print(f\"{data[i]['Name']} - {c} * Rs {data[i]['Price']} = Rs {c * data[i]['Price']}\")\n",
    "        total += data[i][\"Price\"] * c\n",
    "    else:\n",
    "        print(f\"❌ Product index {i} not found!\")\n",
    "\n",
    "print(f\"\\nTotal Amount: Rs {total}\")\n",
    "\n",
    "w = \"Thank-You Visit Again\"\n",
    "print(w.center(100, '-'))\n"
   ]
  },
  {
   "cell_type": "code",
   "execution_count": null,
   "id": "40cdd98d",
   "metadata": {},
   "outputs": [],
   "source": []
  },
  {
   "cell_type": "code",
   "execution_count": null,
   "id": "e0b4896c",
   "metadata": {},
   "outputs": [
    {
     "name": "stdout",
     "output_type": "stream",
     "text": [
      "Photo_gallery :\n",
      "1. beach.png\n",
      "2. mountain.jpg\n",
      "3. party1.jpg\n",
      "4. selfie.png\n",
      "5. birthday.png\n",
      "6. concert.png\n",
      "7. sunset.png\n",
      "8. trip1.jpg\n"
     ]
    }
   ],
   "source": [
    "Photo_gallery = {\n",
    "    1: \"beach.png\",\n",
    "    2: \"mountain.jpg\",\n",
    "    3: \"party1.jpg\",\n",
    "    4: \"selfie.png\",\n",
    "    5: \"birthday.png\",\n",
    "    6: \"concert.png\",\n",
    "    7: \"sunset.png\",\n",
    "    8: \"trip1.jpg\"\n",
    "}\n",
    "print(\"Photo_gallery :\")\n",
    "for index, photo in Photo_gallery.items():\n",
    "    print(f\"{index}. {photo}\")\n",
    "selection = list(map(str, input(\"Enter the Numbers for the photos you want to share (comma-separated): \").split(\",\")))\n",
    "shared_photos = []\n",
    "for num in selection:\n",
    "    num = num.strip()\n",
    "    if num.isdigit():\n",
    "        index = int(num)\n",
    "        if index in Photo_gallery:\n",
    "            photo = Photo_gallery[index]\n",
    "            if photo not in shared_photos:\n",
    "                shared_photos.append(photo)\n",
    "print(\"\\nSharing the following photos:\")\n",
    "for photo in shared_photos:\n",
    "    print(photo)"
   ]
  },
  {
   "cell_type": "code",
   "execution_count": null,
   "id": "7f52a419",
   "metadata": {},
   "outputs": [],
   "source": [
    "gallery = {\n",
    "    1:\"beach.png\",\n",
    "    2:\"mountain.png\",\n",
    "    3:\"party1.png,\n",
    "    4:\"\"\n",
    "}"
   ]
  }
 ],
 "metadata": {
  "kernelspec": {
   "display_name": "Python 3",
   "language": "python",
   "name": "python3"
  },
  "language_info": {
   "codemirror_mode": {
    "name": "ipython",
    "version": 3
   },
   "file_extension": ".py",
   "mimetype": "text/x-python",
   "name": "python",
   "nbconvert_exporter": "python",
   "pygments_lexer": "ipython3",
   "version": "3.12.1"
  }
 },
 "nbformat": 4,
 "nbformat_minor": 5
}

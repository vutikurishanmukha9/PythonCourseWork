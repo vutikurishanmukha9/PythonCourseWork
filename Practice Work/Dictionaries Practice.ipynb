{
 "cells": [
  {
   "cell_type": "code",
   "execution_count": null,
   "id": "3453f65d",
   "metadata": {},
   "outputs": [
    {
     "name": "stdout",
     "output_type": "stream",
     "text": [
      "Name: HCL Area: HYD SFT: 145\n",
      "Name: Accenture Area: Mindspace SFT: 250\n",
      "Name: Wipro Area: Gachibowli SFT: 350\n",
      "Name: Infosys Area: Madhapur SFT: 400\n",
      "Name: Capgemini Area: Kondapur SFT: 450\n"
     ]
    }
   ],
   "source": [
    "# Create a dictionary of 5 items and print all keys and value\n",
    "# Create a dictionary of 5 items and print all keys and values\n",
    "# Create a dictionary of 5 items and print all keys and value\n",
    "Company = {\n",
    "    \n",
    "    1:{\"Name\":\"HCL\",\"Area\":\"HYD\",\"SFT\":\"145\"},\n",
    "    2:{\"Name\":\"Accenture\",\"Area\":\"Mindspace\",\"SFT\":\"250\"},\n",
    "    3:{\"Name\":\"Wipro\",\"Area\":\"Gachibowli\",\"SFT\":\"350\"},\n",
    "    4:{\"Name\":\"Infosys\",\"Area\":\"Madhapur\",\"SFT\":\"400\"},\n",
    "    5:{\"Name\":\"Capgemini\",\"Area\":\"Kondapur\",\"SFT\":\"450\"}\n",
    "}\n",
    "\n",
    "\n",
    "Compnay[]\n",
    "\n",
    "for key,value in Company.items():\n",
    "    print(f'Name: {value['Name']} Area: {value['Area']} SFT: {value['SFT']}')"
   ]
  }
 ],
 "metadata": {
  "kernelspec": {
   "display_name": "Python 3",
   "language": "python",
   "name": "python3"
  },
  "language_info": {
   "codemirror_mode": {
    "name": "ipython",
    "version": 3
   },
   "file_extension": ".py",
   "mimetype": "text/x-python",
   "name": "python",
   "nbconvert_exporter": "python",
   "pygments_lexer": "ipython3",
   "version": "3.12.1"
  }
 },
 "nbformat": 4,
 "nbformat_minor": 5
}

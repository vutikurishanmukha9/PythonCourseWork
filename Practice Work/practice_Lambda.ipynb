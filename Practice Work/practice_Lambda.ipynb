{
 "cells": [
  {
   "cell_type": "markdown",
   "id": "14740abe",
   "metadata": {},
   "source": [
    "**Square of a list**"
   ]
  },
  {
   "cell_type": "code",
   "execution_count": 1,
   "id": "f70f26c0",
   "metadata": {},
   "outputs": [
    {
     "name": "stdout",
     "output_type": "stream",
     "text": [
      "[100, 400, 2025, 640000]\n"
     ]
    }
   ],
   "source": [
    "n = list(map(int,input().split()))\n",
    "x = list(map(lambda x:x**2, n))\n",
    "print(x)"
   ]
  },
  {
   "cell_type": "markdown",
   "id": "17f9e0aa",
   "metadata": {},
   "source": [
    "**Check if number is even using lambda**"
   ]
  },
  {
   "cell_type": "code",
   "execution_count": 6,
   "id": "acc5b188",
   "metadata": {},
   "outputs": [
    {
     "name": "stdout",
     "output_type": "stream",
     "text": [
      "even\n"
     ]
    }
   ],
   "source": [
    "n = int(input(\"Enter a number:  \"))\n",
    "x = lambda x:'even' if x%2==0 else 'odd'\n",
    "print(x(n))"
   ]
  },
  {
   "cell_type": "markdown",
   "id": "d4acc420",
   "metadata": {},
   "source": [
    "**Get maximum of two numbers using lambda**"
   ]
  },
  {
   "cell_type": "code",
   "execution_count": 8,
   "id": "7cf8dee7",
   "metadata": {},
   "outputs": [
    {
     "name": "stdout",
     "output_type": "stream",
     "text": [
      "458514\n"
     ]
    }
   ],
   "source": [
    "a,b = map(int,input().split())\n",
    "x = lambda a,b: a if a > b else b\n",
    "print(x(a,b))"
   ]
  },
  {
   "cell_type": "markdown",
   "id": "4cf4bf66",
   "metadata": {},
   "source": [
    "**Multiply two numbers using lambda**"
   ]
  },
  {
   "cell_type": "code",
   "execution_count": 9,
   "id": "4958f79b",
   "metadata": {},
   "outputs": [
    {
     "name": "stdout",
     "output_type": "stream",
     "text": [
      "36656000\n"
     ]
    }
   ],
   "source": [
    "a,b = map(int,input().split())\n",
    "x = lambda a,b: a*b\n",
    "print(x(a,b))"
   ]
  },
  {
   "cell_type": "markdown",
   "id": "7a9dfe06",
   "metadata": {},
   "source": [
    "**Sort a list of tuples by second element using lambda**"
   ]
  },
  {
   "cell_type": "code",
   "execution_count": 12,
   "id": "b3ce43c3",
   "metadata": {},
   "outputs": [
    {
     "name": "stdout",
     "output_type": "stream",
     "text": [
      "((2, 1), (3, 2), (1, 5), (4, 8))\n"
     ]
    }
   ],
   "source": [
    "a = ((1, 5), (3, 2), (4, 8), (2, 1))\n",
    "sort_by_second = lambda arr: tuple(sorted(arr, key=lambda x: x[1]))\n",
    "print(sort_by_second(a))"
   ]
  },
  {
   "cell_type": "markdown",
   "id": "ce093b91",
   "metadata": {},
   "source": [
    "**Filter even numbers from a list using lambda and filter()**"
   ]
  },
  {
   "cell_type": "code",
   "execution_count": 14,
   "id": "82da1863",
   "metadata": {},
   "outputs": [
    {
     "name": "stdout",
     "output_type": "stream",
     "text": [
      "[10, 12, 47, 85, 80, 12, 30]\n",
      "[10, 12, 80, 12, 30]\n"
     ]
    }
   ],
   "source": [
    "n = list(map(int,input().split()))\n",
    "print(n)\n",
    "x = list(filter(lambda x: x % 2 ==0 , n))\n",
    "print(x)"
   ]
  },
  {
   "cell_type": "markdown",
   "id": "1d1b89fe",
   "metadata": {},
   "source": [
    "**Square each element in a list using lambda and map()**"
   ]
  },
  {
   "cell_type": "code",
   "execution_count": 16,
   "id": "cf35ef47",
   "metadata": {},
   "outputs": [
    {
     "name": "stdout",
     "output_type": "stream",
     "text": [
      "1 4 9 16 25 36\n"
     ]
    }
   ],
   "source": [
    "n = list(map(int,input().split()))\n",
    "x = list(map(lambda x: x**2, n))\n",
    "print(*x)"
   ]
  },
  {
   "cell_type": "markdown",
   "id": "514986e9",
   "metadata": {},
   "source": [
    "**Convert list of strings to uppercase using lambda**"
   ]
  },
  {
   "cell_type": "code",
   "execution_count": 20,
   "id": "68150297",
   "metadata": {},
   "outputs": [
    {
     "name": "stdout",
     "output_type": "stream",
     "text": [
      "ASDFGHJK\n"
     ]
    }
   ],
   "source": [
    "s = input()\n",
    "x = lambda x: x.upper()\n",
    "print(x(s))"
   ]
  },
  {
   "cell_type": "markdown",
   "id": "ab92dddd",
   "metadata": {},
   "source": [
    "**Return length of a string using lambda**"
   ]
  },
  {
   "cell_type": "code",
   "execution_count": 24,
   "id": "ed9d1636",
   "metadata": {},
   "outputs": [
    {
     "name": "stdout",
     "output_type": "stream",
     "text": [
      "7\n"
     ]
    }
   ],
   "source": [
    "x = input()\n",
    "n = lambda x: len(x)\n",
    "print(n(x))"
   ]
  },
  {
   "cell_type": "markdown",
   "id": "2677519e",
   "metadata": {},
   "source": [
    "**Check if string starts with a vowel using lambda**"
   ]
  },
  {
   "cell_type": "code",
   "execution_count": 26,
   "id": "b86d6054",
   "metadata": {},
   "outputs": [
    {
     "name": "stdout",
     "output_type": "stream",
     "text": [
      "True\n"
     ]
    }
   ],
   "source": [
    "n = input()\n",
    "vowles = ['a', 'e', 'i', 'o', 'u', 'A', 'E', 'I', 'O', 'U']\n",
    "x = lambda n: 'True' if n[0] in vowles else 'False'\n",
    "print(x(n))"
   ]
  },
  {
   "cell_type": "markdown",
   "id": "391649ed",
   "metadata": {},
   "source": [
    "**Add 10 to each element using lambda and map()**"
   ]
  },
  {
   "cell_type": "code",
   "execution_count": 33,
   "id": "0fb30aed",
   "metadata": {},
   "outputs": [
    {
     "name": "stdout",
     "output_type": "stream",
     "text": [
      "[11, 12, 13, 14, 15, 16]\n"
     ]
    }
   ],
   "source": [
    "n = list(map(int,input().split()))\n",
    "x = list(map(lambda n: n+10,n))\n",
    "print(x)"
   ]
  },
  {
   "cell_type": "markdown",
   "id": "d981c87f",
   "metadata": {},
   "source": [
    "**Filter strings longer than 3 characters**"
   ]
  },
  {
   "cell_type": "code",
   "execution_count": 38,
   "id": "7ec47122",
   "metadata": {},
   "outputs": [
    {
     "name": "stdout",
     "output_type": "stream",
     "text": [
      "['fghjkl', 'tyuio', 'vbnm', 'hjkl']\n"
     ]
    }
   ],
   "source": [
    "string = input().split()  \n",
    "x = filter(lambda n: len(n) > 3, string) \n",
    "print(list(x))  \n"
   ]
  }
 ],
 "metadata": {
  "kernelspec": {
   "display_name": "Python 3",
   "language": "python",
   "name": "python3"
  },
  "language_info": {
   "codemirror_mode": {
    "name": "ipython",
    "version": 3
   },
   "file_extension": ".py",
   "mimetype": "text/x-python",
   "name": "python",
   "nbconvert_exporter": "python",
   "pygments_lexer": "ipython3",
   "version": "3.12.1"
  }
 },
 "nbformat": 4,
 "nbformat_minor": 5
}

{
 "cells": [
  {
   "cell_type": "code",
   "execution_count": 3,
   "id": "a7f3e58e",
   "metadata": {},
   "outputs": [
    {
     "name": "stdout",
     "output_type": "stream",
     "text": [
      "1 2 3 4 5 6 7 8 9 10 11 12 13 14 15 16 17 18 19 20 21 22 23 24 25 26 27 28 29 30 31 32 33 34 35 36 37 38 39 40 41 42 43 44 45 46 47 48 49 50 51 52 53 54 55 56 57 58 59 60 61 62 63 64 65 66 67 68 69 70 71 72 73 74 75 76 77 78 79 80 81 82 83 84 85 86 87 88 89 90 91 92 93 94 95 96 97 98 99 100 "
     ]
    }
   ],
   "source": [
    "# Print numbers from 1 to 100 using a loop.\n",
    "n = int(input())\n",
    "for i in range(n,101):\n",
    "    print(i,end = \" \")"
   ]
  },
  {
   "cell_type": "code",
   "execution_count": 5,
   "id": "ebeb1910",
   "metadata": {},
   "outputs": [
    {
     "name": "stdout",
     "output_type": "stream",
     "text": [
      "820 X 0 = 0\n",
      "820 X 1 = 820\n",
      "820 X 2 = 1640\n",
      "820 X 3 = 2460\n",
      "820 X 4 = 3280\n",
      "820 X 5 = 4100\n",
      "820 X 6 = 4920\n",
      "820 X 7 = 5740\n",
      "820 X 8 = 6560\n",
      "820 X 9 = 7380\n",
      "820 X 10 = 8200\n",
      "820 X 11 = 9020\n",
      "820 X 12 = 9840\n",
      "820 X 13 = 10660\n",
      "820 X 14 = 11480\n",
      "820 X 15 = 12300\n",
      "820 X 16 = 13120\n",
      "820 X 17 = 13940\n",
      "820 X 18 = 14760\n",
      "820 X 19 = 15580\n",
      "820 X 20 = 16400\n"
     ]
    }
   ],
   "source": [
    "# Print the multiplication table of a given number.\n",
    "n = int(input(\"Enter the number: \"))\n",
    "for i in range(21):\n",
    "    print(f'{n} X {i} = {n*i}')"
   ]
  },
  {
   "cell_type": "code",
   "execution_count": 8,
   "id": "aa9785d8",
   "metadata": {},
   "outputs": [
    {
     "name": "stdout",
     "output_type": "stream",
     "text": [
      "The Total vowels in the string are:  0\n"
     ]
    }
   ],
   "source": [
    "# Count the number of vowels in a given string.\n",
    "n = input(\"Enter the string: \")\n",
    "count = 0\n",
    "vowels = \"aeiouAEIOU\"\n",
    "for char in n:\n",
    "    if char in vowels:\n",
    "        count = count + 1\n",
    "print(\"The Total vowels in the string are: \",count)"
   ]
  },
  {
   "cell_type": "code",
   "execution_count": 12,
   "id": "0244d665",
   "metadata": {},
   "outputs": [
    {
     "name": "stdout",
     "output_type": "stream",
     "text": [
      "0\n",
      "2\n",
      "4\n",
      "6\n",
      "8\n",
      "10\n"
     ]
    }
   ],
   "source": [
    "# Print all even numbers from 1 to N.\n",
    "n = int(input(\"Enter the number: \"))\n",
    "for i in range(n+1):\n",
    "    if i % 2 == 0:\n",
    "        print(i)"
   ]
  },
  {
   "cell_type": "code",
   "execution_count": 17,
   "id": "1a4afd39",
   "metadata": {},
   "outputs": [
    {
     "name": "stdout",
     "output_type": "stream",
     "text": [
      "1\n",
      "3\n",
      "6\n",
      "10\n",
      "15\n",
      "21\n",
      "28\n",
      "36\n",
      "45\n",
      "55\n",
      "The Sum of N numbers using formulae: 55\n",
      "The Sum of all the numbers from 1 to 10 is 55\n"
     ]
    }
   ],
   "source": [
    "# .Calculate the sum of all numbers from 1 to N\n",
    "n = int(input(\"Enter the input: \"))\n",
    "count = 0\n",
    "for i in range(1,n+1):\n",
    "    count = count + i\n",
    "    print(count)\n",
    "print(\"The Sum of N numbers using formulae:\",(n*(n+1))//2)\n",
    "print(\"The Sum of all the numbers from 1 to\", n, \"is\", count)\n"
   ]
  },
  {
   "cell_type": "code",
   "execution_count": 19,
   "id": "7900abcb",
   "metadata": {},
   "outputs": [
    {
     "name": "stdout",
     "output_type": "stream",
     "text": [
      "1\n",
      "2\n",
      "6\n",
      "24\n",
      "120\n",
      "720\n",
      "5040\n",
      "40320\n",
      "362880\n",
      "3628800\n",
      "The factorial of the number is:  3628800\n"
     ]
    }
   ],
   "source": [
    "# Find the factorial of a number using a loop.\n",
    "n = int(input(\"Enter the input: \"))\n",
    "fact = 1\n",
    "for i in range(1,n+1):\n",
    "    fact = fact * i\n",
    "    print(fact)\n",
    "print(\"The factorial of the number is: \", fact)\n",
    "\n"
   ]
  },
  {
   "cell_type": "code",
   "execution_count": 25,
   "id": "f8ebf4c1",
   "metadata": {},
   "outputs": [
    {
     "name": "stdout",
     "output_type": "stream",
     "text": [
      "Reversed string: hkumnahs\n"
     ]
    }
   ],
   "source": [
    "# Reverse a string using a loop.\n",
    "n = input(\"Enter the string: \")\n",
    "container = \"\"\n",
    "for i in n:\n",
    "    container = i + container\n",
    "print(\"Reversed string:\", container)"
   ]
  },
  {
   "cell_type": "code",
   "execution_count": 30,
   "id": "dfcb6328",
   "metadata": {},
   "outputs": [
    {
     "name": "stdout",
     "output_type": "stream",
     "text": [
      "\n",
      "*\n",
      "**\n",
      "***\n",
      "****\n"
     ]
    }
   ],
   "source": [
    "# Print a pattern like this:\n",
    "# *\n",
    "# **\n",
    "# ***\n",
    "# ****\n",
    "\n",
    "n = int(input(\"Enter the number: \"))\n",
    "for i in range(n):\n",
    "    for j in range(i):\n",
    "        print(\"*\", end=\"\")\n",
    "    print()\n"
   ]
  },
  {
   "cell_type": "code",
   "execution_count": 31,
   "id": "6b722eda",
   "metadata": {},
   "outputs": [
    {
     "name": "stdout",
     "output_type": "stream",
     "text": [
      "'s' appears 1 times\n",
      "'h' appears 2 times\n",
      "'a' appears 1 times\n",
      "'n' appears 1 times\n",
      "'m' appears 1 times\n",
      "'u' appears 1 times\n",
      "'k' appears 1 times\n"
     ]
    }
   ],
   "source": [
    "# Count how many times each character appears in a string.\n",
    "n = input(\"Enter the string: \")\n",
    "char_count = {}\n",
    "for char in n:\n",
    "    if char in char_count:\n",
    "        char_count[char] += 1\n",
    "    else:\n",
    "        char_count[char] = 1\n",
    "\n",
    "for char, count in char_count.items():\n",
    "    print(f\"'{char}' appears {count} times\")"
   ]
  }
 ],
 "metadata": {
  "kernelspec": {
   "display_name": "Python 3",
   "language": "python",
   "name": "python3"
  },
  "language_info": {
   "codemirror_mode": {
    "name": "ipython",
    "version": 3
   },
   "file_extension": ".py",
   "mimetype": "text/x-python",
   "name": "python",
   "nbconvert_exporter": "python",
   "pygments_lexer": "ipython3",
   "version": "3.12.1"
  }
 },
 "nbformat": 4,
 "nbformat_minor": 5
}

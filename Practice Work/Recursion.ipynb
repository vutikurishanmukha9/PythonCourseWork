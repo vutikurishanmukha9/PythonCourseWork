{
 "cells": [
  {
   "cell_type": "markdown",
   "id": "13d50d54",
   "metadata": {},
   "source": [
    "**Sum of N natural numbers**"
   ]
  },
  {
   "cell_type": "code",
   "execution_count": null,
   "id": "97e67715",
   "metadata": {},
   "outputs": [
    {
     "data": {
      "text/plain": [
       "55"
      ]
     },
     "execution_count": 4,
     "metadata": {},
     "output_type": "execute_result"
    }
   ],
   "source": [
    "def sum(n):\n",
    "    if n == 0:\n",
    "        return 0\n",
    "    return n + sum(n-1)\n",
    "\n",
    "n = int(input(\"Enter the input: \"))\n",
    "sum(n)"
   ]
  },
  {
   "cell_type": "markdown",
   "id": "91932e35",
   "metadata": {},
   "source": [
    "Sum(10) = 55\n",
    "10 + Sum(9) = "
   ]
  },
  {
   "cell_type": "markdown",
   "id": "f18ee7e4",
   "metadata": {},
   "source": [
    "**Factroial of a number**"
   ]
  },
  {
   "cell_type": "code",
   "execution_count": 6,
   "id": "474c39d8",
   "metadata": {},
   "outputs": [
    {
     "data": {
      "text/plain": [
       "120"
      ]
     },
     "execution_count": 6,
     "metadata": {},
     "output_type": "execute_result"
    }
   ],
   "source": [
    "def fact(n):\n",
    "    if n == 1:\n",
    "        return 1\n",
    "    return n * fact(n-1)\n",
    "\n",
    "n = int(input(\"Enter the Input: \"))\n",
    "fact(n)"
   ]
  },
  {
   "cell_type": "markdown",
   "id": "800176ea",
   "metadata": {},
   "source": [
    "**Reverse a String**"
   ]
  },
  {
   "cell_type": "code",
   "execution_count": 11,
   "id": "09d50534",
   "metadata": {},
   "outputs": [
    {
     "name": "stdout",
     "output_type": "stream",
     "text": [
      "u n n a h s "
     ]
    }
   ],
   "source": [
    "def reverse(s,ind):\n",
    "    if ind == len(s):\n",
    "        return \n",
    "    reverse(s,ind+1)\n",
    "    print(s[ind], end = ' ')\n",
    "\n",
    "s = input(\"Enter the input: \")\n",
    "reverse(s,0)"
   ]
  },
  {
   "cell_type": "code",
   "execution_count": null,
   "id": "bb287e9f",
   "metadata": {},
   "outputs": [
    {
     "name": "stdout",
     "output_type": "stream",
     "text": [
      "Sum of digits: 15\n"
     ]
    }
   ],
   "source": [
    "def sum"
   ]
  }
 ],
 "metadata": {
  "kernelspec": {
   "display_name": "Python 3",
   "language": "python",
   "name": "python3"
  },
  "language_info": {
   "codemirror_mode": {
    "name": "ipython",
    "version": 3
   },
   "file_extension": ".py",
   "mimetype": "text/x-python",
   "name": "python",
   "nbconvert_exporter": "python",
   "pygments_lexer": "ipython3",
   "version": "3.12.1"
  }
 },
 "nbformat": 4,
 "nbformat_minor": 5
}

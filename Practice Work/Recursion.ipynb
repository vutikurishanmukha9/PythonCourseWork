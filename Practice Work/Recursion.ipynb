{
 "cells": [
  {
   "cell_type": "markdown",
   "id": "13d50d54",
   "metadata": {},
   "source": [
    "**Sum of N natural numbers**"
   ]
  },
  {
   "cell_type": "code",
   "execution_count": 4,
   "id": "97e67715",
   "metadata": {},
   "outputs": [
    {
     "data": {
      "text/plain": [
       "55"
      ]
     },
     "execution_count": 4,
     "metadata": {},
     "output_type": "execute_result"
    }
   ],
   "source": [
    "def sum(n):\n",
    "    if n == 0:\n",
    "        return 0\n",
    "    return n + sum(n-1)\n",
    "\n",
    "n = int(input(\"Enter the input: \"))\n",
    "sum(n)"
   ]
  },
  {
   "cell_type": "markdown",
   "id": "91932e35",
   "metadata": {},
   "source": [
    "Sum(10) = 55\n",
    "10 + Sum(9) = "
   ]
  },
  {
   "cell_type": "markdown",
   "id": "f18ee7e4",
   "metadata": {},
   "source": [
    "**Factroial of a number**"
   ]
  },
  {
   "cell_type": "code",
   "execution_count": 6,
   "id": "474c39d8",
   "metadata": {},
   "outputs": [
    {
     "data": {
      "text/plain": [
       "120"
      ]
     },
     "execution_count": 6,
     "metadata": {},
     "output_type": "execute_result"
    }
   ],
   "source": [
    "def fact(n):\n",
    "    if n == 1:\n",
    "        return 1\n",
    "    return n * fact(n-1)\n",
    "\n",
    "n = int(input(\"Enter the Input: \"))\n",
    "fact(n)"
   ]
  },
  {
   "cell_type": "markdown",
   "id": "800176ea",
   "metadata": {},
   "source": [
    "**Reverse a String**"
   ]
  },
  {
   "cell_type": "code",
   "execution_count": 11,
   "id": "09d50534",
   "metadata": {},
   "outputs": [
    {
     "name": "stdout",
     "output_type": "stream",
     "text": [
      "u n n a h s "
     ]
    }
   ],
   "source": [
    "def reverse(s,ind):\n",
    "    if ind == len(s):\n",
    "        return \n",
    "    reverse(s,ind+1)\n",
    "    print(s[ind], end = ' ')\n",
    "\n",
    "s = input(\"Enter the input: \")\n",
    "reverse(s,0)"
   ]
  },
  {
   "cell_type": "markdown",
   "id": "c62ac16c",
   "metadata": {},
   "source": [
    "**Printing 1 to N**"
   ]
  },
  {
   "cell_type": "code",
   "execution_count": null,
   "id": "bb287e9f",
   "metadata": {},
   "outputs": [
    {
     "name": "stdout",
     "output_type": "stream",
     "text": [
      "1\n",
      "2\n",
      "3\n",
      "4\n",
      "5\n",
      "6\n",
      "7\n",
      "8\n",
      "9\n",
      "10\n",
      "11\n",
      "12\n",
      "13\n",
      "14\n",
      "15\n",
      "16\n",
      "17\n",
      "18\n",
      "19\n",
      "20\n"
     ]
    }
   ],
   "source": [
    "def numbers(n):\n",
    "    if n == 20:\n",
    "        return n\n",
    "    print(n)\n",
    "    return numbers(n+1)\n",
    "print(numbers(1))"
   ]
  },
  {
   "cell_type": "markdown",
   "id": "96f65e3a",
   "metadata": {},
   "source": [
    "**Printing N to 1**"
   ]
  },
  {
   "cell_type": "code",
   "execution_count": 5,
   "id": "4038256c",
   "metadata": {},
   "outputs": [
    {
     "name": "stdout",
     "output_type": "stream",
     "text": [
      "20\n",
      "19\n",
      "18\n",
      "17\n",
      "16\n",
      "15\n",
      "14\n",
      "13\n",
      "12\n",
      "11\n",
      "10\n",
      "9\n",
      "8\n",
      "7\n",
      "6\n",
      "5\n",
      "4\n",
      "3\n",
      "2\n",
      "1\n"
     ]
    }
   ],
   "source": [
    "def numbers(n):\n",
    "    if n == 1:\n",
    "        return 1\n",
    "    print(n)\n",
    "    return numbers(n-1)\n",
    "print(numbers(20))"
   ]
  },
  {
   "cell_type": "markdown",
   "id": "8a5e3fb3",
   "metadata": {},
   "source": [
    "**Sum of N numbers**"
   ]
  },
  {
   "cell_type": "code",
   "execution_count": 16,
   "id": "d26436af",
   "metadata": {},
   "outputs": [
    {
     "name": "stdout",
     "output_type": "stream",
     "text": [
      "55\n"
     ]
    }
   ],
   "source": [
    "def numbers(n):\n",
    "    if n == 1:\n",
    "        return 1\n",
    "    return n + numbers(n-1)\n",
    "\n",
    "n = int(input(\"Enter the input number: \"))\n",
    "print(numbers(n))"
   ]
  },
  {
   "cell_type": "markdown",
   "id": "491d11b5",
   "metadata": {},
   "source": [
    "**Foactorial of N numbers**"
   ]
  },
  {
   "cell_type": "code",
   "execution_count": 17,
   "id": "75939b35",
   "metadata": {},
   "outputs": [
    {
     "name": "stdout",
     "output_type": "stream",
     "text": [
      "120\n"
     ]
    }
   ],
   "source": [
    "def numbers(n):\n",
    "    if n == 1:\n",
    "        return 1\n",
    "    return n * numbers(n-1)\n",
    "\n",
    "n = int(input(\"Enter the input: \"))\n",
    "print(numbers(n))"
   ]
  },
  {
   "cell_type": "markdown",
   "id": "0617c96c",
   "metadata": {},
   "source": [
    "**Printing all the characters in the string**"
   ]
  },
  {
   "cell_type": "code",
   "execution_count": null,
   "id": "cb826466",
   "metadata": {},
   "outputs": [
    {
     "name": "stdout",
     "output_type": "stream",
     "text": [
      "a\n",
      "s\n",
      "d\n",
      "f\n",
      "g\n",
      "h\n",
      "j\n",
      "k\n",
      "l\n"
     ]
    }
   ],
   "source": [
    "def display(s,ind):\n",
    "    if ind == len(s):\n",
    "        return 0\n",
    "    print(s[ind])\n",
    "    display(s,ind+1)\n",
    "\n",
    "s = input(\"Enter the input: \")\n",
    "display(s,0)\n"
   ]
  },
  {
   "cell_type": "markdown",
   "id": "3441ae01",
   "metadata": {},
   "source": [
    "**Reverse a String**"
   ]
  },
  {
   "cell_type": "code",
   "execution_count": 23,
   "id": "25f24c11",
   "metadata": {},
   "outputs": [
    {
     "name": "stdout",
     "output_type": "stream",
     "text": [
      "9 8 7 6 5 4 3 2 "
     ]
    }
   ],
   "source": [
    "def display(s,ind):\n",
    "    if ind == 0:\n",
    "        return \n",
    "    print(s[ind],end =\" \")\n",
    "    display(s,ind-1)\n",
    "s = input(\"Enter the Input: \")\n",
    "display(s,len(s)-1)  "
   ]
  },
  {
   "cell_type": "markdown",
   "id": "508e6c5e",
   "metadata": {},
   "source": [
    "**Sum of all the digits**"
   ]
  },
  {
   "cell_type": "code",
   "execution_count": 25,
   "id": "8c98cb4c",
   "metadata": {},
   "outputs": [
    {
     "name": "stdout",
     "output_type": "stream",
     "text": [
      "2\n"
     ]
    }
   ],
   "source": [
    "def reverse(n):\n",
    "    if n == 0:\n",
    "        return 0\n",
    "    return n % 10 + reverse(n//10)\n",
    "n = int(input(\"Enter the input:   \"))\n",
    "print(reverse(n))"
   ]
  }
 ],
 "metadata": {
  "kernelspec": {
   "display_name": "Python 3",
   "language": "python",
   "name": "python3"
  },
  "language_info": {
   "codemirror_mode": {
    "name": "ipython",
    "version": 3
   },
   "file_extension": ".py",
   "mimetype": "text/x-python",
   "name": "python",
   "nbconvert_exporter": "python",
   "pygments_lexer": "ipython3",
   "version": "3.12.1"
  }
 },
 "nbformat": 4,
 "nbformat_minor": 5
}

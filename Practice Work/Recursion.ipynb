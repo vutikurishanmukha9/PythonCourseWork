{
 "cells": [
  {
   "cell_type": "markdown",
   "id": "13d50d54",
   "metadata": {},
   "source": [
    "**Sum of N natural numbers**"
   ]
  },
  {
   "cell_type": "code",
   "execution_count": 4,
   "id": "97e67715",
   "metadata": {},
   "outputs": [
    {
     "data": {
      "text/plain": [
       "55"
      ]
     },
     "execution_count": 4,
     "metadata": {},
     "output_type": "execute_result"
    }
   ],
   "source": [
    "def sum(n):\n",
    "    if n == 0:\n",
    "        return 0\n",
    "    return n + sum(n-1)\n",
    "\n",
    "n = int(input(\"Enter the input: \"))\n",
    "sum(n)"
   ]
  },
  {
   "cell_type": "markdown",
   "id": "91932e35",
   "metadata": {},
   "source": [
    "Sum(10) = 55\n",
    "10 + Sum(9) = "
   ]
  },
  {
   "cell_type": "markdown",
   "id": "f18ee7e4",
   "metadata": {},
   "source": [
    "**Factroial of a number**"
   ]
  },
  {
   "cell_type": "code",
   "execution_count": 6,
   "id": "474c39d8",
   "metadata": {},
   "outputs": [
    {
     "data": {
      "text/plain": [
       "120"
      ]
     },
     "execution_count": 6,
     "metadata": {},
     "output_type": "execute_result"
    }
   ],
   "source": [
    "def fact(n):\n",
    "    if n == 1:\n",
    "        return 1\n",
    "    return n * fact(n-1)\n",
    "\n",
    "n = int(input(\"Enter the Input: \"))\n",
    "fact(n)"
   ]
  },
  {
   "cell_type": "markdown",
   "id": "800176ea",
   "metadata": {},
   "source": [
    "**Reverse a String**"
   ]
  },
  {
   "cell_type": "code",
   "execution_count": 11,
   "id": "09d50534",
   "metadata": {},
   "outputs": [
    {
     "name": "stdout",
     "output_type": "stream",
     "text": [
      "u n n a h s "
     ]
    }
   ],
   "source": [
    "def reverse(s,ind):\n",
    "    if ind == len(s):\n",
    "        return \n",
    "    reverse(s,ind+1)\n",
    "    print(s[ind], end = ' ')\n",
    "\n",
    "s = input(\"Enter the input: \")\n",
    "reverse(s,0)"
   ]
  },
  {
   "cell_type": "markdown",
   "id": "c62ac16c",
   "metadata": {},
   "source": [
    "**Printing 1 to N**"
   ]
  },
  {
   "cell_type": "code",
   "execution_count": null,
   "id": "bb287e9f",
   "metadata": {},
   "outputs": [
    {
     "name": "stdout",
     "output_type": "stream",
     "text": [
      "1\n",
      "2\n",
      "3\n",
      "4\n",
      "5\n",
      "6\n",
      "7\n",
      "8\n",
      "9\n",
      "10\n",
      "11\n",
      "12\n",
      "13\n",
      "14\n",
      "15\n",
      "16\n",
      "17\n",
      "18\n",
      "19\n",
      "20\n"
     ]
    }
   ],
   "source": [
    "def numbers(n):\n",
    "    if n == 20:\n",
    "        return n\n",
    "    print(n)\n",
    "    return numbers(n+1)\n",
    "print(numbers(1))"
   ]
  },
  {
   "cell_type": "markdown",
   "id": "96f65e3a",
   "metadata": {},
   "source": [
    "**Printing N to 1**"
   ]
  },
  {
   "cell_type": "code",
   "execution_count": 5,
   "id": "4038256c",
   "metadata": {},
   "outputs": [
    {
     "name": "stdout",
     "output_type": "stream",
     "text": [
      "20\n",
      "19\n",
      "18\n",
      "17\n",
      "16\n",
      "15\n",
      "14\n",
      "13\n",
      "12\n",
      "11\n",
      "10\n",
      "9\n",
      "8\n",
      "7\n",
      "6\n",
      "5\n",
      "4\n",
      "3\n",
      "2\n",
      "1\n"
     ]
    }
   ],
   "source": [
    "def numbers(n):\n",
    "    if n == 1:\n",
    "        return 1\n",
    "    print(n)\n",
    "    return numbers(n-1)\n",
    "print(numbers(20))"
   ]
  },
  {
   "cell_type": "markdown",
   "id": "8a5e3fb3",
   "metadata": {},
   "source": [
    "**Sum of N numbers**"
   ]
  },
  {
   "cell_type": "code",
   "execution_count": 16,
   "id": "d26436af",
   "metadata": {},
   "outputs": [
    {
     "name": "stdout",
     "output_type": "stream",
     "text": [
      "55\n"
     ]
    }
   ],
   "source": [
    "def numbers(n):\n",
    "    if n == 1:\n",
    "        return 1\n",
    "    return n + numbers(n-1)\n",
    "\n",
    "n = int(input(\"Enter the input number: \"))\n",
    "print(numbers(n))"
   ]
  },
  {
   "cell_type": "markdown",
   "id": "491d11b5",
   "metadata": {},
   "source": [
    "**Foactorial of N numbers**"
   ]
  },
  {
   "cell_type": "code",
   "execution_count": 17,
   "id": "75939b35",
   "metadata": {},
   "outputs": [
    {
     "name": "stdout",
     "output_type": "stream",
     "text": [
      "120\n"
     ]
    }
   ],
   "source": [
    "def numbers(n):\n",
    "    if n == 1:\n",
    "        return 1\n",
    "    return n * numbers(n-1)\n",
    "\n",
    "n = int(input(\"Enter the input: \"))\n",
    "print(numbers(n))"
   ]
  },
  {
   "cell_type": "markdown",
   "id": "0617c96c",
   "metadata": {},
   "source": [
    "**Printing all the characters in the string**"
   ]
  },
  {
   "cell_type": "code",
   "execution_count": null,
   "id": "cb826466",
   "metadata": {},
   "outputs": [
    {
     "name": "stdout",
     "output_type": "stream",
     "text": [
      "a\n",
      "s\n",
      "d\n",
      "f\n",
      "g\n",
      "h\n",
      "j\n",
      "k\n",
      "l\n"
     ]
    }
   ],
   "source": [
    "def display(s,ind):\n",
    "    if ind == len(s):\n",
    "        return 0\n",
    "    print(s[ind])\n",
    "    display(s,ind+1)\n",
    "\n",
    "s = input(\"Enter the input: \")\n",
    "display(s,0)\n"
   ]
  },
  {
   "cell_type": "markdown",
   "id": "3441ae01",
   "metadata": {},
   "source": [
    "**Reverse a String**"
   ]
  },
  {
   "cell_type": "code",
   "execution_count": 23,
   "id": "25f24c11",
   "metadata": {},
   "outputs": [
    {
     "name": "stdout",
     "output_type": "stream",
     "text": [
      "9 8 7 6 5 4 3 2 "
     ]
    }
   ],
   "source": [
    "def display(s,ind):\n",
    "    if ind == 0:\n",
    "        return \n",
    "    print(s[ind],end =\" \")\n",
    "    display(s,ind-1)\n",
    "s = input(\"Enter the Input: \")\n",
    "display(s,len(s)-1)  "
   ]
  },
  {
   "cell_type": "markdown",
   "id": "508e6c5e",
   "metadata": {},
   "source": [
    "**Sum of all the digits**"
   ]
  },
  {
   "cell_type": "code",
   "execution_count": 25,
   "id": "8c98cb4c",
   "metadata": {},
   "outputs": [
    {
     "name": "stdout",
     "output_type": "stream",
     "text": [
      "2\n"
     ]
    }
   ],
   "source": [
    "def reverse(n):\n",
    "    if n == 0:\n",
    "        return 0\n",
    "    return n % 10 + reverse(n//10)\n",
    "n = int(input(\"Enter the input:   \"))\n",
    "print(reverse(n))"
   ]
  },
  {
   "cell_type": "markdown",
   "id": "6b0fe481",
   "metadata": {},
   "source": [
    "**Recursive Power Calculation**"
   ]
  },
  {
   "cell_type": "code",
   "execution_count": 26,
   "id": "9613050c",
   "metadata": {},
   "outputs": [
    {
     "name": "stdout",
     "output_type": "stream",
     "text": [
      "8\n"
     ]
    }
   ],
   "source": [
    "def PowerCal(base,exp):\n",
    "    if exp == 0 :\n",
    "        return 1\n",
    "    return base * PowerCal(base,exp-1)\n",
    "base = int(input(\"Enter the Input: \"))\n",
    "exp = int(input(\"Enter the power: \"))\n",
    "print(PowerCal(base,exp))"
   ]
  },
  {
   "cell_type": "markdown",
   "id": "234e340e",
   "metadata": {},
   "source": [
    "**Generate Table**"
   ]
  },
  {
   "cell_type": "code",
   "execution_count": null,
   "id": "5d3db92b",
   "metadata": {},
   "outputs": [
    {
     "name": "stdout",
     "output_type": "stream",
     "text": [
      "10,20,30,40,50,60,70,80,90,100,"
     ]
    }
   ],
   "source": [
    "def numbers(n,i):\n",
    "    if n > 10:\n",
    "        return\n",
    "    print(n*i, end = \",\")\n",
    "    numbers(n+1,i)\n",
    "i = int(input())\n",
    "numbers(1,i)"
   ]
  },
  {
   "cell_type": "markdown",
   "id": "e59d71eb",
   "metadata": {},
   "source": [
    "**Printing the Given String**"
   ]
  },
  {
   "cell_type": "code",
   "execution_count": 2,
   "id": "819796eb",
   "metadata": {},
   "outputs": [
    {
     "name": "stdout",
     "output_type": "stream",
     "text": [
      "S 0\n",
      "h 1\n",
      "a 2\n",
      "n 3\n",
      "m 4\n",
      "u 5\n",
      "k 6\n",
      "h 7\n",
      "a 8\n",
      "  9\n",
      "V 10\n",
      "u 11\n",
      "t 12\n",
      "i 13\n",
      "k 14\n",
      "u 15\n",
      "r 16\n",
      "i 17\n"
     ]
    }
   ],
   "source": [
    "def display(s,ind):\n",
    "    if ind == len(s):\n",
    "        return \n",
    "    print(s[ind],ind)\n",
    "    display(s,ind+1)\n",
    "s = input(\"Enter the Input: \")\n",
    "display(s,0)"
   ]
  },
  {
   "cell_type": "markdown",
   "id": "7027cc2b",
   "metadata": {},
   "source": [
    "**Printing the Reverse of a String**"
   ]
  },
  {
   "cell_type": "code",
   "execution_count": null,
   "id": "16279b4f",
   "metadata": {},
   "outputs": [
    {
     "name": "stdout",
     "output_type": "stream",
     "text": [
      "  18\n",
      "i 17\n",
      "r 16\n",
      "u 15\n",
      "k 14\n",
      "i 13\n",
      "t 12\n",
      "u 11\n",
      "V 10\n",
      "  9\n",
      "a 8\n",
      "h 7\n",
      "k 6\n",
      "u 5\n",
      "m 4\n",
      "n 3\n",
      "a 2\n",
      "h 1\n",
      "S 0\n"
     ]
    }
   ],
   "source": [
    "def display(s,ind):\n",
    "    if ind < 0:\n",
    "        return \n",
    "    print(s[ind],ind)\n",
    "    display(s,ind-1)\n",
    "s = input(\"Enter the Input: \")\n",
    "display(s,len(s)-1)"
   ]
  },
  {
   "cell_type": "markdown",
   "id": "320bb6a2",
   "metadata": {},
   "source": [
    "**Printing the Reverse of a String Side by side**"
   ]
  },
  {
   "cell_type": "code",
   "execution_count": 6,
   "id": "b8949f0a",
   "metadata": {},
   "outputs": [
    {
     "name": "stdout",
     "output_type": "stream",
     "text": [
      "i r u k i t u V   h k u m n a h S "
     ]
    }
   ],
   "source": [
    "def display(s,ind):\n",
    "    if ind < 0:\n",
    "        return\n",
    "    print(s[ind],end = \" \")\n",
    "    display(s,ind-1)\n",
    "s = input(\"Enter the Input: \")\n",
    "display(s,len(s)-1)"
   ]
  },
  {
   "cell_type": "markdown",
   "id": "a2d9e1a2",
   "metadata": {},
   "source": [
    "**Printing the Pattern**"
   ]
  },
  {
   "cell_type": "code",
   "execution_count": 23,
   "id": "489db3aa",
   "metadata": {},
   "outputs": [
    {
     "name": "stdout",
     "output_type": "stream",
     "text": [
      "a 1\n",
      "ab 2\n",
      "abc 3\n",
      "abcd 4\n",
      "abcde 5\n",
      "abcdef 6\n",
      "abcdefg 7\n",
      "abcdefgh 8\n"
     ]
    }
   ],
   "source": [
    "def display(s,c):\n",
    "    if c == len(s)+1:\n",
    "        return \n",
    "    print(s[:c],c)\n",
    "    display(s,c+1)\n",
    "s = input(\"Enter your Input: \")\n",
    "display(s,1)"
   ]
  },
  {
   "cell_type": "markdown",
   "id": "f71b8b9c",
   "metadata": {},
   "source": [
    "**Priting the reverse of a pattern**"
   ]
  },
  {
   "cell_type": "code",
   "execution_count": 24,
   "id": "1880c513",
   "metadata": {},
   "outputs": [
    {
     "name": "stdout",
     "output_type": "stream",
     "text": [
      "abcdefgh 8\n",
      "abcdefg 7\n",
      "abcdef 6\n",
      "abcde 5\n",
      "abcd 4\n",
      "abc 3\n",
      "ab 2\n",
      "a 1\n"
     ]
    }
   ],
   "source": [
    "def display(s,ind):\n",
    "    if ind <= 0:\n",
    "        return\n",
    "    print(s[:ind],ind)\n",
    "    display(s,ind-1)\n",
    "s = input(\"Enter the Input: \")\n",
    "display(s, len(s))"
   ]
  },
  {
   "cell_type": "markdown",
   "id": "1a464d56",
   "metadata": {},
   "source": [
    "**Printing the below pattern**\n",
    "\n",
    "input : abcdefgh\n",
    "\n",
    "abc \n",
    "\n",
    "\n",
    "bcd\n",
    "\n",
    "\n",
    "cde\n",
    "\n",
    "\n",
    "def\n",
    "\n",
    "\n",
    "efg\n",
    "\n",
    "\n",
    "fgh "
   ]
  },
  {
   "cell_type": "code",
   "execution_count": 31,
   "id": "dbbe2cbe",
   "metadata": {},
   "outputs": [
    {
     "name": "stdout",
     "output_type": "stream",
     "text": [
      "SHA\n",
      "HAN\n",
      "ANM\n",
      "NMU\n",
      "MUK\n",
      "UKH\n",
      "KHA\n"
     ]
    }
   ],
   "source": [
    "def display(s,ind):\n",
    "    if ind == len(s) - sub + 1:\n",
    "        return\n",
    "    print(s[ind:ind+sub])\n",
    "    display(s,ind+1)\n",
    "s = input(\"Enter the input: \")\n",
    "sub = 3\n",
    "display(s,0)"
   ]
  },
  {
   "cell_type": "markdown",
   "id": "f3389f25",
   "metadata": {},
   "source": [
    "**Reverse of a given list**"
   ]
  },
  {
   "cell_type": "code",
   "execution_count": 35,
   "id": "576888ea",
   "metadata": {},
   "outputs": [
    {
     "name": "stdout",
     "output_type": "stream",
     "text": [
      "10\n",
      "9\n",
      "8\n",
      "7\n",
      "6\n",
      "5\n",
      "4\n",
      "3\n",
      "2\n",
      "1\n"
     ]
    }
   ],
   "source": [
    "def display(n,ind):\n",
    "    if ind < 0:\n",
    "        return\n",
    "    print(n[ind])\n",
    "    display(n,ind-1)\n",
    "n = list(map(int,input(\"Enter the input: \").split()))\n",
    "display(n,len(n)-1)"
   ]
  },
  {
   "cell_type": "markdown",
   "id": "4dc81a3f",
   "metadata": {},
   "source": [
    "**Print the given List**"
   ]
  },
  {
   "cell_type": "code",
   "execution_count": 38,
   "id": "411e495b",
   "metadata": {},
   "outputs": [
    {
     "name": "stdout",
     "output_type": "stream",
     "text": [
      "1\n",
      "2\n",
      "3\n",
      "4\n",
      "5\n",
      "6\n",
      "7\n",
      "8\n",
      "9\n",
      "10\n"
     ]
    }
   ],
   "source": [
    "def display(s,ind):\n",
    "    if ind == len(s):\n",
    "        return \n",
    "    print(s[ind])\n",
    "    display(s,ind+1)\n",
    "s = list(map(int,input(\"Enter the Input: \").split())) #Input: 1 2 3 4 5 6 7 8 9 10\n",
    "display(s,0)  "
   ]
  },
  {
   "cell_type": "markdown",
   "id": "f1a2331c",
   "metadata": {},
   "source": [
    "**Printing the Tuple**"
   ]
  },
  {
   "cell_type": "code",
   "execution_count": 1,
   "id": "efb9c387",
   "metadata": {},
   "outputs": [
    {
     "name": "stdout",
     "output_type": "stream",
     "text": [
      "10\n",
      "20\n",
      "30\n",
      "40\n",
      "50\n",
      "60\n",
      "70\n",
      "80\n",
      "90\n",
      "100\n"
     ]
    }
   ],
   "source": [
    "def display(t,ind):\n",
    "    if ind == len(t):\n",
    "        return \n",
    "    print(t[ind])\n",
    "    display(t,ind+1)\n",
    "t = (10,20,30,40,50,60,70,80,90,100)\n",
    "display(t,0) "
   ]
  },
  {
   "cell_type": "markdown",
   "id": "56844705",
   "metadata": {},
   "source": [
    "**Printing the reverse of the tuple**"
   ]
  },
  {
   "cell_type": "code",
   "execution_count": 3,
   "id": "ae3c9711",
   "metadata": {},
   "outputs": [
    {
     "name": "stdout",
     "output_type": "stream",
     "text": [
      "100\n",
      "90\n",
      "80\n",
      "70\n",
      "60\n",
      "50\n",
      "40\n",
      "30\n",
      "20\n",
      "10\n"
     ]
    }
   ],
   "source": [
    "def display(t,ind):\n",
    "    if ind < 0:\n",
    "        return\n",
    "    print(t[ind])\n",
    "    display(t,ind-1)\n",
    "t = (10,20,30,40,50,60,70,80,90,100)\n",
    "display(t,len(t)-1)"
   ]
  },
  {
   "cell_type": "code",
   "execution_count": 13,
   "id": "f7b03400",
   "metadata": {},
   "outputs": [
    {
     "name": "stdout",
     "output_type": "stream",
     "text": [
      "name shanmukh\n",
      "age 21\n",
      "gender M\n",
      "Place RJY\n"
     ]
    }
   ],
   "source": [
    "def display(l,ind):\n",
    "    if ind == len(d):\n",
    "        return\n",
    "    print(l[ind],d[l[ind]])\n",
    "    display(l,ind+1)\n",
    "d = {'name':'shanmukh','age':21,'gender':'M','Place':'RJY'}\n",
    "l = tuple(d.keys())\n",
    "display(l,0)\n",
    "\n"
   ]
  },
  {
   "cell_type": "markdown",
   "id": "f0bd9897",
   "metadata": {},
   "source": [
    "**Check if the given String is a palindrome or not**`"
   ]
  },
  {
   "cell_type": "code",
   "execution_count": 20,
   "id": "838c04a1",
   "metadata": {},
   "outputs": [
    {
     "name": "stdout",
     "output_type": "stream",
     "text": [
      "madam\n",
      "Palindrome\n"
     ]
    }
   ],
   "source": [
    "def palindrome(s, ind, rev=\"\"):\n",
    "    if ind < 0:\n",
    "        return rev\n",
    "    rev += s[ind]\n",
    "    return palindrome(s, ind - 1, rev)\n",
    "\n",
    "s = input(\"Enter the Input:  \")\n",
    "reversed_s = palindrome(s, len(s) - 1)\n",
    "\n",
    "print(reversed_s)  \n",
    "if s == reversed_s:\n",
    "    print(\"Palindrome\")\n",
    "else:\n",
    "    print(\"Not Palindrome\")\n"
   ]
  },
  {
   "cell_type": "markdown",
   "id": "cf238a92",
   "metadata": {},
   "source": [
    "**SUM of 1st N natural numbers**"
   ]
  },
  {
   "cell_type": "code",
   "execution_count": 24,
   "id": "fcf8777c",
   "metadata": {},
   "outputs": [
    {
     "name": "stdout",
     "output_type": "stream",
     "text": [
      "10\n",
      "9\n",
      "8\n",
      "7\n",
      "6\n",
      "5\n",
      "4\n",
      "3\n",
      "2\n",
      "1\n"
     ]
    },
    {
     "data": {
      "text/plain": [
       "55"
      ]
     },
     "execution_count": 24,
     "metadata": {},
     "output_type": "execute_result"
    }
   ],
   "source": [
    "def display(n):\n",
    "    if n == 0:\n",
    "        return 0\n",
    "    print(n)\n",
    "    return(n)+ display(n-1)\n",
    "display(10)"
   ]
  },
  {
   "cell_type": "markdown",
   "id": "0cb67e9a",
   "metadata": {},
   "source": [
    "**Reverse a number using the Recursion**"
   ]
  },
  {
   "cell_type": "code",
   "execution_count": 2,
   "id": "9f58f519",
   "metadata": {},
   "outputs": [
    {
     "name": "stdout",
     "output_type": "stream",
     "text": [
      "321\n"
     ]
    }
   ],
   "source": [
    "def reverse(n,rev=0):\n",
    "    if n == 0:\n",
    "        return rev\n",
    "    return reverse(n // 10, rev * 10 + n % 10)\n",
    "\n",
    "n = int(input())\n",
    "print(reverse(n))"
   ]
  }
 ],
 "metadata": {
  "kernelspec": {
   "display_name": "Python 3",
   "language": "python",
   "name": "python3"
  },
  "language_info": {
   "codemirror_mode": {
    "name": "ipython",
    "version": 3
   },
   "file_extension": ".py",
   "mimetype": "text/x-python",
   "name": "python",
   "nbconvert_exporter": "python",
   "pygments_lexer": "ipython3",
   "version": "3.12.1"
  }
 },
 "nbformat": 4,
 "nbformat_minor": 5
}

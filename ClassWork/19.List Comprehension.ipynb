{
 "cells": [
  {
   "cell_type": "markdown",
   "id": "24bdc9b1",
   "metadata": {},
   "source": [
    "**Normal Traditional Approach**"
   ]
  },
  {
   "cell_type": "code",
   "execution_count": null,
   "id": "355f4227",
   "metadata": {},
   "outputs": [
    {
     "name": "stdout",
     "output_type": "stream",
     "text": [
      "[0, 1, 2, 3, 4, 5, 6, 7, 8, 9, 10, 11, 12, 13, 14, 15, 16, 17, 18, 19, 20]\n"
     ]
    }
   ],
   "source": [
    "n = int(input(\"Enter the INput: \"))\n",
    "l = []\n",
    "for i in range(1,n+1):\n",
    "    l.append(i)\n",
    "print(l)"
   ]
  },
  {
   "cell_type": "markdown",
   "id": "6f5bb029",
   "metadata": {},
   "source": [
    "**Comprehension Method**"
   ]
  },
  {
   "cell_type": "code",
   "execution_count": 1,
   "id": "f844e2b1",
   "metadata": {},
   "outputs": [
    {
     "name": "stdout",
     "output_type": "stream",
     "text": [
      "[2, 4, 6, 8, 10, 12, 14, 16, 18, 20]\n",
      "{1, 2, 3, 4, 5, 6, 7, 8, 9, 10}\n",
      "[2, 4, 6, 8, 10, 12, 14, 16, 18, 20] {1, 2, 3, 4, 5, 6, 7, 8, 9, 10}\n"
     ]
    }
   ],
   "source": [
    "n = int(input(\"Enter the input: \"))\n",
    "K = [i for i in range(1,n+1) if i%2 == 0] #List Comprehension\n",
    "M = {i for i in range(1,11)} #Set Comprehension\n",
    "print(K)\n",
    "print(M)\n",
    "print(K,M)"
   ]
  },
  {
   "cell_type": "code",
   "execution_count": 13,
   "id": "16371088",
   "metadata": {},
   "outputs": [
    {
     "name": "stdout",
     "output_type": "stream",
     "text": [
      "[1, 4, 9, 16, 25, 36, 49, 64, 81, 100, 121, 144, 169, 196, 225, 256, 289, 324, 361, 400, 441, 484, 529, 576, 625, 676, 729, 784, 841, 900, 961, 1024, 1089, 1156, 1225, 1296, 1369, 1444, 1521, 1600]\n"
     ]
    }
   ],
   "source": [
    "n = int(input(\"Enter the Input: \"))\n",
    "k = [i * i for i in range(1,n+1)]\n",
    "print(k)"
   ]
  },
  {
   "cell_type": "code",
   "execution_count": 14,
   "id": "30b4eb03",
   "metadata": {},
   "outputs": [
    {
     "name": "stdout",
     "output_type": "stream",
     "text": [
      "['S', 'H', 'A', 'N', 'M', 'U', 'K', 'H', 'A']\n"
     ]
    }
   ],
   "source": [
    "s = input(\"ENter the input: \")\n",
    "\n",
    "k = [i.upper() for i in s]\n",
    "print(k)"
   ]
  },
  {
   "cell_type": "code",
   "execution_count": 19,
   "id": "f499c6e3",
   "metadata": {},
   "outputs": [
    {
     "name": "stdout",
     "output_type": "stream",
     "text": [
      "['p', 'y', 't', 'h', 'o', 'n', 'p', 'r', 'o', 'g', 'r', 'a', 'm', 'm', 'i', 'n', 'g', 'l', 'a', 'n', 'g', 'u', 'a', 'g', 'e']\n",
      "['p', 'y', 't', 'h', 'o', 'n', 'p', 'r', 'o', 'g', 'r', 'a', 'm', 'm', 'i', 'n', 'g', 'l', 'a', 'n', 'g', 'u', 'a', 'g', 'e']\n"
     ]
    }
   ],
   "source": [
    "s = \"python programming language\"\n",
    "l = []\n",
    "for i in s:\n",
    "    if i.islower():\n",
    "        l.append(i)\n",
    "print(l)\n",
    "\n",
    "\n",
    "l = [i for i in s if i.islower()]\n",
    "print(l)"
   ]
  },
  {
   "cell_type": "code",
   "execution_count": 32,
   "id": "17795938",
   "metadata": {},
   "outputs": [
    {
     "name": "stdout",
     "output_type": "stream",
     "text": [
      "['1', '2', '3', '4', '5', 0, 0, 0, 0, 0, 0, 0, 0, '6', 0, '7', '8', '9']\n",
      "['1', '2', '3', '4', '5', '0', '0', '0', '0', '0', '0', '0', '0', '6', '0', '7', '8', '9']\n"
     ]
    }
   ],
   "source": [
    "s = \"12345asdfghjk6l789\"\n",
    "l = []\n",
    "for i in s:\n",
    "    if i .isdigit():\n",
    "        l.append(i)\n",
    "    else:\n",
    "        l.append(0)\n",
    "print(l)\n",
    "\n",
    "\n",
    "l = [i if i.isdigit() else '0' for i in s]\n",
    "print(l)"
   ]
  },
  {
   "cell_type": "code",
   "execution_count": null,
   "id": "c52ea5cc",
   "metadata": {},
   "outputs": [],
   "source": [
    "\n",
    "l = {key:val for val in seq}\n",
    "l = [val for val in seq]\n",
    "l = {val for val in seq}"
   ]
  },
  {
   "cell_type": "code",
   "execution_count": 2,
   "id": "c3767395",
   "metadata": {},
   "outputs": [
    {
     "name": "stdout",
     "output_type": "stream",
     "text": [
      "[7]\n",
      "{'Kohli': 'RCB', 'Salt': 'RCB', 'Rajat': 'RCB', 'Padikkal': 'RCB', 'Jithesh': 'RCB', 'David': 'RCB', 'Livingstone': 'RCB'}\n"
     ]
    }
   ],
   "source": [
    "IPL = [\"Kohli\" , \"Salt\" , \"Rajat\", \"Padikkal\" , \"Jithesh\" , \"David\" , \"Livingstone\"]\n",
    "d =  {i:'RCB' for i in IPL}\n",
    "le = [len(IPL)]\n",
    "print(le)\n",
    "print(d)"
   ]
  },
  {
   "cell_type": "code",
   "execution_count": 38,
   "id": "116c55ab",
   "metadata": {},
   "outputs": [
    {
     "name": "stdout",
     "output_type": "stream",
     "text": [
      "{1: 1, 2: 4, 3: 9, 4: 16, 5: 25}\n"
     ]
    }
   ],
   "source": [
    "d = {i:i*i for i in range(1,6)}\n",
    "print(d)"
   ]
  }
 ],
 "metadata": {
  "kernelspec": {
   "display_name": "Python 3",
   "language": "python",
   "name": "python3"
  },
  "language_info": {
   "codemirror_mode": {
    "name": "ipython",
    "version": 3
   },
   "file_extension": ".py",
   "mimetype": "text/x-python",
   "name": "python",
   "nbconvert_exporter": "python",
   "pygments_lexer": "ipython3",
   "version": "3.12.1"
  }
 },
 "nbformat": 4,
 "nbformat_minor": 5
}

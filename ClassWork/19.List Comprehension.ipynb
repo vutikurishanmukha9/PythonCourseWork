{
 "cells": [
  {
   "cell_type": "markdown",
   "id": "24bdc9b1",
   "metadata": {},
   "source": [
    "**Normal Traditional Approach**"
   ]
  },
  {
   "cell_type": "code",
   "execution_count": null,
   "id": "355f4227",
   "metadata": {},
   "outputs": [
    {
     "name": "stdout",
     "output_type": "stream",
     "text": [
      "[0, 1, 2, 3, 4, 5, 6, 7, 8, 9, 10, 11, 12, 13, 14, 15, 16, 17, 18, 19, 20]\n"
     ]
    }
   ],
   "source": [
    "n = int(input(\"Enter the INput: \"))\n",
    "l = []\n",
    "for i in range(1,n+1):\n",
    "    l.append(i)\n",
    "print(l)"
   ]
  },
  {
   "cell_type": "markdown",
   "id": "6f5bb029",
   "metadata": {},
   "source": [
    "**Comprehension Method**"
   ]
  },
  {
   "cell_type": "code",
   "execution_count": null,
   "id": "f844e2b1",
   "metadata": {},
   "outputs": [
    {
     "name": "stdout",
     "output_type": "stream",
     "text": [
      "[2, 4, 6, 8, 10, 12, 14, 16, 18]\n",
      "{1, 2, 3, 4, 5, 6, 7, 8, 9, 10}\n",
      "[2, 4, 6, 8, 10, 12, 14, 16, 18] {1, 2, 3, 4, 5, 6, 7, 8, 9, 10}\n"
     ]
    }
   ],
   "source": [
    "n = int(input(\"Enter the input: \"))\n",
    "K = [i for i in range(1,n+1) if i%2 == 0] #List Comprehension\n",
    "M = {i for i in range(1,11)} #Set Comprehension\n",
    "print(K)\n",
    "print(M)\n",
    "print(K,M)"
   ]
  },
  {
   "cell_type": "code",
   "execution_count": 7,
   "id": "16371088",
   "metadata": {},
   "outputs": [
    {
     "name": "stdout",
     "output_type": "stream",
     "text": [
      "[2, 4, 6, 8, 10, 12, 14, 16, 18]\n"
     ]
    }
   ],
   "source": [
    "N = int(input(\"Enter the Input: \"))\n",
    "K = [i for i in range(1,n+1) if i%2==0]\n",
    "print(K)"
   ]
  }
 ],
 "metadata": {
  "kernelspec": {
   "display_name": "Python 3",
   "language": "python",
   "name": "python3"
  },
  "language_info": {
   "codemirror_mode": {
    "name": "ipython",
    "version": 3
   },
   "file_extension": ".py",
   "mimetype": "text/x-python",
   "name": "python",
   "nbconvert_exporter": "python",
   "pygments_lexer": "ipython3",
   "version": "3.12.1"
  }
 },
 "nbformat": 4,
 "nbformat_minor": 5
}

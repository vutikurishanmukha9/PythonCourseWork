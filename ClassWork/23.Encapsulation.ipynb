{
 "cells": [
  {
   "cell_type": "code",
   "execution_count": null,
   "id": "7888bdd3",
   "metadata": {},
   "outputs": [
    {
     "name": "stdout",
     "output_type": "stream",
     "text": [
      "Welcome to the Instagram\n",
      "\n",
      "Hello Shanmukh, login successful into the account\n",
      "Bio:  \n",
      "Followers: []\n",
      "Following: []\n",
      "Post: []\n",
      "Username: Shanmukh\n",
      "\n",
      "After updating the details:\n",
      "Bio: I want the peace\n",
      "Followers: ['Shanmukh', 'Prabhas', 'Kohli']\n",
      "Following: ['Prabhas', 'Shanmukh', 'Kohli']\n",
      "Post: ['Profile_Pic.png']\n",
      "Username: Shanmukh123\n",
      "\n",
      "Password: Password@123\n",
      "Update Password: Password updated successfully!\n",
      "Password after update: Shannu\n"
     ]
    }
   ],
   "source": [
    "class Instagram:\n",
    "    def __init__(self, username, password):\n",
    "        print(\"Welcome to the Instagram\\n\")\n",
    "        self.externalexternalexternalexternalbio = \" \"\n",
    "        self.followers = []\n",
    "        self.following = []\n",
    "        self.post = []\n",
    "        self.username = username\n",
    "        self.__password = password  # Private variable\n",
    "        print(f\"Hello {self.username}, login successful into the account\")\n",
    "    \n",
    "    def showpassword(self):\n",
    "        return self.__password  # Getter method\n",
    "    \n",
    "    def updatedpassword(self, new_pwd):\n",
    "        self.__password = new_pwd  # Setter method\n",
    "        return \"Password updated successfully!\"\n",
    "\n",
    "\n",
    "shanmukh = Instagram(\"Shanmukh\", \"Password@123\")\n",
    "\n",
    "# Public variables\n",
    "print(\"externalbio:\", shanmukh.externalbio)\n",
    "print(\"Followers:\", shanmukh.followers)\n",
    "print(\"Following:\", shanmukh.following)\n",
    "print(\"Post:\", shanmukh.post)\n",
    "print(\"Username:\", shanmukh.username)\n",
    "\n",
    "# Modifying public variables\n",
    "shanmukh.bio = \"I want the peace\"\n",
    "shanmukh.followers.extend(['Shanmukh', 'Prabhas', 'Kohli'])\n",
    "shanmukh.following.extend(['Prabhas', 'Shanmukh', 'Kohli'])\n",
    "shanmukh.post.append(\"Profile_Pic.png\")\n",
    "shanmukh.username = \"Shanmukh123\"\n",
    "\n",
    "print(\"\\nAfter updating the details:\")\n",
    "print(\"Bio:\", shanmukh.bio)\n",
    "print(\"Followers:\", shanmukh.followers)\n",
    "print(\"Following:\", shanmukh.following)\n",
    "print(\"Post:\", shanmukh.post)\n",
    "print(\"Username:\", shanmukh.username)\n",
    "\n",
    "print(\"\\nPassword:\", shanmukh.showpassword())\n",
    "print(\"Update Password:\", shanmukh.updatedpassword(\"Shannu\"))\n",
    "print(\"Password after update:\", shanmukh.showpassword())"
   ]
  },
  {
   "cell_type": "markdown",
   "id": "279ff576",
   "metadata": {},
   "source": [
    "Modifyng the protected varibales"
   ]
  },
  {
   "cell_type": "code",
   "execution_count": 19,
   "id": "a46bcfbd",
   "metadata": {},
   "outputs": [
    {
     "name": "stdout",
     "output_type": "stream",
     "text": [
      "Welcome to the Instagram\n",
      "\n",
      "Hello Shanmukh, login successful into the account\n",
      "Bio:  \n",
      "Followers: []\n",
      "Following: []\n",
      "Post: []\n",
      "Username: Shanmukh\n",
      "\n",
      "After updating the details:\n",
      "externalbio:  \n",
      "Followers: ['Shanmukh', 'Prabhas', 'Kohli']\n",
      "Following: ['Prabhas', 'Shanmukh', 'Kohli']\n",
      "Post: ['Profile_Pic.png']\n",
      "Username: Shanmukh123\n",
      "\n",
      "Password: Password@123\n",
      "Update Password: Password updated successfully!\n",
      "Password after update: Shannu\n"
     ]
    }
   ],
   "source": [
    "class Instagram:\n",
    "    def __init__(self, username, password):\n",
    "        print(\"Welcome to the Instagram\\n\")\n",
    "        self._bio = \" \"\n",
    "        self.followers = []\n",
    "        self.following = []\n",
    "        self.post = []\n",
    "        self.username = username\n",
    "        self.__password = password  # Private variable\n",
    "        print(f\"Hello {self.username}, login successful into the account\")\n",
    "    \n",
    "    @property\n",
    "    def externalbio(self):\n",
    "        return self._bio\n",
    "    \n",
    "    @externalbio.setter\n",
    "    def externalbio(self, updated_bio):\n",
    "        self._bio = updated_bio\n",
    "    \n",
    "    def showpassword(self):\n",
    "        return self.__password  # Getter method\n",
    "    \n",
    "    def updatedpassword(self, new_pwd):\n",
    "        self.__password = new_pwd  # Setter method\n",
    "        return \"Password updated successfully!\"\n",
    "\n",
    "\n",
    "shanmukh = Instagram(\"Shanmukh\", \"Password@123\")\n",
    "\n",
    "# Public variables\n",
    "print(\"Bio:\", shanmukh.externalbio)\n",
    "print(\"Followers:\", shanmukh.followers)\n",
    "print(\"Following:\", shanmukh.following)\n",
    "print(\"Post:\", shanmukh.post)\n",
    "print(\"Username:\", shanmukh.username)\n",
    "\n",
    "# Modifying public variables\n",
    "shanmukh.bexternalbioio = \"I want the peace\"\n",
    "shanmukh.followers.extend(['Shanmukh', 'Prabhas', 'Kohli'])\n",
    "shanmukh.following.extend(['Prabhas', 'Shanmukh', 'Kohli'])\n",
    "shanmukh.post.append(\"Profile_Pic.png\")\n",
    "shanmukh.username = \"Shanmukh123\"\n",
    "\n",
    "print(\"\\nAfter updating the details:\")\n",
    "print(\"externalbio:\", shanmukh.externalbio)\n",
    "print(\"Followers:\", shanmukh.followers)\n",
    "print(\"Following:\", shanmukh.following)\n",
    "print(\"Post:\", shanmukh.post)\n",
    "print(\"Username:\", shanmukh.username)\n",
    "\n",
    "# Private variable via getter & setter\n",
    "print(\"\\nPassword:\", shanmukh.showpassword())\n",
    "print(\"Update Password:\", shanmukh.updatedpassword(\"Shannu\"))\n",
    "print(\"Password after update:\", shanmukh.showpassword())"
   ]
  },
  {
   "cell_type": "markdown",
   "id": "1e06ebae",
   "metadata": {},
   "source": [
    "Clear explaination between public varibale and private variable and protected variables and how to access it "
   ]
  },
  {
   "cell_type": "code",
   "execution_count": null,
   "id": "f44e89cb",
   "metadata": {},
   "outputs": [
    {
     "ename": "SyntaxError",
     "evalue": "invalid syntax (1331708996.py, line 13)",
     "output_type": "error",
     "traceback": [
      "  \u001b[36mCell\u001b[39m\u001b[36m \u001b[39m\u001b[32mIn[29]\u001b[39m\u001b[32m, line 13\u001b[39m\n\u001b[31m    \u001b[39m\u001b[31mreturn self__password = new_pwd\u001b[39m\n                          ^\n\u001b[31mSyntaxError\u001b[39m\u001b[31m:\u001b[39m invalid syntax\n"
     ]
    }
   ],
   "source": [
    "import random\n",
    "\n",
    "class Login:\n",
    "    def __init__(self,username,password):\n",
    "        self.username = username\n",
    "        self.__password = password\n",
    "        self._OTP = random.randint(1111,9999)\n",
    "    \n",
    "    def getpassword(self):\n",
    "        return self.__password\n",
    "    \n",
    "    def updatePassword(self,new_pwd):\n",
    "        return self__password = new_pwd\n",
    "    \n",
    "    @property\n",
    "    def publicotp(self):\n",
    "        return self._otp\n",
    "     \n",
    "\n",
    "\n",
    "\n",
    "shanmukh = Login(\"Shanmukh123\",\"Shanmukh@123456789\")\n",
    "print(\"Username\",shanmukh.username)\n",
    "print(\"Password\",shanmukh.getpassowrd)"
   ]
  }
 ],
 "metadata": {
  "kernelspec": {
   "display_name": "Python 3",
   "language": "python",
   "name": "python3"
  },
  "language_info": {
   "codemirror_mode": {
    "name": "ipython",
    "version": 3
   },
   "file_extension": ".py",
   "mimetype": "text/x-python",
   "name": "python",
   "nbconvert_exporter": "python",
   "pygments_lexer": "ipython3",
   "version": "3.12.1"
  }
 },
 "nbformat": 4,
 "nbformat_minor": 5
}

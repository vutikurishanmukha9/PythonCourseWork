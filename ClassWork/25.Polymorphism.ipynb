{
 "cells": [
  {
   "cell_type": "markdown",
   "id": "4bd998c8",
   "metadata": {},
   "source": [
    "In Polymorhpism there are three main types i.e:\n",
    "\n",
    "\n",
    "Method Overloading \n",
    "\n",
    "\n",
    "Method Overriding \n",
    "\n",
    "\n",
    "Operator Overriding\n",
    "\n",
    "\n"
   ]
  },
  {
   "cell_type": "code",
   "execution_count": null,
   "id": "2c6e24fc",
   "metadata": {},
   "outputs": [],
   "source": [
    "class hotstar:\n",
    "    def playvideo(self):\n",
    "\n",
    "class premium(hotstar):\n",
    "    def playvideo(self):\n"
   ]
  },
  {
   "cell_type": "markdown",
   "id": "07a04623",
   "metadata": {},
   "source": [
    "Example for the Method Overriding"
   ]
  },
  {
   "cell_type": "code",
   "execution_count": 12,
   "id": "10bf52e2",
   "metadata": {},
   "outputs": [
    {
     "name": "stdout",
     "output_type": "stream",
     "text": [
      "\n",
      "Welcoem to Youtube \n",
      " Kohli Account is created\n",
      "Ads Included\n",
      "No Background Play\n",
      "Limited Content\n",
      "Download Low-Quality\n",
      "No Youtube Music\n",
      "You can Share any video\n",
      "You can upload your profile\n",
      "You can login with MUltiple Devices\n",
      "You can View Shorts\n",
      "You can like any video \n",
      "Subscribe\n",
      "You can Share any video\n",
      "\n",
      "Welcoem to Youtube \n",
      " Rajat Account is created\n",
      "Ads Free\n",
      "You can play on Background\n",
      "Exclusive Content\n",
      "Can Download High-Quality\n",
      "Youtube Music is available\n",
      "You can Share any video\n",
      "You can upload your profile\n",
      "You can login with MUltiple Devices\n",
      "You can View Shorts\n",
      "You can like any video \n",
      "Subscribe\n",
      "You can Share any video\n"
     ]
    }
   ],
   "source": [
    "class NormalUser:\n",
    "    def __init__(self,username):\n",
    "        self.username = username\n",
    "        print(f'\\nWelcoem to Youtube \\n {self.username} Account is created')\n",
    "    def playvideo(self):\n",
    "        print(\"Ads Included\")\n",
    "        print(\"No Background Play\")\n",
    "        print(\"Limited Content\")\n",
    "        print(\"Download Low-Quality\")\n",
    "        print(\"No Youtube Music\")\n",
    "    def profile(user):\n",
    "        print(\"You can upload your profile\")\n",
    "    def MultipleDevice(self):\n",
    "        print(\"You can login with MUltiple Devices\")\n",
    "    def shorts(self):\n",
    "        print(\"You can View Shorts\")\n",
    "    def Likes(self):\n",
    "        print(\"You can like any video \")\n",
    "    def share(self):\n",
    "        print(\"You can Share any video\")\n",
    "    def subsrcibe(self):\n",
    "        print(\"Subscribe\")\n",
    "\n",
    "\n",
    "class PremiumUser(NormalUser):\n",
    "    def __init__(self,username):\n",
    "        super().__init__(username)\n",
    "    def playvideo(self):\n",
    "        print(\"Ads Free\")\n",
    "        print(\"You can play on Background\")\n",
    "        print(\"Exclusive Content\")\n",
    "        print(\"Can Download High-Quality\")\n",
    "        print(\"Youtube Music is available\")\n",
    "\n",
    "Kohli = NormalUser(\"Kohli\")\n",
    "Kohli.playvideo()\n",
    "Kohli.share()\n",
    "Kohli.profile()\n",
    "Kohli.MultipleDevice()\n",
    "Kohli.shorts()\n",
    "Kohli.Likes()\n",
    "Kohli.subsrcibe()\n",
    "Kohli.share()\n",
    "\n",
    "\n",
    "\n",
    "Rajat = PremiumUser(\"Rajat\")\n",
    "Rajat.playvideo()\n",
    "Rajat.share()\n",
    "Rajat.profile()\n",
    "Rajat.MultipleDevice()\n",
    "Rajat.shorts()\n",
    "Rajat.Likes()\n",
    "Rajat.subsrcibe()\n",
    "Rajat.share()\n"
   ]
  }
 ],
 "metadata": {
  "kernelspec": {
   "display_name": "Python 3",
   "language": "python",
   "name": "python3"
  },
  "language_info": {
   "codemirror_mode": {
    "name": "ipython",
    "version": 3
   },
   "file_extension": ".py",
   "mimetype": "text/x-python",
   "name": "python",
   "nbconvert_exporter": "python",
   "pygments_lexer": "ipython3",
   "version": "3.12.1"
  }
 },
 "nbformat": 4,
 "nbformat_minor": 5
}

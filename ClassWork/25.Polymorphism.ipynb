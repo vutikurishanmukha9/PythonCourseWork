{
 "cells": [
  {
   "cell_type": "markdown",
   "id": "4bd998c8",
   "metadata": {},
   "source": [
    "In Polymorhpism there are three main types i.e:\n",
    "\n",
    "\n",
    "Method Overloading \n",
    "\n",
    "\n",
    "Method Overriding \n",
    "\n",
    "\n",
    "Operator OverLoading\n",
    "\n",
    "\n"
   ]
  },
  {
   "cell_type": "markdown",
   "id": "ed2a22c9",
   "metadata": {},
   "source": [
    "**Method Overriding**\n",
    "\n",
    "Method Overriding is an OOP feature where a child class (subclass) provides a new implementation for a method that is already defined in its parent class (superclass).\n",
    "\n",
    "The method in the child class must have the same name, same parameters, and same return type as in the parent class.\n",
    "\n",
    "It allows the child class to customize or completely replace the behavior of the parent class’s method.\n",
    "\n",
    "✅ Key Points about Method Overriding:\n",
    "\n",
    "Same method name, parameters, and signature.\n",
    "\n",
    "Happens in inheritance.\n",
    "\n",
    "Used to achieve runtime polymorphism (deciding which method runs at runtime).\n",
    "\n",
    "super() can be used to call the parent class method inside the child class."
   ]
  },
  {
   "cell_type": "code",
   "execution_count": null,
   "id": "2c6e24fc",
   "metadata": {},
   "outputs": [],
   "source": [
    "class hotstar:\n",
    "    def playvideo(self):\n",
    "\n",
    "class premium(hotstar):\n",
    "    def playvideo(self):\n"
   ]
  },
  {
   "cell_type": "markdown",
   "id": "07a04623",
   "metadata": {},
   "source": [
    "Example for the Method Overriding"
   ]
  },
  {
   "cell_type": "code",
   "execution_count": 16,
   "id": "10bf52e2",
   "metadata": {},
   "outputs": [
    {
     "name": "stdout",
     "output_type": "stream",
     "text": [
      "\n",
      "Welcoem to Youtube \n",
      " Kohli Account is created\n",
      "Ads Included\n",
      "No Background Play\n",
      "Limited Content\n",
      "Download Low-Quality\n",
      "No Youtube Music\n",
      "You can Share any video\n",
      "You can upload your profile\n",
      "You can login with Multiple Devices\n",
      "You can View Shorts\n",
      "You can like any video \n",
      "Subscribe To any Channels\n",
      "You can Share any video\n",
      "\n",
      "Welcoem to Youtube \n",
      " Rajat Account is created\n",
      "Ads Free\n",
      "You can play on Background\n",
      "Exclusive Content\n",
      "Can Download High-Quality\n",
      "Youtube Music is available\n",
      "You can Share any video\n",
      "You can upload your profile\n",
      "You can login with Multiple Devices\n",
      "You can View Shorts\n",
      "You can like any video \n",
      "Subscribe To any Channels\n",
      "You can Share any video\n"
     ]
    }
   ],
   "source": [
    "class NormalUser:\n",
    "    def __init__(self,username):\n",
    "        self.username = username\n",
    "        print(f'\\nWelcoem to Youtube \\n {self.username} Account is created')\n",
    "    def playvideo(self):\n",
    "        print(\"Ads Included\")\n",
    "        print(\"No Background Play\")\n",
    "        print(\"Limited Content\")\n",
    "        print(\"Download Low-Quality\")\n",
    "        print(\"No Youtube Music\")\n",
    "    def profile(user):\n",
    "        print(\"You can upload your profile\")\n",
    "    def MultipleDevice(self):\n",
    "        print(\"You can login with Multiple Devices\")\n",
    "    def shorts(self):\n",
    "        print(\"You can View Shorts\")\n",
    "    def Likes(self):\n",
    "        print(\"You can like any video \")\n",
    "    def share(self):\n",
    "        print(\"You can Share any video\")\n",
    "    def subsrcibe(self):\n",
    "        print(\"Subscribe To any Channels\")\n",
    "\n",
    "\n",
    "class PremiumUser(NormalUser):\n",
    "    def __init__(self,username):\n",
    "        super().__init__(username)\n",
    "    def playvideo(self):\n",
    "        print(\"Ads Free\")\n",
    "        print(\"You can play on Background\")\n",
    "        print(\"Exclusive Content\")\n",
    "        print(\"Can Download High-Quality\")\n",
    "        print(\"Youtube Music is available\")\n",
    "\n",
    "Kohli = NormalUser(\"Kohli\")\n",
    "Kohli.playvideo()\n",
    "Kohli.share()\n",
    "Kohli.profile()\n",
    "Kohli.MultipleDevice()\n",
    "Kohli.shorts()\n",
    "Kohli.Likes()\n",
    "Kohli.subsrcibe()\n",
    "Kohli.share()\n",
    "\n",
    "\n",
    "Rajat = PremiumUser(\"Rajat\")\n",
    "Rajat.playvideo()\n",
    "Rajat.share()\n",
    "Rajat.profile()\n",
    "Rajat.MultipleDevice()\n",
    "Rajat.shorts()\n",
    "Rajat.Likes()\n",
    "Rajat.subsrcibe()\n",
    "Rajat.share()\n"
   ]
  },
  {
   "cell_type": "markdown",
   "id": "79dd43f7",
   "metadata": {},
   "source": [
    "Example for the **Operator OverLoading**"
   ]
  },
  {
   "cell_type": "code",
   "execution_count": null,
   "id": "09b1adff",
   "metadata": {},
   "outputs": [
    {
     "name": "stdout",
     "output_type": "stream",
     "text": [
      "31\n",
      "71\n",
      "-9\n",
      "1240\n",
      "0.775\n",
      "True\n",
      "False\n",
      "False\n"
     ]
    }
   ],
   "source": [
    "class Number:\n",
    "    def __init__(self, number):\n",
    "        self.number = number\n",
    "\n",
    "    def __str__(self):\n",
    "        return f'{self.number}'\n",
    "\n",
    "    def __add__(self, other):   # Adding\n",
    "        return self.number + other.number\n",
    "\n",
    "    def __sub__(self, other):   # Subtraction\n",
    "        return self.number - other.number\n",
    "\n",
    "    def __mul__(self, other):   # Multiplication\n",
    "        return self.number * other.number\n",
    "\n",
    "    def __truediv__(self, other):  # Division\n",
    "        return self.number / other.number\n",
    "\n",
    "    def __lt__(self, other):   # Less than\n",
    "        return self.number < other.number\n",
    "\n",
    "    def __gt__(self, other):   # Greater than\n",
    "        return self.number > other.number\n",
    "\n",
    "    def __eq__(self, other):   # Equal to\n",
    "        return self.number == other.number\n",
    "\n",
    "\n",
    "n1 = Number(31)\n",
    "n2 = Number(40)\n",
    "\n",
    "print(n1)       # __str__ → 31\n",
    "print(n1 + n2)  # __add__ → 71\n",
    "print(n1 - n2)  # __sub__ → -9\n",
    "print(n1 * n2)  # __mul__ → 1240\n",
    "print(n1 / n2)  # __truediv__ → 0.775\n",
    "print(n1 < n2)  # __lt__ → True\n",
    "print(n1 > n2)  # __gt__ → False\n",
    "print(n1 == n2) # __eq__ → False\n"
   ]
  }
 ],
 "metadata": {
  "kernelspec": {
   "display_name": "Python 3",
   "language": "python",
   "name": "python3"
  },
  "language_info": {
   "codemirror_mode": {
    "name": "ipython",
    "version": 3
   },
   "file_extension": ".py",
   "mimetype": "text/x-python",
   "name": "python",
   "nbconvert_exporter": "python",
   "pygments_lexer": "ipython3",
   "version": "3.12.1"
  }
 },
 "nbformat": 4,
 "nbformat_minor": 5
}

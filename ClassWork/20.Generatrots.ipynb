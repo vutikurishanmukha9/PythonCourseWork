{
 "cells": [
  {
   "cell_type": "code",
   "execution_count": 5,
   "id": "2e499bb1",
   "metadata": {},
   "outputs": [
    {
     "name": "stdout",
     "output_type": "stream",
     "text": [
      "1....100\n",
      "101....200\n",
      "201....300\n",
      "301....400\n",
      "401...500\n"
     ]
    }
   ],
   "source": [
    "def show_feed(l):\n",
    "    for item in l:\n",
    "        yield item\n",
    "\n",
    "reels = ['1....100', '101....200', '201....300', '301....400', '401...500']\n",
    "next_feed = show_feed(reels)\n",
    "\n",
    "print(next(next_feed))\n",
    "print(next(next_feed))\n",
    "print(next(next_feed))\n",
    "print(next(next_feed))\n",
    "print(next(next_feed))"
   ]
  },
  {
   "cell_type": "code",
   "execution_count": 19,
   "id": "51487367",
   "metadata": {},
   "outputs": [
    {
     "name": "stdout",
     "output_type": "stream",
     "text": [
      "Kohli\n",
      "Rajat\n",
      "Salt\n",
      "Devdutt\n",
      "Jithesh\n",
      "Lvingstone\n",
      "tim david\n",
      "Shepered\n",
      "Krunal Pandya\n",
      "Bhuvineswarkumar\n",
      "Hazlewood\n",
      "Suyash sharma\n"
     ]
    }
   ],
   "source": [
    "def IPL(RCB):\n",
    "    for players in RCB:\n",
    "        yield players\n",
    "    \n",
    "RCB = ['Kohli','Rajat','Salt','Devdutt','Jithesh','Lvingstone','tim david','Shepered','Krunal Pandya','Bhuvineswarkumar','Hazlewood','Suyash sharma']\n",
    "player = IPL(RCB)\n",
    "while True:\n",
    "    scroll = input(\"[c]ontinue / [e]xit\")\n",
    "    if scroll == 'c':\n",
    "        print(next(player))\n",
    "    else:\n",
    "        break\n"
   ]
  },
  {
   "cell_type": "code",
   "execution_count": 4,
   "id": "20c969bc",
   "metadata": {},
   "outputs": [
    {
     "name": "stdout",
     "output_type": "stream",
     "text": [
      "Kohli\n",
      "Salat\n",
      "Paddikkal\n",
      "Rajat Patidhar\n",
      "Jitesh\n",
      "Tim David\n",
      "Krunal pandya\n",
      "Bhuvineshwar kumar\n",
      "Hazle Wood\n",
      "Yash Dayal\n"
     ]
    }
   ],
   "source": [
    "def IPL(RCB):\n",
    "    for players in RCB:\n",
    "        yield players\n",
    "RCB = ['Kohli','Sala','Paddikkal','Rajat Patidhar','Jitesh','Tim David','Krunal pandya','Bhuvineshwar kumar','Hazle Wood','Yash Dayal','Suyash Sharma']\n",
    "players = IPL(RCB)\n",
    "while True:\n",
    "    scroll = input(\"C / E\").upper()\n",
    "    if scroll == 'C':\n",
    "        print(next(players))\n",
    "    else:\n",
    "        break"
   ]
  },
  {
   "cell_type": "code",
   "execution_count": null,
   "id": "4633ca8d",
   "metadata": {},
   "outputs": [
    {
     "name": "stdout",
     "output_type": "stream",
     "text": [
      "Kohli\n",
      "Salt\n",
      "Paddikkal\n",
      "Rajat Patidhar\n",
      "Jitesh\n",
      "Tim David\n",
      "Krunal pandya\n",
      "Bhuvineshwar kumar\n",
      "Hazle Wood\n",
      "Yash Dayal\n"
     ]
    }
   ],
   "source": [
    "\n"
   ]
  }
 ],
 "metadata": {
  "kernelspec": {
   "display_name": "Python 3",
   "language": "python",
   "name": "python3"
  },
  "language_info": {
   "codemirror_mode": {
    "name": "ipython",
    "version": 3
   },
   "file_extension": ".py",
   "mimetype": "text/x-python",
   "name": "python",
   "nbconvert_exporter": "python",
   "pygments_lexer": "ipython3",
   "version": "3.12.1"
  }
 },
 "nbformat": 4,
 "nbformat_minor": 5
}

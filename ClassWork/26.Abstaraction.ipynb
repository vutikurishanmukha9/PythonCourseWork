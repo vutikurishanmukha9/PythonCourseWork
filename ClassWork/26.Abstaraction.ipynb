{
 "cells": [
  {
   "cell_type": "markdown",
   "id": "2e5fcc6e",
   "metadata": {},
   "source": [
    "**Abstarction**\n",
    "\n",
    "Abstarction means Hiding complex implementation details while showing only essential features."
   ]
  },
  {
   "cell_type": "code",
   "execution_count": 7,
   "id": "9ff89a4d",
   "metadata": {},
   "outputs": [
    {
     "name": "stdout",
     "output_type": "stream",
     "text": [
      "You can deposit amount\n",
      "You Can CheckBalance\n",
      "You can view the Transaction History\n",
      "You can withdraw the money\n",
      "You can WithDraw Extra amount also\n"
     ]
    }
   ],
   "source": [
    "from abc import ABC, abstractmethod\n",
    "\n",
    "class BankAccount(ABC):\n",
    "    def Deposit(self):\n",
    "        print(\"You can deposit amount\")\n",
    "    def CheckBalance(self):\n",
    "        print(\"You Can CheckBalance\")\n",
    "        \n",
    "    @abstractmethod  #Decrator\n",
    "    def Withdraw(self):\n",
    "        pass\n",
    "    \n",
    "    def History(self):\n",
    "        print(\"You can view the Transaction History\")\n",
    "\n",
    "\n",
    "class CurrentAccount(BankAccount):\n",
    "    def Withdraw(self):\n",
    "        print(\"You can WithDraw Extra amount also\")\n",
    "\n",
    "class SavingsAccount(BankAccount):\n",
    "    def Withdraw(self):\n",
    "        print(\"You can withdraw the money\")\n",
    "\n",
    "Kohli = SavingsAccount()\n",
    "Kohli_Current = CurrentAccount()\n",
    "\n",
    "Kohli.Deposit()\n",
    "Kohli.CheckBalance()\n",
    "Kohli.History()\n",
    "\n",
    "Kohli.Withdraw() #Accessing the Saving Account\n",
    "Kohli_Current.Withdraw() #Accessing the Current Account"
   ]
  },
  {
   "cell_type": "markdown",
   "id": "1ba0ecbb",
   "metadata": {},
   "source": [
    "**Another Example**"
   ]
  },
  {
   "cell_type": "code",
   "execution_count": 4,
   "id": "9823603a",
   "metadata": {},
   "outputs": [
    {
     "name": "stdout",
     "output_type": "stream",
     "text": [
      "Processing Food Order: Check chef availability, estimate time\n",
      "Processing Grocery Order: Check inventory per item, bag & cart\n",
      "Processing Medicine Order: Validate prescription, assign delivery\n"
     ]
    }
   ],
   "source": [
    "from abc import ABC, abstractmethod\n",
    "\n",
    "class Order(ABC):\n",
    "    \n",
    "    @abstractmethod\n",
    "    def process_order(self):\n",
    "        pass\n",
    "\n",
    "class FoodOrder(Order):\n",
    "    def process_order(self):\n",
    "        print(\"Processing Food Order: Check chef availability, estimate time\")\n",
    "\n",
    "class GroceryOrder(Order):\n",
    "    def process_order(self):\n",
    "        print(\"Processing Grocery Order: Check inventory per item, bag & cart\")\n",
    "\n",
    "class MedicineOrder(Order):\n",
    "    def process_order(self):\n",
    "        print(\"Processing Medicine Order: Validate prescription, assign delivery\")\n",
    "\n",
    "\n",
    "order1 = FoodOrder()\n",
    "order2 = GroceryOrder()\n",
    "order3 = MedicineOrder()\n",
    "\n",
    "\n",
    "order1.process_order()\n",
    "order2.process_order()\n",
    "order3.process_order()\n"
   ]
  }
 ],
 "metadata": {
  "kernelspec": {
   "display_name": "Python 3",
   "language": "python",
   "name": "python3"
  },
  "language_info": {
   "codemirror_mode": {
    "name": "ipython",
    "version": 3
   },
   "file_extension": ".py",
   "mimetype": "text/x-python",
   "name": "python",
   "nbconvert_exporter": "python",
   "pygments_lexer": "ipython3",
   "version": "3.12.1"
  }
 },
 "nbformat": 4,
 "nbformat_minor": 5
}

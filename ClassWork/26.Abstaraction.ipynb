{
 "cells": [
  {
   "cell_type": "markdown",
   "id": "2e5fcc6e",
   "metadata": {},
   "source": [
    "**Abstarction**\n",
    "\n",
    "Abstarction means Hiding complex implementation details while showing only essential features."
   ]
  },
  {
   "cell_type": "code",
   "execution_count": 13,
   "id": "9ff89a4d",
   "metadata": {},
   "outputs": [
    {
     "name": "stdout",
     "output_type": "stream",
     "text": [
      "You can deposit amount\n",
      "You Can CheckBalance\n",
      "You can view the Transaction History\n",
      "You can withdraw the money\n",
      "You can WithDraw Extra amount also\n"
     ]
    }
   ],
   "source": [
    "from abc import ABC, abstractmethod\n",
    "\n",
    "class BankAccount:\n",
    "    def Deposit(self):\n",
    "        print(\"You can deposit amount\")\n",
    "    def CheckBalance(self):\n",
    "        print(\"You Can CheckBalance\")\n",
    "        \n",
    "    @abstractmethod  #Decrator\n",
    "    def Withdraw(self):\n",
    "        pass\n",
    "    def History(self):\n",
    "        print(\"You can view the Transaction History\")\n",
    "\n",
    "\n",
    "class CurrentAccount(BankAccount):\n",
    "    def Withdraw(self):\n",
    "        print(\"You can WithDraw Extra amount also\")\n",
    "\n",
    "class SavingsAccount(BankAccount):\n",
    "    def Withdraw(self):\n",
    "        print(\"You can withdraw the money\")\n",
    "\n",
    "Kohli = SavingsAccount()\n",
    "Rajat= CurrentAccount()\n",
    "\n",
    "Kohli.Deposit()\n",
    "Kohli.CheckBalance()\n",
    "Kohli.History()\n",
    "\n",
    "Kohli.Withdraw() #Accessing the Current Account\n",
    "Rajat.Withdraw() #Accessing the Savings Account"
   ]
  }
 ],
 "metadata": {
  "kernelspec": {
   "display_name": "Python 3",
   "language": "python",
   "name": "python3"
  },
  "language_info": {
   "codemirror_mode": {
    "name": "ipython",
    "version": 3
   },
   "file_extension": ".py",
   "mimetype": "text/x-python",
   "name": "python",
   "nbconvert_exporter": "python",
   "pygments_lexer": "ipython3",
   "version": "3.12.1"
  }
 },
 "nbformat": 4,
 "nbformat_minor": 5
}

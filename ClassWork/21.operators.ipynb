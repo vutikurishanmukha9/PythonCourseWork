{
 "cells": [
  {
   "cell_type": "code",
   "execution_count": null,
   "id": "b092bee4",
   "metadata": {},
   "outputs": [],
   "source": [
    "data = {\n",
    "        12345:{'pin':123,'balance':5678,'history':[]},\n",
    "        23456:{'pin':123,'balance':5678,'history':[]},\n",
    "        34567:{'pin':123,'balance':5678,'history':[]},\n",
    "        45678:{'pin':123,'balance':5678,'history':[]},\n",
    "        56789:{'pin':123,'balance':5678,'history':[]},\n",
    "        67891:{'pin':123,'balance':5678,'history':[]},\n",
    "}\n",
    "\n",
    "def Welcome():\n",
    "    print(\"Welcome to the ATM\".center(50,'*'))\n",
    "\n",
    "def menu():\n",
    "    print('\\n[C]heck Balance')\n",
    "    print('[D]eposit')\n",
    "    print('[W]ithdraw')\n",
    "    print('[V]iew Transactions')\n",
    "    print('[E]xit')\n",
    "\n",
    "def login():\n",
    "    account_number = int(input(\"Enter your account number: \"))\n",
    "    pin = int(input(\"Enter your PIN: \"))\n",
    "    \n",
    "\n"
   ]
  }
 ],
 "metadata": {
  "language_info": {
   "name": "python"
  }
 },
 "nbformat": 4,
 "nbformat_minor": 5
}

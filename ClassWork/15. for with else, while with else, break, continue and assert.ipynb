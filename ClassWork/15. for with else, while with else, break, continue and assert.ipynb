{
 "cells": [
  {
   "cell_type": "code",
   "execution_count": 39,
   "id": "6041bc42",
   "metadata": {},
   "outputs": [
    {
     "name": "stdout",
     "output_type": "stream",
     "text": [
      "* * * * * \n",
      "* * * * * \n",
      "* * * * * \n",
      "* * * * * \n",
      "* * * * * \n"
     ]
    }
   ],
   "source": [
    "for row in range (5):\n",
    "    for col in range(5):\n",
    "        print(\"*\",end = \" \")\n",
    "    print()"
   ]
  },
  {
   "cell_type": "code",
   "execution_count": 40,
   "id": "149e9e2b",
   "metadata": {},
   "outputs": [
    {
     "name": "stdout",
     "output_type": "stream",
     "text": [
      "0 0 0 0 0 \n",
      "1 1 1 1 1 \n",
      "2 2 2 2 2 \n",
      "3 3 3 3 3 \n",
      "4 4 4 4 4 \n"
     ]
    }
   ],
   "source": [
    "for row in range (5):\n",
    "    for col in range(5):\n",
    "        print(row,end = \" \")\n",
    "    print()"
   ]
  },
  {
   "cell_type": "code",
   "execution_count": 41,
   "id": "58e8dd8f",
   "metadata": {},
   "outputs": [
    {
     "name": "stdout",
     "output_type": "stream",
     "text": [
      "0 1 2 3 4 \n",
      "0 1 2 3 4 \n",
      "0 1 2 3 4 \n",
      "0 1 2 3 4 \n",
      "0 1 2 3 4 \n"
     ]
    }
   ],
   "source": [
    "for row in range(5):\n",
    "    for col in range(5):\n",
    "        print(col,end = \" \")\n",
    "    print()"
   ]
  },
  {
   "cell_type": "code",
   "execution_count": 42,
   "id": "c5c80f5f",
   "metadata": {},
   "outputs": [
    {
     "name": "stdout",
     "output_type": "stream",
     "text": [
      "0 \n",
      "1 1 \n",
      "2 2 2 \n",
      "3 3 3 3 \n",
      "4 4 4 4 4 \n"
     ]
    }
   ],
   "source": [
    "for row in range(5):\n",
    "    for col in range(row+1):\n",
    "        print(row,end = \" \")\n",
    "    print()"
   ]
  },
  {
   "cell_type": "code",
   "execution_count": 43,
   "id": "f51e64ef",
   "metadata": {},
   "outputs": [
    {
     "name": "stdout",
     "output_type": "stream",
     "text": [
      "* * * * * * * * * * \n",
      "* * * * * * * * * \n",
      "* * * * * * * * \n",
      "* * * * * * * \n",
      "* * * * * * \n",
      "* * * * * \n",
      "* * * * \n",
      "* * * \n",
      "* * \n",
      "* \n"
     ]
    }
   ],
   "source": [
    "n = int(input(\"Enter the number: \"))\n",
    "for row in range(n):\n",
    "    for col in range(n-row):\n",
    "        print('*',end = \" \")\n",
    "    print()"
   ]
  },
  {
   "cell_type": "code",
   "execution_count": 44,
   "id": "8a563bd0",
   "metadata": {},
   "outputs": [
    {
     "name": "stdout",
     "output_type": "stream",
     "text": [
      "                  * \n",
      "                * * \n",
      "              * * * \n",
      "            * * * * \n",
      "          * * * * * \n",
      "        * * * * * * \n",
      "      * * * * * * * \n",
      "    * * * * * * * * \n",
      "  * * * * * * * * * \n",
      "* * * * * * * * * * \n"
     ]
    }
   ],
   "source": [
    "n = int(input(\"Enter the number: \"))\n",
    "for row in range(n):\n",
    "    for space in range(n - row - 1):\n",
    "        print(\" \", end=\" \")  \n",
    "    for col in range(row + 1):\n",
    "        print(\"*\", end=\" \")  \n",
    "    print()  "
   ]
  },
  {
   "cell_type": "code",
   "execution_count": 45,
   "id": "348612a6",
   "metadata": {},
   "outputs": [
    {
     "name": "stdout",
     "output_type": "stream",
     "text": [
      "* * * * * * * * * * \n",
      "  * * * * * * * * * \n",
      "    * * * * * * * * \n",
      "      * * * * * * * \n",
      "        * * * * * * \n",
      "          * * * * * \n",
      "            * * * * \n",
      "              * * * \n",
      "                * * \n",
      "                  * \n"
     ]
    }
   ],
   "source": [
    "n = int(input(\"Enter the number: \"))\n",
    "for row in range(n):\n",
    "    for space in range(row):\n",
    "        print(' ',end = \" \")\n",
    "    for col in range(n-row):\n",
    "        print('*',end = \" \")\n",
    "    print()"
   ]
  },
  {
   "cell_type": "code",
   "execution_count": 46,
   "id": "1058ae2a",
   "metadata": {},
   "outputs": [
    {
     "name": "stdout",
     "output_type": "stream",
     "text": [
      "********** \n",
      " ********* \n",
      "  ******** \n",
      "   ******* \n",
      "    ****** \n",
      "     ***** \n",
      "      **** \n",
      "       *** \n",
      "        ** \n",
      "         * \n"
     ]
    }
   ],
   "source": [
    "n = int(input(\"Enter the number: \"))\n",
    "for row in range(n):\n",
    "        print(' '*row,end=\"\")\n",
    "        print(\"*\"*(n-row),end=\" \")\n",
    "        print( )"
   ]
  },
  {
   "cell_type": "code",
   "execution_count": 47,
   "id": "110ae1e0",
   "metadata": {},
   "outputs": [
    {
     "name": "stdout",
     "output_type": "stream",
     "text": [
      "*\n",
      "**\n",
      "***\n",
      "****\n",
      "*****\n",
      "******\n",
      "*******\n",
      "********\n",
      "*********\n",
      "**********\n",
      "*********\n",
      "********\n",
      "*******\n",
      "******\n",
      "*****\n",
      "****\n",
      "***\n",
      "**\n",
      "*\n"
     ]
    }
   ],
   "source": [
    "n = int(input(\"Enter the number: \"))\n",
    "for row in range(1, n + 1):\n",
    "    print('*' * row)\n",
    "for row in range(n - 1, 0, -1):\n",
    "    print('*' * row)"
   ]
  },
  {
   "cell_type": "code",
   "execution_count": 48,
   "id": "6fd58461",
   "metadata": {},
   "outputs": [
    {
     "name": "stdout",
     "output_type": "stream",
     "text": [
      "                    * \n",
      "                  * * * \n",
      "                * * * * * \n",
      "              * * * * * * * \n",
      "            * * * * * * * * * \n",
      "          * * * * * * * * * * * \n",
      "        * * * * * * * * * * * * * \n",
      "      * * * * * * * * * * * * * * * \n",
      "    * * * * * * * * * * * * * * * * * \n",
      "  * * * * * * * * * * * * * * * * * * * \n",
      "* * * * * * * * * * * * * * * * * * * * * \n"
     ]
    }
   ],
   "source": [
    "n = int(input(\"Enter the number: \"))\n",
    "for row in range(n+1):\n",
    "    for col in range(n - row):\n",
    "        print(\" \", end=\" \")\n",
    "    for col in range(2 * row + 1):\n",
    "        print(\"*\", end=\" \")\n",
    "    print()"
   ]
  },
  {
   "cell_type": "code",
   "execution_count": 49,
   "id": "993b601d",
   "metadata": {},
   "outputs": [
    {
     "name": "stdout",
     "output_type": "stream",
     "text": [
      "*\n",
      "\n",
      "**\n",
      "\n",
      "***\n",
      "\n",
      "****\n",
      "\n",
      "*****\n",
      "\n",
      "******\n",
      "\n",
      "*****\n",
      "\n",
      "****\n",
      "\n",
      "***\n",
      "\n",
      "**\n",
      "\n"
     ]
    }
   ],
   "source": [
    "n = int(input(\"Enter a number: \"))\n",
    "for row in range(n):\n",
    "    if row <= n // 2:\n",
    "        print('*' * (row + 1))\n",
    "    else:\n",
    "        print('*' * (n - row + 1))\n",
    "    print()\n"
   ]
  },
  {
   "cell_type": "code",
   "execution_count": 50,
   "id": "d210b604",
   "metadata": {},
   "outputs": [
    {
     "name": "stdout",
     "output_type": "stream",
     "text": [
      "* * * * * * * * * * \n",
      "*                 * \n",
      "*                 * \n",
      "*                 * \n",
      "*                 * \n",
      "*                 * \n",
      "*                 * \n",
      "*                 * \n",
      "*                 * \n",
      "* * * * * * * * * * \n"
     ]
    }
   ],
   "source": [
    "n = int(input(\"Enter the number: \"))\n",
    "for row in range(n):\n",
    "    for col in range(n):\n",
    "        if row == 0 or row == n-1 or col == 0 or col == n-1:\n",
    "            print(\"*\",end = \" \")\n",
    "        else:\n",
    "            print(\" \",end = \" \")\n",
    "    print()"
   ]
  },
  {
   "cell_type": "code",
   "execution_count": 52,
   "id": "8593297d",
   "metadata": {},
   "outputs": [
    {
     "name": "stdout",
     "output_type": "stream",
     "text": [
      "* * * * * * * * * * \n",
      "*         *       * \n",
      "*         *       * \n",
      "*         *       * \n",
      "*         *       * \n",
      "* * * * * * * * * * \n",
      "*         *       * \n",
      "*         *       * \n",
      "*         *       * \n",
      "* * * * * * * * * * \n"
     ]
    }
   ],
   "source": [
    "n = int(input(\"Enter the number: \"))\n",
    "for row in range(n):\n",
    "    for col in range(n):\n",
    "        if row == 0 or row == n-1 or col == 0 or col == n-1 or row == n // 2 or col == n // 2:\n",
    "            print(\"*\" ,end = \" \")\n",
    "        else:\n",
    "            print(\" \",end = \" \")            \n",
    "    print()        "
   ]
  },
  {
   "cell_type": "code",
   "execution_count": 53,
   "id": "568d03b4",
   "metadata": {},
   "outputs": [
    {
     "name": "stdout",
     "output_type": "stream",
     "text": [
      "* * * * * * * * * * \n",
      "                *   \n",
      "              *     \n",
      "            *       \n",
      "          *         \n",
      "        *           \n",
      "      *             \n",
      "    *               \n",
      "  *                 \n",
      "* * * * * * * * * * \n"
     ]
    }
   ],
   "source": [
    "n = int(input(\"Enter the number: \"))\n",
    "for row in range(n):\n",
    "    for col in range(n):\n",
    "        if row == 0 or row == n-1 or row + col == n-1:\n",
    "            print(\"*\", end=\" \")\n",
    "        else:\n",
    "            print(\" \", end=\" \")\n",
    "    print()"
   ]
  },
  {
   "cell_type": "code",
   "execution_count": null,
   "id": "050014bd",
   "metadata": {},
   "outputs": [
    {
     "name": "stdout",
     "output_type": "stream",
     "text": [
      "*                 * \n",
      "  *             *   \n",
      "    *         *     \n",
      "      *     *       \n",
      "        * *         \n",
      "        * *         \n",
      "      *     *       \n",
      "    *         *     \n",
      "  *             *   \n",
      "*                 * \n"
     ]
    }
   ],
   "source": [
    "#Pattern for X\n",
    "n = int(input(\"Enter the number: \"))\n",
    "for row in range(n):\n",
    "    for col in range(n):\n",
    "        if row == col or row+col == n-1:\n",
    "            print(\"*\",end = \" \")\n",
    "        else:\n",
    "            print(\" \",end = \" \")\n",
    "    print()"
   ]
  },
  {
   "cell_type": "code",
   "execution_count": 55,
   "id": "eef8288e",
   "metadata": {},
   "outputs": [
    {
     "name": "stdout",
     "output_type": "stream",
     "text": [
      "* * * * * * * * * * \n",
      "          *         \n",
      "          *         \n",
      "          *         \n",
      "          *         \n",
      "          *         \n",
      "          *         \n",
      "          *         \n",
      "          *         \n",
      "* * * * * * * * * * \n"
     ]
    }
   ],
   "source": [
    "#Print The pattern for I\n",
    "\n",
    "n = int(input(\"Enter the input: \"))\n",
    "for row in range(n):\n",
    "    for col in range(n):\n",
    "        if row == 0 or row == n-1 or col == n // 2:\n",
    "            print(\"*\",end = \" \")\n",
    "        else:\n",
    "            print(\" \",end = \" \")\n",
    "    print()"
   ]
  },
  {
   "cell_type": "code",
   "execution_count": 56,
   "id": "7883cfbc",
   "metadata": {},
   "outputs": [
    {
     "name": "stdout",
     "output_type": "stream",
     "text": [
      "*                 * \n",
      "*                 * \n",
      "*                 * \n",
      "*                 * \n",
      "*                 * \n",
      "* * * * * * * * * * \n",
      "*                 * \n",
      "*                 * \n",
      "*                 * \n",
      "*                 * \n"
     ]
    }
   ],
   "source": [
    "n = int(input(\"Enter the number: \"))\n",
    "for row in range(n):\n",
    "    for col in range(n):\n",
    "        if col == 0 or col == n-1 or row == n//2:\n",
    "            print(\"*\",end = \" \")\n",
    "        else:\n",
    "            print(\" \",end = \" \")\n",
    "    print()"
   ]
  },
  {
   "cell_type": "code",
   "execution_count": 3,
   "id": "2702d878",
   "metadata": {},
   "outputs": [
    {
     "name": "stdout",
     "output_type": "stream",
     "text": [
      "  * * * * * * * * * \n",
      "*                   \n",
      "*                   \n",
      "*                   \n",
      "*                   \n",
      "  * * * * * * * *   \n",
      "                  * \n",
      "                  * \n",
      "                  * \n",
      "* * * * * * * * *   \n"
     ]
    }
   ],
   "source": [
    "#Pattern for the S\n",
    "n = int(input(\"Enter the number: \"))\n",
    "for row in range(n):\n",
    "    for col in range(n):\n",
    "        if (row == 0 and col > 0) or (row == n//2 and col > 0 and col < n-1) or (row == n-1 and col < n-1) or (col == 0 and row > 0 and row < n//2) or (col == n-1 and row > n//2 and row < n-1):\n",
    "            print(\"*\", end = \" \")\n",
    "        else:\n",
    "            print(\" \", end = \" \")\n",
    "    print()"
   ]
  },
  {
   "cell_type": "code",
   "execution_count": null,
   "id": "9a837d80",
   "metadata": {},
   "outputs": [
    {
     "name": "stdout",
     "output_type": "stream",
     "text": [
      "* * * * * * * * * * \n",
      "*                 * \n",
      "*                 * \n",
      "*                 * \n",
      "*                 * \n",
      "* * * * * * * * * * \n",
      "*                 * \n",
      "*                 * \n",
      "*                 * \n",
      "*                 * \n"
     ]
    }
   ],
   "source": [
    "#Pattern for A\n",
    "n = int(input(\"Enter the number: \"))\n",
    "for row in range(n):\n",
    "    for col in range(n):\n",
    "        if row == 0 or row == n//2 or col == 0 or col == n-1:\n",
    "            print(\"*\",end=\" \")\n",
    "        else:\n",
    "            print(\" \",end = \" \")\n",
    "    print()"
   ]
  },
  {
   "cell_type": "code",
   "execution_count": null,
   "id": "e7e9db33",
   "metadata": {},
   "outputs": [],
   "source": [
    "n = int(input(\"Enter the input: \"))\n",
    "for row in range(n):\n",
    "    for col in range(n):\n",
    "        if (col == 0 or col == n-1) and row \n"
   ]
  },
  {
   "cell_type": "code",
   "execution_count": null,
   "id": "bee22a3e",
   "metadata": {},
   "outputs": [
    {
     "name": "stdout",
     "output_type": "stream",
     "text": [
      "*                 * \n",
      "* *               * \n",
      "*   *             * \n",
      "*     *           * \n",
      "*       *         * \n",
      "*         *       * \n",
      "*           *     * \n",
      "*             *   * \n",
      "*               * * \n",
      "*                 * \n"
     ]
    }
   ],
   "source": [
    "#Pattern to print N\n",
    "\n",
    "n = int(input(\"Emter the input: \"))\n",
    "for row in range(n):\n",
    "    for col in range(n):\n",
    "        if row == col or col == 0 or col == n-1:\n",
    "            print(\"*\",end = \" \")\n",
    "        else:\n",
    "            print(\" \",end = \" \")\n",
    "    print()"
   ]
  },
  {
   "cell_type": "code",
   "execution_count": null,
   "id": "5b811cfa",
   "metadata": {},
   "outputs": [],
   "source": []
  }
 ],
 "metadata": {
  "kernelspec": {
   "display_name": "Python 3",
   "language": "python",
   "name": "python3"
  },
  "language_info": {
   "codemirror_mode": {
    "name": "ipython",
    "version": 3
   },
   "file_extension": ".py",
   "mimetype": "text/x-python",
   "name": "python",
   "nbconvert_exporter": "python",
   "pygments_lexer": "ipython3",
   "version": "3.12.1"
  }
 },
 "nbformat": 4,
 "nbformat_minor": 5
}

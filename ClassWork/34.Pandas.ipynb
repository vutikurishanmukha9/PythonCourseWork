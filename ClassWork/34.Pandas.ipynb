{
 "cells": [
  {
   "cell_type": "code",
   "execution_count": 2,
   "id": "3591e1b6",
   "metadata": {},
   "outputs": [
    {
     "name": "stdout",
     "output_type": "stream",
     "text": [
      "Wireless Earphones      3000\n",
      "Iphone                148500\n",
      "Smart Watch            20000\n",
      "Mobile Phone           32500\n",
      "Laptop                 45200\n",
      "dtype: int64\n"
     ]
    }
   ],
   "source": [
    "import pandas as pd\n",
    "\n",
    "\n",
    "prices = [3000, 148500, 20000, 32500, 45200]\n",
    "\n",
    "products = [\"Wireless Earphones\",\"Iphone\", \"Smart Watch\", \"Mobile Phone\", \"Laptop\"]\n",
    "\n",
    "products_prices = pd.Series(prices,index= products)\n",
    "print(products_prices)"
   ]
  },
  {
   "cell_type": "code",
   "execution_count": 3,
   "id": "86a556bb",
   "metadata": {},
   "outputs": [
    {
     "name": "stdout",
     "output_type": "stream",
     "text": [
      "Mean: 49840.0\n"
     ]
    }
   ],
   "source": [
    "print(\"Mean:\" ,products_prices.mean())"
   ]
  },
  {
   "cell_type": "code",
   "execution_count": 4,
   "id": "37a31cb8",
   "metadata": {},
   "outputs": [
    {
     "name": "stdout",
     "output_type": "stream",
     "text": [
      "Sum: 249200\n"
     ]
    }
   ],
   "source": [
    "print(\"Sum:\", products_prices.sum())"
   ]
  },
  {
   "cell_type": "code",
   "execution_count": 5,
   "id": "cb31df75",
   "metadata": {},
   "outputs": [
    {
     "name": "stdout",
     "output_type": "stream",
     "text": [
      "Max: 148500\n"
     ]
    }
   ],
   "source": [
    "print(\"Max:\", products_prices.max())"
   ]
  },
  {
   "cell_type": "code",
   "execution_count": 6,
   "id": "86f587e4",
   "metadata": {},
   "outputs": [
    {
     "name": "stdout",
     "output_type": "stream",
     "text": [
      "Min: 3000\n"
     ]
    }
   ],
   "source": [
    "print(\"Min:\",products_prices.min())"
   ]
  },
  {
   "cell_type": "code",
   "execution_count": 8,
   "id": "121a9803",
   "metadata": {},
   "outputs": [
    {
     "name": "stdout",
     "output_type": "stream",
     "text": [
      "Head (First 3 elements):\n",
      "\n",
      " Wireless Earphones      3000\n",
      "Iphone                148500\n",
      "Smart Watch            20000\n",
      "dtype: int64\n"
     ]
    }
   ],
   "source": [
    "print(\"Head (First 3 elements):\\n\\n\",products_prices.head(3))"
   ]
  },
  {
   "cell_type": "code",
   "execution_count": 9,
   "id": "460c94ec",
   "metadata": {},
   "outputs": [
    {
     "name": "stdout",
     "output_type": "stream",
     "text": [
      "Tail (First 3 elements):\n",
      " \n",
      " Smart Watch     20000\n",
      "Mobile Phone    32500\n",
      "Laptop          45200\n",
      "dtype: int64\n"
     ]
    }
   ],
   "source": [
    "print(\"Tail (First 3 elements):\\n \\n\", products_prices.tail(3))"
   ]
  },
  {
   "cell_type": "code",
   "execution_count": 15,
   "id": "215f55a2",
   "metadata": {},
   "outputs": [
    {
     "name": "stdout",
     "output_type": "stream",
     "text": [
      "Apply the 18% gst to the Prices: \n",
      " Wireless Earphones      ₹3540.0\n",
      "Iphone                ₹175230.0\n",
      "Smart Watch            ₹23600.0\n",
      "Mobile Phone           ₹38350.0\n",
      "Laptop                 ₹53336.0\n",
      "dtype: object\n"
     ]
    }
   ],
   "source": [
    "print(\"Apply the 18% gst to the Prices: \\n\", products_prices.apply(lambda x: f\"₹{x * 0.18 + x}\"))"
   ]
  },
  {
   "cell_type": "code",
   "execution_count": 18,
   "id": "502addcf",
   "metadata": {},
   "outputs": [
    {
     "name": "stdout",
     "output_type": "stream",
     "text": [
      "Apply the 18% gst to the Prices: \n",
      " Wireless Earphones      ₹3540.0\n",
      "Iphone                ₹175230.0\n",
      "Smart Watch            ₹23600.0\n",
      "Mobile Phone           ₹38350.0\n",
      "Laptop                 ₹53336.0\n",
      "dtype: object\n"
     ]
    }
   ],
   "source": [
    "print(\"Apply the 18% gst to the Prices: \\n\", products_prices.apply(lambda x: f\"₹{x + (x*0.18)}\"))"
   ]
  },
  {
   "cell_type": "code",
   "execution_count": 14,
   "id": "29a45dbd",
   "metadata": {},
   "outputs": [
    {
     "name": "stdout",
     "output_type": "stream",
     "text": [
      "Map(Formatting as currency): \n",
      " Wireless Earphones      ₹3000\n",
      "Iphone                ₹148500\n",
      "Smart Watch            ₹20000\n",
      "Mobile Phone           ₹32500\n",
      "Laptop                 ₹45200\n",
      "dtype: object\n"
     ]
    }
   ],
   "source": [
    "print(\"Map(Formatting as currency): \\n\", products_prices.map(lambda x: f\"₹{x}\"))"
   ]
  },
  {
   "cell_type": "code",
   "execution_count": 19,
   "id": "fd0b83ff",
   "metadata": {},
   "outputs": [
    {
     "name": "stdout",
     "output_type": "stream",
     "text": [
      "Sorting By Values: \n",
      " Wireless Earphones      3000\n",
      "Smart Watch            20000\n",
      "Mobile Phone           32500\n",
      "Laptop                 45200\n",
      "Iphone                148500\n",
      "dtype: int64\n"
     ]
    }
   ],
   "source": [
    "print(\"Sorting By Values: \\n\", products_prices.sort_values())"
   ]
  },
  {
   "cell_type": "code",
   "execution_count": 20,
   "id": "bc38c276",
   "metadata": {},
   "outputs": [
    {
     "name": "stdout",
     "output_type": "stream",
     "text": [
      "Sorting By index: \n",
      " Iphone                148500\n",
      "Laptop                 45200\n",
      "Mobile Phone           32500\n",
      "Smart Watch            20000\n",
      "Wireless Earphones      3000\n",
      "dtype: int64\n"
     ]
    }
   ],
   "source": [
    "print(\"Sorting By index: \\n\", products_prices.sort_index())"
   ]
  },
  {
   "cell_type": "code",
   "execution_count": 21,
   "id": "705281ad",
   "metadata": {},
   "outputs": [
    {
     "name": "stdout",
     "output_type": "stream",
     "text": [
      "Iphone                148500\n",
      "Laptop                 45200\n",
      "Mobile Phone           32500\n",
      "Smart Watch            20000\n",
      "Wireless Earphones      3000\n",
      "dtype: int64\n"
     ]
    }
   ],
   "source": [
    "print(products_prices.sort_values(ascending=False))"
   ]
  },
  {
   "cell_type": "code",
   "execution_count": 22,
   "id": "be3c3b6a",
   "metadata": {},
   "outputs": [
    {
     "name": "stdout",
     "output_type": "stream",
     "text": [
      "Wireless Earphones      3000\n",
      "Smart Watch            20000\n",
      "Mobile Phone           32500\n",
      "Laptop                 45200\n",
      "Iphone                148500\n",
      "dtype: int64\n"
     ]
    }
   ],
   "source": [
    "print(products_prices.sort_index(ascending=False))"
   ]
  },
  {
   "cell_type": "code",
   "execution_count": 25,
   "id": "8bb55377",
   "metadata": {},
   "outputs": [
    {
     "name": "stdout",
     "output_type": "stream",
     "text": [
      "Vales: \n",
      " 3000      1\n",
      "148500    1\n",
      "20000     1\n",
      "32500     1\n",
      "45200     1\n",
      "Name: count, dtype: int64\n"
     ]
    }
   ],
   "source": [
    "print(\"Vales: \\n\", products_prices.value_counts())"
   ]
  },
  {
   "cell_type": "markdown",
   "id": "7f7ae0e5",
   "metadata": {},
   "source": [
    "**Data Frames**"
   ]
  },
  {
   "cell_type": "code",
   "execution_count": 27,
   "id": "3de84ff4",
   "metadata": {},
   "outputs": [
    {
     "name": "stdout",
     "output_type": "stream",
     "text": [
      "            Products      Brand  Price  Stock  BestSeller\n",
      "0   Wireless Earbuds   Soundmax   2580     50        True\n",
      "1         Smartphone   TechNova  32110     30        True\n",
      "2             Laptop   Bytecore  75000     20       False\n",
      "3         SMartWatch  TimeTrack   3500     54        True\n",
      "4  Bluetooth speaker  EchoBhoom   4500     35       False\n"
     ]
    }
   ],
   "source": [
    "data = {\n",
    "    \"Products\" : [\"Wireless Earbuds\", \"Smartphone\", \"Laptop\", \"SMartWatch\", \"Bluetooth speaker\"],\n",
    "    \"Brand\" : [\"Soundmax\", \"TechNova\", \"Bytecore\", \"TimeTrack\", \"EchoBhoom\"],\n",
    "    \"Price\" : [2580, 32110, 75000, 3500, 4500],\n",
    "    \"Stock\" : [50, 30, 20, 54, 35],\n",
    "    \"BestSeller\" : [True, True, False, True, False] \n",
    "}\n",
    "\n",
    "\n",
    "df = pd.DataFrame(data)\n",
    "\n",
    "print(df)"
   ]
  },
  {
   "cell_type": "code",
   "execution_count": 30,
   "id": "2a10d2b8",
   "metadata": {},
   "outputs": [
    {
     "name": "stdout",
     "output_type": "stream",
     "text": [
      "The Head of the Data:\n",
      "            Products     Brand  Price  Stock  BestSeller\n",
      "0  Wireless Earbuds  Soundmax   2580     50        True\n",
      "1        Smartphone  TechNova  32110     30        True\n"
     ]
    }
   ],
   "source": [
    "print(\"The Head of the Data:\\n\", df.head(2))"
   ]
  },
  {
   "cell_type": "code",
   "execution_count": 31,
   "id": "778cbd1d",
   "metadata": {},
   "outputs": [
    {
     "name": "stdout",
     "output_type": "stream",
     "text": [
      "The Tail of the Data:\n",
      "             Products      Brand  Price  Stock  BestSeller\n",
      "3         SMartWatch  TimeTrack   3500     54        True\n",
      "4  Bluetooth speaker  EchoBhoom   4500     35       False\n"
     ]
    }
   ],
   "source": [
    "print(\"The Tail of the Data:\\n\", df.tail(2))"
   ]
  },
  {
   "cell_type": "code",
   "execution_count": 34,
   "id": "29e7fbb5",
   "metadata": {},
   "outputs": [
    {
     "name": "stdout",
     "output_type": "stream",
     "text": [
      "The Shape of the DatFrame:\n",
      " (5, 5)\n"
     ]
    }
   ],
   "source": [
    "print(\"The Shape of the DatFrame:\\n\", df.shape)"
   ]
  },
  {
   "cell_type": "code",
   "execution_count": 42,
   "id": "0ae03a2c",
   "metadata": {},
   "outputs": [
    {
     "name": "stdout",
     "output_type": "stream",
     "text": [
      "The Columns in DataFrame: \n",
      " Index(['Products', 'Brand', 'Price', 'Stock', 'BestSeller'], dtype='object')\n"
     ]
    }
   ],
   "source": [
    "print(\"The Columns in DataFrame: \\n\", df.columns)"
   ]
  },
  {
   "cell_type": "code",
   "execution_count": 43,
   "id": "bb5f78ad",
   "metadata": {},
   "outputs": [
    {
     "name": "stdout",
     "output_type": "stream",
     "text": [
      "The Index of the DataFrame: \n",
      " RangeIndex(start=0, stop=5, step=1)\n"
     ]
    }
   ],
   "source": [
    "print(\"The Index of the DataFrame: \\n\", df.index)"
   ]
  },
  {
   "cell_type": "code",
   "execution_count": 45,
   "id": "fb2b50cb",
   "metadata": {},
   "outputs": [
    {
     "name": "stdout",
     "output_type": "stream",
     "text": [
      "<class 'pandas.core.frame.DataFrame'>\n",
      "RangeIndex: 5 entries, 0 to 4\n",
      "Data columns (total 5 columns):\n",
      " #   Column      Non-Null Count  Dtype \n",
      "---  ------      --------------  ----- \n",
      " 0   Products    5 non-null      object\n",
      " 1   Brand       5 non-null      object\n",
      " 2   Price       5 non-null      int64 \n",
      " 3   Stock       5 non-null      int64 \n",
      " 4   BestSeller  5 non-null      bool  \n",
      "dtypes: bool(1), int64(2), object(2)\n",
      "memory usage: 297.0+ bytes\n",
      "The Information of the DataFrame: \n",
      " None\n"
     ]
    }
   ],
   "source": [
    "print(\"The Information of the DataFrame: \\n\", df.info())"
   ]
  },
  {
   "cell_type": "code",
   "execution_count": 48,
   "id": "c6abad67",
   "metadata": {},
   "outputs": [
    {
     "name": "stdout",
     "output_type": "stream",
     "text": [
      "Stastical Info: \n",
      "               Price      Stock\n",
      "count      5.000000   5.000000\n",
      "mean   23538.000000  37.800000\n",
      "std    31324.995132  14.113823\n",
      "min     2580.000000  20.000000\n",
      "25%     3500.000000  30.000000\n",
      "50%     4500.000000  35.000000\n",
      "75%    32110.000000  50.000000\n",
      "max    75000.000000  54.000000\n"
     ]
    }
   ],
   "source": [
    "print(\"Stastical Info: \\n\", df.describe())"
   ]
  },
  {
   "cell_type": "code",
   "execution_count": null,
   "id": "5ba20170",
   "metadata": {},
   "outputs": [
    {
     "name": "stdout",
     "output_type": "stream",
     "text": [
      "            Products      Brand  Price  Stock  BestSeller\n",
      "0   Wireless Earbuds   Soundmax   2580     50        True\n",
      "1         Smartphone   TechNova  32110     30        True\n",
      "2             Laptop   Bytecore  75000     20       False\n",
      "3         SMartWatch  TimeTrack   3500     54        True\n",
      "4  Bluetooth speaker  EchoBhoom   4500     35       False\n",
      "\n",
      "\n",
      "Smartphone\n",
      "\n",
      "\n",
      "EchoBhoom\n",
      "\n",
      "\n",
      "False\n",
      "\n",
      "\n",
      "True\n",
      "\n",
      "\n",
      "False\n",
      "\n",
      "\n",
      "75000\n",
      "\n",
      "\n",
      "30\n",
      "\n",
      "\n",
      "Products      Bluetooth speaker\n",
      "Brand                 EchoBhoom\n",
      "Price                      4500\n",
      "Stock                        35\n",
      "BestSeller                False\n",
      "Name: 4, dtype: object\n"
     ]
    }
   ],
   "source": [
    "print(df)\n",
    "\n",
    "print(\"\\n\")\n",
    "\n",
    "print(df.loc[1, \"Products\"])\n",
    "\n",
    "print(\"\\n\")\n",
    "\n",
    "print(df.loc[4, \"Brand\"])\n",
    "\n",
    "print(\"\\n\")\n",
    "\n",
    "print(df.loc[2, \"BestSeller\"])\n",
    "\n",
    "print(\"\\n\")\n",
    "\n",
    "print(df.iloc[1,4])\n",
    "\n",
    "print(\"\\n\")\n",
    "\n",
    "print(df.iloc[4,4])\n",
    "\n",
    "print(\"\\n\")\n",
    "\n",
    "print(df.iloc[2,2])\n",
    "\n",
    "print(\"\\n\")\n",
    "\n",
    "print(df.iloc[1, 3])\n",
    "\n",
    "print(\"\\n\")\n",
    "\n",
    "print(df.iloc[4])"
   ]
  },
  {
   "cell_type": "code",
   "execution_count": 101,
   "id": "15c00132",
   "metadata": {},
   "outputs": [
    {
     "name": "stdout",
     "output_type": "stream",
     "text": [
      "            Products      Brand  Price  Stock  BestSeller\n",
      "0   Wireless Earbuds   Soundmax   2580     50        True\n",
      "1         Smartphone   TechNova  32110     30        True\n",
      "2             Laptop   Bytecore  75000     20       False\n",
      "3         SMartWatch  TimeTrack   3500     54        True\n",
      "4  Bluetooth speaker  EchoBhoom   4500     35       False\n",
      "************************************************************\n",
      "\n",
      "\n",
      "Using loc (selecting rows where Price < 4000):\n",
      "            Products      Brand  Price  Stock  BestSeller\n",
      "0  Wireless Earbuds   Soundmax   2580     50        True\n",
      "3        SMartWatch  TimeTrack   3500     54        True\n",
      "\n",
      "\n",
      "************************************************************\n",
      "Selecting the Stock which are greater than the 20: \n",
      "             Products      Brand  Price  Stock  BestSeller\n",
      "0   Wireless Earbuds   Soundmax   2580     50        True\n",
      "1         Smartphone   TechNova  32110     30        True\n",
      "3         SMartWatch  TimeTrack   3500     54        True\n",
      "4  Bluetooth speaker  EchoBhoom   4500     35       False\n",
      "\n",
      "\n",
      "************************************************************\n",
      "Selecting the best Seller \n",
      "            Products      Brand  Price  Stock  BestSeller\n",
      "0  Wireless Earbuds   Soundmax   2580     50        True\n",
      "1        Smartphone   TechNova  32110     30        True\n",
      "3        SMartWatch  TimeTrack   3500     54        True\n",
      "\n",
      "\n",
      "************************************************************\n"
     ]
    }
   ],
   "source": [
    "print(df)\n",
    "print(\"*\" * 60)\n",
    "print(\"\\n\")\n",
    "print(\"Using loc (selecting rows where Price < 4000):\\n\", df.loc[df[\"Price\"] < 4000])\n",
    "print(\"\\n\")\n",
    "print(\"*\" * 60)\n",
    "print(\"Selecting the Stock which are greater than the 20: \\n\", df.loc[df[\"Stock\"] > 20])\n",
    "print(\"\\n\")\n",
    "print(\"*\" * 60)\n",
    "print(\"Selecting the best Seller \\n\", df.loc[df[\"BestSeller\"] == True])\n",
    "print(\"\\n\")\n",
    "print(\"*\" * 60)\n"
   ]
  }
 ],
 "metadata": {
  "kernelspec": {
   "display_name": "Python 3",
   "language": "python",
   "name": "python3"
  },
  "language_info": {
   "codemirror_mode": {
    "name": "ipython",
    "version": 3
   },
   "file_extension": ".py",
   "mimetype": "text/x-python",
   "name": "python",
   "nbconvert_exporter": "python",
   "pygments_lexer": "ipython3",
   "version": "3.12.1"
  }
 },
 "nbformat": 4,
 "nbformat_minor": 5
}

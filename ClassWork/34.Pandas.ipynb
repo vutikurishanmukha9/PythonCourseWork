{
 "cells": [
  {
   "cell_type": "code",
   "execution_count": 2,
   "id": "3591e1b6",
   "metadata": {},
   "outputs": [
    {
     "name": "stdout",
     "output_type": "stream",
     "text": [
      "Wireless Earphones      3000\n",
      "Iphone                148500\n",
      "Smart Watch            20000\n",
      "Mobile Phone           32500\n",
      "Laptop                 45200\n",
      "dtype: int64\n"
     ]
    }
   ],
   "source": [
    "import pandas as pd\n",
    "\n",
    "\n",
    "prices = [3000, 148500, 20000, 32500, 45200]\n",
    "\n",
    "products = [\"Wireless Earphones\",\"Iphone\", \"Smart Watch\", \"Mobile Phone\", \"Laptop\"]\n",
    "\n",
    "products_prices = pd.Series(prices,index= products)\n",
    "print(products_prices)"
   ]
  },
  {
   "cell_type": "code",
   "execution_count": 3,
   "id": "86a556bb",
   "metadata": {},
   "outputs": [
    {
     "name": "stdout",
     "output_type": "stream",
     "text": [
      "Mean: 49840.0\n"
     ]
    }
   ],
   "source": [
    "print(\"Mean:\" ,products_prices.mean())"
   ]
  },
  {
   "cell_type": "code",
   "execution_count": 4,
   "id": "37a31cb8",
   "metadata": {},
   "outputs": [
    {
     "name": "stdout",
     "output_type": "stream",
     "text": [
      "Sum: 249200\n"
     ]
    }
   ],
   "source": [
    "print(\"Sum:\", products_prices.sum())"
   ]
  },
  {
   "cell_type": "code",
   "execution_count": 5,
   "id": "cb31df75",
   "metadata": {},
   "outputs": [
    {
     "name": "stdout",
     "output_type": "stream",
     "text": [
      "Max: 148500\n"
     ]
    }
   ],
   "source": [
    "print(\"Max:\", products_prices.max())"
   ]
  },
  {
   "cell_type": "code",
   "execution_count": 6,
   "id": "86f587e4",
   "metadata": {},
   "outputs": [
    {
     "name": "stdout",
     "output_type": "stream",
     "text": [
      "Min: 3000\n"
     ]
    }
   ],
   "source": [
    "print(\"Min:\",products_prices.min())"
   ]
  },
  {
   "cell_type": "code",
   "execution_count": 8,
   "id": "121a9803",
   "metadata": {},
   "outputs": [
    {
     "name": "stdout",
     "output_type": "stream",
     "text": [
      "Head (First 3 elements):\n",
      "\n",
      " Wireless Earphones      3000\n",
      "Iphone                148500\n",
      "Smart Watch            20000\n",
      "dtype: int64\n"
     ]
    }
   ],
   "source": [
    "print(\"Head (First 3 elements):\\n\\n\",products_prices.head(3))"
   ]
  },
  {
   "cell_type": "code",
   "execution_count": 9,
   "id": "460c94ec",
   "metadata": {},
   "outputs": [
    {
     "name": "stdout",
     "output_type": "stream",
     "text": [
      "Tail (First 3 elements):\n",
      " \n",
      " Smart Watch     20000\n",
      "Mobile Phone    32500\n",
      "Laptop          45200\n",
      "dtype: int64\n"
     ]
    }
   ],
   "source": [
    "print(\"Tail (First 3 elements):\\n \\n\", products_prices.tail(3))"
   ]
  },
  {
   "cell_type": "code",
   "execution_count": 15,
   "id": "215f55a2",
   "metadata": {},
   "outputs": [
    {
     "name": "stdout",
     "output_type": "stream",
     "text": [
      "Apply the 18% gst to the Prices: \n",
      " Wireless Earphones      ₹3540.0\n",
      "Iphone                ₹175230.0\n",
      "Smart Watch            ₹23600.0\n",
      "Mobile Phone           ₹38350.0\n",
      "Laptop                 ₹53336.0\n",
      "dtype: object\n"
     ]
    }
   ],
   "source": [
    "print(\"Apply the 18% gst to the Prices: \\n\", products_prices.apply(lambda x: f\"₹{x * 0.18 + x}\"))"
   ]
  },
  {
   "cell_type": "code",
   "execution_count": 18,
   "id": "502addcf",
   "metadata": {},
   "outputs": [
    {
     "name": "stdout",
     "output_type": "stream",
     "text": [
      "Apply the 18% gst to the Prices: \n",
      " Wireless Earphones      ₹3540.0\n",
      "Iphone                ₹175230.0\n",
      "Smart Watch            ₹23600.0\n",
      "Mobile Phone           ₹38350.0\n",
      "Laptop                 ₹53336.0\n",
      "dtype: object\n"
     ]
    }
   ],
   "source": [
    "print(\"Apply the 18% gst to the Prices: \\n\", products_prices.apply(lambda x: f\"₹{x + (x*0.18)}\"))"
   ]
  },
  {
   "cell_type": "code",
   "execution_count": 14,
   "id": "29a45dbd",
   "metadata": {},
   "outputs": [
    {
     "name": "stdout",
     "output_type": "stream",
     "text": [
      "Map(Formatting as currency): \n",
      " Wireless Earphones      ₹3000\n",
      "Iphone                ₹148500\n",
      "Smart Watch            ₹20000\n",
      "Mobile Phone           ₹32500\n",
      "Laptop                 ₹45200\n",
      "dtype: object\n"
     ]
    }
   ],
   "source": [
    "print(\"Map(Formatting as currency): \\n\", products_prices.map(lambda x: f\"₹{x}\"))"
   ]
  },
  {
   "cell_type": "code",
   "execution_count": 19,
   "id": "fd0b83ff",
   "metadata": {},
   "outputs": [
    {
     "name": "stdout",
     "output_type": "stream",
     "text": [
      "Sorting By Values: \n",
      " Wireless Earphones      3000\n",
      "Smart Watch            20000\n",
      "Mobile Phone           32500\n",
      "Laptop                 45200\n",
      "Iphone                148500\n",
      "dtype: int64\n"
     ]
    }
   ],
   "source": [
    "print(\"Sorting By Values: \\n\", products_prices.sort_values())"
   ]
  },
  {
   "cell_type": "code",
   "execution_count": 20,
   "id": "bc38c276",
   "metadata": {},
   "outputs": [
    {
     "name": "stdout",
     "output_type": "stream",
     "text": [
      "Sorting By index: \n",
      " Iphone                148500\n",
      "Laptop                 45200\n",
      "Mobile Phone           32500\n",
      "Smart Watch            20000\n",
      "Wireless Earphones      3000\n",
      "dtype: int64\n"
     ]
    }
   ],
   "source": [
    "print(\"Sorting By index: \\n\", products_prices.sort_index())"
   ]
  },
  {
   "cell_type": "code",
   "execution_count": 21,
   "id": "705281ad",
   "metadata": {},
   "outputs": [
    {
     "name": "stdout",
     "output_type": "stream",
     "text": [
      "Iphone                148500\n",
      "Laptop                 45200\n",
      "Mobile Phone           32500\n",
      "Smart Watch            20000\n",
      "Wireless Earphones      3000\n",
      "dtype: int64\n"
     ]
    }
   ],
   "source": [
    "print(products_prices.sort_values(ascending=False))"
   ]
  },
  {
   "cell_type": "code",
   "execution_count": 22,
   "id": "be3c3b6a",
   "metadata": {},
   "outputs": [
    {
     "name": "stdout",
     "output_type": "stream",
     "text": [
      "Wireless Earphones      3000\n",
      "Smart Watch            20000\n",
      "Mobile Phone           32500\n",
      "Laptop                 45200\n",
      "Iphone                148500\n",
      "dtype: int64\n"
     ]
    }
   ],
   "source": [
    "print(products_prices.sort_index(ascending=False))"
   ]
  },
  {
   "cell_type": "code",
   "execution_count": 25,
   "id": "8bb55377",
   "metadata": {},
   "outputs": [
    {
     "name": "stdout",
     "output_type": "stream",
     "text": [
      "Vales: \n",
      " 3000      1\n",
      "148500    1\n",
      "20000     1\n",
      "32500     1\n",
      "45200     1\n",
      "Name: count, dtype: int64\n"
     ]
    }
   ],
   "source": [
    "print(\"Vales: \\n\", products_prices.value_counts())"
   ]
  },
  {
   "cell_type": "markdown",
   "id": "7f7ae0e5",
   "metadata": {},
   "source": [
    "**Data Frames**"
   ]
  },
  {
   "cell_type": "code",
   "execution_count": 27,
   "id": "3de84ff4",
   "metadata": {},
   "outputs": [
    {
     "name": "stdout",
     "output_type": "stream",
     "text": [
      "            Products      Brand  Price  Stock  BestSeller\n",
      "0   Wireless Earbuds   Soundmax   2580     50        True\n",
      "1         Smartphone   TechNova  32110     30        True\n",
      "2             Laptop   Bytecore  75000     20       False\n",
      "3         SMartWatch  TimeTrack   3500     54        True\n",
      "4  Bluetooth speaker  EchoBhoom   4500     35       False\n"
     ]
    }
   ],
   "source": [
    "data = {\n",
    "    \"Products\" : [\"Wireless Earbuds\", \"Smartphone\", \"Laptop\", \"SMartWatch\", \"Bluetooth speaker\"],\n",
    "    \"Brand\" : [\"Soundmax\", \"TechNova\", \"Bytecore\", \"TimeTrack\", \"EchoBhoom\"],\n",
    "    \"Price\" : [2580, 32110, 75000, 3500, 4500],\n",
    "    \"Stock\" : [50, 30, 20, 54, 35],\n",
    "    \"BestSeller\" : [True, True, False, True, False] \n",
    "}\n",
    "\n",
    "\n",
    "df = pd.DataFrame(data)\n",
    "\n",
    "print(df)"
   ]
  },
  {
   "cell_type": "code",
   "execution_count": 30,
   "id": "2a10d2b8",
   "metadata": {},
   "outputs": [
    {
     "name": "stdout",
     "output_type": "stream",
     "text": [
      "The Head of the Data:\n",
      "            Products     Brand  Price  Stock  BestSeller\n",
      "0  Wireless Earbuds  Soundmax   2580     50        True\n",
      "1        Smartphone  TechNova  32110     30        True\n"
     ]
    }
   ],
   "source": [
    "print(\"The Head of the Data:\\n\", df.head(2))"
   ]
  },
  {
   "cell_type": "code",
   "execution_count": 31,
   "id": "778cbd1d",
   "metadata": {},
   "outputs": [
    {
     "name": "stdout",
     "output_type": "stream",
     "text": [
      "The Tail of the Data:\n",
      "             Products      Brand  Price  Stock  BestSeller\n",
      "3         SMartWatch  TimeTrack   3500     54        True\n",
      "4  Bluetooth speaker  EchoBhoom   4500     35       False\n"
     ]
    }
   ],
   "source": [
    "print(\"The Tail of the Data:\\n\", df.tail(2))"
   ]
  },
  {
   "cell_type": "code",
   "execution_count": 34,
   "id": "29e7fbb5",
   "metadata": {},
   "outputs": [
    {
     "name": "stdout",
     "output_type": "stream",
     "text": [
      "The Shape of the DatFrame:\n",
      " (5, 5)\n"
     ]
    }
   ],
   "source": [
    "print(\"The Shape of the DatFrame:\\n\", df.shape)"
   ]
  },
  {
   "cell_type": "code",
   "execution_count": 42,
   "id": "0ae03a2c",
   "metadata": {},
   "outputs": [
    {
     "name": "stdout",
     "output_type": "stream",
     "text": [
      "The Columns in DataFrame: \n",
      " Index(['Products', 'Brand', 'Price', 'Stock', 'BestSeller'], dtype='object')\n"
     ]
    }
   ],
   "source": [
    "print(\"The Columns in DataFrame: \\n\", df.columns)"
   ]
  },
  {
   "cell_type": "code",
   "execution_count": 43,
   "id": "bb5f78ad",
   "metadata": {},
   "outputs": [
    {
     "name": "stdout",
     "output_type": "stream",
     "text": [
      "The Index of the DataFrame: \n",
      " RangeIndex(start=0, stop=5, step=1)\n"
     ]
    }
   ],
   "source": [
    "print(\"The Index of the DataFrame: \\n\", df.index)"
   ]
  },
  {
   "cell_type": "code",
   "execution_count": 45,
   "id": "fb2b50cb",
   "metadata": {},
   "outputs": [
    {
     "name": "stdout",
     "output_type": "stream",
     "text": [
      "<class 'pandas.core.frame.DataFrame'>\n",
      "RangeIndex: 5 entries, 0 to 4\n",
      "Data columns (total 5 columns):\n",
      " #   Column      Non-Null Count  Dtype \n",
      "---  ------      --------------  ----- \n",
      " 0   Products    5 non-null      object\n",
      " 1   Brand       5 non-null      object\n",
      " 2   Price       5 non-null      int64 \n",
      " 3   Stock       5 non-null      int64 \n",
      " 4   BestSeller  5 non-null      bool  \n",
      "dtypes: bool(1), int64(2), object(2)\n",
      "memory usage: 297.0+ bytes\n",
      "The Information of the DataFrame: \n",
      " None\n"
     ]
    }
   ],
   "source": [
    "print(\"The Information of the DataFrame: \\n\", df.info())"
   ]
  },
  {
   "cell_type": "code",
   "execution_count": 48,
   "id": "c6abad67",
   "metadata": {},
   "outputs": [
    {
     "name": "stdout",
     "output_type": "stream",
     "text": [
      "Stastical Info: \n",
      "               Price      Stock\n",
      "count      5.000000   5.000000\n",
      "mean   23538.000000  37.800000\n",
      "std    31324.995132  14.113823\n",
      "min     2580.000000  20.000000\n",
      "25%     3500.000000  30.000000\n",
      "50%     4500.000000  35.000000\n",
      "75%    32110.000000  50.000000\n",
      "max    75000.000000  54.000000\n"
     ]
    }
   ],
   "source": [
    "print(\"Stastical Info: \\n\", df.describe())"
   ]
  },
  {
   "cell_type": "code",
   "execution_count": null,
   "id": "5ba20170",
   "metadata": {},
   "outputs": [
    {
     "name": "stdout",
     "output_type": "stream",
     "text": [
      "            Products      Brand  Price  Stock  BestSeller\n",
      "0   Wireless Earbuds   Soundmax   2580     50        True\n",
      "1         Smartphone   TechNova  32110     30        True\n",
      "2             Laptop   Bytecore  75000     20       False\n",
      "3         SMartWatch  TimeTrack   3500     54        True\n",
      "4  Bluetooth speaker  EchoBhoom   4500     35       False\n",
      "\n",
      "\n",
      "Smartphone\n",
      "\n",
      "\n",
      "EchoBhoom\n",
      "\n",
      "\n",
      "False\n",
      "\n",
      "\n",
      "True\n",
      "\n",
      "\n",
      "False\n",
      "\n",
      "\n",
      "75000\n",
      "\n",
      "\n",
      "30\n",
      "\n",
      "\n",
      "Products      Bluetooth speaker\n",
      "Brand                 EchoBhoom\n",
      "Price                      4500\n",
      "Stock                        35\n",
      "BestSeller                False\n",
      "Name: 4, dtype: object\n"
     ]
    }
   ],
   "source": [
    "print(df)\n",
    "\n",
    "print(\"\\n\")\n",
    "\n",
    "print(df.loc[1, \"Products\"])\n",
    "\n",
    "print(\"\\n\")\n",
    "\n",
    "print(df.loc[4, \"Brand\"])\n",
    "\n",
    "print(\"\\n\")\n",
    "\n",
    "print(df.loc[2, \"BestSeller\"])\n",
    "\n",
    "print(\"\\n\")\n",
    "\n",
    "print(df.iloc[1,4])\n",
    "\n",
    "print(\"\\n\")\n",
    "\n",
    "print(df.iloc[4,4])\n",
    "\n",
    "print(\"\\n\")\n",
    "\n",
    "print(df.iloc[2,2])\n",
    "\n",
    "print(\"\\n\")\n",
    "\n",
    "print(df.iloc[1, 3])\n",
    "\n",
    "print(\"\\n\")\n",
    "\n",
    "print(df.iloc[4])"
   ]
  },
  {
   "cell_type": "code",
   "execution_count": 101,
   "id": "15c00132",
   "metadata": {},
   "outputs": [
    {
     "name": "stdout",
     "output_type": "stream",
     "text": [
      "            Products      Brand  Price  Stock  BestSeller\n",
      "0   Wireless Earbuds   Soundmax   2580     50        True\n",
      "1         Smartphone   TechNova  32110     30        True\n",
      "2             Laptop   Bytecore  75000     20       False\n",
      "3         SMartWatch  TimeTrack   3500     54        True\n",
      "4  Bluetooth speaker  EchoBhoom   4500     35       False\n",
      "************************************************************\n",
      "\n",
      "\n",
      "Using loc (selecting rows where Price < 4000):\n",
      "            Products      Brand  Price  Stock  BestSeller\n",
      "0  Wireless Earbuds   Soundmax   2580     50        True\n",
      "3        SMartWatch  TimeTrack   3500     54        True\n",
      "\n",
      "\n",
      "************************************************************\n",
      "Selecting the Stock which are greater than the 20: \n",
      "             Products      Brand  Price  Stock  BestSeller\n",
      "0   Wireless Earbuds   Soundmax   2580     50        True\n",
      "1         Smartphone   TechNova  32110     30        True\n",
      "3         SMartWatch  TimeTrack   3500     54        True\n",
      "4  Bluetooth speaker  EchoBhoom   4500     35       False\n",
      "\n",
      "\n",
      "************************************************************\n",
      "Selecting the best Seller \n",
      "            Products      Brand  Price  Stock  BestSeller\n",
      "0  Wireless Earbuds   Soundmax   2580     50        True\n",
      "1        Smartphone   TechNova  32110     30        True\n",
      "3        SMartWatch  TimeTrack   3500     54        True\n",
      "\n",
      "\n",
      "************************************************************\n"
     ]
    }
   ],
   "source": [
    "print(df)\n",
    "print(\"*\" * 60)\n",
    "print(\"\\n\")\n",
    "print(\"Using loc (selecting rows where Price < 4000):\\n\", df.loc[df[\"Price\"] < 4000])\n",
    "print(\"\\n\")\n",
    "print(\"*\" * 60)\n",
    "print(\"Selecting the Stock which are greater than the 20: \\n\", df.loc[df[\"Stock\"] > 20])\n",
    "print(\"\\n\")\n",
    "print(\"*\" * 60)\n",
    "print(\"Selecting the best Seller \\n\", df.loc[df[\"BestSeller\"] == True])\n",
    "print(\"\\n\")\n",
    "print(\"*\" * 60)\n"
   ]
  },
  {
   "cell_type": "code",
   "execution_count": 4,
   "id": "bb826101",
   "metadata": {},
   "outputs": [
    {
     "name": "stdout",
     "output_type": "stream",
     "text": [
      "            Products      Brand  Price  Stock  BestSeller\n",
      "0   Wireless Earbuds   Soundmax   2580     50        True\n",
      "1         Smartphone   TechNova  32110     30        True\n",
      "2             Laptop   Bytecore  75000     20       False\n",
      "3         SMartWatch  TimeTrack   3500     54        True\n",
      "4  Bluetooth speaker  EchoBhoom   4500     35       False\n"
     ]
    }
   ],
   "source": [
    "import pandas as pd\n",
    "\n",
    "\n",
    "data = {\n",
    "    \"Products\" : [\"Wireless Earbuds\", \"Smartphone\", \"Laptop\", \"SMartWatch\", \"Bluetooth speaker\"],\n",
    "    \"Brand\" : [\"Soundmax\", \"TechNova\", \"Bytecore\", \"TimeTrack\", \"EchoBhoom\"],\n",
    "    \"Price\" : [2580, 32110, 75000, 3500, 4500],\n",
    "    \"Stock\" : [50, 30, 20, 54, 35],\n",
    "    \"BestSeller\" : [True, True, False, True, False] \n",
    "}\n",
    "\n",
    "df = pd.DataFrame(data)\n",
    "\n",
    "print(df)"
   ]
  },
  {
   "cell_type": "code",
   "execution_count": null,
   "id": "77c4d599",
   "metadata": {},
   "outputs": [
    {
     "name": "stdout",
     "output_type": "stream",
     "text": [
      "Before             Products      Brand  Price  Stock  BestSeller\n",
      "0   Wireless Earbuds   Soundmax   2580     50        True\n",
      "1         Smartphone   TechNova  32110     30        True\n",
      "2             Laptop   Bytecore  75000     20       False\n",
      "3         SMartWatch  TimeTrack   3500     54        True\n",
      "4  Bluetooth speaker  EchoBhoom   4500     35       False\n",
      "\n",
      "\n",
      "After Dropping 'stock' column: \n",
      "             Products      Brand  Price  BestSeller\n",
      "0   Wireless Earbuds   Soundmax   2580        True\n",
      "1         Smartphone   TechNova  32110        True\n",
      "2             Laptop   Bytecore  75000       False\n",
      "3         SMartWatch  TimeTrack   3500        True\n",
      "4  Bluetooth speaker  EchoBhoom   4500       False\n",
      "\n",
      "\n",
      "After df:             Products      Brand  Price  Stock  BestSeller\n",
      "0   Wireless Earbuds   Soundmax   2580     50        True\n",
      "1         Smartphone   TechNova  32110     30        True\n",
      "2             Laptop   Bytecore  75000     20       False\n",
      "3         SMartWatch  TimeTrack   3500     54        True\n",
      "4  Bluetooth speaker  EchoBhoom   4500     35       False\n"
     ]
    }
   ],
   "source": [
    "print(\"Before\",df)\n",
    "print(\"\\n\")\n",
    "df_dropped = df.drop(columns=[\"Stock\"])\n",
    "print(\"After Dropping 'stock' column: \\n\", df_dropped)\n",
    "print(\"\\n\")\n",
    "print(\"After df:\",df)"
   ]
  },
  {
   "cell_type": "code",
   "execution_count": null,
   "id": "04470781",
   "metadata": {},
   "outputs": [],
   "source": [
    "print(\"Before\",df)\n",
    "print(\"\\n\")\n",
    "df_dropped = df.drop(columns=[\"Stock\"],inplace = \"True\")\n",
    "print(\"After Dropping 'stock' column: \\n\", df_dropped)\n",
    "print(\"\\n\")\n",
    "print(\"After df:\",df)"
   ]
  },
  {
   "cell_type": "code",
   "execution_count": 20,
   "id": "247fde5a",
   "metadata": {},
   "outputs": [
    {
     "name": "stdout",
     "output_type": "stream",
     "text": [
      "After Remaining 'Price to MRP': \n",
      "             Products      Brand    MRP  Stock  BestSeller\n",
      "0   Wireless Earbuds   Soundmax   2580     50        True\n",
      "1         Smartphone   TechNova  32110     30        True\n",
      "2             Laptop   Bytecore  75000     20       False\n",
      "3         SMartWatch  TimeTrack   3500     54        True\n",
      "4  Bluetooth speaker  EchoBhoom   4500     35       False\n",
      "\n",
      "\n",
      "            Products      Brand  Price  Stock  BestSeller\n",
      "0   Wireless Earbuds   Soundmax   2580     50        True\n",
      "1         Smartphone   TechNova  32110     30        True\n",
      "2             Laptop   Bytecore  75000     20       False\n",
      "3         SMartWatch  TimeTrack   3500     54        True\n",
      "4  Bluetooth speaker  EchoBhoom   4500     35       False\n"
     ]
    }
   ],
   "source": [
    "df_renammed = df.rename(columns = {'Price':'MRP'})\n",
    "print(\"After Remaining 'Price to MRP': \\n\", df_renammed)\n",
    "print(\"\\n\")\n",
    "df.rename(columns = {\"Product name\": \"Product\"}, inplace = True)\n",
    "print(df)"
   ]
  },
  {
   "cell_type": "code",
   "execution_count": 19,
   "id": "e214b3e6",
   "metadata": {},
   "outputs": [
    {
     "name": "stdout",
     "output_type": "stream",
     "text": [
      "            Products      Brand  Price  Stock  BestSeller\n",
      "0   Wireless Earbuds   Soundmax   2580     50        True\n",
      "1         Smartphone   TechNova  32110     30        True\n",
      "2             Laptop   Bytecore  75000     20       False\n",
      "3         SMartWatch  TimeTrack   3500     54        True\n",
      "4  Bluetooth speaker  EchoBhoom   4500     35       False\n"
     ]
    }
   ],
   "source": [
    "print(df)"
   ]
  },
  {
   "cell_type": "code",
   "execution_count": null,
   "id": "a967f604",
   "metadata": {},
   "outputs": [
    {
     "name": "stdout",
     "output_type": "stream",
     "text": [
      "            Products      Brand  Price  Stock  BestSeller\n",
      "0   Wireless Earbuds   Soundmax   2580     50        True\n",
      "1         Smartphone   TechNova  32110     30        True\n",
      "2             Laptop   Bytecore  75000     20       False\n",
      "3         SMartWatch  TimeTrack   3500     54        True\n",
      "4  Bluetooth speaker  EchoBhoom   4500     35       False\n",
      "\n",
      "\n",
      "           Price  Stock\n",
      "Brand                  \n",
      "Bytecore   75000     20\n",
      "EchoBhoom   4500     35\n",
      "Soundmax    2580     50\n",
      "TechNova   32110     30\n",
      "TimeTrack   3500     54\n"
     ]
    }
   ],
   "source": [
    "df_grouped = df.groupby(\"Brand\").agg({\"Price\":\"sum\", \"Stock\":\"sum\"})\n",
    "print(df)\n",
    "print(\"\\n\")\n",
    "print(df_grouped)"
   ]
  },
  {
   "cell_type": "code",
   "execution_count": 29,
   "id": "f307b2d0",
   "metadata": {},
   "outputs": [
    {
     "name": "stdout",
     "output_type": "stream",
     "text": [
      "             Price              \n",
      "              mean    max    min\n",
      "Brand                           \n",
      "Bytecore   75000.0  75000  75000\n",
      "EchoBhoom   4500.0   4500   4500\n",
      "Soundmax    2580.0   2580   2580\n",
      "TechNova   32110.0  32110  32110\n",
      "TimeTrack   3500.0   3500   3500\n"
     ]
    }
   ],
   "source": [
    "df_group = df.groupby(\"Brand\").agg({\"Price\":[\"mean\",\"max\",\"min\"]})\n",
    "\n",
    "print(df_group)"
   ]
  },
  {
   "cell_type": "code",
   "execution_count": 30,
   "id": "1df0eca8",
   "metadata": {},
   "outputs": [
    {
     "name": "stdout",
     "output_type": "stream",
     "text": [
      "Brand\n",
      "Bytecore     75000.0\n",
      "EchoBhoom     4500.0\n",
      "Soundmax      2580.0\n",
      "TechNova     32110.0\n",
      "TimeTrack     3500.0\n",
      "Name: Price, dtype: float64\n"
     ]
    }
   ],
   "source": [
    "grouped = df.groupby(\"Brand\")[\"Price\"].mean()\n",
    "\n",
    "print(grouped)"
   ]
  },
  {
   "cell_type": "code",
   "execution_count": 35,
   "id": "157874ef",
   "metadata": {},
   "outputs": [
    {
     "name": "stdout",
     "output_type": "stream",
     "text": [
      "       Brand  Rating  Discount\n",
      "0   Soundmax     4.2        18\n",
      "1   TechNova     4.5        50\n",
      "2   Bytecore     4.0        56\n",
      "3  TimeTrack     4.1        28\n",
      "4  EchoBhoom     3.9        10\n"
     ]
    }
   ],
   "source": [
    "data2 = {\n",
    "    \"Brand\" : [\"Soundmax\", \"TechNova\", \"Bytecore\", \"TimeTrack\", \"EchoBhoom\"],\n",
    "    \"Rating\" : [4.2, 4.5, 4.0, 4.1, 3.9],\n",
    "    \"Discount\" : [18, 50, 56, 28, 10]\n",
    "}\n",
    "\n",
    "df_ratings = pd.DataFrame(data2)\n",
    "print(df_ratings)"
   ]
  },
  {
   "cell_type": "code",
   "execution_count": 36,
   "id": "cde07499",
   "metadata": {},
   "outputs": [
    {
     "name": "stdout",
     "output_type": "stream",
     "text": [
      "            Products      Brand  Price  Stock  BestSeller  Rating  Discount\n",
      "0   Wireless Earbuds   Soundmax   2580     50        True     4.2        18\n",
      "1         Smartphone   TechNova  32110     30        True     4.5        50\n",
      "2             Laptop   Bytecore  75000     20       False     4.0        56\n",
      "3         SMartWatch  TimeTrack   3500     54        True     4.1        28\n",
      "4  Bluetooth speaker  EchoBhoom   4500     35       False     3.9        10\n"
     ]
    }
   ],
   "source": [
    "df_merge = df.merge(df_ratings, on = \"Brand\")\n",
    "print(df_merge)"
   ]
  },
  {
   "cell_type": "code",
   "execution_count": 40,
   "id": "b4a67cd6",
   "metadata": {},
   "outputs": [
    {
     "name": "stdout",
     "output_type": "stream",
     "text": [
      "            Products      Brand  Price  Stock  BestSeller  Rating  Discount\n",
      "0   Wireless Earbuds   Soundmax   2580     50        True     4.2        18\n",
      "1         Smartphone   TechNova  32110     30        True     4.5        50\n",
      "2             Laptop   Bytecore  75000     20       False     4.0        56\n",
      "3         SMartWatch  TimeTrack   3500     54        True     4.1        28\n",
      "4  Bluetooth speaker  EchoBhoom   4500     35       False     3.9        10\n"
     ]
    }
   ],
   "source": [
    "print(df)"
   ]
  },
  {
   "cell_type": "code",
   "execution_count": null,
   "id": "df6e42d5",
   "metadata": {},
   "outputs": [
    {
     "name": "stdout",
     "output_type": "stream",
     "text": [
      "  Products  Brand  Price  Stock  BestSeller  Rating  Discount\n",
      "0   Tablet  Apple  45000     75        True     4.1        18\n"
     ]
    }
   ],
   "source": [
    "import pandas as pd\n",
    "\n",
    "new_data = {\n",
    "    \"Products\" : \"Tablet\",\n",
    "    \"Brand\" : \"Apple\",\n",
    "    \"Price\" : 45000,\n",
    "    \"Stock\" : 75,\n",
    "    \"BestSeller\" : True,\n",
    "    \"Rating\" : 4.1,\n",
    "    \"Discount\" : 18\n",
    "}\n",
    "\n",
    "df_new = pd.DataFrame([new_data])  \n",
    "print(df_new)\n"
   ]
  },
  {
   "cell_type": "code",
   "execution_count": 56,
   "id": "86e5c33c",
   "metadata": {},
   "outputs": [
    {
     "name": "stdout",
     "output_type": "stream",
     "text": [
      "            Products      Brand  Price  Stock  BestSeller  Rating  Discount\n",
      "0   Wireless Earbuds   Soundmax   2580     50        True     4.2        18\n",
      "1         Smartphone   TechNova  32110     30        True     4.5        50\n",
      "2             Laptop   Bytecore  75000     20       False     4.0        56\n",
      "3         SMartWatch  TimeTrack   3500     54        True     4.1        28\n",
      "4  Bluetooth speaker  EchoBhoom   4500     35       False     3.9        10\n",
      "5             Tablet      Apple  45000     75        True     4.1        18\n",
      "6             Tablet      Apple  45000     75        True     4.1        18\n",
      "********************************************************************************\n",
      "            Products      Brand  Price  Stock  BestSeller  Rating  Discount\n",
      "0   Wireless Earbuds   Soundmax   2580     50        True     4.2        18\n",
      "1         Smartphone   TechNova  32110     30        True     4.5        50\n",
      "2             Laptop   Bytecore  75000     20       False     4.0        56\n",
      "3         SMartWatch  TimeTrack   3500     54        True     4.1        28\n",
      "4  Bluetooth speaker  EchoBhoom   4500     35       False     3.9        10\n",
      "5             Tablet      Apple  45000     75        True     4.1        18\n",
      "6             Tablet      Apple  45000     75        True     4.1        18\n"
     ]
    }
   ],
   "source": [
    "df_concat = pd.concat([df, df_new], ignore_index=True)\n",
    "print(df_concat)\n",
    "print(\"*\"*80)\n",
    "df = df_concat\n",
    "print(df)"
   ]
  },
  {
   "cell_type": "code",
   "execution_count": 54,
   "id": "768bf008",
   "metadata": {},
   "outputs": [
    {
     "name": "stdout",
     "output_type": "stream",
     "text": [
      "0     Wireless Earbuds\n",
      "1           Smartphone\n",
      "2               Laptop\n",
      "3           SMartWatch\n",
      "4    Bluetooth speaker\n",
      "5               Tablet\n",
      "Name: Products, dtype: object\n"
     ]
    }
   ],
   "source": [
    "print(df[\"Products\"])"
   ]
  },
  {
   "cell_type": "code",
   "execution_count": 59,
   "id": "3c501efb",
   "metadata": {},
   "outputs": [
    {
     "name": "stdout",
     "output_type": "stream",
     "text": [
      "            Products      Brand  Stock  Discount\n",
      "0   Wireless Earbuds   Soundmax     50        18\n",
      "1         Smartphone   TechNova     30        50\n",
      "2             Laptop   Bytecore     20        56\n",
      "3         SMartWatch  TimeTrack     54        28\n",
      "4  Bluetooth speaker  EchoBhoom     35        10\n",
      "5             Tablet      Apple     75        18\n",
      "6             Tablet      Apple     75        18\n"
     ]
    }
   ],
   "source": [
    "print(df[[\"Products\",\"Brand\",\"Stock\",\"Discount\"]])"
   ]
  },
  {
   "cell_type": "code",
   "execution_count": 61,
   "id": "d99fb2cb",
   "metadata": {},
   "outputs": [
    {
     "name": "stdout",
     "output_type": "stream",
     "text": [
      "            Products      Brand    Price  Stock  BestSeller  Rating  Discount\n",
      "0   Wireless Earbuds   Soundmax   2580.0     50        True     4.2        18\n",
      "1         Smartphone   TechNova  32110.0     30        True     4.5        50\n",
      "2             Laptop   Bytecore  75000.0     20       False     4.0        56\n",
      "3         SMartWatch  TimeTrack   3500.0     54        True     4.1        28\n",
      "4  Bluetooth speaker  EchoBhoom   4500.0     35       False     3.9        10\n",
      "5             Tablet      Apple  45000.0     75        True     4.1        18\n",
      "6             Tablet      Apple  45000.0     75        True     4.1        18\n"
     ]
    }
   ],
   "source": [
    "df[\"Price\"] = df[\"Price\"].astype(float)\n",
    "print(df)"
   ]
  },
  {
   "cell_type": "code",
   "execution_count": 62,
   "id": "121d5cc1",
   "metadata": {},
   "outputs": [
    {
     "name": "stdout",
     "output_type": "stream",
     "text": [
      "            Products      Brand  Price  Stock  BestSeller  Rating  Discount\n",
      "0   Wireless Earbuds   Soundmax   2580     50        True     4.2        18\n",
      "1         Smartphone   TechNova  32110     30        True     4.5        50\n",
      "2             Laptop   Bytecore  75000     20       False     4.0        56\n",
      "3         SMartWatch  TimeTrack   3500     54        True     4.1        28\n",
      "4  Bluetooth speaker  EchoBhoom   4500     35       False     3.9        10\n",
      "5             Tablet      Apple  45000     75        True     4.1        18\n",
      "6             Tablet      Apple  45000     75        True     4.1        18\n"
     ]
    }
   ],
   "source": [
    "df[\"Price\"] = df[\"Price\"].astype(int)\n",
    "\n",
    "print(df)"
   ]
  },
  {
   "cell_type": "code",
   "execution_count": 64,
   "id": "c065378c",
   "metadata": {},
   "outputs": [
    {
     "name": "stdout",
     "output_type": "stream",
     "text": [
      "            Products      Brand  Price  Stock  BestSeller  Rating  Discount  \\\n",
      "0   Wireless Earbuds   Soundmax   2580     50        True     4.2        18   \n",
      "1         Smartphone   TechNova  32110     30        True     4.5        50   \n",
      "2             Laptop   Bytecore  75000     20       False     4.0        56   \n",
      "3         SMartWatch  TimeTrack   3500     54        True     4.1        28   \n",
      "4  Bluetooth speaker  EchoBhoom   4500     35       False     3.9        10   \n",
      "5             Tablet      Apple  45000     75        True     4.1        18   \n",
      "6             Tablet      Apple  45000     75        True     4.1        18   \n",
      "\n",
      "   Rank  \n",
      "0   7.0  \n",
      "1   4.0  \n",
      "2   1.0  \n",
      "3   6.0  \n",
      "4   5.0  \n",
      "5   2.5  \n",
      "6   2.5  \n",
      "            Products      Brand  Price  Stock  BestSeller  Rating  Discount  \\\n",
      "0   Wireless Earbuds   Soundmax   2580     50        True     4.2        18   \n",
      "3         SMartWatch  TimeTrack   3500     54        True     4.1        28   \n",
      "4  Bluetooth speaker  EchoBhoom   4500     35       False     3.9        10   \n",
      "1         Smartphone   TechNova  32110     30        True     4.5        50   \n",
      "5             Tablet      Apple  45000     75        True     4.1        18   \n",
      "6             Tablet      Apple  45000     75        True     4.1        18   \n",
      "2             Laptop   Bytecore  75000     20       False     4.0        56   \n",
      "\n",
      "   Rank  \n",
      "0   7.0  \n",
      "3   6.0  \n",
      "4   5.0  \n",
      "1   4.0  \n",
      "5   2.5  \n",
      "6   2.5  \n",
      "2   1.0  \n",
      "            Products      Brand  Price  Stock  BestSeller  Rating  Discount  \\\n",
      "2             Laptop   Bytecore  75000     20       False     4.0        56   \n",
      "5             Tablet      Apple  45000     75        True     4.1        18   \n",
      "6             Tablet      Apple  45000     75        True     4.1        18   \n",
      "1         Smartphone   TechNova  32110     30        True     4.5        50   \n",
      "4  Bluetooth speaker  EchoBhoom   4500     35       False     3.9        10   \n",
      "3         SMartWatch  TimeTrack   3500     54        True     4.1        28   \n",
      "0   Wireless Earbuds   Soundmax   2580     50        True     4.2        18   \n",
      "\n",
      "   Rank  \n",
      "2   1.0  \n",
      "5   2.5  \n",
      "6   2.5  \n",
      "1   4.0  \n",
      "4   5.0  \n",
      "3   6.0  \n",
      "0   7.0  \n"
     ]
    }
   ],
   "source": [
    "df[\"Rank\"] = df[\"Price\"].rank(ascending = False )\n",
    "print(df)\n",
    "print(df.sort_values(by = \"Rank\", ascending = False))\n",
    "print(df.sort_values(by = \"Rank\", ascending = True))\n"
   ]
  },
  {
   "cell_type": "code",
   "execution_count": 65,
   "id": "87a94276",
   "metadata": {},
   "outputs": [
    {
     "name": "stdout",
     "output_type": "stream",
     "text": [
      "            Products      Brand  Price  Stock  BestSeller  Rating  Discount  \\\n",
      "0   Wireless Earbuds   Soundmax   2580     50        True     4.2        18   \n",
      "1         Smartphone   TechNova  32110     30        True     4.5        50   \n",
      "2             Laptop   Bytecore  75000     20       False     4.0        56   \n",
      "3         SMartWatch  TimeTrack   3500     54        True     4.1        28   \n",
      "4  Bluetooth speaker  EchoBhoom   4500     35       False     3.9        10   \n",
      "5             Tablet      Apple  45000     75        True     4.1        18   \n",
      "6             Tablet      Apple  45000     75        True     4.1        18   \n",
      "\n",
      "   Rank  \n",
      "0   7.0  \n",
      "1   4.0  \n",
      "2   1.0  \n",
      "3   6.0  \n",
      "4   5.0  \n",
      "5   2.5  \n",
      "6   2.5  \n"
     ]
    }
   ],
   "source": [
    "print(df)"
   ]
  },
  {
   "cell_type": "code",
   "execution_count": 66,
   "id": "9fc5e988",
   "metadata": {},
   "outputs": [
    {
     "name": "stdout",
     "output_type": "stream",
     "text": [
      "            Products      Brand  Price  Stock  BestSeller  Rating  Discount  \\\n",
      "0   Wireless Earbuds   Soundmax   2580     50        True     4.2        18   \n",
      "1         Smartphone   TechNova  32110     30        True     4.5        50   \n",
      "2             Laptop   Bytecore  75000     20       False     4.0        56   \n",
      "3         SMartWatch  TimeTrack   3500     54        True     4.1        28   \n",
      "4  Bluetooth speaker  EchoBhoom   4500     35       False     3.9        10   \n",
      "5             Tablet      Apple  45000     75        True     4.1        18   \n",
      "6             Tablet      Apple  45000     75        True     4.1        18   \n",
      "\n",
      "   Rank  \n",
      "0   1.0  \n",
      "1   4.0  \n",
      "2   7.0  \n",
      "3   2.0  \n",
      "4   3.0  \n",
      "5   5.5  \n",
      "6   5.5  \n"
     ]
    }
   ],
   "source": [
    "df[\"Rank\"] = df[\"Price\"].rank(ascending=True)\n",
    "print(df)"
   ]
  },
  {
   "cell_type": "code",
   "execution_count": 67,
   "id": "619b0b3a",
   "metadata": {},
   "outputs": [
    {
     "name": "stdout",
     "output_type": "stream",
     "text": [
      "            Products      Brand  Price  Stock  BestSeller  Rating  Discount  \\\n",
      "0   Wireless Earbuds   Soundmax   2580     50        True     4.2        18   \n",
      "1         Smartphone   TechNova  32110     30        True     4.5        50   \n",
      "2             Laptop   Bytecore  75000     20       False     4.0        56   \n",
      "3         SMartWatch  TimeTrack   3500     54        True     4.1        28   \n",
      "4  Bluetooth speaker  EchoBhoom   4500     35       False     3.9        10   \n",
      "5             Tablet      Apple  45000     75        True     4.1        18   \n",
      "\n",
      "   Rank  \n",
      "0   1.0  \n",
      "1   4.0  \n",
      "2   7.0  \n",
      "3   2.0  \n",
      "4   3.0  \n",
      "5   5.5  \n"
     ]
    }
   ],
   "source": [
    "df = df.drop(6).reset_index(drop=True)\n",
    "print(df)\n"
   ]
  },
  {
   "cell_type": "code",
   "execution_count": 72,
   "id": "82e05afb",
   "metadata": {},
   "outputs": [
    {
     "name": "stdout",
     "output_type": "stream",
     "text": [
      "   ID     Name  Age\n",
      "0   1    Alice   25\n",
      "1   2      Bob   30\n",
      "0   3  Charlie   25\n",
      "1   4    David   30\n",
      "\n",
      "\n"
     ]
    }
   ],
   "source": [
    "import pandas as pd\n",
    "\n",
    "df1 = pd.DataFrame({\n",
    "    \"ID\":[1,2],\n",
    "    \"Name\" : [\"Alice\",\"Bob\"],\n",
    "    \"Age\" : [25,30]\n",
    "})\n",
    "\n",
    "df2 = pd.DataFrame({\n",
    "    \"ID\":[3,4],\n",
    "    \"Name\":[\"Charlie\",\"David\"],\n",
    "    \"Age\" : [25,30]\n",
    "})\n",
    "\n",
    "df_combined = pd.concat([df1,df2], axis = 0)\n",
    "# df_combined = pd.concat([df1, df2], axis=1)\n",
    "print(df_combined)\n",
    "\n",
    "print(\"\\n\")\n",
    "# print(df_combined)"
   ]
  },
  {
   "cell_type": "code",
   "execution_count": 81,
   "id": "a2eb0c59",
   "metadata": {},
   "outputs": [
    {
     "name": "stdout",
     "output_type": "stream",
     "text": [
      "            Products      Brand  Price  Stock  BestSeller  Rating  Discount\n",
      "0   Wireless Earbuds   Soundmax   2580     50        True     4.2        18\n",
      "1         Smartphone   TechNova  32110     30        True     4.5        50\n",
      "2             Laptop   Bytecore  75000     20       False     4.0        56\n",
      "3         SMartWatch  TimeTrack   3500     54        True     4.1        28\n",
      "4  Bluetooth speaker  EchoBhoom   4500     35       False     3.9        10\n",
      "5             Tablet      Apple  45000     75        True     4.1        18\n"
     ]
    }
   ],
   "source": [
    "print(df)\n",
    "\n",
    "\n"
   ]
  },
  {
   "cell_type": "code",
   "execution_count": null,
   "id": "3b4178a4",
   "metadata": {},
   "outputs": [
    {
     "name": "stdout",
     "output_type": "stream",
     "text": [
      "Stock           20       30      35      50      54       75\n",
      "Brand                                                       \n",
      "Apple          NaN      NaN     NaN     NaN     NaN  45000.0\n",
      "Bytecore   75000.0      NaN     NaN     NaN     NaN      NaN\n",
      "EchoBhoom      NaN      NaN  4500.0     NaN     NaN      NaN\n",
      "Soundmax       NaN      NaN     NaN  2580.0     NaN      NaN\n",
      "TechNova       NaN  32110.0     NaN     NaN     NaN      NaN\n",
      "TimeTrack      NaN      NaN     NaN     NaN  3500.0      NaN\n"
     ]
    }
   ],
   "source": [
    "pivot_table = df.pivot_table(index=\"Brand\", values=\"Price\", columns =\"Stock\", aggfunc=\"mean\")\n",
    "print(pivot_table)"
   ]
  },
  {
   "cell_type": "code",
   "execution_count": 84,
   "id": "fd00807e",
   "metadata": {},
   "outputs": [
    {
     "name": "stdout",
     "output_type": "stream",
     "text": [
      "            Products      Brand  Price  Stock  BestSeller  Rating  Discount\n",
      "0   Wireless Earbuds   Soundmax   2580     50        True     4.2        18\n",
      "1         Smartphone   TechNova  32110     30        True     4.5        50\n",
      "2             Laptop   Bytecore  75000     20       False     4.0        56\n",
      "3         SMartWatch  TimeTrack   3500     54        True     4.1        28\n",
      "4  Bluetooth speaker  EchoBhoom   4500     35       False     3.9        10\n",
      "5             Tablet      Apple  45000     75        True     4.1        18\n"
     ]
    }
   ],
   "source": [
    "print(df)"
   ]
  },
  {
   "cell_type": "code",
   "execution_count": 83,
   "id": "88d994a2",
   "metadata": {},
   "outputs": [
    {
     "data": {
      "text/html": [
       "<div>\n",
       "<style scoped>\n",
       "    .dataframe tbody tr th:only-of-type {\n",
       "        vertical-align: middle;\n",
       "    }\n",
       "\n",
       "    .dataframe tbody tr th {\n",
       "        vertical-align: top;\n",
       "    }\n",
       "\n",
       "    .dataframe thead th {\n",
       "        text-align: right;\n",
       "    }\n",
       "</style>\n",
       "<table border=\"1\" class=\"dataframe\">\n",
       "  <thead>\n",
       "    <tr style=\"text-align: right;\">\n",
       "      <th>Stock</th>\n",
       "      <th>20</th>\n",
       "      <th>30</th>\n",
       "      <th>35</th>\n",
       "      <th>50</th>\n",
       "      <th>54</th>\n",
       "      <th>75</th>\n",
       "    </tr>\n",
       "    <tr>\n",
       "      <th>Brand</th>\n",
       "      <th></th>\n",
       "      <th></th>\n",
       "      <th></th>\n",
       "      <th></th>\n",
       "      <th></th>\n",
       "      <th></th>\n",
       "    </tr>\n",
       "  </thead>\n",
       "  <tbody>\n",
       "    <tr>\n",
       "      <th>Apple</th>\n",
       "      <td>0</td>\n",
       "      <td>0</td>\n",
       "      <td>0</td>\n",
       "      <td>0</td>\n",
       "      <td>0</td>\n",
       "      <td>1</td>\n",
       "    </tr>\n",
       "    <tr>\n",
       "      <th>Bytecore</th>\n",
       "      <td>1</td>\n",
       "      <td>0</td>\n",
       "      <td>0</td>\n",
       "      <td>0</td>\n",
       "      <td>0</td>\n",
       "      <td>0</td>\n",
       "    </tr>\n",
       "    <tr>\n",
       "      <th>EchoBhoom</th>\n",
       "      <td>0</td>\n",
       "      <td>0</td>\n",
       "      <td>1</td>\n",
       "      <td>0</td>\n",
       "      <td>0</td>\n",
       "      <td>0</td>\n",
       "    </tr>\n",
       "    <tr>\n",
       "      <th>Soundmax</th>\n",
       "      <td>0</td>\n",
       "      <td>0</td>\n",
       "      <td>0</td>\n",
       "      <td>1</td>\n",
       "      <td>0</td>\n",
       "      <td>0</td>\n",
       "    </tr>\n",
       "    <tr>\n",
       "      <th>TechNova</th>\n",
       "      <td>0</td>\n",
       "      <td>1</td>\n",
       "      <td>0</td>\n",
       "      <td>0</td>\n",
       "      <td>0</td>\n",
       "      <td>0</td>\n",
       "    </tr>\n",
       "    <tr>\n",
       "      <th>TimeTrack</th>\n",
       "      <td>0</td>\n",
       "      <td>0</td>\n",
       "      <td>0</td>\n",
       "      <td>0</td>\n",
       "      <td>1</td>\n",
       "      <td>0</td>\n",
       "    </tr>\n",
       "  </tbody>\n",
       "</table>\n",
       "</div>"
      ],
      "text/plain": [
       "Stock      20  30  35  50  54  75\n",
       "Brand                            \n",
       "Apple       0   0   0   0   0   1\n",
       "Bytecore    1   0   0   0   0   0\n",
       "EchoBhoom   0   0   1   0   0   0\n",
       "Soundmax    0   0   0   1   0   0\n",
       "TechNova    0   1   0   0   0   0\n",
       "TimeTrack   0   0   0   0   1   0"
      ]
     },
     "execution_count": 83,
     "metadata": {},
     "output_type": "execute_result"
    }
   ],
   "source": [
    "pd.crosstab(df[\"Brand\"],df[\"Stock\"])"
   ]
  }
 ],
 "metadata": {
  "kernelspec": {
   "display_name": "Python 3",
   "language": "python",
   "name": "python3"
  },
  "language_info": {
   "codemirror_mode": {
    "name": "ipython",
    "version": 3
   },
   "file_extension": ".py",
   "mimetype": "text/x-python",
   "name": "python",
   "nbconvert_exporter": "python",
   "pygments_lexer": "ipython3",
   "version": "3.12.1"
  }
 },
 "nbformat": 4,
 "nbformat_minor": 5
}

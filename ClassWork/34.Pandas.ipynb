{
 "cells": [
  {
   "cell_type": "code",
   "execution_count": 2,
   "id": "3591e1b6",
   "metadata": {},
   "outputs": [
    {
     "name": "stdout",
     "output_type": "stream",
     "text": [
      "Wireless Earphones      3000\n",
      "Iphone                148500\n",
      "Smart Watch            20000\n",
      "Mobile Phone           32500\n",
      "Laptop                 45200\n",
      "dtype: int64\n"
     ]
    }
   ],
   "source": [
    "import pandas as pd\n",
    "\n",
    "\n",
    "prices = [3000, 148500, 20000, 32500, 45200]\n",
    "\n",
    "products = [\"Wireless Earphones\",\"Iphone\", \"Smart Watch\", \"Mobile Phone\", \"Laptop\"]\n",
    "\n",
    "products_prices = pd.Series(prices,index= products)\n",
    "print(products_prices)"
   ]
  },
  {
   "cell_type": "code",
   "execution_count": 3,
   "id": "86a556bb",
   "metadata": {},
   "outputs": [
    {
     "name": "stdout",
     "output_type": "stream",
     "text": [
      "Mean: 49840.0\n"
     ]
    }
   ],
   "source": [
    "print(\"Mean:\" ,products_prices.mean())"
   ]
  },
  {
   "cell_type": "code",
   "execution_count": 4,
   "id": "37a31cb8",
   "metadata": {},
   "outputs": [
    {
     "name": "stdout",
     "output_type": "stream",
     "text": [
      "Sum: 249200\n"
     ]
    }
   ],
   "source": [
    "print(\"Sum:\", products_prices.sum())"
   ]
  },
  {
   "cell_type": "code",
   "execution_count": 5,
   "id": "cb31df75",
   "metadata": {},
   "outputs": [
    {
     "name": "stdout",
     "output_type": "stream",
     "text": [
      "Max: 148500\n"
     ]
    }
   ],
   "source": [
    "print(\"Max:\", products_prices.max())"
   ]
  },
  {
   "cell_type": "code",
   "execution_count": 6,
   "id": "86f587e4",
   "metadata": {},
   "outputs": [
    {
     "name": "stdout",
     "output_type": "stream",
     "text": [
      "Min: 3000\n"
     ]
    }
   ],
   "source": [
    "print(\"Min:\",products_prices.min())"
   ]
  },
  {
   "cell_type": "code",
   "execution_count": 8,
   "id": "121a9803",
   "metadata": {},
   "outputs": [
    {
     "name": "stdout",
     "output_type": "stream",
     "text": [
      "Head (First 3 elements):\n",
      "\n",
      " Wireless Earphones      3000\n",
      "Iphone                148500\n",
      "Smart Watch            20000\n",
      "dtype: int64\n"
     ]
    }
   ],
   "source": [
    "print(\"Head (First 3 elements):\\n\\n\",products_prices.head(3))"
   ]
  },
  {
   "cell_type": "code",
   "execution_count": 9,
   "id": "460c94ec",
   "metadata": {},
   "outputs": [
    {
     "name": "stdout",
     "output_type": "stream",
     "text": [
      "Tail (First 3 elements):\n",
      " \n",
      " Smart Watch     20000\n",
      "Mobile Phone    32500\n",
      "Laptop          45200\n",
      "dtype: int64\n"
     ]
    }
   ],
   "source": [
    "print(\"Tail (First 3 elements):\\n \\n\", products_prices.tail(3))"
   ]
  },
  {
   "cell_type": "code",
   "execution_count": 15,
   "id": "215f55a2",
   "metadata": {},
   "outputs": [
    {
     "name": "stdout",
     "output_type": "stream",
     "text": [
      "Apply the 18% gst to the Prices: \n",
      " Wireless Earphones      ₹3540.0\n",
      "Iphone                ₹175230.0\n",
      "Smart Watch            ₹23600.0\n",
      "Mobile Phone           ₹38350.0\n",
      "Laptop                 ₹53336.0\n",
      "dtype: object\n"
     ]
    }
   ],
   "source": [
    "print(\"Apply the 18% gst to the Prices: \\n\", products_prices.apply(lambda x: f\"₹{x * 0.18 + x}\"))"
   ]
  },
  {
   "cell_type": "code",
   "execution_count": 18,
   "id": "502addcf",
   "metadata": {},
   "outputs": [
    {
     "name": "stdout",
     "output_type": "stream",
     "text": [
      "Apply the 18% gst to the Prices: \n",
      " Wireless Earphones      ₹3540.0\n",
      "Iphone                ₹175230.0\n",
      "Smart Watch            ₹23600.0\n",
      "Mobile Phone           ₹38350.0\n",
      "Laptop                 ₹53336.0\n",
      "dtype: object\n"
     ]
    }
   ],
   "source": [
    "print(\"Apply the 18% gst to the Prices: \\n\", products_prices.apply(lambda x: f\"₹{x + (x*0.18)}\"))"
   ]
  },
  {
   "cell_type": "code",
   "execution_count": 14,
   "id": "29a45dbd",
   "metadata": {},
   "outputs": [
    {
     "name": "stdout",
     "output_type": "stream",
     "text": [
      "Map(Formatting as currency): \n",
      " Wireless Earphones      ₹3000\n",
      "Iphone                ₹148500\n",
      "Smart Watch            ₹20000\n",
      "Mobile Phone           ₹32500\n",
      "Laptop                 ₹45200\n",
      "dtype: object\n"
     ]
    }
   ],
   "source": [
    "print(\"Map(Formatting as currency): \\n\", products_prices.map(lambda x: f\"₹{x}\"))"
   ]
  },
  {
   "cell_type": "code",
   "execution_count": 19,
   "id": "fd0b83ff",
   "metadata": {},
   "outputs": [
    {
     "name": "stdout",
     "output_type": "stream",
     "text": [
      "Sorting By Values: \n",
      " Wireless Earphones      3000\n",
      "Smart Watch            20000\n",
      "Mobile Phone           32500\n",
      "Laptop                 45200\n",
      "Iphone                148500\n",
      "dtype: int64\n"
     ]
    }
   ],
   "source": [
    "print(\"Sorting By Values: \\n\", products_prices.sort_values())"
   ]
  },
  {
   "cell_type": "code",
   "execution_count": 20,
   "id": "bc38c276",
   "metadata": {},
   "outputs": [
    {
     "name": "stdout",
     "output_type": "stream",
     "text": [
      "Sorting By index: \n",
      " Iphone                148500\n",
      "Laptop                 45200\n",
      "Mobile Phone           32500\n",
      "Smart Watch            20000\n",
      "Wireless Earphones      3000\n",
      "dtype: int64\n"
     ]
    }
   ],
   "source": [
    "print(\"Sorting By index: \\n\", products_prices.sort_index())"
   ]
  },
  {
   "cell_type": "code",
   "execution_count": 21,
   "id": "705281ad",
   "metadata": {},
   "outputs": [
    {
     "name": "stdout",
     "output_type": "stream",
     "text": [
      "Iphone                148500\n",
      "Laptop                 45200\n",
      "Mobile Phone           32500\n",
      "Smart Watch            20000\n",
      "Wireless Earphones      3000\n",
      "dtype: int64\n"
     ]
    }
   ],
   "source": [
    "print(products_prices.sort_values(ascending=False))"
   ]
  },
  {
   "cell_type": "code",
   "execution_count": 22,
   "id": "be3c3b6a",
   "metadata": {},
   "outputs": [
    {
     "name": "stdout",
     "output_type": "stream",
     "text": [
      "Wireless Earphones      3000\n",
      "Smart Watch            20000\n",
      "Mobile Phone           32500\n",
      "Laptop                 45200\n",
      "Iphone                148500\n",
      "dtype: int64\n"
     ]
    }
   ],
   "source": [
    "print(products_prices.sort_index(ascending=False))"
   ]
  },
  {
   "cell_type": "code",
   "execution_count": 25,
   "id": "8bb55377",
   "metadata": {},
   "outputs": [
    {
     "name": "stdout",
     "output_type": "stream",
     "text": [
      "Vales: \n",
      " 3000      1\n",
      "148500    1\n",
      "20000     1\n",
      "32500     1\n",
      "45200     1\n",
      "Name: count, dtype: int64\n"
     ]
    }
   ],
   "source": [
    "print(\"Vales: \\n\", products_prices.value_counts())"
   ]
  },
  {
   "cell_type": "markdown",
   "id": "7f7ae0e5",
   "metadata": {},
   "source": [
    "**Data Frames**"
   ]
  },
  {
   "cell_type": "code",
   "execution_count": 27,
   "id": "3de84ff4",
   "metadata": {},
   "outputs": [
    {
     "name": "stdout",
     "output_type": "stream",
     "text": [
      "            Products      Brand  Price  Stock  BestSeller\n",
      "0   Wireless Earbuds   Soundmax   2580     50        True\n",
      "1         Smartphone   TechNova  32110     30        True\n",
      "2             Laptop   Bytecore  75000     20       False\n",
      "3         SMartWatch  TimeTrack   3500     54        True\n",
      "4  Bluetooth speaker  EchoBhoom   4500     35       False\n"
     ]
    }
   ],
   "source": [
    "data = {\n",
    "    \"Products\" : [\"Wireless Earbuds\", \"Smartphone\", \"Laptop\", \"SMartWatch\", \"Bluetooth speaker\"],\n",
    "    \"Brand\" : [\"Soundmax\", \"TechNova\", \"Bytecore\", \"TimeTrack\", \"EchoBhoom\"],\n",
    "    \"Price\" : [2580, 32110, 75000, 3500, 4500],\n",
    "    \"Stock\" : [50, 30, 20, 54, 35],\n",
    "    \"BestSeller\" : [True, True, False, True, False] \n",
    "}\n",
    "\n",
    "\n",
    "df = pd.DataFrame(data)\n",
    "\n",
    "print(df)"
   ]
  },
  {
   "cell_type": "code",
   "execution_count": 30,
   "id": "2a10d2b8",
   "metadata": {},
   "outputs": [
    {
     "name": "stdout",
     "output_type": "stream",
     "text": [
      "The Head of the Data:\n",
      "            Products     Brand  Price  Stock  BestSeller\n",
      "0  Wireless Earbuds  Soundmax   2580     50        True\n",
      "1        Smartphone  TechNova  32110     30        True\n"
     ]
    }
   ],
   "source": [
    "print(\"The Head of the Data:\\n\", df.head(2))"
   ]
  },
  {
   "cell_type": "code",
   "execution_count": 31,
   "id": "778cbd1d",
   "metadata": {},
   "outputs": [
    {
     "name": "stdout",
     "output_type": "stream",
     "text": [
      "The Tail of the Data:\n",
      "             Products      Brand  Price  Stock  BestSeller\n",
      "3         SMartWatch  TimeTrack   3500     54        True\n",
      "4  Bluetooth speaker  EchoBhoom   4500     35       False\n"
     ]
    }
   ],
   "source": [
    "print(\"The Tail of the Data:\\n\", df.tail(2))"
   ]
  },
  {
   "cell_type": "code",
   "execution_count": 34,
   "id": "29e7fbb5",
   "metadata": {},
   "outputs": [
    {
     "name": "stdout",
     "output_type": "stream",
     "text": [
      "The Shape of the DatFrame:\n",
      " (5, 5)\n"
     ]
    }
   ],
   "source": [
    "print(\"The Shape of the DatFrame:\\n\", df.shape)"
   ]
  },
  {
   "cell_type": "code",
   "execution_count": 42,
   "id": "0ae03a2c",
   "metadata": {},
   "outputs": [
    {
     "name": "stdout",
     "output_type": "stream",
     "text": [
      "The Columns in DataFrame: \n",
      " Index(['Products', 'Brand', 'Price', 'Stock', 'BestSeller'], dtype='object')\n"
     ]
    }
   ],
   "source": [
    "print(\"The Columns in DataFrame: \\n\", df.columns)"
   ]
  },
  {
   "cell_type": "code",
   "execution_count": 43,
   "id": "bb5f78ad",
   "metadata": {},
   "outputs": [
    {
     "name": "stdout",
     "output_type": "stream",
     "text": [
      "The Index of the DataFrame: \n",
      " RangeIndex(start=0, stop=5, step=1)\n"
     ]
    }
   ],
   "source": [
    "print(\"The Index of the DataFrame: \\n\", df.index)"
   ]
  },
  {
   "cell_type": "code",
   "execution_count": 45,
   "id": "fb2b50cb",
   "metadata": {},
   "outputs": [
    {
     "name": "stdout",
     "output_type": "stream",
     "text": [
      "<class 'pandas.core.frame.DataFrame'>\n",
      "RangeIndex: 5 entries, 0 to 4\n",
      "Data columns (total 5 columns):\n",
      " #   Column      Non-Null Count  Dtype \n",
      "---  ------      --------------  ----- \n",
      " 0   Products    5 non-null      object\n",
      " 1   Brand       5 non-null      object\n",
      " 2   Price       5 non-null      int64 \n",
      " 3   Stock       5 non-null      int64 \n",
      " 4   BestSeller  5 non-null      bool  \n",
      "dtypes: bool(1), int64(2), object(2)\n",
      "memory usage: 297.0+ bytes\n",
      "The Information of the DataFrame: \n",
      " None\n"
     ]
    }
   ],
   "source": [
    "print(\"The Information of the DataFrame: \\n\", df.info())"
   ]
  },
  {
   "cell_type": "code",
   "execution_count": 48,
   "id": "c6abad67",
   "metadata": {},
   "outputs": [
    {
     "name": "stdout",
     "output_type": "stream",
     "text": [
      "Stastical Info: \n",
      "               Price      Stock\n",
      "count      5.000000   5.000000\n",
      "mean   23538.000000  37.800000\n",
      "std    31324.995132  14.113823\n",
      "min     2580.000000  20.000000\n",
      "25%     3500.000000  30.000000\n",
      "50%     4500.000000  35.000000\n",
      "75%    32110.000000  50.000000\n",
      "max    75000.000000  54.000000\n"
     ]
    }
   ],
   "source": [
    "print(\"Stastical Info: \\n\", df.describe())"
   ]
  },
  {
   "cell_type": "code",
   "execution_count": null,
   "id": "5ba20170",
   "metadata": {},
   "outputs": [
    {
     "name": "stdout",
     "output_type": "stream",
     "text": [
      "            Products      Brand  Price  Stock  BestSeller\n",
      "0   Wireless Earbuds   Soundmax   2580     50        True\n",
      "1         Smartphone   TechNova  32110     30        True\n",
      "2             Laptop   Bytecore  75000     20       False\n",
      "3         SMartWatch  TimeTrack   3500     54        True\n",
      "4  Bluetooth speaker  EchoBhoom   4500     35       False\n",
      "\n",
      "\n",
      "Smartphone\n",
      "\n",
      "\n",
      "EchoBhoom\n",
      "\n",
      "\n",
      "False\n",
      "\n",
      "\n",
      "True\n",
      "\n",
      "\n",
      "False\n",
      "\n",
      "\n",
      "75000\n",
      "\n",
      "\n",
      "30\n",
      "\n",
      "\n",
      "Products      Bluetooth speaker\n",
      "Brand                 EchoBhoom\n",
      "Price                      4500\n",
      "Stock                        35\n",
      "BestSeller                False\n",
      "Name: 4, dtype: object\n"
     ]
    }
   ],
   "source": [
    "print(df)\n",
    "\n",
    "print(\"\\n\")\n",
    "\n",
    "print(df.loc[1, \"Products\"])\n",
    "\n",
    "print(\"\\n\")\n",
    "\n",
    "print(df.loc[4, \"Brand\"])\n",
    "\n",
    "print(\"\\n\")\n",
    "\n",
    "print(df.loc[2, \"BestSeller\"])\n",
    "\n",
    "print(\"\\n\")\n",
    "\n",
    "print(df.iloc[1,4])\n",
    "\n",
    "print(\"\\n\")\n",
    "\n",
    "print(df.iloc[4,4])\n",
    "\n",
    "print(\"\\n\")\n",
    "\n",
    "print(df.iloc[2,2])\n",
    "\n",
    "print(\"\\n\")\n",
    "\n",
    "print(df.iloc[1, 3])\n",
    "\n",
    "print(\"\\n\")\n",
    "\n",
    "print(df.iloc[4])"
   ]
  },
  {
   "cell_type": "code",
   "execution_count": 101,
   "id": "15c00132",
   "metadata": {},
   "outputs": [
    {
     "name": "stdout",
     "output_type": "stream",
     "text": [
      "            Products      Brand  Price  Stock  BestSeller\n",
      "0   Wireless Earbuds   Soundmax   2580     50        True\n",
      "1         Smartphone   TechNova  32110     30        True\n",
      "2             Laptop   Bytecore  75000     20       False\n",
      "3         SMartWatch  TimeTrack   3500     54        True\n",
      "4  Bluetooth speaker  EchoBhoom   4500     35       False\n",
      "************************************************************\n",
      "\n",
      "\n",
      "Using loc (selecting rows where Price < 4000):\n",
      "            Products      Brand  Price  Stock  BestSeller\n",
      "0  Wireless Earbuds   Soundmax   2580     50        True\n",
      "3        SMartWatch  TimeTrack   3500     54        True\n",
      "\n",
      "\n",
      "************************************************************\n",
      "Selecting the Stock which are greater than the 20: \n",
      "             Products      Brand  Price  Stock  BestSeller\n",
      "0   Wireless Earbuds   Soundmax   2580     50        True\n",
      "1         Smartphone   TechNova  32110     30        True\n",
      "3         SMartWatch  TimeTrack   3500     54        True\n",
      "4  Bluetooth speaker  EchoBhoom   4500     35       False\n",
      "\n",
      "\n",
      "************************************************************\n",
      "Selecting the best Seller \n",
      "            Products      Brand  Price  Stock  BestSeller\n",
      "0  Wireless Earbuds   Soundmax   2580     50        True\n",
      "1        Smartphone   TechNova  32110     30        True\n",
      "3        SMartWatch  TimeTrack   3500     54        True\n",
      "\n",
      "\n",
      "************************************************************\n"
     ]
    }
   ],
   "source": [
    "print(df)\n",
    "print(\"*\" * 60)\n",
    "print(\"\\n\")\n",
    "print(\"Using loc (selecting rows where Price < 4000):\\n\", df.loc[df[\"Price\"] < 4000])\n",
    "print(\"\\n\")\n",
    "print(\"*\" * 60)\n",
    "print(\"Selecting the Stock which are greater than the 20: \\n\", df.loc[df[\"Stock\"] > 20])\n",
    "print(\"\\n\")\n",
    "print(\"*\" * 60)\n",
    "print(\"Selecting the best Seller \\n\", df.loc[df[\"BestSeller\"] == True])\n",
    "print(\"\\n\")\n",
    "print(\"*\" * 60)\n"
   ]
  },
  {
   "cell_type": "code",
   "execution_count": 4,
   "id": "bb826101",
   "metadata": {},
   "outputs": [
    {
     "name": "stdout",
     "output_type": "stream",
     "text": [
      "            Products      Brand  Price  Stock  BestSeller\n",
      "0   Wireless Earbuds   Soundmax   2580     50        True\n",
      "1         Smartphone   TechNova  32110     30        True\n",
      "2             Laptop   Bytecore  75000     20       False\n",
      "3         SMartWatch  TimeTrack   3500     54        True\n",
      "4  Bluetooth speaker  EchoBhoom   4500     35       False\n"
     ]
    }
   ],
   "source": [
    "import pandas as pd\n",
    "\n",
    "\n",
    "data = {\n",
    "    \"Products\" : [\"Wireless Earbuds\", \"Smartphone\", \"Laptop\", \"SMartWatch\", \"Bluetooth speaker\"],\n",
    "    \"Brand\" : [\"Soundmax\", \"TechNova\", \"Bytecore\", \"TimeTrack\", \"EchoBhoom\"],\n",
    "    \"Price\" : [2580, 32110, 75000, 3500, 4500],\n",
    "    \"Stock\" : [50, 30, 20, 54, 35],\n",
    "    \"BestSeller\" : [True, True, False, True, False] \n",
    "}\n",
    "\n",
    "df = pd.DataFrame(data)\n",
    "\n",
    "print(df)"
   ]
  },
  {
   "cell_type": "code",
   "execution_count": null,
   "id": "77c4d599",
   "metadata": {},
   "outputs": [
    {
     "name": "stdout",
     "output_type": "stream",
     "text": [
      "Before             Products      Brand  Price  Stock  BestSeller\n",
      "0   Wireless Earbuds   Soundmax   2580     50        True\n",
      "1         Smartphone   TechNova  32110     30        True\n",
      "2             Laptop   Bytecore  75000     20       False\n",
      "3         SMartWatch  TimeTrack   3500     54        True\n",
      "4  Bluetooth speaker  EchoBhoom   4500     35       False\n",
      "\n",
      "\n",
      "After Dropping 'stock' column: \n",
      "             Products      Brand  Price  BestSeller\n",
      "0   Wireless Earbuds   Soundmax   2580        True\n",
      "1         Smartphone   TechNova  32110        True\n",
      "2             Laptop   Bytecore  75000       False\n",
      "3         SMartWatch  TimeTrack   3500        True\n",
      "4  Bluetooth speaker  EchoBhoom   4500       False\n",
      "\n",
      "\n",
      "After df:             Products      Brand  Price  Stock  BestSeller\n",
      "0   Wireless Earbuds   Soundmax   2580     50        True\n",
      "1         Smartphone   TechNova  32110     30        True\n",
      "2             Laptop   Bytecore  75000     20       False\n",
      "3         SMartWatch  TimeTrack   3500     54        True\n",
      "4  Bluetooth speaker  EchoBhoom   4500     35       False\n"
     ]
    }
   ],
   "source": [
    "print(\"Before\",df)\n",
    "print(\"\\n\")\n",
    "df_dropped = df.drop(columns=[\"Stock\"])\n",
    "print(\"After Dropping 'stock' column: \\n\", df_dropped)\n",
    "print(\"\\n\")\n",
    "print(\"After df:\",df)"
   ]
  },
  {
   "cell_type": "code",
   "execution_count": null,
   "id": "04470781",
   "metadata": {},
   "outputs": [],
   "source": [
    "print(\"Before\",df)\n",
    "print(\"\\n\")\n",
    "df_dropped = df.drop(columns=[\"Stock\"],inplace = \"True\")\n",
    "print(\"After Dropping 'stock' column: \\n\", df_dropped)\n",
    "print(\"\\n\")\n",
    "print(\"After df:\",df)"
   ]
  },
  {
   "cell_type": "code",
   "execution_count": 20,
   "id": "247fde5a",
   "metadata": {},
   "outputs": [
    {
     "name": "stdout",
     "output_type": "stream",
     "text": [
      "After Remaining 'Price to MRP': \n",
      "             Products      Brand    MRP  Stock  BestSeller\n",
      "0   Wireless Earbuds   Soundmax   2580     50        True\n",
      "1         Smartphone   TechNova  32110     30        True\n",
      "2             Laptop   Bytecore  75000     20       False\n",
      "3         SMartWatch  TimeTrack   3500     54        True\n",
      "4  Bluetooth speaker  EchoBhoom   4500     35       False\n",
      "\n",
      "\n",
      "            Products      Brand  Price  Stock  BestSeller\n",
      "0   Wireless Earbuds   Soundmax   2580     50        True\n",
      "1         Smartphone   TechNova  32110     30        True\n",
      "2             Laptop   Bytecore  75000     20       False\n",
      "3         SMartWatch  TimeTrack   3500     54        True\n",
      "4  Bluetooth speaker  EchoBhoom   4500     35       False\n"
     ]
    }
   ],
   "source": [
    "df_renammed = df.rename(columns = {'Price':'MRP'})\n",
    "print(\"After Remaining 'Price to MRP': \\n\", df_renammed)\n",
    "print(\"\\n\")\n",
    "df.rename(columns = {\"Product name\": \"Product\"}, inplace = True)\n",
    "print(df)"
   ]
  },
  {
   "cell_type": "code",
   "execution_count": 19,
   "id": "e214b3e6",
   "metadata": {},
   "outputs": [
    {
     "name": "stdout",
     "output_type": "stream",
     "text": [
      "            Products      Brand  Price  Stock  BestSeller\n",
      "0   Wireless Earbuds   Soundmax   2580     50        True\n",
      "1         Smartphone   TechNova  32110     30        True\n",
      "2             Laptop   Bytecore  75000     20       False\n",
      "3         SMartWatch  TimeTrack   3500     54        True\n",
      "4  Bluetooth speaker  EchoBhoom   4500     35       False\n"
     ]
    }
   ],
   "source": [
    "print(df)"
   ]
  },
  {
   "cell_type": "code",
   "execution_count": null,
   "id": "a967f604",
   "metadata": {},
   "outputs": [
    {
     "name": "stdout",
     "output_type": "stream",
     "text": [
      "            Products      Brand  Price  Stock  BestSeller\n",
      "0   Wireless Earbuds   Soundmax   2580     50        True\n",
      "1         Smartphone   TechNova  32110     30        True\n",
      "2             Laptop   Bytecore  75000     20       False\n",
      "3         SMartWatch  TimeTrack   3500     54        True\n",
      "4  Bluetooth speaker  EchoBhoom   4500     35       False\n",
      "\n",
      "\n",
      "           Price  Stock\n",
      "Brand                  \n",
      "Bytecore   75000     20\n",
      "EchoBhoom   4500     35\n",
      "Soundmax    2580     50\n",
      "TechNova   32110     30\n",
      "TimeTrack   3500     54\n"
     ]
    }
   ],
   "source": [
    "df_grouped = df.groupby(\"Brand\").agg({\"Price\":\"sum\", \"Stock\":\"sum\"})\n",
    "print(df)\n",
    "print(\"\\n\")\n",
    "print(df_grouped)"
   ]
  },
  {
   "cell_type": "code",
   "execution_count": 29,
   "id": "f307b2d0",
   "metadata": {},
   "outputs": [
    {
     "name": "stdout",
     "output_type": "stream",
     "text": [
      "             Price              \n",
      "              mean    max    min\n",
      "Brand                           \n",
      "Bytecore   75000.0  75000  75000\n",
      "EchoBhoom   4500.0   4500   4500\n",
      "Soundmax    2580.0   2580   2580\n",
      "TechNova   32110.0  32110  32110\n",
      "TimeTrack   3500.0   3500   3500\n"
     ]
    }
   ],
   "source": [
    "df_group = df.groupby(\"Brand\").agg({\"Price\":[\"mean\",\"max\",\"min\"]})\n",
    "\n",
    "print(df_group)"
   ]
  },
  {
   "cell_type": "code",
   "execution_count": 30,
   "id": "1df0eca8",
   "metadata": {},
   "outputs": [
    {
     "name": "stdout",
     "output_type": "stream",
     "text": [
      "Brand\n",
      "Bytecore     75000.0\n",
      "EchoBhoom     4500.0\n",
      "Soundmax      2580.0\n",
      "TechNova     32110.0\n",
      "TimeTrack     3500.0\n",
      "Name: Price, dtype: float64\n"
     ]
    }
   ],
   "source": [
    "grouped = df.groupby(\"Brand\")[\"Price\"].mean()\n",
    "\n",
    "print(grouped)"
   ]
  },
  {
   "cell_type": "code",
   "execution_count": 35,
   "id": "157874ef",
   "metadata": {},
   "outputs": [
    {
     "name": "stdout",
     "output_type": "stream",
     "text": [
      "       Brand  Rating  Discount\n",
      "0   Soundmax     4.2        18\n",
      "1   TechNova     4.5        50\n",
      "2   Bytecore     4.0        56\n",
      "3  TimeTrack     4.1        28\n",
      "4  EchoBhoom     3.9        10\n"
     ]
    }
   ],
   "source": [
    "data2 = {\n",
    "    \"Brand\" : [\"Soundmax\", \"TechNova\", \"Bytecore\", \"TimeTrack\", \"EchoBhoom\"],\n",
    "    \"Rating\" : [4.2, 4.5, 4.0, 4.1, 3.9],\n",
    "    \"Discount\" : [18, 50, 56, 28, 10]\n",
    "}\n",
    "\n",
    "df_ratings = pd.DataFrame(data2)\n",
    "print(df_ratings)"
   ]
  },
  {
   "cell_type": "code",
   "execution_count": 36,
   "id": "cde07499",
   "metadata": {},
   "outputs": [
    {
     "name": "stdout",
     "output_type": "stream",
     "text": [
      "            Products      Brand  Price  Stock  BestSeller  Rating  Discount\n",
      "0   Wireless Earbuds   Soundmax   2580     50        True     4.2        18\n",
      "1         Smartphone   TechNova  32110     30        True     4.5        50\n",
      "2             Laptop   Bytecore  75000     20       False     4.0        56\n",
      "3         SMartWatch  TimeTrack   3500     54        True     4.1        28\n",
      "4  Bluetooth speaker  EchoBhoom   4500     35       False     3.9        10\n"
     ]
    }
   ],
   "source": [
    "df_merge = df.merge(df_ratings, on = \"Brand\")\n",
    "print(df_merge)"
   ]
  },
  {
   "cell_type": "code",
   "execution_count": 40,
   "id": "b4a67cd6",
   "metadata": {},
   "outputs": [
    {
     "name": "stdout",
     "output_type": "stream",
     "text": [
      "            Products      Brand  Price  Stock  BestSeller  Rating  Discount\n",
      "0   Wireless Earbuds   Soundmax   2580     50        True     4.2        18\n",
      "1         Smartphone   TechNova  32110     30        True     4.5        50\n",
      "2             Laptop   Bytecore  75000     20       False     4.0        56\n",
      "3         SMartWatch  TimeTrack   3500     54        True     4.1        28\n",
      "4  Bluetooth speaker  EchoBhoom   4500     35       False     3.9        10\n"
     ]
    }
   ],
   "source": [
    "print(df)"
   ]
  },
  {
   "cell_type": "code",
   "execution_count": null,
   "id": "df6e42d5",
   "metadata": {},
   "outputs": [
    {
     "name": "stdout",
     "output_type": "stream",
     "text": [
      "  Products  Brand  Price  Stock  BestSeller  Rating  Discount\n",
      "0   Tablet  Apple  45000     75        True     4.1        18\n"
     ]
    }
   ],
   "source": [
    "import pandas as pd\n",
    "\n",
    "new_data = {\n",
    "    \"Products\" : \"Tablet\",\n",
    "    \"Brand\" : \"Apple\",\n",
    "    \"Price\" : 45000,\n",
    "    \"Stock\" : 75,\n",
    "    \"BestSeller\" : True,\n",
    "    \"Rating\" : 4.1,\n",
    "    \"Discount\" : 18\n",
    "}\n",
    "\n",
    "df_new = pd.DataFrame([new_data])  \n",
    "print(df_new)\n"
   ]
  },
  {
   "cell_type": "code",
   "execution_count": 56,
   "id": "86e5c33c",
   "metadata": {},
   "outputs": [
    {
     "name": "stdout",
     "output_type": "stream",
     "text": [
      "            Products      Brand  Price  Stock  BestSeller  Rating  Discount\n",
      "0   Wireless Earbuds   Soundmax   2580     50        True     4.2        18\n",
      "1         Smartphone   TechNova  32110     30        True     4.5        50\n",
      "2             Laptop   Bytecore  75000     20       False     4.0        56\n",
      "3         SMartWatch  TimeTrack   3500     54        True     4.1        28\n",
      "4  Bluetooth speaker  EchoBhoom   4500     35       False     3.9        10\n",
      "5             Tablet      Apple  45000     75        True     4.1        18\n",
      "6             Tablet      Apple  45000     75        True     4.1        18\n",
      "********************************************************************************\n",
      "            Products      Brand  Price  Stock  BestSeller  Rating  Discount\n",
      "0   Wireless Earbuds   Soundmax   2580     50        True     4.2        18\n",
      "1         Smartphone   TechNova  32110     30        True     4.5        50\n",
      "2             Laptop   Bytecore  75000     20       False     4.0        56\n",
      "3         SMartWatch  TimeTrack   3500     54        True     4.1        28\n",
      "4  Bluetooth speaker  EchoBhoom   4500     35       False     3.9        10\n",
      "5             Tablet      Apple  45000     75        True     4.1        18\n",
      "6             Tablet      Apple  45000     75        True     4.1        18\n"
     ]
    }
   ],
   "source": [
    "df_concat = pd.concat([df, df_new], ignore_index=True)\n",
    "print(df_concat)\n",
    "print(\"*\"*80)\n",
    "df = df_concat\n",
    "print(df)"
   ]
  },
  {
   "cell_type": "code",
   "execution_count": 54,
   "id": "768bf008",
   "metadata": {},
   "outputs": [
    {
     "name": "stdout",
     "output_type": "stream",
     "text": [
      "0     Wireless Earbuds\n",
      "1           Smartphone\n",
      "2               Laptop\n",
      "3           SMartWatch\n",
      "4    Bluetooth speaker\n",
      "5               Tablet\n",
      "Name: Products, dtype: object\n"
     ]
    }
   ],
   "source": [
    "print(df[\"Products\"])"
   ]
  },
  {
   "cell_type": "code",
   "execution_count": 59,
   "id": "3c501efb",
   "metadata": {},
   "outputs": [
    {
     "name": "stdout",
     "output_type": "stream",
     "text": [
      "            Products      Brand  Stock  Discount\n",
      "0   Wireless Earbuds   Soundmax     50        18\n",
      "1         Smartphone   TechNova     30        50\n",
      "2             Laptop   Bytecore     20        56\n",
      "3         SMartWatch  TimeTrack     54        28\n",
      "4  Bluetooth speaker  EchoBhoom     35        10\n",
      "5             Tablet      Apple     75        18\n",
      "6             Tablet      Apple     75        18\n"
     ]
    }
   ],
   "source": [
    "print(df[[\"Products\",\"Brand\",\"Stock\",\"Discount\"]])"
   ]
  },
  {
   "cell_type": "code",
   "execution_count": 61,
   "id": "d99fb2cb",
   "metadata": {},
   "outputs": [
    {
     "name": "stdout",
     "output_type": "stream",
     "text": [
      "            Products      Brand    Price  Stock  BestSeller  Rating  Discount\n",
      "0   Wireless Earbuds   Soundmax   2580.0     50        True     4.2        18\n",
      "1         Smartphone   TechNova  32110.0     30        True     4.5        50\n",
      "2             Laptop   Bytecore  75000.0     20       False     4.0        56\n",
      "3         SMartWatch  TimeTrack   3500.0     54        True     4.1        28\n",
      "4  Bluetooth speaker  EchoBhoom   4500.0     35       False     3.9        10\n",
      "5             Tablet      Apple  45000.0     75        True     4.1        18\n",
      "6             Tablet      Apple  45000.0     75        True     4.1        18\n"
     ]
    }
   ],
   "source": [
    "df[\"Price\"] = df[\"Price\"].astype(float)\n",
    "print(df)"
   ]
  },
  {
   "cell_type": "code",
   "execution_count": 62,
   "id": "121d5cc1",
   "metadata": {},
   "outputs": [
    {
     "name": "stdout",
     "output_type": "stream",
     "text": [
      "            Products      Brand  Price  Stock  BestSeller  Rating  Discount\n",
      "0   Wireless Earbuds   Soundmax   2580     50        True     4.2        18\n",
      "1         Smartphone   TechNova  32110     30        True     4.5        50\n",
      "2             Laptop   Bytecore  75000     20       False     4.0        56\n",
      "3         SMartWatch  TimeTrack   3500     54        True     4.1        28\n",
      "4  Bluetooth speaker  EchoBhoom   4500     35       False     3.9        10\n",
      "5             Tablet      Apple  45000     75        True     4.1        18\n",
      "6             Tablet      Apple  45000     75        True     4.1        18\n"
     ]
    }
   ],
   "source": [
    "df[\"Price\"] = df[\"Price\"].astype(int)\n",
    "\n",
    "print(df)"
   ]
  },
  {
   "cell_type": "code",
   "execution_count": 64,
   "id": "c065378c",
   "metadata": {},
   "outputs": [
    {
     "name": "stdout",
     "output_type": "stream",
     "text": [
      "            Products      Brand  Price  Stock  BestSeller  Rating  Discount  \\\n",
      "0   Wireless Earbuds   Soundmax   2580     50        True     4.2        18   \n",
      "1         Smartphone   TechNova  32110     30        True     4.5        50   \n",
      "2             Laptop   Bytecore  75000     20       False     4.0        56   \n",
      "3         SMartWatch  TimeTrack   3500     54        True     4.1        28   \n",
      "4  Bluetooth speaker  EchoBhoom   4500     35       False     3.9        10   \n",
      "5             Tablet      Apple  45000     75        True     4.1        18   \n",
      "6             Tablet      Apple  45000     75        True     4.1        18   \n",
      "\n",
      "   Rank  \n",
      "0   7.0  \n",
      "1   4.0  \n",
      "2   1.0  \n",
      "3   6.0  \n",
      "4   5.0  \n",
      "5   2.5  \n",
      "6   2.5  \n",
      "            Products      Brand  Price  Stock  BestSeller  Rating  Discount  \\\n",
      "0   Wireless Earbuds   Soundmax   2580     50        True     4.2        18   \n",
      "3         SMartWatch  TimeTrack   3500     54        True     4.1        28   \n",
      "4  Bluetooth speaker  EchoBhoom   4500     35       False     3.9        10   \n",
      "1         Smartphone   TechNova  32110     30        True     4.5        50   \n",
      "5             Tablet      Apple  45000     75        True     4.1        18   \n",
      "6             Tablet      Apple  45000     75        True     4.1        18   \n",
      "2             Laptop   Bytecore  75000     20       False     4.0        56   \n",
      "\n",
      "   Rank  \n",
      "0   7.0  \n",
      "3   6.0  \n",
      "4   5.0  \n",
      "1   4.0  \n",
      "5   2.5  \n",
      "6   2.5  \n",
      "2   1.0  \n",
      "            Products      Brand  Price  Stock  BestSeller  Rating  Discount  \\\n",
      "2             Laptop   Bytecore  75000     20       False     4.0        56   \n",
      "5             Tablet      Apple  45000     75        True     4.1        18   \n",
      "6             Tablet      Apple  45000     75        True     4.1        18   \n",
      "1         Smartphone   TechNova  32110     30        True     4.5        50   \n",
      "4  Bluetooth speaker  EchoBhoom   4500     35       False     3.9        10   \n",
      "3         SMartWatch  TimeTrack   3500     54        True     4.1        28   \n",
      "0   Wireless Earbuds   Soundmax   2580     50        True     4.2        18   \n",
      "\n",
      "   Rank  \n",
      "2   1.0  \n",
      "5   2.5  \n",
      "6   2.5  \n",
      "1   4.0  \n",
      "4   5.0  \n",
      "3   6.0  \n",
      "0   7.0  \n"
     ]
    }
   ],
   "source": [
    "df[\"Rank\"] = df[\"Price\"].rank(ascending = False )\n",
    "print(df)\n",
    "print(df.sort_values(by = \"Rank\", ascending = False))\n",
    "print(df.sort_values(by = \"Rank\", ascending = True))\n"
   ]
  },
  {
   "cell_type": "code",
   "execution_count": 65,
   "id": "87a94276",
   "metadata": {},
   "outputs": [
    {
     "name": "stdout",
     "output_type": "stream",
     "text": [
      "            Products      Brand  Price  Stock  BestSeller  Rating  Discount  \\\n",
      "0   Wireless Earbuds   Soundmax   2580     50        True     4.2        18   \n",
      "1         Smartphone   TechNova  32110     30        True     4.5        50   \n",
      "2             Laptop   Bytecore  75000     20       False     4.0        56   \n",
      "3         SMartWatch  TimeTrack   3500     54        True     4.1        28   \n",
      "4  Bluetooth speaker  EchoBhoom   4500     35       False     3.9        10   \n",
      "5             Tablet      Apple  45000     75        True     4.1        18   \n",
      "6             Tablet      Apple  45000     75        True     4.1        18   \n",
      "\n",
      "   Rank  \n",
      "0   7.0  \n",
      "1   4.0  \n",
      "2   1.0  \n",
      "3   6.0  \n",
      "4   5.0  \n",
      "5   2.5  \n",
      "6   2.5  \n"
     ]
    }
   ],
   "source": [
    "print(df)"
   ]
  },
  {
   "cell_type": "code",
   "execution_count": 66,
   "id": "9fc5e988",
   "metadata": {},
   "outputs": [
    {
     "name": "stdout",
     "output_type": "stream",
     "text": [
      "            Products      Brand  Price  Stock  BestSeller  Rating  Discount  \\\n",
      "0   Wireless Earbuds   Soundmax   2580     50        True     4.2        18   \n",
      "1         Smartphone   TechNova  32110     30        True     4.5        50   \n",
      "2             Laptop   Bytecore  75000     20       False     4.0        56   \n",
      "3         SMartWatch  TimeTrack   3500     54        True     4.1        28   \n",
      "4  Bluetooth speaker  EchoBhoom   4500     35       False     3.9        10   \n",
      "5             Tablet      Apple  45000     75        True     4.1        18   \n",
      "6             Tablet      Apple  45000     75        True     4.1        18   \n",
      "\n",
      "   Rank  \n",
      "0   1.0  \n",
      "1   4.0  \n",
      "2   7.0  \n",
      "3   2.0  \n",
      "4   3.0  \n",
      "5   5.5  \n",
      "6   5.5  \n"
     ]
    }
   ],
   "source": [
    "df[\"Rank\"] = df[\"Price\"].rank(ascending=True)\n",
    "print(df)"
   ]
  },
  {
   "cell_type": "code",
   "execution_count": 67,
   "id": "619b0b3a",
   "metadata": {},
   "outputs": [
    {
     "name": "stdout",
     "output_type": "stream",
     "text": [
      "            Products      Brand  Price  Stock  BestSeller  Rating  Discount  \\\n",
      "0   Wireless Earbuds   Soundmax   2580     50        True     4.2        18   \n",
      "1         Smartphone   TechNova  32110     30        True     4.5        50   \n",
      "2             Laptop   Bytecore  75000     20       False     4.0        56   \n",
      "3         SMartWatch  TimeTrack   3500     54        True     4.1        28   \n",
      "4  Bluetooth speaker  EchoBhoom   4500     35       False     3.9        10   \n",
      "5             Tablet      Apple  45000     75        True     4.1        18   \n",
      "\n",
      "   Rank  \n",
      "0   1.0  \n",
      "1   4.0  \n",
      "2   7.0  \n",
      "3   2.0  \n",
      "4   3.0  \n",
      "5   5.5  \n"
     ]
    }
   ],
   "source": [
    "df = df.drop(6).reset_index(drop=True)\n",
    "print(df)\n"
   ]
  },
  {
   "cell_type": "code",
   "execution_count": 72,
   "id": "82e05afb",
   "metadata": {},
   "outputs": [
    {
     "name": "stdout",
     "output_type": "stream",
     "text": [
      "   ID     Name  Age\n",
      "0   1    Alice   25\n",
      "1   2      Bob   30\n",
      "0   3  Charlie   25\n",
      "1   4    David   30\n",
      "\n",
      "\n"
     ]
    }
   ],
   "source": [
    "import pandas as pd\n",
    "\n",
    "df1 = pd.DataFrame({\n",
    "    \"ID\":[1,2],\n",
    "    \"Name\" : [\"Alice\",\"Bob\"],\n",
    "    \"Age\" : [25,30]\n",
    "})\n",
    "\n",
    "df2 = pd.DataFrame({\n",
    "    \"ID\":[3,4],\n",
    "    \"Name\":[\"Charlie\",\"David\"],\n",
    "    \"Age\" : [25,30]\n",
    "})\n",
    "\n",
    "df_combined = pd.concat([df1,df2], axis = 0)\n",
    "# df_combined = pd.concat([df1, df2], axis=1)\n",
    "print(df_combined)\n",
    "\n",
    "print(\"\\n\")\n",
    "# print(df_combined)"
   ]
  },
  {
   "cell_type": "code",
   "execution_count": 81,
   "id": "a2eb0c59",
   "metadata": {},
   "outputs": [
    {
     "name": "stdout",
     "output_type": "stream",
     "text": [
      "            Products      Brand  Price  Stock  BestSeller  Rating  Discount\n",
      "0   Wireless Earbuds   Soundmax   2580     50        True     4.2        18\n",
      "1         Smartphone   TechNova  32110     30        True     4.5        50\n",
      "2             Laptop   Bytecore  75000     20       False     4.0        56\n",
      "3         SMartWatch  TimeTrack   3500     54        True     4.1        28\n",
      "4  Bluetooth speaker  EchoBhoom   4500     35       False     3.9        10\n",
      "5             Tablet      Apple  45000     75        True     4.1        18\n"
     ]
    }
   ],
   "source": [
    "print(df)\n",
    "\n",
    "\n"
   ]
  },
  {
   "cell_type": "code",
   "execution_count": 1,
   "id": "3b4178a4",
   "metadata": {},
   "outputs": [
    {
     "ename": "NameError",
     "evalue": "name 'df' is not defined",
     "output_type": "error",
     "traceback": [
      "\u001b[31m---------------------------------------------------------------------------\u001b[39m",
      "\u001b[31mNameError\u001b[39m                                 Traceback (most recent call last)",
      "\u001b[36mCell\u001b[39m\u001b[36m \u001b[39m\u001b[32mIn[1]\u001b[39m\u001b[32m, line 1\u001b[39m\n\u001b[32m----> \u001b[39m\u001b[32m1\u001b[39m pivot_table = \u001b[43mdf\u001b[49m.pivot_table(index=\u001b[33m\"\u001b[39m\u001b[33mBrand\u001b[39m\u001b[33m\"\u001b[39m, values=\u001b[33m\"\u001b[39m\u001b[33mPrice\u001b[39m\u001b[33m\"\u001b[39m, columns =\u001b[33m\"\u001b[39m\u001b[33mStock\u001b[39m\u001b[33m\"\u001b[39m, aggfunc=\u001b[33m\"\u001b[39m\u001b[33mmean\u001b[39m\u001b[33m\"\u001b[39m)\n\u001b[32m      2\u001b[39m \u001b[38;5;28mprint\u001b[39m(pivot_table)\n",
      "\u001b[31mNameError\u001b[39m: name 'df' is not defined"
     ]
    }
   ],
   "source": [
    "pivot_table = df.pivot_table(index=\"Brand\", values=\"Price\", columns =\"Stock\", aggfunc=\"mean\")\n",
    "print(pivot_table)"
   ]
  },
  {
   "cell_type": "code",
   "execution_count": 84,
   "id": "fd00807e",
   "metadata": {},
   "outputs": [
    {
     "name": "stdout",
     "output_type": "stream",
     "text": [
      "            Products      Brand  Price  Stock  BestSeller  Rating  Discount\n",
      "0   Wireless Earbuds   Soundmax   2580     50        True     4.2        18\n",
      "1         Smartphone   TechNova  32110     30        True     4.5        50\n",
      "2             Laptop   Bytecore  75000     20       False     4.0        56\n",
      "3         SMartWatch  TimeTrack   3500     54        True     4.1        28\n",
      "4  Bluetooth speaker  EchoBhoom   4500     35       False     3.9        10\n",
      "5             Tablet      Apple  45000     75        True     4.1        18\n"
     ]
    }
   ],
   "source": [
    "print(df)"
   ]
  },
  {
   "cell_type": "code",
   "execution_count": 83,
   "id": "88d994a2",
   "metadata": {},
   "outputs": [
    {
     "data": {
      "text/html": [
       "<div>\n",
       "<style scoped>\n",
       "    .dataframe tbody tr th:only-of-type {\n",
       "        vertical-align: middle;\n",
       "    }\n",
       "\n",
       "    .dataframe tbody tr th {\n",
       "        vertical-align: top;\n",
       "    }\n",
       "\n",
       "    .dataframe thead th {\n",
       "        text-align: right;\n",
       "    }\n",
       "</style>\n",
       "<table border=\"1\" class=\"dataframe\">\n",
       "  <thead>\n",
       "    <tr style=\"text-align: right;\">\n",
       "      <th>Stock</th>\n",
       "      <th>20</th>\n",
       "      <th>30</th>\n",
       "      <th>35</th>\n",
       "      <th>50</th>\n",
       "      <th>54</th>\n",
       "      <th>75</th>\n",
       "    </tr>\n",
       "    <tr>\n",
       "      <th>Brand</th>\n",
       "      <th></th>\n",
       "      <th></th>\n",
       "      <th></th>\n",
       "      <th></th>\n",
       "      <th></th>\n",
       "      <th></th>\n",
       "    </tr>\n",
       "  </thead>\n",
       "  <tbody>\n",
       "    <tr>\n",
       "      <th>Apple</th>\n",
       "      <td>0</td>\n",
       "      <td>0</td>\n",
       "      <td>0</td>\n",
       "      <td>0</td>\n",
       "      <td>0</td>\n",
       "      <td>1</td>\n",
       "    </tr>\n",
       "    <tr>\n",
       "      <th>Bytecore</th>\n",
       "      <td>1</td>\n",
       "      <td>0</td>\n",
       "      <td>0</td>\n",
       "      <td>0</td>\n",
       "      <td>0</td>\n",
       "      <td>0</td>\n",
       "    </tr>\n",
       "    <tr>\n",
       "      <th>EchoBhoom</th>\n",
       "      <td>0</td>\n",
       "      <td>0</td>\n",
       "      <td>1</td>\n",
       "      <td>0</td>\n",
       "      <td>0</td>\n",
       "      <td>0</td>\n",
       "    </tr>\n",
       "    <tr>\n",
       "      <th>Soundmax</th>\n",
       "      <td>0</td>\n",
       "      <td>0</td>\n",
       "      <td>0</td>\n",
       "      <td>1</td>\n",
       "      <td>0</td>\n",
       "      <td>0</td>\n",
       "    </tr>\n",
       "    <tr>\n",
       "      <th>TechNova</th>\n",
       "      <td>0</td>\n",
       "      <td>1</td>\n",
       "      <td>0</td>\n",
       "      <td>0</td>\n",
       "      <td>0</td>\n",
       "      <td>0</td>\n",
       "    </tr>\n",
       "    <tr>\n",
       "      <th>TimeTrack</th>\n",
       "      <td>0</td>\n",
       "      <td>0</td>\n",
       "      <td>0</td>\n",
       "      <td>0</td>\n",
       "      <td>1</td>\n",
       "      <td>0</td>\n",
       "    </tr>\n",
       "  </tbody>\n",
       "</table>\n",
       "</div>"
      ],
      "text/plain": [
       "Stock      20  30  35  50  54  75\n",
       "Brand                            \n",
       "Apple       0   0   0   0   0   1\n",
       "Bytecore    1   0   0   0   0   0\n",
       "EchoBhoom   0   0   1   0   0   0\n",
       "Soundmax    0   0   0   1   0   0\n",
       "TechNova    0   1   0   0   0   0\n",
       "TimeTrack   0   0   0   0   1   0"
      ]
     },
     "execution_count": 83,
     "metadata": {},
     "output_type": "execute_result"
    }
   ],
   "source": [
    "pd.crosstab(df[\"Brand\"],df[\"Stock\"])"
   ]
  },
  {
   "cell_type": "code",
   "execution_count": 5,
   "id": "4a90376d",
   "metadata": {},
   "outputs": [
    {
     "name": "stdout",
     "output_type": "stream",
     "text": [
      "            Products      Brand  Price  Stock  BestSeller\n",
      "0   Wireless Earbuds   Soundmax   2580     50        True\n",
      "1         Smartphone   TechNova  32110     30        True\n",
      "2             Laptop   Bytecore  75000     20       False\n",
      "3         SMartWatch  TimeTrack   3500     54        True\n",
      "4  Bluetooth speaker  EchoBhoom   4500     35       False\n"
     ]
    }
   ],
   "source": [
    "import pandas as pd\n",
    "\n",
    "\n",
    "data = {\n",
    "    \"Products\" : [\"Wireless Earbuds\", \"Smartphone\", \"Laptop\", \"SMartWatch\", \"Bluetooth speaker\"],\n",
    "    \"Brand\" : [\"Soundmax\", \"TechNova\", \"Bytecore\", \"TimeTrack\", \"EchoBhoom\"],\n",
    "    \"Price\" : [2580, 32110, 75000, 3500, 4500],\n",
    "    \"Stock\" : [50, 30, 20, 54, 35],\n",
    "    \"BestSeller\" : [True, True, False, True, False] \n",
    "}\n",
    "\n",
    "df = pd.DataFrame(data)\n",
    "\n",
    "print(df)"
   ]
  },
  {
   "cell_type": "code",
   "execution_count": 15,
   "id": "a09dabeb",
   "metadata": {},
   "outputs": [
    {
     "name": "stdout",
     "output_type": "stream",
     "text": [
      "  Purchase Date     Product  Prices  Quantity\n",
      "0    2024-01-15      Laptop   50000         2\n",
      "1    2024-01-20  Smartphone   30000         1\n",
      "2    2024-02-05      Tablet   20000         3\n",
      "3    2024-02-18  Smartwatch   15000         2\n",
      "4    2024-03-10  Headphones    5000         4\n"
     ]
    }
   ],
   "source": [
    "import pandas as pd\n",
    "\n",
    "data = {\n",
    "    \"Purchase Date\": [\"2024-01-15\", \"2024-01-20\", \"2024-02-05\", \"2024-02-18\", \"2024-03-10\"],\n",
    "    \"Product\" : [\"Laptop\",\"Smartphone\",\"Tablet\",\"Smartwatch\",\"Headphones\"],\n",
    "    \"Prices\" : [50000,30000,20000,15000,5000],\n",
    "    \"Quantity\" : [2, 1, 3, 2, 4]\n",
    "}\n",
    "\n",
    "df_sales = pd.DataFrame(data)\n",
    "\n",
    "print(df_sales)"
   ]
  },
  {
   "cell_type": "code",
   "execution_count": 7,
   "id": "981a8fc7",
   "metadata": {},
   "outputs": [
    {
     "name": "stdout",
     "output_type": "stream",
     "text": [
      "            Products      Brand  Price  Stock  BestSeller\n",
      "0   Wireless Earbuds   Soundmax   2580     50        True\n",
      "1         Smartphone   TechNova  32110     30        True\n",
      "2             Laptop   Bytecore  75000     20       False\n",
      "3         SMartWatch  TimeTrack   3500     54        True\n",
      "4  Bluetooth speaker  EchoBhoom   4500     35       False\n"
     ]
    }
   ],
   "source": [
    "print(df)"
   ]
  },
  {
   "cell_type": "code",
   "execution_count": 8,
   "id": "1460bde6",
   "metadata": {},
   "outputs": [
    {
     "name": "stdout",
     "output_type": "stream",
     "text": [
      "  Purchase Date     Product  Prices  Quantity\n",
      "0    2024-01-15      Laptop   50000         2\n",
      "1    2024-01-20  Smartphone   30000         1\n",
      "2    2024-02-05      Tablet   20000         3\n",
      "3    2024-02-18  Smartwatch   15000         2\n",
      "4    2024-03-10  Headphones    5000         4\n"
     ]
    }
   ],
   "source": [
    "print(df_sales)"
   ]
  },
  {
   "cell_type": "code",
   "execution_count": null,
   "id": "3045daad",
   "metadata": {},
   "outputs": [],
   "source": [
    "import pandas as pd\n",
    "\n",
    "data = {\n",
    "    \"Purchase Date\": [\"2024-01-15\", \"2024-01-20\", \"2024-02-05\", \"2024-02-18\", \"2024-03-10\"],\n",
    "    \"Product\" : [\"Laptop\",\"Smartphone\",\"Tablet\",\"Smartwatch\",\"Headphones\"],\n",
    "    \"Prices\" : [50000,30000,20000,15000,5000],\n",
    "    \"Quantity\" : [2, 1, 3, 2, 4]\n",
    "}\n",
    "\n",
    "df_sales = pd.DataFrame(data)"
   ]
  },
  {
   "cell_type": "code",
   "execution_count": 28,
   "id": "daed8b92",
   "metadata": {},
   "outputs": [
    {
     "ename": "KeyError",
     "evalue": "'Purchase Date'",
     "output_type": "error",
     "traceback": [
      "\u001b[31m---------------------------------------------------------------------------\u001b[39m",
      "\u001b[31mKeyError\u001b[39m                                  Traceback (most recent call last)",
      "\u001b[36mFile \u001b[39m\u001b[32mc:\\Users\\V SHANMUKH\\AppData\\Local\\Programs\\Python\\Python312\\Lib\\site-packages\\pandas\\core\\indexes\\base.py:3805\u001b[39m, in \u001b[36mIndex.get_loc\u001b[39m\u001b[34m(self, key)\u001b[39m\n\u001b[32m   3804\u001b[39m \u001b[38;5;28;01mtry\u001b[39;00m:\n\u001b[32m-> \u001b[39m\u001b[32m3805\u001b[39m     \u001b[38;5;28;01mreturn\u001b[39;00m \u001b[38;5;28;43mself\u001b[39;49m\u001b[43m.\u001b[49m\u001b[43m_engine\u001b[49m\u001b[43m.\u001b[49m\u001b[43mget_loc\u001b[49m\u001b[43m(\u001b[49m\u001b[43mcasted_key\u001b[49m\u001b[43m)\u001b[49m\n\u001b[32m   3806\u001b[39m \u001b[38;5;28;01mexcept\u001b[39;00m \u001b[38;5;167;01mKeyError\u001b[39;00m \u001b[38;5;28;01mas\u001b[39;00m err:\n",
      "\u001b[36mFile \u001b[39m\u001b[32mindex.pyx:167\u001b[39m, in \u001b[36mpandas._libs.index.IndexEngine.get_loc\u001b[39m\u001b[34m()\u001b[39m\n",
      "\u001b[36mFile \u001b[39m\u001b[32mindex.pyx:196\u001b[39m, in \u001b[36mpandas._libs.index.IndexEngine.get_loc\u001b[39m\u001b[34m()\u001b[39m\n",
      "\u001b[36mFile \u001b[39m\u001b[32mpandas\\\\_libs\\\\hashtable_class_helper.pxi:7081\u001b[39m, in \u001b[36mpandas._libs.hashtable.PyObjectHashTable.get_item\u001b[39m\u001b[34m()\u001b[39m\n",
      "\u001b[36mFile \u001b[39m\u001b[32mpandas\\\\_libs\\\\hashtable_class_helper.pxi:7089\u001b[39m, in \u001b[36mpandas._libs.hashtable.PyObjectHashTable.get_item\u001b[39m\u001b[34m()\u001b[39m\n",
      "\u001b[31mKeyError\u001b[39m: 'Purchase Date'",
      "\nThe above exception was the direct cause of the following exception:\n",
      "\u001b[31mKeyError\u001b[39m                                  Traceback (most recent call last)",
      "\u001b[36mCell\u001b[39m\u001b[36m \u001b[39m\u001b[32mIn[28]\u001b[39m\u001b[32m, line 1\u001b[39m\n\u001b[32m----> \u001b[39m\u001b[32m1\u001b[39m df_sales[\u001b[33m\"\u001b[39m\u001b[33mPurchase Date\u001b[39m\u001b[33m\"\u001b[39m] = pd.to_datetime(\u001b[43mdf_sales\u001b[49m\u001b[43m[\u001b[49m\u001b[33;43m\"\u001b[39;49m\u001b[33;43mPurchase Date\u001b[39;49m\u001b[33;43m\"\u001b[39;49m\u001b[43m]\u001b[49m)\n\u001b[32m      3\u001b[39m df_sales.set_index(\u001b[33m\"\u001b[39m\u001b[33mPurchase Date\u001b[39m\u001b[33m\"\u001b[39m, inplace=\u001b[38;5;28;01mTrue\u001b[39;00m)\n\u001b[32m      5\u001b[39m daily_avg = df_sales.resample(\u001b[33m\"\u001b[39m\u001b[33mD\u001b[39m\u001b[33m\"\u001b[39m).mean(numeric_only=\u001b[38;5;28;01mTrue\u001b[39;00m)\n",
      "\u001b[36mFile \u001b[39m\u001b[32mc:\\Users\\V SHANMUKH\\AppData\\Local\\Programs\\Python\\Python312\\Lib\\site-packages\\pandas\\core\\frame.py:4102\u001b[39m, in \u001b[36mDataFrame.__getitem__\u001b[39m\u001b[34m(self, key)\u001b[39m\n\u001b[32m   4100\u001b[39m \u001b[38;5;28;01mif\u001b[39;00m \u001b[38;5;28mself\u001b[39m.columns.nlevels > \u001b[32m1\u001b[39m:\n\u001b[32m   4101\u001b[39m     \u001b[38;5;28;01mreturn\u001b[39;00m \u001b[38;5;28mself\u001b[39m._getitem_multilevel(key)\n\u001b[32m-> \u001b[39m\u001b[32m4102\u001b[39m indexer = \u001b[38;5;28;43mself\u001b[39;49m\u001b[43m.\u001b[49m\u001b[43mcolumns\u001b[49m\u001b[43m.\u001b[49m\u001b[43mget_loc\u001b[49m\u001b[43m(\u001b[49m\u001b[43mkey\u001b[49m\u001b[43m)\u001b[49m\n\u001b[32m   4103\u001b[39m \u001b[38;5;28;01mif\u001b[39;00m is_integer(indexer):\n\u001b[32m   4104\u001b[39m     indexer = [indexer]\n",
      "\u001b[36mFile \u001b[39m\u001b[32mc:\\Users\\V SHANMUKH\\AppData\\Local\\Programs\\Python\\Python312\\Lib\\site-packages\\pandas\\core\\indexes\\base.py:3812\u001b[39m, in \u001b[36mIndex.get_loc\u001b[39m\u001b[34m(self, key)\u001b[39m\n\u001b[32m   3807\u001b[39m     \u001b[38;5;28;01mif\u001b[39;00m \u001b[38;5;28misinstance\u001b[39m(casted_key, \u001b[38;5;28mslice\u001b[39m) \u001b[38;5;129;01mor\u001b[39;00m (\n\u001b[32m   3808\u001b[39m         \u001b[38;5;28misinstance\u001b[39m(casted_key, abc.Iterable)\n\u001b[32m   3809\u001b[39m         \u001b[38;5;129;01mand\u001b[39;00m \u001b[38;5;28many\u001b[39m(\u001b[38;5;28misinstance\u001b[39m(x, \u001b[38;5;28mslice\u001b[39m) \u001b[38;5;28;01mfor\u001b[39;00m x \u001b[38;5;129;01min\u001b[39;00m casted_key)\n\u001b[32m   3810\u001b[39m     ):\n\u001b[32m   3811\u001b[39m         \u001b[38;5;28;01mraise\u001b[39;00m InvalidIndexError(key)\n\u001b[32m-> \u001b[39m\u001b[32m3812\u001b[39m     \u001b[38;5;28;01mraise\u001b[39;00m \u001b[38;5;167;01mKeyError\u001b[39;00m(key) \u001b[38;5;28;01mfrom\u001b[39;00m\u001b[38;5;250m \u001b[39m\u001b[34;01merr\u001b[39;00m\n\u001b[32m   3813\u001b[39m \u001b[38;5;28;01mexcept\u001b[39;00m \u001b[38;5;167;01mTypeError\u001b[39;00m:\n\u001b[32m   3814\u001b[39m     \u001b[38;5;66;03m# If we have a listlike key, _check_indexing_error will raise\u001b[39;00m\n\u001b[32m   3815\u001b[39m     \u001b[38;5;66;03m#  InvalidIndexError. Otherwise we fall through and re-raise\u001b[39;00m\n\u001b[32m   3816\u001b[39m     \u001b[38;5;66;03m#  the TypeError.\u001b[39;00m\n\u001b[32m   3817\u001b[39m     \u001b[38;5;28mself\u001b[39m._check_indexing_error(key)\n",
      "\u001b[31mKeyError\u001b[39m: 'Purchase Date'"
     ]
    }
   ],
   "source": [
    "df_sales[\"Purchase Date\"] = pd.to_datetime(df_sales[\"Purchase Date\"])\n",
    "\n",
    "df_sales.set_index(\"Purchase Date\", inplace=True)\n",
    "\n",
    "daily_avg = df_sales.resample(\"D\").mean(numeric_only=True)\n",
    "\n",
    "print(daily_avg.head(15))"
   ]
  },
  {
   "cell_type": "code",
   "execution_count": 24,
   "id": "44684d28",
   "metadata": {},
   "outputs": [
    {
     "name": "stdout",
     "output_type": "stream",
     "text": [
      "\n",
      " ----weekly---- Average\n",
      "                Prices  Quantity\n",
      "Purchase Date                   \n",
      "2024-01-21     40000.0       1.5\n",
      "2024-01-28         NaN       NaN\n",
      "2024-02-04         NaN       NaN\n",
      "2024-02-11     20000.0       3.0\n",
      "2024-02-18     15000.0       2.0\n",
      "2024-02-25         NaN       NaN\n",
      "2024-03-03         NaN       NaN\n",
      "2024-03-10      5000.0       4.0\n"
     ]
    }
   ],
   "source": [
    "weekly_avg = df_sales.resample(\"W\").mean(numeric_only=True)\n",
    "\n",
    "\n",
    "print(\"\\n ----weekly---- Average\")\n",
    "\n",
    "print(weekly_avg)"
   ]
  },
  {
   "cell_type": "code",
   "execution_count": 23,
   "id": "224c160b",
   "metadata": {},
   "outputs": [
    {
     "name": "stdout",
     "output_type": "stream",
     "text": [
      "\n",
      " ----Monthly---- Average\n",
      "                Prices  Quantity\n",
      "Purchase Date                   \n",
      "2024-01-31     40000.0       1.5\n",
      "2024-02-29     17500.0       2.5\n",
      "2024-03-31      5000.0       4.0\n"
     ]
    },
    {
     "name": "stderr",
     "output_type": "stream",
     "text": [
      "C:\\Users\\V SHANMUKH\\AppData\\Local\\Temp\\ipykernel_66160\\3937554009.py:1: FutureWarning: 'M' is deprecated and will be removed in a future version, please use 'ME' instead.\n",
      "  Monthly_avg = df_sales.resample(\"M\").mean(numeric_only=True)\n"
     ]
    }
   ],
   "source": [
    "Monthly_avg = df_sales.resample(\"M\").mean(numeric_only=True)\n",
    "\n",
    "\n",
    "print(\"\\n ----Monthly---- Average\")\n",
    "\n",
    "print(Monthly_avg)"
   ]
  },
  {
   "cell_type": "code",
   "execution_count": 22,
   "id": "5a4bba43",
   "metadata": {},
   "outputs": [
    {
     "name": "stdout",
     "output_type": "stream",
     "text": [
      "\n",
      " ----Quaterly---- Average\n",
      "                Prices  Quantity\n",
      "Purchase Date                   \n",
      "2024-03-31     24000.0       2.4\n"
     ]
    },
    {
     "name": "stderr",
     "output_type": "stream",
     "text": [
      "C:\\Users\\V SHANMUKH\\AppData\\Local\\Temp\\ipykernel_66160\\2767022152.py:1: FutureWarning: 'Q' is deprecated and will be removed in a future version, please use 'QE' instead.\n",
      "  Quaterly_avg = df_sales.resample(\"Q\").mean(numeric_only=True)\n"
     ]
    }
   ],
   "source": [
    "Quaterly_avg = df_sales.resample(\"Q\").mean(numeric_only=True)\n",
    "\n",
    "print(\"\\n ----Quaterly---- Average\")\n",
    "\n",
    "print(Quaterly_avg)"
   ]
  },
  {
   "cell_type": "code",
   "execution_count": 21,
   "id": "4a5d4c6f",
   "metadata": {},
   "outputs": [
    {
     "name": "stdout",
     "output_type": "stream",
     "text": [
      "\n",
      " ----Yearly---- Average\n",
      "                Prices  Quantity\n",
      "Purchase Date                   \n",
      "2024-12-31     24000.0       2.4\n"
     ]
    },
    {
     "name": "stderr",
     "output_type": "stream",
     "text": [
      "C:\\Users\\V SHANMUKH\\AppData\\Local\\Temp\\ipykernel_66160\\1076390496.py:1: FutureWarning: 'Y' is deprecated and will be removed in a future version, please use 'YE' instead.\n",
      "  Yearly_avg = df_sales.resample(\"Y\").mean(numeric_only=True)\n"
     ]
    }
   ],
   "source": [
    "Yearly_avg = df_sales.resample(\"Y\").mean(numeric_only=True)\n",
    "\n",
    "print(\"\\n ----Yearly---- Average\")\n",
    "\n",
    "print(Yearly_avg)"
   ]
  },
  {
   "cell_type": "code",
   "execution_count": 32,
   "id": "f2959e6f",
   "metadata": {},
   "outputs": [
    {
     "name": "stdout",
     "output_type": "stream",
     "text": [
      "Original DatFrame with Missing Values\n",
      "     A    B     C\n",
      "0  1.0  NaN  10.0\n",
      "1  2.0  2.0   NaN\n",
      "2  NaN  3.0   NaN\n",
      "3  4.0  NaN  40.0\n",
      "4  5.0  5.0  50.0\n"
     ]
    }
   ],
   "source": [
    "import pandas as pd\n",
    "\n",
    "import numpy as np \n",
    "\n",
    "\n",
    "data = {\n",
    "    \"A\" : [1, 2, np.nan, 4, 5],\n",
    "    \"B\" : [np.nan, 2, 3, np.nan, 5],\n",
    "    \"C\" : [10, np.nan, np.nan, 40, 50]\n",
    "}\n",
    "\n",
    "\n",
    "df = pd.DataFrame(data)\n",
    "print(\"Original DatFrame with Missing Values\")\n",
    "print(df)"
   ]
  },
  {
   "cell_type": "code",
   "execution_count": 35,
   "id": "b8a315a0",
   "metadata": {},
   "outputs": [
    {
     "name": "stdout",
     "output_type": "stream",
     "text": [
      "\n",
      " Data Frame after filling NaN using interpolation\n",
      "     A    B     C\n",
      "0  1.0  NaN  10.0\n",
      "1  2.0  2.0  20.0\n",
      "2  3.0  3.0  30.0\n",
      "3  4.0  4.0  40.0\n",
      "4  5.0  5.0  50.0\n"
     ]
    }
   ],
   "source": [
    "df_interpolate = df.interpolate()\n",
    "print(\"\\n Data Frame after filling NaN using interpolation\")\n",
    "print(df_interpolate)"
   ]
  },
  {
   "cell_type": "code",
   "execution_count": 34,
   "id": "3e086099",
   "metadata": {},
   "outputs": [
    {
     "name": "stdout",
     "output_type": "stream",
     "text": [
      "     A    B     C\n",
      "4  5.0  5.0  50.0\n"
     ]
    }
   ],
   "source": [
    "df_dropno = df.dropna()\n",
    "\n",
    "print(df_dropno)"
   ]
  },
  {
   "cell_type": "code",
   "execution_count": 36,
   "id": "8db338e0",
   "metadata": {},
   "outputs": [
    {
     "name": "stdout",
     "output_type": "stream",
     "text": [
      "     A    B     C\n",
      "0  1.0  5.0  10.0\n",
      "1  2.0  2.0   5.0\n",
      "2  5.0  3.0   5.0\n",
      "3  4.0  5.0  40.0\n",
      "4  5.0  5.0  50.0\n"
     ]
    }
   ],
   "source": [
    "df_fillna = df.fillna(5)\n",
    "\n",
    "print(df_fillna)"
   ]
  },
  {
   "cell_type": "code",
   "execution_count": 38,
   "id": "9ec7de48",
   "metadata": {},
   "outputs": [
    {
     "ename": "ModuleNotFoundError",
     "evalue": "No module named 'google'",
     "output_type": "error",
     "traceback": [
      "\u001b[31m---------------------------------------------------------------------------\u001b[39m",
      "\u001b[31mModuleNotFoundError\u001b[39m                       Traceback (most recent call last)",
      "\u001b[36mCell\u001b[39m\u001b[36m \u001b[39m\u001b[32mIn[38]\u001b[39m\u001b[32m, line 1\u001b[39m\n\u001b[32m----> \u001b[39m\u001b[32m1\u001b[39m \u001b[38;5;28;01mfrom\u001b[39;00m\u001b[38;5;250m \u001b[39m\u001b[34;01mgoogle\u001b[39;00m\u001b[34;01m.\u001b[39;00m\u001b[34;01mcollab\u001b[39;00m\u001b[38;5;250m \u001b[39m\u001b[38;5;28;01mimport\u001b[39;00m files\n\u001b[32m      3\u001b[39m uploading = files.upload()\n",
      "\u001b[31mModuleNotFoundError\u001b[39m: No module named 'google'"
     ]
    }
   ],
   "source": [
    "from google.collab import files\n",
    "\n",
    "uploading = files.upload()\n"
   ]
  },
  {
   "cell_type": "code",
   "execution_count": 37,
   "id": "1c9fe7b8",
   "metadata": {},
   "outputs": [
    {
     "ename": "FileNotFoundError",
     "evalue": "[Errno 2] No such file or directory: 'dsad.csv'",
     "output_type": "error",
     "traceback": [
      "\u001b[31m---------------------------------------------------------------------------\u001b[39m",
      "\u001b[31mFileNotFoundError\u001b[39m                         Traceback (most recent call last)",
      "\u001b[36mCell\u001b[39m\u001b[36m \u001b[39m\u001b[32mIn[37]\u001b[39m\u001b[32m, line 3\u001b[39m\n\u001b[32m      1\u001b[39m \u001b[38;5;28;01mimport\u001b[39;00m\u001b[38;5;250m \u001b[39m\u001b[34;01mpandas\u001b[39;00m\u001b[38;5;250m \u001b[39m\u001b[38;5;28;01mas\u001b[39;00m\u001b[38;5;250m \u001b[39m\u001b[34;01mpd\u001b[39;00m\n\u001b[32m----> \u001b[39m\u001b[32m3\u001b[39m df = \u001b[43mpd\u001b[49m\u001b[43m.\u001b[49m\u001b[43mread_csv\u001b[49m\u001b[43m(\u001b[49m\u001b[33;43m\"\u001b[39;49m\u001b[33;43mdsad.csv\u001b[39;49m\u001b[33;43m\"\u001b[39;49m\u001b[43m)\u001b[49m\n\u001b[32m      4\u001b[39m \u001b[38;5;28mprint\u001b[39m(df.tail(\u001b[32m2\u001b[39m))\n",
      "\u001b[36mFile \u001b[39m\u001b[32mc:\\Users\\V SHANMUKH\\AppData\\Local\\Programs\\Python\\Python312\\Lib\\site-packages\\pandas\\io\\parsers\\readers.py:1026\u001b[39m, in \u001b[36mread_csv\u001b[39m\u001b[34m(filepath_or_buffer, sep, delimiter, header, names, index_col, usecols, dtype, engine, converters, true_values, false_values, skipinitialspace, skiprows, skipfooter, nrows, na_values, keep_default_na, na_filter, verbose, skip_blank_lines, parse_dates, infer_datetime_format, keep_date_col, date_parser, date_format, dayfirst, cache_dates, iterator, chunksize, compression, thousands, decimal, lineterminator, quotechar, quoting, doublequote, escapechar, comment, encoding, encoding_errors, dialect, on_bad_lines, delim_whitespace, low_memory, memory_map, float_precision, storage_options, dtype_backend)\u001b[39m\n\u001b[32m   1013\u001b[39m kwds_defaults = _refine_defaults_read(\n\u001b[32m   1014\u001b[39m     dialect,\n\u001b[32m   1015\u001b[39m     delimiter,\n\u001b[32m   (...)\u001b[39m\u001b[32m   1022\u001b[39m     dtype_backend=dtype_backend,\n\u001b[32m   1023\u001b[39m )\n\u001b[32m   1024\u001b[39m kwds.update(kwds_defaults)\n\u001b[32m-> \u001b[39m\u001b[32m1026\u001b[39m \u001b[38;5;28;01mreturn\u001b[39;00m \u001b[43m_read\u001b[49m\u001b[43m(\u001b[49m\u001b[43mfilepath_or_buffer\u001b[49m\u001b[43m,\u001b[49m\u001b[43m \u001b[49m\u001b[43mkwds\u001b[49m\u001b[43m)\u001b[49m\n",
      "\u001b[36mFile \u001b[39m\u001b[32mc:\\Users\\V SHANMUKH\\AppData\\Local\\Programs\\Python\\Python312\\Lib\\site-packages\\pandas\\io\\parsers\\readers.py:620\u001b[39m, in \u001b[36m_read\u001b[39m\u001b[34m(filepath_or_buffer, kwds)\u001b[39m\n\u001b[32m    617\u001b[39m _validate_names(kwds.get(\u001b[33m\"\u001b[39m\u001b[33mnames\u001b[39m\u001b[33m\"\u001b[39m, \u001b[38;5;28;01mNone\u001b[39;00m))\n\u001b[32m    619\u001b[39m \u001b[38;5;66;03m# Create the parser.\u001b[39;00m\n\u001b[32m--> \u001b[39m\u001b[32m620\u001b[39m parser = \u001b[43mTextFileReader\u001b[49m\u001b[43m(\u001b[49m\u001b[43mfilepath_or_buffer\u001b[49m\u001b[43m,\u001b[49m\u001b[43m \u001b[49m\u001b[43m*\u001b[49m\u001b[43m*\u001b[49m\u001b[43mkwds\u001b[49m\u001b[43m)\u001b[49m\n\u001b[32m    622\u001b[39m \u001b[38;5;28;01mif\u001b[39;00m chunksize \u001b[38;5;129;01mor\u001b[39;00m iterator:\n\u001b[32m    623\u001b[39m     \u001b[38;5;28;01mreturn\u001b[39;00m parser\n",
      "\u001b[36mFile \u001b[39m\u001b[32mc:\\Users\\V SHANMUKH\\AppData\\Local\\Programs\\Python\\Python312\\Lib\\site-packages\\pandas\\io\\parsers\\readers.py:1620\u001b[39m, in \u001b[36mTextFileReader.__init__\u001b[39m\u001b[34m(self, f, engine, **kwds)\u001b[39m\n\u001b[32m   1617\u001b[39m     \u001b[38;5;28mself\u001b[39m.options[\u001b[33m\"\u001b[39m\u001b[33mhas_index_names\u001b[39m\u001b[33m\"\u001b[39m] = kwds[\u001b[33m\"\u001b[39m\u001b[33mhas_index_names\u001b[39m\u001b[33m\"\u001b[39m]\n\u001b[32m   1619\u001b[39m \u001b[38;5;28mself\u001b[39m.handles: IOHandles | \u001b[38;5;28;01mNone\u001b[39;00m = \u001b[38;5;28;01mNone\u001b[39;00m\n\u001b[32m-> \u001b[39m\u001b[32m1620\u001b[39m \u001b[38;5;28mself\u001b[39m._engine = \u001b[38;5;28;43mself\u001b[39;49m\u001b[43m.\u001b[49m\u001b[43m_make_engine\u001b[49m\u001b[43m(\u001b[49m\u001b[43mf\u001b[49m\u001b[43m,\u001b[49m\u001b[43m \u001b[49m\u001b[38;5;28;43mself\u001b[39;49m\u001b[43m.\u001b[49m\u001b[43mengine\u001b[49m\u001b[43m)\u001b[49m\n",
      "\u001b[36mFile \u001b[39m\u001b[32mc:\\Users\\V SHANMUKH\\AppData\\Local\\Programs\\Python\\Python312\\Lib\\site-packages\\pandas\\io\\parsers\\readers.py:1880\u001b[39m, in \u001b[36mTextFileReader._make_engine\u001b[39m\u001b[34m(self, f, engine)\u001b[39m\n\u001b[32m   1878\u001b[39m     \u001b[38;5;28;01mif\u001b[39;00m \u001b[33m\"\u001b[39m\u001b[33mb\u001b[39m\u001b[33m\"\u001b[39m \u001b[38;5;129;01mnot\u001b[39;00m \u001b[38;5;129;01min\u001b[39;00m mode:\n\u001b[32m   1879\u001b[39m         mode += \u001b[33m\"\u001b[39m\u001b[33mb\u001b[39m\u001b[33m\"\u001b[39m\n\u001b[32m-> \u001b[39m\u001b[32m1880\u001b[39m \u001b[38;5;28mself\u001b[39m.handles = \u001b[43mget_handle\u001b[49m\u001b[43m(\u001b[49m\n\u001b[32m   1881\u001b[39m \u001b[43m    \u001b[49m\u001b[43mf\u001b[49m\u001b[43m,\u001b[49m\n\u001b[32m   1882\u001b[39m \u001b[43m    \u001b[49m\u001b[43mmode\u001b[49m\u001b[43m,\u001b[49m\n\u001b[32m   1883\u001b[39m \u001b[43m    \u001b[49m\u001b[43mencoding\u001b[49m\u001b[43m=\u001b[49m\u001b[38;5;28;43mself\u001b[39;49m\u001b[43m.\u001b[49m\u001b[43moptions\u001b[49m\u001b[43m.\u001b[49m\u001b[43mget\u001b[49m\u001b[43m(\u001b[49m\u001b[33;43m\"\u001b[39;49m\u001b[33;43mencoding\u001b[39;49m\u001b[33;43m\"\u001b[39;49m\u001b[43m,\u001b[49m\u001b[43m \u001b[49m\u001b[38;5;28;43;01mNone\u001b[39;49;00m\u001b[43m)\u001b[49m\u001b[43m,\u001b[49m\n\u001b[32m   1884\u001b[39m \u001b[43m    \u001b[49m\u001b[43mcompression\u001b[49m\u001b[43m=\u001b[49m\u001b[38;5;28;43mself\u001b[39;49m\u001b[43m.\u001b[49m\u001b[43moptions\u001b[49m\u001b[43m.\u001b[49m\u001b[43mget\u001b[49m\u001b[43m(\u001b[49m\u001b[33;43m\"\u001b[39;49m\u001b[33;43mcompression\u001b[39;49m\u001b[33;43m\"\u001b[39;49m\u001b[43m,\u001b[49m\u001b[43m \u001b[49m\u001b[38;5;28;43;01mNone\u001b[39;49;00m\u001b[43m)\u001b[49m\u001b[43m,\u001b[49m\n\u001b[32m   1885\u001b[39m \u001b[43m    \u001b[49m\u001b[43mmemory_map\u001b[49m\u001b[43m=\u001b[49m\u001b[38;5;28;43mself\u001b[39;49m\u001b[43m.\u001b[49m\u001b[43moptions\u001b[49m\u001b[43m.\u001b[49m\u001b[43mget\u001b[49m\u001b[43m(\u001b[49m\u001b[33;43m\"\u001b[39;49m\u001b[33;43mmemory_map\u001b[39;49m\u001b[33;43m\"\u001b[39;49m\u001b[43m,\u001b[49m\u001b[43m \u001b[49m\u001b[38;5;28;43;01mFalse\u001b[39;49;00m\u001b[43m)\u001b[49m\u001b[43m,\u001b[49m\n\u001b[32m   1886\u001b[39m \u001b[43m    \u001b[49m\u001b[43mis_text\u001b[49m\u001b[43m=\u001b[49m\u001b[43mis_text\u001b[49m\u001b[43m,\u001b[49m\n\u001b[32m   1887\u001b[39m \u001b[43m    \u001b[49m\u001b[43merrors\u001b[49m\u001b[43m=\u001b[49m\u001b[38;5;28;43mself\u001b[39;49m\u001b[43m.\u001b[49m\u001b[43moptions\u001b[49m\u001b[43m.\u001b[49m\u001b[43mget\u001b[49m\u001b[43m(\u001b[49m\u001b[33;43m\"\u001b[39;49m\u001b[33;43mencoding_errors\u001b[39;49m\u001b[33;43m\"\u001b[39;49m\u001b[43m,\u001b[49m\u001b[43m \u001b[49m\u001b[33;43m\"\u001b[39;49m\u001b[33;43mstrict\u001b[39;49m\u001b[33;43m\"\u001b[39;49m\u001b[43m)\u001b[49m\u001b[43m,\u001b[49m\n\u001b[32m   1888\u001b[39m \u001b[43m    \u001b[49m\u001b[43mstorage_options\u001b[49m\u001b[43m=\u001b[49m\u001b[38;5;28;43mself\u001b[39;49m\u001b[43m.\u001b[49m\u001b[43moptions\u001b[49m\u001b[43m.\u001b[49m\u001b[43mget\u001b[49m\u001b[43m(\u001b[49m\u001b[33;43m\"\u001b[39;49m\u001b[33;43mstorage_options\u001b[39;49m\u001b[33;43m\"\u001b[39;49m\u001b[43m,\u001b[49m\u001b[43m \u001b[49m\u001b[38;5;28;43;01mNone\u001b[39;49;00m\u001b[43m)\u001b[49m\u001b[43m,\u001b[49m\n\u001b[32m   1889\u001b[39m \u001b[43m\u001b[49m\u001b[43m)\u001b[49m\n\u001b[32m   1890\u001b[39m \u001b[38;5;28;01massert\u001b[39;00m \u001b[38;5;28mself\u001b[39m.handles \u001b[38;5;129;01mis\u001b[39;00m \u001b[38;5;129;01mnot\u001b[39;00m \u001b[38;5;28;01mNone\u001b[39;00m\n\u001b[32m   1891\u001b[39m f = \u001b[38;5;28mself\u001b[39m.handles.handle\n",
      "\u001b[36mFile \u001b[39m\u001b[32mc:\\Users\\V SHANMUKH\\AppData\\Local\\Programs\\Python\\Python312\\Lib\\site-packages\\pandas\\io\\common.py:873\u001b[39m, in \u001b[36mget_handle\u001b[39m\u001b[34m(path_or_buf, mode, encoding, compression, memory_map, is_text, errors, storage_options)\u001b[39m\n\u001b[32m    868\u001b[39m \u001b[38;5;28;01melif\u001b[39;00m \u001b[38;5;28misinstance\u001b[39m(handle, \u001b[38;5;28mstr\u001b[39m):\n\u001b[32m    869\u001b[39m     \u001b[38;5;66;03m# Check whether the filename is to be opened in binary mode.\u001b[39;00m\n\u001b[32m    870\u001b[39m     \u001b[38;5;66;03m# Binary mode does not support 'encoding' and 'newline'.\u001b[39;00m\n\u001b[32m    871\u001b[39m     \u001b[38;5;28;01mif\u001b[39;00m ioargs.encoding \u001b[38;5;129;01mand\u001b[39;00m \u001b[33m\"\u001b[39m\u001b[33mb\u001b[39m\u001b[33m\"\u001b[39m \u001b[38;5;129;01mnot\u001b[39;00m \u001b[38;5;129;01min\u001b[39;00m ioargs.mode:\n\u001b[32m    872\u001b[39m         \u001b[38;5;66;03m# Encoding\u001b[39;00m\n\u001b[32m--> \u001b[39m\u001b[32m873\u001b[39m         handle = \u001b[38;5;28;43mopen\u001b[39;49m\u001b[43m(\u001b[49m\n\u001b[32m    874\u001b[39m \u001b[43m            \u001b[49m\u001b[43mhandle\u001b[49m\u001b[43m,\u001b[49m\n\u001b[32m    875\u001b[39m \u001b[43m            \u001b[49m\u001b[43mioargs\u001b[49m\u001b[43m.\u001b[49m\u001b[43mmode\u001b[49m\u001b[43m,\u001b[49m\n\u001b[32m    876\u001b[39m \u001b[43m            \u001b[49m\u001b[43mencoding\u001b[49m\u001b[43m=\u001b[49m\u001b[43mioargs\u001b[49m\u001b[43m.\u001b[49m\u001b[43mencoding\u001b[49m\u001b[43m,\u001b[49m\n\u001b[32m    877\u001b[39m \u001b[43m            \u001b[49m\u001b[43merrors\u001b[49m\u001b[43m=\u001b[49m\u001b[43merrors\u001b[49m\u001b[43m,\u001b[49m\n\u001b[32m    878\u001b[39m \u001b[43m            \u001b[49m\u001b[43mnewline\u001b[49m\u001b[43m=\u001b[49m\u001b[33;43m\"\u001b[39;49m\u001b[33;43m\"\u001b[39;49m\u001b[43m,\u001b[49m\n\u001b[32m    879\u001b[39m \u001b[43m        \u001b[49m\u001b[43m)\u001b[49m\n\u001b[32m    880\u001b[39m     \u001b[38;5;28;01melse\u001b[39;00m:\n\u001b[32m    881\u001b[39m         \u001b[38;5;66;03m# Binary mode\u001b[39;00m\n\u001b[32m    882\u001b[39m         handle = \u001b[38;5;28mopen\u001b[39m(handle, ioargs.mode)\n",
      "\u001b[31mFileNotFoundError\u001b[39m: [Errno 2] No such file or directory: 'dsad.csv'"
     ]
    }
   ],
   "source": [
    "import pandas as pd\n",
    "\n",
    "df = pd.read_csv(\"dsad.csv\")\n",
    "print(df.tail(2))"
   ]
  }
 ],
 "metadata": {
  "kernelspec": {
   "display_name": "Python 3",
   "language": "python",
   "name": "python3"
  },
  "language_info": {
   "codemirror_mode": {
    "name": "ipython",
    "version": 3
   },
   "file_extension": ".py",
   "mimetype": "text/x-python",
   "name": "python",
   "nbconvert_exporter": "python",
   "pygments_lexer": "ipython3",
   "version": "3.12.1"
  }
 },
 "nbformat": 4,
 "nbformat_minor": 5
}

{
 "cells": [
  {
   "cell_type": "code",
   "execution_count": 2,
   "id": "3591e1b6",
   "metadata": {},
   "outputs": [
    {
     "name": "stdout",
     "output_type": "stream",
     "text": [
      "Wireless Earphones      3000\n",
      "Iphone                148500\n",
      "Smart Watch            20000\n",
      "Mobile Phone           32500\n",
      "Laptop                 45200\n",
      "dtype: int64\n"
     ]
    }
   ],
   "source": [
    "import pandas as pd\n",
    "\n",
    "\n",
    "prices = [3000, 148500, 20000, 32500, 45200]\n",
    "\n",
    "products = [\"Wireless Earphones\",\"Iphone\", \"Smart Watch\", \"Mobile Phone\", \"Laptop\"]\n",
    "\n",
    "products_prices = pd.Series(prices,index= products)\n",
    "print(products_prices)"
   ]
  },
  {
   "cell_type": "code",
   "execution_count": 3,
   "id": "86a556bb",
   "metadata": {},
   "outputs": [
    {
     "name": "stdout",
     "output_type": "stream",
     "text": [
      "Mean: 49840.0\n"
     ]
    }
   ],
   "source": [
    "print(\"Mean:\" ,products_prices.mean())"
   ]
  },
  {
   "cell_type": "code",
   "execution_count": 4,
   "id": "37a31cb8",
   "metadata": {},
   "outputs": [
    {
     "name": "stdout",
     "output_type": "stream",
     "text": [
      "Sum: 249200\n"
     ]
    }
   ],
   "source": [
    "print(\"Sum:\", products_prices.sum())"
   ]
  },
  {
   "cell_type": "code",
   "execution_count": 5,
   "id": "cb31df75",
   "metadata": {},
   "outputs": [
    {
     "name": "stdout",
     "output_type": "stream",
     "text": [
      "Max: 148500\n"
     ]
    }
   ],
   "source": [
    "print(\"Max:\", products_prices.max())"
   ]
  },
  {
   "cell_type": "code",
   "execution_count": 6,
   "id": "86f587e4",
   "metadata": {},
   "outputs": [
    {
     "name": "stdout",
     "output_type": "stream",
     "text": [
      "Min: 3000\n"
     ]
    }
   ],
   "source": [
    "print(\"Min:\",products_prices.min())"
   ]
  },
  {
   "cell_type": "code",
   "execution_count": 8,
   "id": "121a9803",
   "metadata": {},
   "outputs": [
    {
     "name": "stdout",
     "output_type": "stream",
     "text": [
      "Head (First 3 elements):\n",
      "\n",
      " Wireless Earphones      3000\n",
      "Iphone                148500\n",
      "Smart Watch            20000\n",
      "dtype: int64\n"
     ]
    }
   ],
   "source": [
    "print(\"Head (First 3 elements):\\n\\n\",products_prices.head(3))"
   ]
  },
  {
   "cell_type": "code",
   "execution_count": 9,
   "id": "460c94ec",
   "metadata": {},
   "outputs": [
    {
     "name": "stdout",
     "output_type": "stream",
     "text": [
      "Tail (First 3 elements):\n",
      " \n",
      " Smart Watch     20000\n",
      "Mobile Phone    32500\n",
      "Laptop          45200\n",
      "dtype: int64\n"
     ]
    }
   ],
   "source": [
    "print(\"Tail (First 3 elements):\\n \\n\", products_prices.tail(3))"
   ]
  },
  {
   "cell_type": "code",
   "execution_count": 15,
   "id": "215f55a2",
   "metadata": {},
   "outputs": [
    {
     "name": "stdout",
     "output_type": "stream",
     "text": [
      "Apply the 18% gst to the Prices: \n",
      " Wireless Earphones      ₹3540.0\n",
      "Iphone                ₹175230.0\n",
      "Smart Watch            ₹23600.0\n",
      "Mobile Phone           ₹38350.0\n",
      "Laptop                 ₹53336.0\n",
      "dtype: object\n"
     ]
    }
   ],
   "source": [
    "print(\"Apply the 18% gst to the Prices: \\n\", products_prices.apply(lambda x: f\"₹{x * 0.18 + x}\"))"
   ]
  },
  {
   "cell_type": "code",
   "execution_count": 18,
   "id": "502addcf",
   "metadata": {},
   "outputs": [
    {
     "name": "stdout",
     "output_type": "stream",
     "text": [
      "Apply the 18% gst to the Prices: \n",
      " Wireless Earphones      ₹3540.0\n",
      "Iphone                ₹175230.0\n",
      "Smart Watch            ₹23600.0\n",
      "Mobile Phone           ₹38350.0\n",
      "Laptop                 ₹53336.0\n",
      "dtype: object\n"
     ]
    }
   ],
   "source": [
    "print(\"Apply the 18% gst to the Prices: \\n\", products_prices.apply(lambda x: f\"₹{x + (x*0.18)}\"))"
   ]
  },
  {
   "cell_type": "code",
   "execution_count": 14,
   "id": "29a45dbd",
   "metadata": {},
   "outputs": [
    {
     "name": "stdout",
     "output_type": "stream",
     "text": [
      "Map(Formatting as currency): \n",
      " Wireless Earphones      ₹3000\n",
      "Iphone                ₹148500\n",
      "Smart Watch            ₹20000\n",
      "Mobile Phone           ₹32500\n",
      "Laptop                 ₹45200\n",
      "dtype: object\n"
     ]
    }
   ],
   "source": [
    "print(\"Map(Formatting as currency): \\n\", products_prices.map(lambda x: f\"₹{x}\"))"
   ]
  },
  {
   "cell_type": "code",
   "execution_count": 19,
   "id": "fd0b83ff",
   "metadata": {},
   "outputs": [
    {
     "name": "stdout",
     "output_type": "stream",
     "text": [
      "Sorting By Values: \n",
      " Wireless Earphones      3000\n",
      "Smart Watch            20000\n",
      "Mobile Phone           32500\n",
      "Laptop                 45200\n",
      "Iphone                148500\n",
      "dtype: int64\n"
     ]
    }
   ],
   "source": [
    "print(\"Sorting By Values: \\n\", products_prices.sort_values())"
   ]
  },
  {
   "cell_type": "code",
   "execution_count": 20,
   "id": "bc38c276",
   "metadata": {},
   "outputs": [
    {
     "name": "stdout",
     "output_type": "stream",
     "text": [
      "Sorting By index: \n",
      " Iphone                148500\n",
      "Laptop                 45200\n",
      "Mobile Phone           32500\n",
      "Smart Watch            20000\n",
      "Wireless Earphones      3000\n",
      "dtype: int64\n"
     ]
    }
   ],
   "source": [
    "print(\"Sorting By index: \\n\", products_prices.sort_index())"
   ]
  },
  {
   "cell_type": "code",
   "execution_count": 21,
   "id": "705281ad",
   "metadata": {},
   "outputs": [
    {
     "name": "stdout",
     "output_type": "stream",
     "text": [
      "Iphone                148500\n",
      "Laptop                 45200\n",
      "Mobile Phone           32500\n",
      "Smart Watch            20000\n",
      "Wireless Earphones      3000\n",
      "dtype: int64\n"
     ]
    }
   ],
   "source": [
    "print(products_prices.sort_values(ascending=False))"
   ]
  },
  {
   "cell_type": "code",
   "execution_count": 22,
   "id": "be3c3b6a",
   "metadata": {},
   "outputs": [
    {
     "name": "stdout",
     "output_type": "stream",
     "text": [
      "Wireless Earphones      3000\n",
      "Smart Watch            20000\n",
      "Mobile Phone           32500\n",
      "Laptop                 45200\n",
      "Iphone                148500\n",
      "dtype: int64\n"
     ]
    }
   ],
   "source": [
    "print(products_prices.sort_index(ascending=False))"
   ]
  }
 ],
 "metadata": {
  "kernelspec": {
   "display_name": "Python 3",
   "language": "python",
   "name": "python3"
  },
  "language_info": {
   "codemirror_mode": {
    "name": "ipython",
    "version": 3
   },
   "file_extension": ".py",
   "mimetype": "text/x-python",
   "name": "python",
   "nbconvert_exporter": "python",
   "pygments_lexer": "ipython3",
   "version": "3.12.1"
  }
 },
 "nbformat": 4,
 "nbformat_minor": 5
}

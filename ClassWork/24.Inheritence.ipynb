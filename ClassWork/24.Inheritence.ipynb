{
 "cells": [
  {
   "cell_type": "markdown",
   "id": "04ec300f",
   "metadata": {},
   "source": [
    "**Single Inheritence**\n",
    "\n",
    "Single inheritance is when a child class inherits from only one parent class.\n",
    "This is the simplest form of inheritance."
   ]
  },
  {
   "cell_type": "code",
   "execution_count": null,
   "id": "49673fed",
   "metadata": {},
   "outputs": [
    {
     "name": "stdout",
     "output_type": "stream",
     "text": [
      "Parent Class A\n",
      "Child class B <- A\n",
      "Parent Class A\n"
     ]
    }
   ],
   "source": [
    "# Parent class with one method\n",
    "class A:  \n",
    "    def display_a(self):\n",
    "        print(\"Parent Class A\")\n",
    "\n",
    "\n",
    "# Child class that inherits from class A (so it can use A's methods too)\n",
    "class B(A):  \n",
    "    def display_b(self):\n",
    "        print(\"Child class B <- A\")\n",
    "\n",
    "\n",
    "# Create an object of class A\n",
    "a = A()\n",
    "a.display_a()  # Calls method from Class A\n",
    "\n",
    "\n",
    "# Create an object of class B\n",
    "b = B()\n",
    "b.display_b()  # Calls method from Class B\n",
    "\n",
    "\n",
    "# Call the parent class method using the child class object\n",
    "b.display_a()  # This works because B inherits from A\n"
   ]
  },
  {
   "cell_type": "markdown",
   "id": "13fb5378",
   "metadata": {},
   "source": [
    "**Mutliple Inheritence**\n",
    "\n",
    "Multiple inheritance is when a child class inherits from more than one parent class.\n",
    "This means the child gets features from multiple parents at once."
   ]
  },
  {
   "cell_type": "code",
   "execution_count": 31,
   "id": "218916f3",
   "metadata": {},
   "outputs": [
    {
     "name": "stdout",
     "output_type": "stream",
     "text": [
      "Parent Class A\n",
      "Parent Class B\n",
      "Parent Class C\n",
      "Child Class that comes from A, B, and C -> Class D\n"
     ]
    }
   ],
   "source": [
    "# This is a parent class with a method to show a message\n",
    "class A:\n",
    "    def display_a(self):\n",
    "        print(\"Parent Class A\")\n",
    "\n",
    "# Another parent class with its own message\n",
    "class B:\n",
    "    def display_b(self):\n",
    "        print(\"Parent Class B\")\n",
    "\n",
    "# Third parent class with its own message\n",
    "class C:\n",
    "    def display_c(self):\n",
    "        print(\"Parent Class C\")\n",
    "\n",
    "\n",
    "# Child class that inherits from all three parent classes: A, B, and C\n",
    "class D(A, B, C):\n",
    "    def display_d(self):\n",
    "        print(\"Child Class that comes from A, B, and C -> Class D\")\n",
    "\n",
    "\n",
    "# Create an object (instance) of Class D\n",
    "d = D()\n",
    "\n",
    "# Call methods from the parent classes\n",
    "d.display_a()  # Method from Class A\n",
    "d.display_b()  # Method from Class B\n",
    "d.display_c()  # Method from Class C\n",
    "\n",
    "# Call method from the child class\n",
    "d.display_d()  # Method from Class D\n"
   ]
  },
  {
   "cell_type": "markdown",
   "id": "99153414",
   "metadata": {},
   "source": [
    "**Multilevel Inheritance**\n",
    "\n",
    "Multilevel inheritance means creating a chain of classes where a class inherits from another class, which itself inherits from another class.\n",
    "\n",
    "Example:\n",
    "A → B → C → D\n",
    "\n",
    "Class B inherits from Class A\n",
    "\n",
    "Class C inherits from Class B\n",
    "\n",
    "Class D inherits from Class C\n",
    "\n",
    "This forms a parent → child → grandchild relationship."
   ]
  },
  {
   "cell_type": "code",
   "execution_count": 25,
   "id": "d8ddfac6",
   "metadata": {},
   "outputs": [
    {
     "name": "stdout",
     "output_type": "stream",
     "text": [
      "Parent Class A\n",
      "\n",
      "\n",
      "Child Class B (inherited from A)\n",
      "\n",
      "\n",
      "Child Class C (inherited from B and A)\n",
      "\n",
      "\n",
      "Parent Class A\n",
      "Child Class B (inherited from A)\n",
      "Child Class C (inherited from B and A)\n",
      "Child Class D (inherited from C, B, and A)\n"
     ]
    }
   ],
   "source": [
    "# Parent class (top of the chain)\n",
    "class A:\n",
    "    def display_a(self):\n",
    "        print(\"Parent Class A\")\n",
    "\n",
    "\n",
    "# Class B inherits from Class A\n",
    "class B(A):\n",
    "    def display_b(self):\n",
    "        print(\"Child Class B (inherited from A)\")\n",
    "\n",
    "\n",
    "# Class C inherits from Class B (and indirectly from A)\n",
    "class C(B):\n",
    "    def display_c(self):\n",
    "        print(\"Child Class C (inherited from B and A)\")\n",
    "\n",
    "\n",
    "# Class D inherits from Class C (and indirectly from B and A)\n",
    "class D(C):\n",
    "    def display_d(self):\n",
    "        print(\"Child Class D (inherited from C, B, and A)\")\n",
    "\n",
    "\n",
    "\n",
    "# Create an object of Class A\n",
    "a = A()\n",
    "a.display_a()  # Calls method from Class A\n",
    "print(\"\\n\")\n",
    "\n",
    "# Create an object of Class B\n",
    "b = B()\n",
    "b.display_b()  # Calls method from Class B\n",
    "print(\"\\n\")\n",
    "\n",
    "# Create an object of Class C\n",
    "c = C()\n",
    "c.display_c()  # Calls method from Class C\n",
    "print(\"\\n\")\n",
    "\n",
    "# Create an object of Class D\n",
    "d = D()\n",
    "\n",
    "# Call methods from all parent classes using Class D object\n",
    "d.display_a()  # From Class A\n",
    "d.display_b()  # From Class B\n",
    "d.display_c()  # From Class C\n",
    "\n",
    "# Call method from Class D itself\n",
    "d.display_d()  # From Class D\n"
   ]
  },
  {
   "cell_type": "markdown",
   "id": "be1c67c9",
   "metadata": {},
   "source": [
    "**Hirechial Inheritence**\n",
    "\n",
    "Hierarchical inheritance means multiple child classes inherit from the same parent class.\n",
    "\n",
    "Example:\n",
    "A → B\n",
    "A → C\n",
    "A → D\n",
    "\n",
    "All children (B, C, D) share the same parent (A).\n",
    "\n",
    "This is like a family tree where several siblings share one parent.\n",
    "\n"
   ]
  },
  {
   "cell_type": "code",
   "execution_count": 23,
   "id": "7d996d84",
   "metadata": {},
   "outputs": [
    {
     "name": "stdout",
     "output_type": "stream",
     "text": [
      "Parent Class A\n",
      "\n",
      "\n",
      "Parent Class A\n",
      "Child Class B (inherited from A)\n",
      "\n",
      "\n",
      "Parent Class A\n",
      "Child Class C (inherited from A)\n",
      "\n",
      "\n",
      "Parent Class A\n",
      "Child Class D (inherited from A)\n"
     ]
    }
   ],
   "source": [
    "# Parent class (common for all child classes)\n",
    "class A:\n",
    "    def display_a(self):\n",
    "        print(\"Parent Class A\")\n",
    "\n",
    "\n",
    "# Child Class B inherits from A\n",
    "class B(A):\n",
    "    def display_b(self):\n",
    "        print(\"Child Class B (inherited from A)\")\n",
    "\n",
    "\n",
    "# Child Class C inherits from A\n",
    "class C(A):\n",
    "    def display_c(self):\n",
    "        print(\"Child Class C (inherited from A)\")\n",
    "\n",
    "\n",
    "# Child Class D inherits from A\n",
    "class D(A):\n",
    "    def display_d(self):\n",
    "        print(\"Child Class D (inherited from A)\")\n",
    "\n",
    "\n",
    "# Object of Class A\n",
    "a = A()\n",
    "a.display_a()  # From Class A\n",
    "print(\"\\n\")\n",
    "\n",
    "# Object of Class B\n",
    "b = B()\n",
    "b.display_a()  # From A\n",
    "b.display_b()  # From B\n",
    "print(\"\\n\")\n",
    "\n",
    "# Object of Class C\n",
    "c = C()\n",
    "c.display_a()  # From A\n",
    "c.display_c()  # From C\n",
    "print(\"\\n\")\n",
    "\n",
    "# Object of Class D\n",
    "d = D()\n",
    "d.display_a()  # From A\n",
    "d.display_d()  # From D\n"
   ]
  }
 ],
 "metadata": {
  "kernelspec": {
   "display_name": "Python 3",
   "language": "python",
   "name": "python3"
  },
  "language_info": {
   "codemirror_mode": {
    "name": "ipython",
    "version": 3
   },
   "file_extension": ".py",
   "mimetype": "text/x-python",
   "name": "python",
   "nbconvert_exporter": "python",
   "pygments_lexer": "ipython3",
   "version": "3.12.1"
  }
 },
 "nbformat": 4,
 "nbformat_minor": 5
}

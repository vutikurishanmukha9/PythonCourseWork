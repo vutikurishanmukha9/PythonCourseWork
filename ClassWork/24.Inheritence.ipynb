{
 "cells": [
  {
   "cell_type": "code",
   "execution_count": null,
   "id": "49673fed",
   "metadata": {},
   "outputs": [],
   "source": [
    "class status:\n",
    "    def __init__(self):"
   ]
  }
 ],
 "metadata": {
  "language_info": {
   "name": "python"
  }
 },
 "nbformat": 4,
 "nbformat_minor": 5
}

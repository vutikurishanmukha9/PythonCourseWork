{
 "cells": [
  {
   "cell_type": "markdown",
   "id": "04ec300f",
   "metadata": {},
   "source": [
    "**Single Inheritence**"
   ]
  },
  {
   "cell_type": "code",
   "execution_count": 8,
   "id": "49673fed",
   "metadata": {},
   "outputs": [
    {
     "name": "stdout",
     "output_type": "stream",
     "text": [
      "Parent Class A\n",
      "Child class B <- A\n",
      "Parent Class A\n"
     ]
    }
   ],
   "source": [
    "class A: #Parent Class\n",
    "    def display_a(self):\n",
    "        print(\"Parent Class A\")\n",
    "\n",
    "\n",
    "class B(A): #Child Class\n",
    "    def display_b(self):\n",
    "        print(\"Child class B <- A\")\n",
    "\n",
    "\n",
    "a = A()\n",
    "a.display_a()\n",
    "\n",
    "b = B()\n",
    "b.display_b()\n",
    "\n",
    "\n",
    "b.display_a() #Calling Parent class\n"
   ]
  }
 ],
 "metadata": {
  "kernelspec": {
   "display_name": "Python 3",
   "language": "python",
   "name": "python3"
  },
  "language_info": {
   "codemirror_mode": {
    "name": "ipython",
    "version": 3
   },
   "file_extension": ".py",
   "mimetype": "text/x-python",
   "name": "python",
   "nbconvert_exporter": "python",
   "pygments_lexer": "ipython3",
   "version": "3.12.1"
  }
 },
 "nbformat": 4,
 "nbformat_minor": 5
}

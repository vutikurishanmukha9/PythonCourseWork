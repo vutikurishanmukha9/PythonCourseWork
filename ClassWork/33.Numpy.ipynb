{
 "cells": [
  {
   "cell_type": "markdown",
   "id": "60842520",
   "metadata": {},
   "source": [
    "**To create the Matrix**"
   ]
  },
  {
   "cell_type": "code",
   "execution_count": 3,
   "id": "bc06da3c",
   "metadata": {},
   "outputs": [
    {
     "name": "stdout",
     "output_type": "stream",
     "text": [
      "1-dim\n",
      "[1 2 3 4 5]\n",
      "\n",
      "2-dim\n",
      "[[1 2 3]\n",
      " [4 5 6]]\n",
      "\n",
      "Mul-dim\n",
      "[[1 2 3]\n",
      " [4 5 6]\n",
      " [7 8 9]]\n",
      "\n"
     ]
    }
   ],
   "source": [
    "import numpy as np\n",
    "\n",
    "# 1-D array\n",
    "arr1 = np.array([1,2,3,4,5])\n",
    "print(\"1-dim\", arr1, sep='\\n', end='\\n\\n')\n",
    "\n",
    "# 2-D array\n",
    "arr2 = np.array([[1,2,3],[4,5,6]])\n",
    "print(\"2-dim\", arr2, sep='\\n', end='\\n\\n')\n",
    "\n",
    "# Multi-D array (3x3)\n",
    "arr3 = np.array([[1,2,3],[4,5,6],[7,8,9]])\n",
    "print(\"Mul-dim\", arr3, sep='\\n', end='\\n\\n')\n"
   ]
  },
  {
   "cell_type": "markdown",
   "id": "c439670c",
   "metadata": {},
   "source": [
    "👉 np.zeros((2,3)) makes a 2 row × 3 column array filled with 0.0\n",
    "\n",
    "\n",
    "👉 print will show it"
   ]
  },
  {
   "cell_type": "code",
   "execution_count": null,
   "id": "9055b8ec",
   "metadata": {},
   "outputs": [
    {
     "name": "stdout",
     "output_type": "stream",
     "text": [
      "[[0. 0. 0.]\n",
      " [0. 0. 0.]]\n"
     ]
    }
   ],
   "source": [
    "import numpy as np \n",
    "\n",
    "\n",
    "zeros = np.zeros((2,3))\n",
    "print(zeros)"
   ]
  },
  {
   "cell_type": "markdown",
   "id": "fdfe36ff",
   "metadata": {},
   "source": [
    "👉 np.ones((2,3)) makes a 2 row × 3 column array filled with 1.0\n",
    "\n",
    "\n",
    "👉 print will show it"
   ]
  },
  {
   "cell_type": "code",
   "execution_count": null,
   "id": "eb759bb2",
   "metadata": {},
   "outputs": [
    {
     "name": "stdout",
     "output_type": "stream",
     "text": [
      "[[1. 1. 1.]\n",
      " [1. 1. 1.]]\n"
     ]
    }
   ],
   "source": [
    "import numpy as np \n",
    "\n",
    "zeros = np.ones((2,3))\n",
    "print(zeros)"
   ]
  },
  {
   "cell_type": "markdown",
   "id": "a41abc12",
   "metadata": {},
   "source": [
    "👉 np.identity(6) makes a 6 × 6 square matrix\n",
    "\n",
    "\n",
    "👉 All diagonal elements = 1.0\n",
    "\n",
    "\n",
    "👉 All other elements = 0.0"
   ]
  },
  {
   "cell_type": "code",
   "execution_count": 9,
   "id": "6a2eb667",
   "metadata": {},
   "outputs": [
    {
     "name": "stdout",
     "output_type": "stream",
     "text": [
      "[[1. 0. 0. 0. 0. 0.]\n",
      " [0. 1. 0. 0. 0. 0.]\n",
      " [0. 0. 1. 0. 0. 0.]\n",
      " [0. 0. 0. 1. 0. 0.]\n",
      " [0. 0. 0. 0. 1. 0.]\n",
      " [0. 0. 0. 0. 0. 1.]]\n"
     ]
    }
   ],
   "source": [
    "import numpy as np \n",
    "\n",
    "zeros = np.identity(6)\n",
    "print(zeros)"
   ]
  },
  {
   "cell_type": "markdown",
   "id": "be2cfe22",
   "metadata": {},
   "source": [
    "👉 np.full((5,6), \"Booked\") makes a 5 row × 6 column array\n",
    "\n",
    "\n",
    "👉 Every place is filled with the word \"Booked\""
   ]
  },
  {
   "cell_type": "code",
   "execution_count": 11,
   "id": "1b8cfb13",
   "metadata": {},
   "outputs": [
    {
     "name": "stdout",
     "output_type": "stream",
     "text": [
      "[['Booked' 'Booked' 'Booked' 'Booked' 'Booked' 'Booked']\n",
      " ['Booked' 'Booked' 'Booked' 'Booked' 'Booked' 'Booked']\n",
      " ['Booked' 'Booked' 'Booked' 'Booked' 'Booked' 'Booked']\n",
      " ['Booked' 'Booked' 'Booked' 'Booked' 'Booked' 'Booked']\n",
      " ['Booked' 'Booked' 'Booked' 'Booked' 'Booked' 'Booked']]\n"
     ]
    }
   ],
   "source": [
    "import numpy as np \n",
    "\n",
    "full_array = np.full((5,6),\"Booked\")\n",
    "\n",
    "print(full_array)"
   ]
  },
  {
   "cell_type": "markdown",
   "id": "fb23066b",
   "metadata": {},
   "source": [
    "👉 np.arange(start, stop, step)\n",
    "\n",
    "start = 10\n",
    "\n",
    "stop = 100 (not included)\n",
    "\n",
    "step = 2\n",
    "\n",
    "👉 So it makes numbers from 10 to 98, jumping by 2."
   ]
  },
  {
   "cell_type": "code",
   "execution_count": 15,
   "id": "3f32bc88",
   "metadata": {},
   "outputs": [
    {
     "name": "stdout",
     "output_type": "stream",
     "text": [
      "[10 12 14 16 18 20 22 24 26 28 30 32 34 36 38 40 42 44 46 48 50 52 54 56\n",
      " 58 60 62 64 66 68 70 72 74 76 78 80 82 84 86 88 90 92 94 96 98]\n"
     ]
    }
   ],
   "source": [
    "import numpy as np \n",
    "\n",
    "range_arr = np.arange(10,100,2)\n",
    "\n",
    "print(range_arr)"
   ]
  }
 ],
 "metadata": {
  "kernelspec": {
   "display_name": "Python 3",
   "language": "python",
   "name": "python3"
  },
  "language_info": {
   "codemirror_mode": {
    "name": "ipython",
    "version": 3
   },
   "file_extension": ".py",
   "mimetype": "text/x-python",
   "name": "python",
   "nbconvert_exporter": "python",
   "pygments_lexer": "ipython3",
   "version": "3.12.1"
  }
 },
 "nbformat": 4,
 "nbformat_minor": 5
}

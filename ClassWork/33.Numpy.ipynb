{
 "cells": [
  {
   "cell_type": "markdown",
   "id": "60842520",
   "metadata": {},
   "source": [
    "**To create the Matrix**"
   ]
  },
  {
   "cell_type": "code",
   "execution_count": 3,
   "id": "bc06da3c",
   "metadata": {},
   "outputs": [
    {
     "name": "stdout",
     "output_type": "stream",
     "text": [
      "1-dim\n",
      "[1 2 3 4 5]\n",
      "\n",
      "2-dim\n",
      "[[1 2 3]\n",
      " [4 5 6]]\n",
      "\n",
      "Mul-dim\n",
      "[[1 2 3]\n",
      " [4 5 6]\n",
      " [7 8 9]]\n",
      "\n"
     ]
    }
   ],
   "source": [
    "import numpy as np\n",
    "\n",
    "# 1-D array\n",
    "arr1 = np.array([1,2,3,4,5])\n",
    "print(\"1-dim\", arr1, sep='\\n', end='\\n\\n')\n",
    "\n",
    "# 2-D array\n",
    "arr2 = np.array([[1,2,3],[4,5,6]])\n",
    "print(\"2-dim\", arr2, sep='\\n', end='\\n\\n')\n",
    "\n",
    "# Multi-D array (3x3)\n",
    "arr3 = np.array([[1,2,3],[4,5,6],[7,8,9]])\n",
    "print(\"Mul-dim\", arr3, sep='\\n', end='\\n\\n')\n"
   ]
  },
  {
   "cell_type": "markdown",
   "id": "c439670c",
   "metadata": {},
   "source": [
    "👉 np.zeros((2,3)) makes a 2 row × 3 column array filled with 0.0\n",
    "\n",
    "\n",
    "👉 print will show it"
   ]
  },
  {
   "cell_type": "code",
   "execution_count": null,
   "id": "9055b8ec",
   "metadata": {},
   "outputs": [
    {
     "name": "stdout",
     "output_type": "stream",
     "text": [
      "[[0. 0. 0.]\n",
      " [0. 0. 0.]]\n"
     ]
    }
   ],
   "source": [
    "import numpy as np \n",
    "\n",
    "\n",
    "zeros = np.zeros((2,3))\n",
    "print(zeros)"
   ]
  },
  {
   "cell_type": "markdown",
   "id": "fdfe36ff",
   "metadata": {},
   "source": [
    "👉 np.ones((2,3)) makes a 2 row × 3 column array filled with 1.0\n",
    "\n",
    "\n",
    "👉 print will show it"
   ]
  },
  {
   "cell_type": "code",
   "execution_count": null,
   "id": "eb759bb2",
   "metadata": {},
   "outputs": [
    {
     "name": "stdout",
     "output_type": "stream",
     "text": [
      "[[1. 1. 1.]\n",
      " [1. 1. 1.]]\n"
     ]
    }
   ],
   "source": [
    "import numpy as np \n",
    "\n",
    "zeros = np.ones((2,3))\n",
    "print(zeros)"
   ]
  },
  {
   "cell_type": "markdown",
   "id": "a41abc12",
   "metadata": {},
   "source": [
    "👉 np.identity(6) makes a 6 × 6 square matrix\n",
    "\n",
    "\n",
    "👉 All diagonal elements = 1.0\n",
    "\n",
    "\n",
    "👉 All other elements = 0.0"
   ]
  },
  {
   "cell_type": "code",
   "execution_count": 9,
   "id": "6a2eb667",
   "metadata": {},
   "outputs": [
    {
     "name": "stdout",
     "output_type": "stream",
     "text": [
      "[[1. 0. 0. 0. 0. 0.]\n",
      " [0. 1. 0. 0. 0. 0.]\n",
      " [0. 0. 1. 0. 0. 0.]\n",
      " [0. 0. 0. 1. 0. 0.]\n",
      " [0. 0. 0. 0. 1. 0.]\n",
      " [0. 0. 0. 0. 0. 1.]]\n"
     ]
    }
   ],
   "source": [
    "import numpy as np \n",
    "\n",
    "zeros = np.identity(6)\n",
    "print(zeros)"
   ]
  },
  {
   "cell_type": "markdown",
   "id": "be2cfe22",
   "metadata": {},
   "source": [
    "👉 np.full((5,6), \"Booked\") makes a 5 row × 6 column array\n",
    "\n",
    "\n",
    "👉 Every place is filled with the word \"Booked\""
   ]
  },
  {
   "cell_type": "code",
   "execution_count": 11,
   "id": "1b8cfb13",
   "metadata": {},
   "outputs": [
    {
     "name": "stdout",
     "output_type": "stream",
     "text": [
      "[['Booked' 'Booked' 'Booked' 'Booked' 'Booked' 'Booked']\n",
      " ['Booked' 'Booked' 'Booked' 'Booked' 'Booked' 'Booked']\n",
      " ['Booked' 'Booked' 'Booked' 'Booked' 'Booked' 'Booked']\n",
      " ['Booked' 'Booked' 'Booked' 'Booked' 'Booked' 'Booked']\n",
      " ['Booked' 'Booked' 'Booked' 'Booked' 'Booked' 'Booked']]\n"
     ]
    }
   ],
   "source": [
    "import numpy as np \n",
    "\n",
    "full_array = np.full((5,6),\"Booked\")\n",
    "\n",
    "print(full_array)"
   ]
  },
  {
   "cell_type": "markdown",
   "id": "fb23066b",
   "metadata": {},
   "source": [
    "👉 np.arange(start, stop, step)\n",
    "\n",
    "start = 10\n",
    "\n",
    "stop = 100 (not included)\n",
    "\n",
    "step = 2\n",
    "\n",
    "👉 So it makes numbers from 10 to 98, jumping by 2."
   ]
  },
  {
   "cell_type": "code",
   "execution_count": 15,
   "id": "3f32bc88",
   "metadata": {},
   "outputs": [
    {
     "name": "stdout",
     "output_type": "stream",
     "text": [
      "[10 12 14 16 18 20 22 24 26 28 30 32 34 36 38 40 42 44 46 48 50 52 54 56\n",
      " 58 60 62 64 66 68 70 72 74 76 78 80 82 84 86 88 90 92 94 96 98]\n"
     ]
    }
   ],
   "source": [
    "import numpy as np \n",
    "\n",
    "range_arr = np.arange(10,100,2)\n",
    "\n",
    "print(range_arr)"
   ]
  },
  {
   "cell_type": "markdown",
   "id": "da417f53",
   "metadata": {},
   "source": [
    "👉 np.linspace(start, stop, num)\n",
    "\n",
    "start = 1\n",
    "\n",
    "stop = 100 (included)\n",
    "\n",
    "num = 12 → total 12 values\n",
    "\n",
    "👉 It divides the range 1 to 100 into 12 equal parts.\n",
    "👉 Values are evenly spaced."
   ]
  },
  {
   "cell_type": "code",
   "execution_count": 20,
   "id": "897e0c78",
   "metadata": {},
   "outputs": [
    {
     "name": "stdout",
     "output_type": "stream",
     "text": [
      "[  1.  10.  19.  28.  37.  46.  55.  64.  73.  82.  91. 100.]\n"
     ]
    }
   ],
   "source": [
    "import numpy as np \n",
    "\n",
    "lin_space = np.linspace(1,100,12)\n",
    "\n",
    "print(lin_space)"
   ]
  },
  {
   "cell_type": "markdown",
   "id": "4d6b7f6c",
   "metadata": {},
   "source": [
    "👉 np.random.randint(low, high, size)\n",
    "\n",
    "low = 1 → starting number (included)\n",
    "\n",
    "high = 6 → ending number (not included)\n",
    "\n",
    "size = (5,5) → shape → 5 rows × 5 columns\n",
    "\n",
    "👉 So it makes a 5×5 matrix with random integers between 1 and 5.\n",
    "👉 Each time you run, numbers will change."
   ]
  },
  {
   "cell_type": "code",
   "execution_count": 23,
   "id": "4d2d7e1f",
   "metadata": {},
   "outputs": [
    {
     "name": "stdout",
     "output_type": "stream",
     "text": [
      "[[5 1 3 2 4]\n",
      " [4 5 5 5 2]\n",
      " [1 4 5 2 5]\n",
      " [2 5 3 3 1]\n",
      " [4 1 5 3 1]]\n"
     ]
    }
   ],
   "source": [
    "import numpy as np \n",
    "\n",
    "rand_int = np.random.randint(1, 6, (5,5))\n",
    "\n",
    "print(rand_int)"
   ]
  },
  {
   "cell_type": "markdown",
   "id": "bbc1c932",
   "metadata": {},
   "source": [
    "👉 np.random.randint(low, high)\n",
    "\n",
    "low = 1 → starting number (included)\n",
    "\n",
    "high = 10 → ending number (not included)\n",
    "\n",
    "👉 It generates a single random integer between 1 and 9.\n",
    "👉 Each time you run it, the number will change."
   ]
  },
  {
   "cell_type": "code",
   "execution_count": 26,
   "id": "847a844f",
   "metadata": {},
   "outputs": [
    {
     "name": "stdout",
     "output_type": "stream",
     "text": [
      "5\n"
     ]
    }
   ],
   "source": [
    "import numpy as np \n",
    "\n",
    "rand_int = np.random.randint(1,10)\n",
    "\n",
    "print(rand_int)"
   ]
  },
  {
   "cell_type": "markdown",
   "id": "8bf3be41",
   "metadata": {},
   "source": [
    "👉 np.random.rand(d1, d2, ...)\n",
    "\n",
    "Creates an array of random floats between 0 and 1\n",
    "\n",
    "Shape = (1,3) → 1 row × 3 columns"
   ]
  },
  {
   "cell_type": "code",
   "execution_count": 29,
   "id": "eef0ca10",
   "metadata": {},
   "outputs": [
    {
     "name": "stdout",
     "output_type": "stream",
     "text": [
      "[[0.45763305 0.66329656 0.83010555]\n",
      " [0.83761492 0.4349278  0.03237251]\n",
      " [0.88586862 0.3537047  0.92460732]\n",
      " [0.13508021 0.91060541 0.27407683]\n",
      " [0.12483283 0.9102353  0.58101076]\n",
      " [0.87751523 0.22408146 0.24295267]\n",
      " [0.72824209 0.60855454 0.16172392]\n",
      " [0.49517236 0.6708484  0.12721126]\n",
      " [0.93995995 0.93453929 0.6662584 ]\n",
      " [0.43043112 0.56127561 0.24772231]]\n"
     ]
    }
   ],
   "source": [
    "import numpy as np \n",
    "\n",
    "rand_float = np.random.rand(10,3)\n",
    "\n",
    "print(rand_float)"
   ]
  },
  {
   "cell_type": "markdown",
   "id": "3edb0271",
   "metadata": {},
   "source": [
    "👉 np.random.randn(3,3)\n",
    "\n",
    "Creates a 3×3 array\n",
    "\n",
    "Numbers are random floats from a normal (Gaussian) distribution\n",
    "\n",
    "Mean ≈ 0, Standard deviation ≈ 1"
   ]
  },
  {
   "cell_type": "code",
   "execution_count": 30,
   "id": "d87a1b34",
   "metadata": {},
   "outputs": [
    {
     "name": "stdout",
     "output_type": "stream",
     "text": [
      "[[ 0.52201155  0.22522393  0.65455982]\n",
      " [ 0.67839853 -1.39666462 -0.68539169]\n",
      " [ 0.35267696 -0.42953342 -0.22790321]]\n"
     ]
    }
   ],
   "source": [
    "import numpy as np \n",
    "\n",
    "random_norm = np.random.randn(3, 3)\n",
    "\n",
    "print(random_norm)"
   ]
  },
  {
   "cell_type": "markdown",
   "id": "c93add85",
   "metadata": {},
   "source": [
    "👉 np.random.choice(array, size)\n",
    "\n",
    "Picks random elements from the given array/list\n",
    "\n",
    "size = 2 → selects 2 random items"
   ]
  },
  {
   "cell_type": "code",
   "execution_count": 31,
   "id": "d95eca9b",
   "metadata": {},
   "outputs": [
    {
     "name": "stdout",
     "output_type": "stream",
     "text": [
      "['kohli' 'Jithesh']\n"
     ]
    }
   ],
   "source": [
    "import numpy as np\n",
    "\n",
    "rand_choice = np.random.choice(['kohli','Rajat', 'Jithesh', 'Salt'], 2)\n",
    "\n",
    "print(rand_choice)"
   ]
  },
  {
   "cell_type": "markdown",
   "id": "b89bcb9d",
   "metadata": {},
   "source": [
    "👉 np.random.seed(10)\n",
    "\n",
    "Sets the random number generator to a fixed state\n",
    "\n",
    "Ensures that the same random numbers are generated every time\n",
    "\n",
    "👉 np.random.randint(6)\n",
    "\n",
    "Generates one random integer from 0 to 5 (6 not included)"
   ]
  },
  {
   "cell_type": "code",
   "execution_count": null,
   "id": "742d5ad9",
   "metadata": {},
   "outputs": [
    {
     "name": "stdout",
     "output_type": "stream",
     "text": [
      "4\n"
     ]
    }
   ],
   "source": [
    "import numpy as np \n",
    "\n",
    "np.random.seed(10)\n",
    "\n",
    "rand_arr = np.random.randint(6)\n",
    "\n",
    "print(rand_arr)"
   ]
  },
  {
   "cell_type": "markdown",
   "id": "aaaec7ef",
   "metadata": {},
   "source": [
    "👉 arr.shape\n",
    "\n",
    "Shows the shape of the array → (rows, columns)"
   ]
  },
  {
   "cell_type": "code",
   "execution_count": 50,
   "id": "f2239293",
   "metadata": {},
   "outputs": [
    {
     "name": "stdout",
     "output_type": "stream",
     "text": [
      "(3, 3)\n"
     ]
    }
   ],
   "source": [
    "import numpy as np \n",
    "\n",
    "arr = np.array([[1, 2, 3], [10, 11, 10], [4, 5, 6]])\n",
    "print(arr.shape)"
   ]
  },
  {
   "cell_type": "markdown",
   "id": "71fc46c7",
   "metadata": {},
   "source": [
    "👉 arr.reshape(3,3)\n",
    "\n",
    "Changes the shape of the array to 3 rows × 3 columns\n",
    "\n",
    "The data remains the same, only the layout changes"
   ]
  },
  {
   "cell_type": "code",
   "execution_count": 49,
   "id": "9c41bba7",
   "metadata": {},
   "outputs": [
    {
     "name": "stdout",
     "output_type": "stream",
     "text": [
      "[[ 1  2  3]\n",
      " [10 11 10]\n",
      " [ 4  5  6]]\n"
     ]
    }
   ],
   "source": [
    "reshaped = arr.reshape(3, 3)\n",
    "print(reshaped)"
   ]
  },
  {
   "cell_type": "markdown",
   "id": "4c8f6e3c",
   "metadata": {},
   "source": [
    "👉 arr.flatten()\n",
    "\n",
    "Converts a multi-dimensional array into a 1-dimensional array\n",
    "\n",
    "Keeps all the elements in row-wise order\n",
    "\n",
    "Original array:"
   ]
  },
  {
   "cell_type": "code",
   "execution_count": 52,
   "id": "8f1a491b",
   "metadata": {},
   "outputs": [
    {
     "name": "stdout",
     "output_type": "stream",
     "text": [
      "[1 2 3 4 5 6]\n"
     ]
    }
   ],
   "source": [
    "import numpy as np \n",
    "\n",
    "arr = np.array([[1, 2, 3], [4, 5, 6]])\n",
    "\n",
    "flattened = arr.flatten()\n",
    "\n",
    "print(flattened)"
   ]
  },
  {
   "cell_type": "code",
   "execution_count": 54,
   "id": "2b13f476",
   "metadata": {},
   "outputs": [
    {
     "name": "stdout",
     "output_type": "stream",
     "text": [
      "[[1 4]\n",
      " [2 5]\n",
      " [3 6]]\n"
     ]
    }
   ],
   "source": [
    "import numpy as np \n",
    "\n",
    "arr = np.array([[1, 2, 3], [4, 5, 6]])\n",
    "\n",
    "trans_arr = arr.T\n",
    "\n",
    "print(trans_arr)"
   ]
  },
  {
   "cell_type": "code",
   "execution_count": 55,
   "id": "cf8eaa71",
   "metadata": {},
   "outputs": [
    {
     "name": "stdout",
     "output_type": "stream",
     "text": [
      "10\n",
      "78\n",
      "[78 45 60 50 20 10]\n",
      "[20 50]\n",
      "[45 78]\n"
     ]
    }
   ],
   "source": [
    "import numpy as np \n",
    "\n",
    "arr = np.array([10, 20, 50, 60, 45, 78])\n",
    "\n",
    "print(arr[0])\n",
    "print(arr[-1])\n",
    "print(arr[::-1])\n",
    "print(arr[1:3])\n",
    "print(arr[4:6])"
   ]
  },
  {
   "cell_type": "markdown",
   "id": "bf3bc50c",
   "metadata": {},
   "source": [
    "Explanation:\n",
    "\n",
    "matrix[1,0]\n",
    "\n",
    "Row 1 (second row), Column 0 (first column)\n",
    "\n",
    "Value = 40\n",
    "\n",
    "matrix[0:2, 1]\n",
    "\n",
    "Rows 0 and 1 (first two rows), Column 1 (second column)\n",
    "\n",
    "Values = [20, 50]\n",
    "\n",
    "matrix[0:2, 1:3]\n",
    "\n",
    "Rows 0 and 1 (first two rows), Columns 1 and 2 (second and third columns)"
   ]
  },
  {
   "cell_type": "markdown",
   "id": "5711736e",
   "metadata": {},
   "source": [
    "Shorter Version\n",
    "\n",
    "[row, column] → single element\n",
    "\n",
    "[row_slice, column_index] → subset of a column\n",
    "\n",
    "[row_slice, column_slice] → subset of rows and columns"
   ]
  },
  {
   "cell_type": "code",
   "execution_count": null,
   "id": "698606b3",
   "metadata": {},
   "outputs": [
    {
     "name": "stdout",
     "output_type": "stream",
     "text": [
      "40\n",
      "\n",
      "\n",
      "[20 50]\n",
      "\n",
      "\n",
      "[[20 30]\n",
      " [50 60]]\n"
     ]
    }
   ],
   "source": [
    "import numpy as np \n",
    "\n",
    "matrix = np.array([[10, 20, 30], [40, 50, 60], [70, 80, 90]])\n",
    "\n",
    "print(matrix[1,0])\n",
    "\n",
    "print(\"\\n\")\n",
    "print(matrix[0:2, 1])\n",
    "\n",
    "print(\"\\n\")\n",
    "print(matrix[0:2, 1:3])\n"
   ]
  },
  {
   "cell_type": "markdown",
   "id": "6e851681",
   "metadata": {},
   "source": [
    "Explanation:\n",
    "\n",
    "1D array (arr)\n",
    "\n",
    "np.sum(arr) → 10+20+50+60+45+78 = 263\n",
    "\n",
    "np.mean(arr) → 263 ÷ 6 = 43.83\n",
    "\n",
    "np.median(arr) → middle value after sorting [10, 20, 45, 50, 60, 78] → 47.5\n",
    "\n",
    "2D array (arr1)\n",
    "\n",
    "np.sum(arr1) → sum of all numbers = 10+20+30+40+50+60+70+80+90 = 450\n",
    "\n",
    "np.mean(arr1) → 450 ÷ 9 = 50.0\n",
    "\n",
    "np.median(arr1) → middle value after sorting [10,20,30,40,50,60,70,80,90] → 50\n",
    "\n",
    "✅ Notes:\n",
    "\n",
    "np.sum() → total sum\n",
    "\n",
    "np.mean() → average\n",
    "\n",
    "np.median() → middle value"
   ]
  },
  {
   "cell_type": "code",
   "execution_count": 4,
   "id": "9fbd7cc6",
   "metadata": {},
   "outputs": [
    {
     "name": "stdout",
     "output_type": "stream",
     "text": [
      "263\n",
      "43.833333333333336\n",
      "47.5\n",
      "\n",
      "\n",
      "450\n",
      "50.0\n",
      "50.0\n"
     ]
    }
   ],
   "source": [
    "import numpy as np \n",
    "\n",
    "arr = np.array([10, 20, 50, 60, 45, 78])\n",
    "arr1 = np.array([[10, 20, 30], [40, 50, 60], [70, 80, 90]])\n",
    "\n",
    "print(np.sum(arr))\n",
    "print(np.mean(arr))\n",
    "print(np.median(arr))\n",
    "print(\"\\n\")\n",
    "print(np.sum(arr1))\n",
    "print(np.mean(arr1))\n",
    "print(np.median(arr1))\n"
   ]
  },
  {
   "cell_type": "markdown",
   "id": "53dcf4aa",
   "metadata": {},
   "source": [
    "Explanation\n",
    "\n",
    "Mean → Sum all elements and divide by number of elements\n",
    "Example: 1 + 2 + 3 + 4 + 5 divided by 5 = 3.0\n",
    "\n",
    "Variance → Average of squared differences from the mean\n",
    "Example: (1-3)^2 + (2-3)^2 + (3-3)^2 + (4-3)^2 + (5-3)^2 divided by 5 = 2.0\n",
    "\n",
    "Standard Deviation → Square root of variance\n",
    "Example: square root of 2.0 = 1.414\n",
    "\n",
    "✅ Summary:\n",
    "\n",
    "Mean → Central value\n",
    "\n",
    "Variance → Spread of numbers\n",
    "\n",
    "Standard Deviation → Deviation from mean"
   ]
  },
  {
   "cell_type": "code",
   "execution_count": 5,
   "id": "cfa7d915",
   "metadata": {},
   "outputs": [
    {
     "name": "stdout",
     "output_type": "stream",
     "text": [
      "3.0\n",
      "2.0\n",
      "1.4142135623730951\n"
     ]
    }
   ],
   "source": [
    "import numpy as np\n",
    "\n",
    "a = np.array([1, 2, 3, 4, 5])\n",
    "\n",
    "print(np.mean(a))\n",
    "print(np.var(a))\n",
    "print(np.std(a))"
   ]
  },
  {
   "cell_type": "markdown",
   "id": "ac86a3be",
   "metadata": {},
   "source": [
    "np.min(arr) → Finds the smallest value in the array → 10\n",
    "\n",
    "np.max(arr) → Finds the largest value in the array → 78\n",
    "\n",
    "summary:\n",
    "\n",
    "Minimum → smallest number\n",
    "\n",
    "Maximum → largest number"
   ]
  },
  {
   "cell_type": "code",
   "execution_count": null,
   "id": "fd4fb66d",
   "metadata": {},
   "outputs": [
    {
     "name": "stdout",
     "output_type": "stream",
     "text": [
      "10\n",
      "78\n"
     ]
    }
   ],
   "source": [
    "import numpy as np\n",
    "\n",
    "arr = np.array([10, 20, 50, 60, 45, 78])\n",
    "\n",
    "\n",
    "print(np.min(arr))\n",
    "print(np.max(arr))"
   ]
  },
  {
   "cell_type": "markdown",
   "id": "074816b1",
   "metadata": {},
   "source": [
    "np.cumsum(arr) → Calculates the running sum of elements\n",
    "Example: [4, 4+9=13, 13+16=29, 29+25=54, 54+36=90]\n",
    "\n",
    "np.cumprod(arr) → Calculates the running product of elements\n",
    "Example: [4, 4×9=36, 36×16=576, 576×25=14400, 14400×36=518400]\n",
    "\n",
    "✅ Summary:\n",
    "\n",
    "Cumulative sum → running total\n",
    "\n",
    "Cumulative product → running multiplication"
   ]
  },
  {
   "cell_type": "code",
   "execution_count": 8,
   "id": "ede31b98",
   "metadata": {},
   "outputs": [
    {
     "name": "stdout",
     "output_type": "stream",
     "text": [
      "[ 4 13 29 54 90]\n",
      "\n",
      "\n",
      "[     4     36    576  14400 518400]\n"
     ]
    }
   ],
   "source": [
    "import numpy as np \n",
    "\n",
    "arr = np.array([4, 9, 16, 25, 36])\n",
    "\n",
    "print(np.cumsum(arr))\n",
    "print(\"\\n\")\n",
    "print(np.cumprod(arr))"
   ]
  },
  {
   "cell_type": "markdown",
   "id": "79f1d83c",
   "metadata": {},
   "source": [
    "arr <= 30 → Checks each element, returns True if condition is met, otherwise False\n",
    "\n",
    "arr[arr <= 30] → Uses the boolean array to select only elements ≤ 30\n",
    "\n",
    "✅ Summary:\n",
    "\n",
    "Boolean indexing → filter elements based on condition\n",
    "\n",
    "Useful for selecting data from arrays quickly"
   ]
  },
  {
   "cell_type": "code",
   "execution_count": 9,
   "id": "94663b4f",
   "metadata": {},
   "outputs": [
    {
     "name": "stdout",
     "output_type": "stream",
     "text": [
      "[ True  True  True False False]\n",
      "\n",
      "\n",
      "[10 20 30]\n"
     ]
    }
   ],
   "source": [
    "import numpy as np \n",
    "\n",
    "arr = np.array([10, 20, 30, 40, 50])\n",
    "\n",
    "print(arr <=30)\n",
    "print(\"\\n\")\n",
    "print(arr[arr <=30])"
   ]
  },
  {
   "cell_type": "markdown",
   "id": "e3762274",
   "metadata": {},
   "source": [
    "np.sort(arr) → Returns a sorted copy of the array in ascending order\n",
    "\n",
    "Original array remains unchanged\n",
    "\n",
    "Useful for organizing data or preparing for further analysis\n",
    "\n",
    "✅ Summary:\n",
    "\n",
    "Sort → Arrange elements in order (ascending by default)"
   ]
  },
  {
   "cell_type": "code",
   "execution_count": null,
   "id": "e6aae7c3",
   "metadata": {},
   "outputs": [
    {
     "name": "stdout",
     "output_type": "stream",
     "text": [
      "[1 1 2 3 4 5 6 9]\n"
     ]
    }
   ],
   "source": [
    "import numpy as np \n",
    "\n",
    "arr = np.array([3, 1, 4, 1, 5, 9, 2, 6])\n",
    "sorted_arr = np.sort(arr)\n",
    "\n",
    "print(sorted_arr)"
   ]
  },
  {
   "cell_type": "markdown",
   "id": "4bb05a6b",
   "metadata": {},
   "source": [
    "np.unique(arr) → Returns all unique elements of the array in sorted order\n",
    "\n",
    "Removes duplicates automatically\n",
    "\n",
    "Useful for finding distinct values in data\n",
    "\n",
    "✅ Summary:\n",
    "\n",
    "Unique → Distinct elements of an array, sorted by default"
   ]
  },
  {
   "cell_type": "code",
   "execution_count": null,
   "id": "f6e5b96e",
   "metadata": {},
   "outputs": [
    {
     "name": "stdout",
     "output_type": "stream",
     "text": [
      "[1 2 3 4 5 6 9]\n"
     ]
    }
   ],
   "source": [
    "import numpy as np \n",
    "\n",
    "\n",
    "arr = np.array([3, 1, 4, 1, 5, 9, 2, 6])\n",
    "unique_vals = np.unique(arr)\n",
    "\n",
    "\n",
    "print(unique_vals)"
   ]
  },
  {
   "cell_type": "markdown",
   "id": "506f2dab",
   "metadata": {},
   "source": [
    "View (arr.view()) → Creates a new array object but shares the same data\n",
    "\n",
    "Changing view_arr also changes arr\n",
    "\n",
    "Copy (arr.copy()) → Creates a completely independent array\n",
    "\n",
    "Changing copy_arr does not affect arr\n",
    "\n",
    "✅ Summary:\n",
    "\n",
    "Use view to save memory but linked to original\n",
    "\n",
    "Use copy when you want independent data"
   ]
  },
  {
   "cell_type": "code",
   "execution_count": 17,
   "id": "e4225bdb",
   "metadata": {},
   "outputs": [
    {
     "name": "stdout",
     "output_type": "stream",
     "text": [
      "[100  20  30] [100  20  30]\n",
      "\n",
      "\n",
      "[100  20  30] [200  20  30]\n"
     ]
    }
   ],
   "source": [
    "import numpy as np\n",
    "\n",
    "arr = np.array([10, 20, 30])\n",
    "\n",
    "\n",
    "view_arr = arr.view()\n",
    "view_arr[0] = 100\n",
    "print(arr,view_arr)\n",
    "\n",
    "print(\"\\n\")\n",
    "copy_arr = arr.copy()\n",
    "copy_arr[0] = 200\n",
    "print(arr,copy_arr)"
   ]
  },
  {
   "cell_type": "markdown",
   "id": "623e70a8",
   "metadata": {},
   "source": [
    "**Matrix Multiplication**"
   ]
  },
  {
   "cell_type": "markdown",
   "id": "aa613bb7",
   "metadata": {},
   "source": [
    "np.dot(A, B) → Performs matrix multiplication\n",
    "\n",
    "For 2×2 matrices:\n",
    "\n",
    "Element at (0,0) → 15 + 27 = 19\n",
    "\n",
    "Element at (0,1) → 16 + 28 = 22\n",
    "\n",
    "Element at (1,0) → 35 + 47 = 43\n",
    "\n",
    "Element at (1,1) → 36 + 48 = 50\n",
    "\n",
    "✅ Summary:\n",
    "\n",
    "np.dot → Multiply two arrays (vectors or matrices) according to linear algebra rules"
   ]
  },
  {
   "cell_type": "code",
   "execution_count": null,
   "id": "4acd848a",
   "metadata": {},
   "outputs": [
    {
     "name": "stdout",
     "output_type": "stream",
     "text": [
      "[[19 22]\n",
      " [43 50]]\n"
     ]
    }
   ],
   "source": [
    "import numpy as np\n",
    "\n",
    "A = np.array([[1, 2], [3, 4]])\n",
    "B = np.array([[5, 6], [7, 8]])\n",
    "\n",
    "\n",
    "print(np.dot(A, B))"
   ]
  },
  {
   "cell_type": "markdown",
   "id": "a81b25f9",
   "metadata": {},
   "source": [
    "**Matrix Determinent**"
   ]
  },
  {
   "cell_type": "markdown",
   "id": "e4be5efd",
   "metadata": {},
   "source": [
    "np.linalg.det(arr1) → Computes the determinant of a square matrix\n",
    "\n",
    "Determinant is a scalar value that can indicate:\n",
    "\n",
    "If det = 0 → matrix is singular (not invertible)\n",
    "\n",
    "If det ≠ 0 → matrix is invertible\n",
    "\n",
    "✅ Summary:\n",
    "\n",
    "Determinant → Scalar value representing certain properties of the matrix"
   ]
  },
  {
   "cell_type": "code",
   "execution_count": 23,
   "id": "12052db3",
   "metadata": {},
   "outputs": [
    {
     "name": "stdout",
     "output_type": "stream",
     "text": [
      "-4.263256414560599e-12\n"
     ]
    }
   ],
   "source": [
    "import numpy as np\n",
    "\n",
    "arr1 = np.array([[10, 20, 30], [40, 50, 60], [70, 80, 90]])\n",
    "\n",
    "\n",
    "print(np.linalg.det(arr1))"
   ]
  },
  {
   "cell_type": "markdown",
   "id": "0a843f57",
   "metadata": {},
   "source": [
    "**Matrix Inverse**"
   ]
  },
  {
   "cell_type": "markdown",
   "id": "18936cd2",
   "metadata": {},
   "source": [
    "np.linalg.det(arr1) → Computes the determinant of a square matrix\n",
    "\n",
    "Determinant is a scalar value that can indicate:\n",
    "\n",
    "If det = 0 → matrix is singular (not invertible)\n",
    "\n",
    "If det ≠ 0 → matrix is invertible\n",
    "\n",
    "✅ Summary:\n",
    "\n",
    "Determinant → Scalar value representing certain properties of the matrix"
   ]
  },
  {
   "cell_type": "code",
   "execution_count": 22,
   "id": "c9dd7256",
   "metadata": {},
   "outputs": [
    {
     "name": "stdout",
     "output_type": "stream",
     "text": [
      "[[ 7.03687442e+13 -1.40737488e+14  7.03687442e+13]\n",
      " [-1.40737488e+14  2.81474977e+14 -1.40737488e+14]\n",
      " [ 7.03687442e+13 -1.40737488e+14  7.03687442e+13]]\n"
     ]
    }
   ],
   "source": [
    "import numpy as np\n",
    "\n",
    "arr1 = np.array([[10, 20, 30], [40, 50, 60], [70, 80, 90]])\n",
    "\n",
    "print(np.linalg.inv(arr1))"
   ]
  },
  {
   "cell_type": "markdown",
   "id": "5d97b7cb",
   "metadata": {},
   "source": [
    "**eigenValues and eigen vectors**"
   ]
  },
  {
   "cell_type": "markdown",
   "id": "282788d1",
   "metadata": {},
   "source": [
    "np.linalg.eig(arr1) → Returns eigenvalues and eigenvectors of a square matrix\n",
    "\n",
    "Eigenvalues → Scalars λ such that A*v = λ*v\n",
    "\n",
    "Eigenvectors → Vectors v that satisfy the equation above\n",
    "\n",
    "✅ Summary:\n",
    "\n",
    "Eigenvalues → Show the “stretching factor” of the matrix\n",
    "\n",
    "Eigenvectors → Directions in which the matrix acts as a simple scaling"
   ]
  },
  {
   "cell_type": "code",
   "execution_count": 41,
   "id": "59ff1ebd",
   "metadata": {},
   "outputs": [
    {
     "name": "stdout",
     "output_type": "stream",
     "text": [
      "eigenvalues\n",
      "[ 1.61168440e+02 -1.11684397e+01  8.30661129e-16]\n",
      "\n",
      "\n",
      "[[-0.23197069 -0.78583024  0.40824829]\n",
      " [-0.52532209 -0.08675134 -0.81649658]\n",
      " [-0.8186735   0.61232756  0.40824829]]\n"
     ]
    }
   ],
   "source": [
    "import numpy as np\n",
    "\n",
    "arr1 = np.array([[10, 20, 30], [40, 50, 60], [70, 80, 90]])\n",
    "\n",
    "eigenvalues, eigenvectors = np.linalg.eig(arr1)\n",
    "print(\"eigenvalues\")\n",
    "print(eigenvalues)\n",
    "print(\"\\n\")\n",
    "print(eigenvectors)"
   ]
  },
  {
   "cell_type": "markdown",
   "id": "66fb99b0",
   "metadata": {},
   "source": [
    "np.linalg.eig(arr1) → Returns both eigenvalues and eigenvectors\n",
    "\n",
    "Using _ ignores eigenvalues, keeping only eigenvectors\n",
    "\n",
    "Eigenvectors → Directions in which the matrix acts as simple scaling\n",
    "\n",
    "✅ Summary:\n",
    "\n",
    "_ → placeholder to ignore unwanted output\n",
    "\n",
    "Eigenvectors → Show the “direction” of matrix transformation"
   ]
  },
  {
   "cell_type": "code",
   "execution_count": 39,
   "id": "44602f18",
   "metadata": {},
   "outputs": [
    {
     "name": "stdout",
     "output_type": "stream",
     "text": [
      "[[-0.23197069 -0.78583024  0.40824829]\n",
      " [-0.52532209 -0.08675134 -0.81649658]\n",
      " [-0.8186735   0.61232756  0.40824829]]\n"
     ]
    }
   ],
   "source": [
    "import numpy as np\n",
    "\n",
    "arr1 = np.array([[10, 20, 30], [40, 50, 60], [70, 80, 90]])\n",
    "\n",
    "_,eigenvectors = np.linalg.eig(arr1)\n",
    "\n",
    "print(eigenvectors)"
   ]
  },
  {
   "cell_type": "markdown",
   "id": "0bd7d4ae",
   "metadata": {},
   "source": [
    "np.linalg.solve(A, C) → Solves the linear system A * x = C\n",
    "\n",
    "A → Coefficient matrix\n",
    "\n",
    "C → Constant terms vector\n",
    "\n",
    "Returns solution vector x that satisfies the equation\n",
    "\n",
    "✅ Summary:\n",
    "\n",
    "Use np.linalg.solve instead of manually calculating inverse\n",
    "\n",
    "Efficient and accurate for solving linear systems"
   ]
  },
  {
   "cell_type": "code",
   "execution_count": 32,
   "id": "7d94a047",
   "metadata": {},
   "outputs": [
    {
     "name": "stdout",
     "output_type": "stream",
     "text": [
      "[0.81818182 2.54545455]\n"
     ]
    }
   ],
   "source": [
    "import numpy as np\n",
    "\n",
    "A = np.array([[3, 1],\n",
    "              [1, 4]])\n",
    "\n",
    "C = np.array([5, 11])\n",
    "\n",
    "solution = np.linalg.solve(A, C)\n",
    "print(solution)   \n"
   ]
  },
  {
   "cell_type": "markdown",
   "id": "292c3cc7",
   "metadata": {},
   "source": [
    "np.vstack((A, B)) → Stacks arrays vertically (adds rows)\n",
    "\n",
    "[[1 2]\n",
    "\n",
    " [3 4]\n",
    "\n",
    " [5 6]\n",
    "\n",
    " [7 8]]\n",
    "\n",
    "\n",
    "np.hstack((A, B)) → Stacks arrays horizontally (adds columns)\n",
    "\n",
    "[[1 2 5 6]\n",
    "\n",
    " [3 4 7 8]]\n",
    "\n",
    "\n",
    "✅ Summary:\n",
    "\n",
    "Vertical stack → rows are combined\n",
    "\n",
    "Horizontal stack → columns are combined"
   ]
  },
  {
   "cell_type": "code",
   "execution_count": null,
   "id": "c9c942f6",
   "metadata": {},
   "outputs": [
    {
     "name": "stdout",
     "output_type": "stream",
     "text": [
      "[[1 2]\n",
      " [3 4]\n",
      " [5 6]\n",
      " [7 8]]\n",
      "\n",
      "\n",
      "[[1 2 5 6]\n",
      " [3 4 7 8]]\n"
     ]
    }
   ],
   "source": [
    "A = np.array([[1, 2], [3, 4]])\n",
    "B = np.array([[5, 6], [7, 8]])\n",
    "\n",
    "vertical_stack = np.vstack((A, B))\n",
    "horizontal_stack = np.hstack((A, B))\n",
    "\n",
    "print(vertical_stack)\n",
    "print(\"\\n\")\n",
    "print(horizontal_stack)"
   ]
  },
  {
   "cell_type": "markdown",
   "id": "08aa4293",
   "metadata": {},
   "source": [
    "np.split(array, n) → Splits the array into n equal parts\n",
    "\n",
    "Each part is returned as a separate array\n",
    "\n",
    "Original array: [1, 2, 3, 4, 5, 6]\n",
    "\n",
    "Split into 6 parts → Each element becomes its own array\n",
    "\n",
    "✅ Summary:\n",
    "\n",
    "Use np.split to divide arrays into multiple sub-arrays\n",
    "\n",
    "Works for 1D and 2D arrays"
   ]
  },
  {
   "cell_type": "code",
   "execution_count": 37,
   "id": "e0665bf5",
   "metadata": {},
   "outputs": [
    {
     "name": "stdout",
     "output_type": "stream",
     "text": [
      "[array([1]), array([2]), array([3]), array([4]), array([5]), array([6])]\n"
     ]
    }
   ],
   "source": [
    "split_arr = np.split(np.array([1, 2, 3, 4, 5, 6]), 6)\n",
    "\n",
    "print(split_arr)"
   ]
  }
 ],
 "metadata": {
  "kernelspec": {
   "display_name": "Python 3",
   "language": "python",
   "name": "python3"
  },
  "language_info": {
   "codemirror_mode": {
    "name": "ipython",
    "version": 3
   },
   "file_extension": ".py",
   "mimetype": "text/x-python",
   "name": "python",
   "nbconvert_exporter": "python",
   "pygments_lexer": "ipython3",
   "version": "3.12.1"
  }
 },
 "nbformat": 4,
 "nbformat_minor": 5
}

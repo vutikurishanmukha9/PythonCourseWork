{
 "cells": [
  {
   "cell_type": "markdown",
   "id": "60842520",
   "metadata": {},
   "source": [
    "**To create the Matrix**"
   ]
  },
  {
   "cell_type": "code",
   "execution_count": 3,
   "id": "bc06da3c",
   "metadata": {},
   "outputs": [
    {
     "name": "stdout",
     "output_type": "stream",
     "text": [
      "1-dim\n",
      "[1 2 3 4 5]\n",
      "\n",
      "2-dim\n",
      "[[1 2 3]\n",
      " [4 5 6]]\n",
      "\n",
      "Mul-dim\n",
      "[[1 2 3]\n",
      " [4 5 6]\n",
      " [7 8 9]]\n",
      "\n"
     ]
    }
   ],
   "source": [
    "import numpy as np\n",
    "\n",
    "# 1-D array\n",
    "arr1 = np.array([1,2,3,4,5])\n",
    "print(\"1-dim\", arr1, sep='\\n', end='\\n\\n')\n",
    "\n",
    "# 2-D array\n",
    "arr2 = np.array([[1,2,3],[4,5,6]])\n",
    "print(\"2-dim\", arr2, sep='\\n', end='\\n\\n')\n",
    "\n",
    "# Multi-D array (3x3)\n",
    "arr3 = np.array([[1,2,3],[4,5,6],[7,8,9]])\n",
    "print(\"Mul-dim\", arr3, sep='\\n', end='\\n\\n')\n"
   ]
  },
  {
   "cell_type": "markdown",
   "id": "c439670c",
   "metadata": {},
   "source": [
    "👉 np.zeros((2,3)) makes a 2 row × 3 column array filled with 0.0\n",
    "\n",
    "\n",
    "👉 print will show it"
   ]
  },
  {
   "cell_type": "code",
   "execution_count": null,
   "id": "9055b8ec",
   "metadata": {},
   "outputs": [
    {
     "name": "stdout",
     "output_type": "stream",
     "text": [
      "[[0. 0. 0.]\n",
      " [0. 0. 0.]]\n"
     ]
    }
   ],
   "source": [
    "import numpy as np \n",
    "\n",
    "\n",
    "zeros = np.zeros((2,3))\n",
    "print(zeros)"
   ]
  },
  {
   "cell_type": "markdown",
   "id": "fdfe36ff",
   "metadata": {},
   "source": [
    "👉 np.ones((2,3)) makes a 2 row × 3 column array filled with 1.0\n",
    "\n",
    "\n",
    "👉 print will show it"
   ]
  },
  {
   "cell_type": "code",
   "execution_count": null,
   "id": "eb759bb2",
   "metadata": {},
   "outputs": [
    {
     "name": "stdout",
     "output_type": "stream",
     "text": [
      "[[1. 1. 1.]\n",
      " [1. 1. 1.]]\n"
     ]
    }
   ],
   "source": [
    "import numpy as np \n",
    "\n",
    "zeros = np.ones((2,3))\n",
    "print(zeros)"
   ]
  },
  {
   "cell_type": "markdown",
   "id": "a41abc12",
   "metadata": {},
   "source": [
    "👉 np.identity(6) makes a 6 × 6 square matrix\n",
    "\n",
    "\n",
    "👉 All diagonal elements = 1.0\n",
    "\n",
    "\n",
    "👉 All other elements = 0.0"
   ]
  },
  {
   "cell_type": "code",
   "execution_count": 9,
   "id": "6a2eb667",
   "metadata": {},
   "outputs": [
    {
     "name": "stdout",
     "output_type": "stream",
     "text": [
      "[[1. 0. 0. 0. 0. 0.]\n",
      " [0. 1. 0. 0. 0. 0.]\n",
      " [0. 0. 1. 0. 0. 0.]\n",
      " [0. 0. 0. 1. 0. 0.]\n",
      " [0. 0. 0. 0. 1. 0.]\n",
      " [0. 0. 0. 0. 0. 1.]]\n"
     ]
    }
   ],
   "source": [
    "import numpy as np \n",
    "\n",
    "zeros = np.identity(6)\n",
    "print(zeros)"
   ]
  },
  {
   "cell_type": "markdown",
   "id": "be2cfe22",
   "metadata": {},
   "source": [
    "👉 np.full((5,6), \"Booked\") makes a 5 row × 6 column array\n",
    "\n",
    "\n",
    "👉 Every place is filled with the word \"Booked\""
   ]
  },
  {
   "cell_type": "code",
   "execution_count": 11,
   "id": "1b8cfb13",
   "metadata": {},
   "outputs": [
    {
     "name": "stdout",
     "output_type": "stream",
     "text": [
      "[['Booked' 'Booked' 'Booked' 'Booked' 'Booked' 'Booked']\n",
      " ['Booked' 'Booked' 'Booked' 'Booked' 'Booked' 'Booked']\n",
      " ['Booked' 'Booked' 'Booked' 'Booked' 'Booked' 'Booked']\n",
      " ['Booked' 'Booked' 'Booked' 'Booked' 'Booked' 'Booked']\n",
      " ['Booked' 'Booked' 'Booked' 'Booked' 'Booked' 'Booked']]\n"
     ]
    }
   ],
   "source": [
    "import numpy as np \n",
    "\n",
    "full_array = np.full((5,6),\"Booked\")\n",
    "\n",
    "print(full_array)"
   ]
  },
  {
   "cell_type": "markdown",
   "id": "fb23066b",
   "metadata": {},
   "source": [
    "👉 np.arange(start, stop, step)\n",
    "\n",
    "start = 10\n",
    "\n",
    "stop = 100 (not included)\n",
    "\n",
    "step = 2\n",
    "\n",
    "👉 So it makes numbers from 10 to 98, jumping by 2."
   ]
  },
  {
   "cell_type": "code",
   "execution_count": 15,
   "id": "3f32bc88",
   "metadata": {},
   "outputs": [
    {
     "name": "stdout",
     "output_type": "stream",
     "text": [
      "[10 12 14 16 18 20 22 24 26 28 30 32 34 36 38 40 42 44 46 48 50 52 54 56\n",
      " 58 60 62 64 66 68 70 72 74 76 78 80 82 84 86 88 90 92 94 96 98]\n"
     ]
    }
   ],
   "source": [
    "import numpy as np \n",
    "\n",
    "range_arr = np.arange(10,100,2)\n",
    "\n",
    "print(range_arr)"
   ]
  },
  {
   "cell_type": "markdown",
   "id": "da417f53",
   "metadata": {},
   "source": [
    "👉 np.linspace(start, stop, num)\n",
    "\n",
    "start = 1\n",
    "\n",
    "stop = 100 (included)\n",
    "\n",
    "num = 12 → total 12 values\n",
    "\n",
    "👉 It divides the range 1 to 100 into 12 equal parts.\n",
    "👉 Values are evenly spaced."
   ]
  },
  {
   "cell_type": "code",
   "execution_count": 20,
   "id": "897e0c78",
   "metadata": {},
   "outputs": [
    {
     "name": "stdout",
     "output_type": "stream",
     "text": [
      "[  1.  10.  19.  28.  37.  46.  55.  64.  73.  82.  91. 100.]\n"
     ]
    }
   ],
   "source": [
    "import numpy as np \n",
    "\n",
    "lin_space = np.linspace(1,100,12)\n",
    "\n",
    "print(lin_space)"
   ]
  },
  {
   "cell_type": "markdown",
   "id": "4d6b7f6c",
   "metadata": {},
   "source": [
    "👉 np.random.randint(low, high, size)\n",
    "\n",
    "low = 1 → starting number (included)\n",
    "\n",
    "high = 6 → ending number (not included)\n",
    "\n",
    "size = (5,5) → shape → 5 rows × 5 columns\n",
    "\n",
    "👉 So it makes a 5×5 matrix with random integers between 1 and 5.\n",
    "👉 Each time you run, numbers will change."
   ]
  },
  {
   "cell_type": "code",
   "execution_count": 23,
   "id": "4d2d7e1f",
   "metadata": {},
   "outputs": [
    {
     "name": "stdout",
     "output_type": "stream",
     "text": [
      "[[5 1 3 2 4]\n",
      " [4 5 5 5 2]\n",
      " [1 4 5 2 5]\n",
      " [2 5 3 3 1]\n",
      " [4 1 5 3 1]]\n"
     ]
    }
   ],
   "source": [
    "import numpy as np \n",
    "\n",
    "rand_int = np.random.randint(1, 6, (5,5))\n",
    "\n",
    "print(rand_int)"
   ]
  },
  {
   "cell_type": "markdown",
   "id": "bbc1c932",
   "metadata": {},
   "source": [
    "👉 np.random.randint(low, high)\n",
    "\n",
    "low = 1 → starting number (included)\n",
    "\n",
    "high = 10 → ending number (not included)\n",
    "\n",
    "👉 It generates a single random integer between 1 and 9.\n",
    "👉 Each time you run it, the number will change."
   ]
  },
  {
   "cell_type": "code",
   "execution_count": 26,
   "id": "847a844f",
   "metadata": {},
   "outputs": [
    {
     "name": "stdout",
     "output_type": "stream",
     "text": [
      "5\n"
     ]
    }
   ],
   "source": [
    "import numpy as np \n",
    "\n",
    "rand_int = np.random.randint(1,10)\n",
    "\n",
    "print(rand_int)"
   ]
  },
  {
   "cell_type": "markdown",
   "id": "8bf3be41",
   "metadata": {},
   "source": [
    "👉 np.random.rand(d1, d2, ...)\n",
    "\n",
    "Creates an array of random floats between 0 and 1\n",
    "\n",
    "Shape = (1,3) → 1 row × 3 columns"
   ]
  },
  {
   "cell_type": "code",
   "execution_count": 29,
   "id": "eef0ca10",
   "metadata": {},
   "outputs": [
    {
     "name": "stdout",
     "output_type": "stream",
     "text": [
      "[[0.45763305 0.66329656 0.83010555]\n",
      " [0.83761492 0.4349278  0.03237251]\n",
      " [0.88586862 0.3537047  0.92460732]\n",
      " [0.13508021 0.91060541 0.27407683]\n",
      " [0.12483283 0.9102353  0.58101076]\n",
      " [0.87751523 0.22408146 0.24295267]\n",
      " [0.72824209 0.60855454 0.16172392]\n",
      " [0.49517236 0.6708484  0.12721126]\n",
      " [0.93995995 0.93453929 0.6662584 ]\n",
      " [0.43043112 0.56127561 0.24772231]]\n"
     ]
    }
   ],
   "source": [
    "import numpy as np \n",
    "\n",
    "rand_float = np.random.rand(10,3)\n",
    "\n",
    "print(rand_float)"
   ]
  },
  {
   "cell_type": "markdown",
   "id": "3edb0271",
   "metadata": {},
   "source": [
    "👉 np.random.randn(3,3)\n",
    "\n",
    "Creates a 3×3 array\n",
    "\n",
    "Numbers are random floats from a normal (Gaussian) distribution\n",
    "\n",
    "Mean ≈ 0, Standard deviation ≈ 1"
   ]
  },
  {
   "cell_type": "code",
   "execution_count": 30,
   "id": "d87a1b34",
   "metadata": {},
   "outputs": [
    {
     "name": "stdout",
     "output_type": "stream",
     "text": [
      "[[ 0.52201155  0.22522393  0.65455982]\n",
      " [ 0.67839853 -1.39666462 -0.68539169]\n",
      " [ 0.35267696 -0.42953342 -0.22790321]]\n"
     ]
    }
   ],
   "source": [
    "import numpy as np \n",
    "\n",
    "random_norm = np.random.randn(3, 3)\n",
    "\n",
    "print(random_norm)"
   ]
  },
  {
   "cell_type": "markdown",
   "id": "c93add85",
   "metadata": {},
   "source": [
    "👉 np.random.choice(array, size)\n",
    "\n",
    "Picks random elements from the given array/list\n",
    "\n",
    "size = 2 → selects 2 random items"
   ]
  },
  {
   "cell_type": "code",
   "execution_count": 31,
   "id": "d95eca9b",
   "metadata": {},
   "outputs": [
    {
     "name": "stdout",
     "output_type": "stream",
     "text": [
      "['kohli' 'Jithesh']\n"
     ]
    }
   ],
   "source": [
    "import numpy as np\n",
    "\n",
    "rand_choice = np.random.choice(['kohli','Rajat', 'Jithesh', 'Salt'], 2)\n",
    "\n",
    "print(rand_choice)"
   ]
  },
  {
   "cell_type": "markdown",
   "id": "b89bcb9d",
   "metadata": {},
   "source": [
    "👉 np.random.seed(10)\n",
    "\n",
    "Sets the random number generator to a fixed state\n",
    "\n",
    "Ensures that the same random numbers are generated every time\n",
    "\n",
    "👉 np.random.randint(6)\n",
    "\n",
    "Generates one random integer from 0 to 5 (6 not included)"
   ]
  },
  {
   "cell_type": "code",
   "execution_count": null,
   "id": "742d5ad9",
   "metadata": {},
   "outputs": [
    {
     "name": "stdout",
     "output_type": "stream",
     "text": [
      "4\n"
     ]
    }
   ],
   "source": [
    "import numpy as np \n",
    "\n",
    "np.random.seed(10)\n",
    "\n",
    "rand_arr = np.random.randint(6)\n",
    "\n",
    "print(rand_arr)"
   ]
  }
 ],
 "metadata": {
  "kernelspec": {
   "display_name": "Python 3",
   "language": "python",
   "name": "python3"
  },
  "language_info": {
   "codemirror_mode": {
    "name": "ipython",
    "version": 3
   },
   "file_extension": ".py",
   "mimetype": "text/x-python",
   "name": "python",
   "nbconvert_exporter": "python",
   "pygments_lexer": "ipython3",
   "version": "3.12.1"
  }
 },
 "nbformat": 4,
 "nbformat_minor": 5
}

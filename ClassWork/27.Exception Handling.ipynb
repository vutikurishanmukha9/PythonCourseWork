{
 "cells": [
  {
   "cell_type": "markdown",
   "id": "2e5f58d2",
   "metadata": {},
   "source": [
    "**Exception Handling**"
   ]
  },
  {
   "cell_type": "markdown",
   "id": "8c44df85",
   "metadata": {},
   "source": [
    "Introduction to Exception Handling:\n",
    "\n",
    "\n",
    "Exception handling in Python is a mechanism to respond to runtime errors or exceptions. It\n",
    "helps maintain the normal flow of the program even when unexpected events occur. Without\n",
    "proper exception handling, errors can cause programs to crash."
   ]
  },
  {
   "cell_type": "code",
   "execution_count": 1,
   "id": "bb025d88",
   "metadata": {},
   "outputs": [
    {
     "name": "stdout",
     "output_type": "stream",
     "text": [
      "There is a Name Error You did'nt Defined the Name\n"
     ]
    }
   ],
   "source": [
    "try:\n",
    "    a = a + 10\n",
    "except NameError:\n",
    "    print(\"There is a Name Error You did'nt Defined the Name\")"
   ]
  },
  {
   "cell_type": "code",
   "execution_count": 4,
   "id": "8c54adbe",
   "metadata": {},
   "outputs": [
    {
     "name": "stdout",
     "output_type": "stream",
     "text": [
      "There is an Index error in your code\n"
     ]
    }
   ],
   "source": [
    "try:\n",
    "    a = 24\n",
    "    a = a + 35\n",
    "    l = [1,2,3,4,5,6]\n",
    "    k = l[10]\n",
    "except NameError:\n",
    "    print(\"There is a Name Error You did'nt Defined the Name\")\n",
    "\n",
    "except IndexError:\n",
    "    print(\"There is an Index error in your code\")\n"
   ]
  },
  {
   "cell_type": "code",
   "execution_count": null,
   "id": "a578c59e",
   "metadata": {},
   "outputs": [
    {
     "name": "stdout",
     "output_type": "stream",
     "text": [
      "165 : There is No Error In this Block that's why it has passed and printed the Correct Output\n",
      "8 : There is No Error In this Block that's why it has passed and printed the Correct Output\n",
      "1\n",
      "Enter the correct data type (e.g., enter a number instead of a string)\n"
     ]
    }
   ],
   "source": [
    "try:\n",
    "    # Assigning initial value to variable 'a'\n",
    "    a = 45  \n",
    "    \n",
    "    # Performing arithmetic operation\n",
    "    a = a + 120  \n",
    "    \n",
    "    # Printing the updated value of 'a'\n",
    "    print(f'{a} : There is No Error In this Block that\\'s why it has passed and printed the Correct Output')\n",
    "    \n",
    "    # Defining a list with 9 elements (index range 0 to 8)\n",
    "    l = [1,2,3,4,5,6,7,8,9]  \n",
    "    \n",
    "    # Accessing element at index 7 (valid index)\n",
    "    k = l[7]  \n",
    "    \n",
    "    # Printing the accessed element\n",
    "    print(f'{k} : There is No Error In this Block that\\'s why it has passed and printed the Correct Output')\n",
    "    \n",
    "    # Defining a dictionary with some key-value pairs\n",
    "    d = {1:1, 2:4, 3:9}  \n",
    "    \n",
    "    # Accessing dictionary value using key 1 (valid key)\n",
    "    print(d[1])  \n",
    "    \n",
    "    # Taking user input and converting it to integer\n",
    "    b = int(input(\"Enter the Input: \"))  \n",
    "    \n",
    "# Handling specific errors using exception blocks\n",
    "except NameError:\n",
    "    # This will execute if an undefined variable is used\n",
    "    print(\"There is a Name Error: You didn't define the name\")\n",
    "    \n",
    "except IndexError:\n",
    "    # This will execute if we try to access an invalid list index\n",
    "    print(\"The Index you are entering is out of range\")\n",
    "    \n",
    "except KeyError:\n",
    "    # This will execute if we try to access a key not present in dictionary\n",
    "    print(\"The Key is not declared in the dictionary\")\n",
    "    \n",
    "except ValueError:\n",
    "    # This will execute if the input cannot be converted to integer\n",
    "    print(\"Enter the correct data type (e.g., enter a number instead of a string)\")"
   ]
  },
  {
   "cell_type": "markdown",
   "id": "24f6e305",
   "metadata": {},
   "source": [
    "Writing all the errors in the single line"
   ]
  },
  {
   "cell_type": "code",
   "execution_count": null,
   "id": "87a3a1f7",
   "metadata": {},
   "outputs": [
    {
     "name": "stdout",
     "output_type": "stream",
     "text": [
      "165 : There is No Error In this Block thats why it as passed and printed the Correct Output\n",
      "8 : There There is No Error In this Block thats why it as passed and printed the Correct Output\n",
      "1\n",
      "Error Is Occured\n"
     ]
    }
   ],
   "source": [
    "try:\n",
    "    a = 45\n",
    "    a = a + 120\n",
    "    print(f'{a} : There is No Error In this Block thats why it as passed and printed the Correct Output')\n",
    "    l = [1,2,3,4,5,6,7,8,9]\n",
    "    k = l[7]\n",
    "    print(f'{k} : There There is No Error In this Block thats why it as passed and printed the Correct Output')\n",
    "    d = {1:1,2:4,3:9}\n",
    "    print(d[1])\n",
    "    b = int(input(\"Enter the Input\"))\n",
    "except (NameError, IndexError, KeyError, ValueError) as e:\n",
    "    print(\"Error Is Occured\")"
   ]
  },
  {
   "cell_type": "markdown",
   "id": "3979648a",
   "metadata": {},
   "source": [
    "When You dont know which error that might come we rigth in given way"
   ]
  },
  {
   "cell_type": "code",
   "execution_count": 15,
   "id": "03fa61bc",
   "metadata": {},
   "outputs": [
    {
     "name": "stdout",
     "output_type": "stream",
     "text": [
      "165\n",
      "8\n",
      "1\n",
      "Error Is Occured\n"
     ]
    }
   ],
   "source": [
    "try:\n",
    "    a = 45\n",
    "    a = a + 120\n",
    "    print(a)\n",
    "    l = [1,2,3,4,5,6,7,8,9]\n",
    "    k = l[7]\n",
    "    print(k)\n",
    "    d = {1:1,2:4,3:9}\n",
    "    print(d[1])\n",
    "    b = int(input(\"Enter the Input\"))\n",
    "except Exception as e:\n",
    "    print(\"Error Is Occured\")"
   ]
  },
  {
   "cell_type": "markdown",
   "id": "127d8a9f",
   "metadata": {},
   "source": [
    "**else**\n",
    "\n",
    "else block print the code if there is no errors in the else block then execute the code"
   ]
  },
  {
   "cell_type": "code",
   "execution_count": 16,
   "id": "f02d4b7f",
   "metadata": {},
   "outputs": [
    {
     "name": "stdout",
     "output_type": "stream",
     "text": [
      "165\n",
      "8\n",
      "1\n",
      "There is no errors \n"
     ]
    }
   ],
   "source": [
    "try:\n",
    "    a = 45\n",
    "    a = a + 120\n",
    "    print(a)\n",
    "    l = [1,2,3,4,5,6,7,8,9]\n",
    "    k = l[7]\n",
    "    print(k)\n",
    "    d = {1:1,2:4,3:9}\n",
    "    print(d[1])\n",
    "    b = int(input(\"Enter the Input\"))\n",
    "except Exception as e:\n",
    "    print(\"Error Is Occured\")\n",
    "else:\n",
    "    print(\"There is no errors \")"
   ]
  },
  {
   "cell_type": "markdown",
   "id": "c49c7664",
   "metadata": {},
   "source": [
    "**Finally**\n",
    "\n",
    "If There is an error in the else block also then the and after that the code will execute in the finally is the default block and it will execute the with respecti of the result "
   ]
  },
  {
   "cell_type": "code",
   "execution_count": 19,
   "id": "d842bdca",
   "metadata": {},
   "outputs": [
    {
     "name": "stdout",
     "output_type": "stream",
     "text": [
      "165\n",
      "8\n",
      "9\n",
      "There is no errors \n",
      "12\n",
      "There are no erros in the any part of the code and the complete Code git executed\n"
     ]
    }
   ],
   "source": [
    "try:\n",
    "    a = 45\n",
    "    a = a + 120\n",
    "    print(a)\n",
    "    l = [1,2,3,4,5,6,7,8,9]\n",
    "    k = l[7]\n",
    "    print(k)\n",
    "    d = {1:1,2:4,3:9}\n",
    "    print(d[3])\n",
    "    b = int(input(\"Enter the Input\"))\n",
    "except Exception as e:\n",
    "    print(\"Error Is Occured\")\n",
    "else:\n",
    "    print(\"There is no errors \")\n",
    "    print(b)\n",
    "finally:\n",
    "    print(\"There are no erros in the any part of the code and the complete Code git executed\")"
   ]
  },
  {
   "cell_type": "code",
   "execution_count": null,
   "id": "e9e06954",
   "metadata": {},
   "outputs": [
    {
     "name": "stdout",
     "output_type": "stream",
     "text": [
      "Error occurred at Enter the Postive value\n",
      "***********Remove your Card************\n"
     ]
    }
   ],
   "source": [
    "try:\n",
    "    amount = int(input(\"Enter the AMount: \"))\n",
    "    if amount < 0:\n",
    "        raise ValueError(\"Enter the Postive value\")\n",
    "except Exception as e:\n",
    "    print(f'Error occurred at {e}')\n",
    "else:\n",
    "    print(\"No errors\")\n",
    "    print(\"Remove the Card\")\n",
    "finally:\n",
    "    print(\"***********Remove your Card************\")"
   ]
  }
 ],
 "metadata": {
  "kernelspec": {
   "display_name": "Python 3",
   "language": "python",
   "name": "python3"
  },
  "language_info": {
   "codemirror_mode": {
    "name": "ipython",
    "version": 3
   },
   "file_extension": ".py",
   "mimetype": "text/x-python",
   "name": "python",
   "nbconvert_exporter": "python",
   "pygments_lexer": "ipython3",
   "version": "3.12.1"
  }
 },
 "nbformat": 4,
 "nbformat_minor": 5
}

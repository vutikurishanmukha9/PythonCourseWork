{
 "cells": [
  {
   "cell_type": "markdown",
   "id": "8f69dfad",
   "metadata": {},
   "source": [
    "Recursion Function"
   ]
  },
  {
   "cell_type": "code",
   "execution_count": 1,
   "id": "56916e30",
   "metadata": {},
   "outputs": [
    {
     "name": "stdout",
     "output_type": "stream",
     "text": [
      "0\n",
      "1\n",
      "2\n",
      "3\n",
      "4\n",
      "5\n",
      "6\n",
      "7\n",
      "8\n",
      "9\n",
      "10\n",
      "11\n"
     ]
    }
   ],
   "source": [
    "def numbers(n):\n",
    "    for i in range(n):\n",
    "        print(i)\n",
    "\n",
    "numbers(12)"
   ]
  },
  {
   "cell_type": "markdown",
   "id": "33f972f8",
   "metadata": {},
   "source": [
    "**Printing n numbers**"
   ]
  },
  {
   "cell_type": "code",
   "execution_count": 2,
   "id": "e95e34b5",
   "metadata": {},
   "outputs": [
    {
     "name": "stdout",
     "output_type": "stream",
     "text": [
      "1\n",
      "2\n",
      "3\n",
      "4\n",
      "5\n",
      "6\n",
      "7\n",
      "8\n",
      "9\n",
      "10\n",
      "11\n",
      "12\n",
      "13\n",
      "14\n",
      "15\n",
      "16\n",
      "17\n",
      "18\n",
      "19\n"
     ]
    }
   ],
   "source": [
    "def numbers(n):\n",
    "    if n == 20:\n",
    "        return \n",
    "    print(n)\n",
    "    return numbers(n+1)\n",
    "numbers(1)"
   ]
  },
  {
   "cell_type": "markdown",
   "id": "f998903d",
   "metadata": {},
   "source": [
    "**Sum of n numbers**"
   ]
  },
  {
   "cell_type": "code",
   "execution_count": 5,
   "id": "134b9ff4",
   "metadata": {},
   "outputs": [
    {
     "name": "stdout",
     "output_type": "stream",
     "text": [
      "1\n",
      "2\n",
      "3\n",
      "4\n",
      "5\n",
      "6\n",
      "7\n",
      "8\n",
      "9\n",
      "10\n",
      "11\n",
      "12\n",
      "13\n",
      "14\n",
      "15\n",
      "16\n",
      "17\n",
      "18\n",
      "19\n",
      "20\n",
      "231\n"
     ]
    }
   ],
   "source": [
    "def number(n):\n",
    "    if n == 21:\n",
    "        return n \n",
    "    print(n)\n",
    "    return n + number(n+1)\n",
    "\n",
    "print(number(1))"
   ]
  }
 ],
 "metadata": {
  "kernelspec": {
   "display_name": "Python 3",
   "language": "python",
   "name": "python3"
  },
  "language_info": {
   "codemirror_mode": {
    "name": "ipython",
    "version": 3
   },
   "file_extension": ".py",
   "mimetype": "text/x-python",
   "name": "python",
   "nbconvert_exporter": "python",
   "pygments_lexer": "ipython3",
   "version": "3.12.1"
  }
 },
 "nbformat": 4,
 "nbformat_minor": 5
}

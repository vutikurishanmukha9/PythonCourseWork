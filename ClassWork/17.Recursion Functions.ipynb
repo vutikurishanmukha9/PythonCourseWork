{
 "cells": [
  {
   "cell_type": "markdown",
   "id": "8f69dfad",
   "metadata": {},
   "source": [
    "Recursion Function"
   ]
  },
  {
   "cell_type": "code",
   "execution_count": 1,
   "id": "56916e30",
   "metadata": {},
   "outputs": [
    {
     "name": "stdout",
     "output_type": "stream",
     "text": [
      "0\n",
      "1\n",
      "2\n",
      "3\n",
      "4\n",
      "5\n",
      "6\n",
      "7\n",
      "8\n",
      "9\n",
      "10\n",
      "11\n"
     ]
    }
   ],
   "source": [
    "def numbers(n):\n",
    "    for i in range(n):\n",
    "        print(i)\n",
    "\n",
    "numbers(12)"
   ]
  },
  {
   "cell_type": "markdown",
   "id": "33f972f8",
   "metadata": {},
   "source": [
    "**Printing n numbers**"
   ]
  },
  {
   "cell_type": "code",
   "execution_count": 2,
   "id": "e95e34b5",
   "metadata": {},
   "outputs": [
    {
     "name": "stdout",
     "output_type": "stream",
     "text": [
      "1\n",
      "2\n",
      "3\n",
      "4\n",
      "5\n",
      "6\n",
      "7\n",
      "8\n",
      "9\n",
      "10\n",
      "11\n",
      "12\n",
      "13\n",
      "14\n",
      "15\n",
      "16\n",
      "17\n",
      "18\n",
      "19\n"
     ]
    }
   ],
   "source": [
    "def numbers(n):\n",
    "    if n == 20:\n",
    "        return \n",
    "    print(n)\n",
    "    return numbers(n+1)\n",
    "numbers(1)"
   ]
  },
  {
   "cell_type": "markdown",
   "id": "f998903d",
   "metadata": {},
   "source": [
    "**Sum of n numbers**"
   ]
  },
  {
   "cell_type": "code",
   "execution_count": 5,
   "id": "134b9ff4",
   "metadata": {},
   "outputs": [
    {
     "name": "stdout",
     "output_type": "stream",
     "text": [
      "1\n",
      "2\n",
      "3\n",
      "4\n",
      "5\n",
      "6\n",
      "7\n",
      "8\n",
      "9\n",
      "10\n",
      "11\n",
      "12\n",
      "13\n",
      "14\n",
      "15\n",
      "16\n",
      "17\n",
      "18\n",
      "19\n",
      "20\n",
      "231\n"
     ]
    }
   ],
   "source": [
    "def number(n):\n",
    "    if n == 21:\n",
    "        return n \n",
    "    print(n)\n",
    "    return n + number(n+1)\n",
    "\n",
    "print(number(1))"
   ]
  },
  {
   "cell_type": "markdown",
   "id": "44f3f5e4",
   "metadata": {},
   "source": [
    "**Product of numbers:**"
   ]
  },
  {
   "cell_type": "code",
   "execution_count": 7,
   "id": "07ce3b10",
   "metadata": {},
   "outputs": [
    {
     "name": "stdout",
     "output_type": "stream",
     "text": [
      "20\n",
      "19\n",
      "18\n",
      "17\n",
      "16\n",
      "15\n",
      "14\n",
      "13\n",
      "12\n",
      "11\n",
      "10\n",
      "9\n",
      "8\n",
      "7\n",
      "6\n",
      "5\n",
      "4\n",
      "3\n",
      "2\n",
      "2432902008176640000\n",
      "1\n",
      "2\n",
      "3\n",
      "4\n",
      "5\n",
      "6\n",
      "7\n",
      "8\n",
      "9\n",
      "10\n",
      "11\n",
      "12\n",
      "13\n",
      "14\n",
      "15\n",
      "16\n",
      "17\n",
      "18\n",
      "19\n",
      "2432902008176640000\n"
     ]
    }
   ],
   "source": [
    "'''Reveserse product'''\n",
    "def product(n):\n",
    "    if n == 1:\n",
    "        return n\n",
    "    print(n)\n",
    "    return n * product(n-1)\n",
    "print(product(20))\n",
    "\n",
    "'''Normal product'''\n",
    "def product(n):\n",
    "    if n == 20:\n",
    "        return n\n",
    "    print(n)\n",
    "    return n * product(n+1)\n",
    "print(product(1))"
   ]
  },
  {
   "cell_type": "markdown",
   "id": "4ed085eb",
   "metadata": {},
   "source": [
    "**Printing the each and every character in the string**:"
   ]
  },
  {
   "cell_type": "code",
   "execution_count": 21,
   "id": "8d2bfbe4",
   "metadata": {},
   "outputs": [
    {
     "name": "stdout",
     "output_type": "stream",
     "text": [
      "S\n",
      "h\n",
      "a\n",
      "n\n",
      "m\n",
      "u\n",
      "k\n",
      "h\n",
      "a\n"
     ]
    }
   ],
   "source": [
    "def display(s,ind):\n",
    "    if ind == len(s):\n",
    "        return \n",
    "    print(s[ind])\n",
    "    display(s,ind+1)\n",
    "s = \"Shanmukha\"\n",
    "display(s,0)"
   ]
  },
  {
   "cell_type": "markdown",
   "id": "6efebf9b",
   "metadata": {},
   "source": [
    "**Reversing a string using the Recursion**:"
   ]
  },
  {
   "cell_type": "code",
   "execution_count": null,
   "id": "260218a3",
   "metadata": {},
   "outputs": [],
   "source": [
    "def display(s,ind):\n",
    "    if ind == (len(s)):\n",
    "        return \n",
    "    print(s[ind:0:-1])\n",
    "    display(s,ind+1)\n",
    "s = \"Shanmukha\"\n",
    "display(s,len(s)-1)"
   ]
  },
  {
   "cell_type": "markdown",
   "id": "5f820b24",
   "metadata": {},
   "source": [
    "**Sum of digits using recursion**"
   ]
  },
  {
   "cell_type": "code",
   "execution_count": null,
   "id": "7c7d0061",
   "metadata": {},
   "outputs": [],
   "source": [
    "def sumofdigits(n):\n",
    "    if n <= 0:\n",
    "        return 0\n",
    "    return (n % 10) + sumofdigits(n // 10)\n",
    "n = int(input(\"Enter the Number: \"))\n",
    "print(sumofdigits(n))"
   ]
  }
 ],
 "metadata": {
  "kernelspec": {
   "display_name": "Python 3",
   "language": "python",
   "name": "python3"
  },
  "language_info": {
   "codemirror_mode": {
    "name": "ipython",
    "version": 3
   },
   "file_extension": ".py",
   "mimetype": "text/x-python",
   "name": "python",
   "nbconvert_exporter": "python",
   "pygments_lexer": "ipython3",
   "version": "3.12.1"
  }
 },
 "nbformat": 4,
 "nbformat_minor": 5
}

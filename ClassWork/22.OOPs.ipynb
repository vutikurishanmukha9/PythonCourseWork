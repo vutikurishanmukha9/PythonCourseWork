{
 "cells": [
  {
   "cell_type": "markdown",
   "id": "587822a1",
   "metadata": {},
   "source": [
    "**CLASS Creation**"
   ]
  },
  {
   "cell_type": "code",
   "execution_count": null,
   "id": "72f945df",
   "metadata": {},
   "outputs": [
    {
     "name": "stdout",
     "output_type": "stream",
     "text": [
      "Virat is added\n",
      "Mohammed is added\n",
      "Patidhar is added\n",
      "Sharma is added\n",
      "\n",
      "\n",
      "Added the 1.png\n",
      "Added the 2.png\n",
      "Added the 3.png\n",
      "Added the 4.png\n"
     ]
    }
   ],
   "source": [
    "class instagram:\n",
    "\n",
    "    def addingUsername(self,Username):\n",
    "        print(f'{Username} is added')\n",
    "    def uploadPost(self,name,postURL):\n",
    "        print(f'Added the {postURL}')\n",
    "\n",
    "kohli = instagram()\n",
    "siraj = instagram()\n",
    "rajat = instagram()\n",
    "jitesh = instagram()\n",
    "\n",
    "kohli.addingUsername(\"Virat\")\n",
    "siraj.addingUsername(\"Mohammed\")\n",
    "rajat.addingUsername(\"Patidhar\")\n",
    "jitesh.addingUsername(\"Sharma\")\n",
    "\n",
    "print(\"\\n\")\n",
    "\n",
    "kohli.uploadPost(\"Virat kohli\" , \"1.png\")\n",
    "siraj.uploadPost(\"Mohammed siraj\" , \"2.png\")\n",
    "rajat.uploadPost(\"Patidhar rajat\" , \"3.png\")\n",
    "jitesh.uploadPost(\"Sharma jitesh\" , \"4.png\")"
   ]
  },
  {
   "cell_type": "markdown",
   "id": "d4fe3ca4",
   "metadata": {},
   "source": [
    "The data which is in the hand of the user is called as the instant attributes,which can be changed from user to user."
   ]
  },
  {
   "cell_type": "code",
   "execution_count": 7,
   "id": "51b6f082",
   "metadata": {},
   "outputs": [],
   "source": [
    "class shopping:\n",
    "    discount = 10\n",
    "    cat = ['men','women','ele','skincare','footware'] #These are the class attributes which are default attribuyes where the user cant chaneg this \n",
    "\n",
    "    def placeorder(self,product):\n",
    "        self.product = product"
   ]
  }
 ],
 "metadata": {
  "kernelspec": {
   "display_name": "Python 3",
   "language": "python",
   "name": "python3"
  },
  "language_info": {
   "codemirror_mode": {
    "name": "ipython",
    "version": 3
   },
   "file_extension": ".py",
   "mimetype": "text/x-python",
   "name": "python",
   "nbconvert_exporter": "python",
   "pygments_lexer": "ipython3",
   "version": "3.12.1"
  }
 },
 "nbformat": 4,
 "nbformat_minor": 5
}

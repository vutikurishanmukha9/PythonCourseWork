{
 "cells": [
  {
   "cell_type": "markdown",
   "id": "0bbad6c3",
   "metadata": {},
   "source": [
    "**File and Directory Operations**"
   ]
  },
  {
   "cell_type": "markdown",
   "id": "97940b8a",
   "metadata": {},
   "source": [
    "r - read\n",
    "\n",
    "w - write\n",
    "\n",
    "a - append\n",
    "\n",
    "r+ - read + write\n",
    "\n",
    "w+ - write + read\n",
    "\n",
    "a+ - append + read"
   ]
  },
  {
   "cell_type": "code",
   "execution_count": null,
   "id": "42450053",
   "metadata": {},
   "outputs": [],
   "source": [
    "try:\n",
    "    file = open('Sample.txt','r')\n",
    "    read = file.read()\n",
    "    file.seek(0)\n",
    "    readlines = file.readlines()\n",
    "    file.seek(0)\n",
    "    readline = file.readline\n",
    "    file.seek(0)\n",
    "    print(read)\n",
    "    print(readlines)\n",
    "    print(readline)\n",
    "except Exception as e:\n",
    "    print(\"File is Absent\")"
   ]
  },
  {
   "cell_type": "code",
   "execution_count": null,
   "id": "d083de0a",
   "metadata": {},
   "outputs": [],
   "source": [
    "try:\n",
    "    file = open('Sample.txt','a')\n",
    "except FileNotFoundError:\n",
    "    print(\"File is not Present\")\n",
    "else:\n",
    "    file.write('RCB WON THE 2025 IPL TROPHY \\nKohli Finally WON the IPL Trophy AFter the 18 Years')\n",
    "    file.close()\n",
    "finally:\n",
    "    print(\"Rest of the Code\")\n"
   ]
  },
  {
   "cell_type": "code",
   "execution_count": null,
   "id": "30110931",
   "metadata": {},
   "outputs": [],
   "source": [
    "try:\n",
    "    file = open('Sample.txt','w+') #If we want to write and read the file we have use the append +\n",
    "except FileNotFoundError:\n",
    "    print(\"File is not Present\")\n",
    "else:\n",
    "    file.write('RCB WON THE 2025 IPL TROPHY and Kohli Finally WON the IPL Trophy AFter the 18 Years')\n",
    "    file.seek(0)\n",
    "    print(file.read())\n",
    "    file.close()\n",
    "finally:\n",
    "    print(\"Rest of the Code\")\n"
   ]
  },
  {
   "cell_type": "code",
   "execution_count": null,
   "id": "277c83ea",
   "metadata": {},
   "outputs": [],
   "source": [
    "with open('Sample.txt','r+') as file:\n",
    "    print(file.read())\n",
    "    file.write(\"\\nFile Operations\")\n",
    "    file.seek(0)\n",
    "    print(file.read())"
   ]
  },
  {
   "cell_type": "code",
   "execution_count": 49,
   "id": "41517c41",
   "metadata": {},
   "outputs": [
    {
     "name": "stdout",
     "output_type": "stream",
     "text": [
      "d:\\Git_Repo\\PythonCourseWork\\ClassWork\n"
     ]
    }
   ],
   "source": [
    "import os \n",
    "\n",
    "print(os.getcwd())\n",
    "if not os.path.exists('File Operations'):\n",
    "    os.mkdir('File Operations')\n"
   ]
  }
 ],
 "metadata": {
  "kernelspec": {
   "display_name": "Python 3",
   "language": "python",
   "name": "python3"
  },
  "language_info": {
   "codemirror_mode": {
    "name": "ipython",
    "version": 3
   },
   "file_extension": ".py",
   "mimetype": "text/x-python",
   "name": "python",
   "nbconvert_exporter": "python",
   "pygments_lexer": "ipython3",
   "version": "3.12.1"
  }
 },
 "nbformat": 4,
 "nbformat_minor": 5
}

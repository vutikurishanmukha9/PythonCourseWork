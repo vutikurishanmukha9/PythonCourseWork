{
 "cells": [
  {
   "cell_type": "markdown",
   "id": "0bbad6c3",
   "metadata": {},
   "source": [
    "**File and Directory Operations**"
   ]
  },
  {
   "cell_type": "markdown",
   "id": "97940b8a",
   "metadata": {},
   "source": [
    "r - read\n",
    "\n",
    "w - write\n",
    "\n",
    "a - append\n",
    "\n",
    "r+ - read + write\n",
    "\n",
    "w+ - write + read\n",
    "\n",
    "a+ - append + read"
   ]
  },
  {
   "cell_type": "code",
   "execution_count": 12,
   "id": "42450053",
   "metadata": {},
   "outputs": [
    {
     "name": "stdout",
     "output_type": "stream",
     "text": [
      "RCB WON THE 2025 IPL TROPHY and Kohli Finally WON the IPL Trophy AFter the 18 Years\n",
      "File Operations\n",
      "['RCB WON THE 2025 IPL TROPHY and Kohli Finally WON the IPL Trophy AFter the 18 Years\\n', 'File Operations']\n",
      "<built-in method readline of _io.TextIOWrapper object at 0x000002CDF7AF2180>\n"
     ]
    }
   ],
   "source": [
    "try:\n",
    "    file = open('Sample.txt','r')\n",
    "    read = file.read()\n",
    "    file.seek(0)\n",
    "    readlines = file.readlines()\n",
    "    file.seek(0)\n",
    "    readline = file.readline\n",
    "    file.seek(0)\n",
    "    print(read)\n",
    "    print(readlines)\n",
    "    print(readline)\n",
    "except Exception as e:\n",
    "    print(\"File is Absent\")"
   ]
  },
  {
   "cell_type": "code",
   "execution_count": 2,
   "id": "d083de0a",
   "metadata": {},
   "outputs": [
    {
     "name": "stdout",
     "output_type": "stream",
     "text": [
      "Rest of the Code\n"
     ]
    }
   ],
   "source": [
    "try:\n",
    "    file = open('Sample.txt','a')\n",
    "except FileNotFoundError:\n",
    "    print(\"File is not Present\")\n",
    "else:\n",
    "    file.write('RCB WON THE 2025 IPL TROPHY \\nKohli Finally WON the IPL Trophy AFter the 18 Years')\n",
    "    file.close()\n",
    "finally:\n",
    "    print(\"Rest of the Code\")\n"
   ]
  },
  {
   "cell_type": "code",
   "execution_count": 3,
   "id": "30110931",
   "metadata": {},
   "outputs": [
    {
     "name": "stdout",
     "output_type": "stream",
     "text": [
      "RCB WON THE 2025 IPL TROPHY and Kohli Finally WON the IPL Trophy AFter the 18 Years\n",
      "Rest of the Code\n"
     ]
    }
   ],
   "source": [
    "try:\n",
    "    file = open('Sample.txt','w+') #If we want to write and read the file we have use the append +\n",
    "except FileNotFoundError:\n",
    "    print(\"File is not Present\")\n",
    "else:\n",
    "    file.write('RCB WON THE 2025 IPL TROPHY and Kohli Finally WON the IPL Trophy AFter the 18 Years')\n",
    "    file.seek(0)\n",
    "    print(file.read())\n",
    "    file.close()\n",
    "finally:\n",
    "    print(\"Rest of the Code\")\n"
   ]
  },
  {
   "cell_type": "code",
   "execution_count": 4,
   "id": "277c83ea",
   "metadata": {},
   "outputs": [
    {
     "name": "stdout",
     "output_type": "stream",
     "text": [
      "RCB WON THE 2025 IPL TROPHY and Kohli Finally WON the IPL Trophy AFter the 18 Years\n",
      "RCB WON THE 2025 IPL TROPHY and Kohli Finally WON the IPL Trophy AFter the 18 Years\n",
      "File Operations\n"
     ]
    }
   ],
   "source": [
    "with open('Sample.txt','r+') as file:\n",
    "    print(file.read())\n",
    "    file.write(\"\\nFile Operations\")\n",
    "    file.seek(0)\n",
    "    print(file.read())"
   ]
  },
  {
   "cell_type": "code",
   "execution_count": 5,
   "id": "41517c41",
   "metadata": {},
   "outputs": [
    {
     "name": "stdout",
     "output_type": "stream",
     "text": [
      "d:\\Git_Repo\\PythonCourseWork\\ClassWork\n"
     ]
    }
   ],
   "source": [
    "import os \n",
    "\n",
    "print(os.getcwd())\n",
    "os.mkdir('File Operations')\n"
   ]
  },
  {
   "cell_type": "code",
   "execution_count": 6,
   "id": "a95fdcd1",
   "metadata": {},
   "outputs": [
    {
     "name": "stdout",
     "output_type": "stream",
     "text": [
      "d:\\Git_Repo\\PythonCourseWork\\ClassWork\n"
     ]
    }
   ],
   "source": [
    "import os \n",
    "\n",
    "print(os.getcwd())\n",
    "if not os.path.exists('File Operations'):\n",
    "    os.mkdir('File Operations')"
   ]
  },
  {
   "cell_type": "code",
   "execution_count": 7,
   "id": "55959054",
   "metadata": {},
   "outputs": [
    {
     "name": "stdout",
     "output_type": "stream",
     "text": [
      "d:\\Git_Repo\\PythonCourseWork\\ClassWork\n"
     ]
    }
   ],
   "source": [
    "import os \n",
    "print(os.getcwd())\n",
    "if not os.path.exists('File Operations'):\n",
    "    os.rmdir('File Operations')"
   ]
  },
  {
   "cell_type": "code",
   "execution_count": 8,
   "id": "3b2330e8",
   "metadata": {},
   "outputs": [
    {
     "name": "stdout",
     "output_type": "stream",
     "text": [
      "Current working directory: d:\\Git_Repo\\PythonCourseWork\\ClassWork\n"
     ]
    }
   ],
   "source": [
    "import os\n",
    "import shutil   \n",
    "\n",
    "print(\"Current working directory:\", os.getcwd())\n",
    "\n",
    "if not os.path.exists('File Operations'):\n",
    "    os.makedirs('File Operations/Shanmukh')  \n",
    "\n",
    "# remove folder and all contents\n",
    "shutil.rmtree('File Operations')\n"
   ]
  },
  {
   "cell_type": "code",
   "execution_count": 10,
   "id": "d95dbeff",
   "metadata": {},
   "outputs": [
    {
     "ename": "AttributeError",
     "evalue": "module 'os' has no attribute 'makedir'",
     "output_type": "error",
     "traceback": [
      "\u001b[31m---------------------------------------------------------------------------\u001b[39m",
      "\u001b[31mAttributeError\u001b[39m                            Traceback (most recent call last)",
      "\u001b[36mCell\u001b[39m\u001b[36m \u001b[39m\u001b[32mIn[10]\u001b[39m\u001b[32m, line 4\u001b[39m\n\u001b[32m      1\u001b[39m \u001b[38;5;28;01mimport\u001b[39;00m\u001b[38;5;250m \u001b[39m\u001b[34;01mos\u001b[39;00m\n\u001b[32m      3\u001b[39m \u001b[38;5;28;01mif\u001b[39;00m \u001b[38;5;129;01mnot\u001b[39;00m os.path.exists(\u001b[33m'\u001b[39m\u001b[33mFile Operations\u001b[39m\u001b[33m'\u001b[39m):\n\u001b[32m----> \u001b[39m\u001b[32m4\u001b[39m     \u001b[43mos\u001b[49m\u001b[43m.\u001b[49m\u001b[43mmakedir\u001b[49m(\u001b[33m'\u001b[39m\u001b[33mFile Operations\u001b[39m\u001b[33m'\u001b[39m)\n\u001b[32m      5\u001b[39m filepath = os.path.join(\u001b[33m'\u001b[39m\u001b[33mFile Operations\u001b[39m\u001b[33m'\u001b[39m,\u001b[33m'\u001b[39m\u001b[33mRCB.txt\u001b[39m\u001b[33m'\u001b[39m)\n",
      "\u001b[31mAttributeError\u001b[39m: module 'os' has no attribute 'makedir'"
     ]
    }
   ],
   "source": [
    "import os\n",
    "\n",
    "if not os.path.exists('File Operations'):\n",
    "    os.makedir('File Operations')\n",
    "filepath = os.path.join('File Operations','RCB.txt')\n"
   ]
  },
  {
   "cell_type": "code",
   "execution_count": null,
   "id": "68378e0e",
   "metadata": {},
   "outputs": [],
   "source": []
  }
 ],
 "metadata": {
  "kernelspec": {
   "display_name": "Python 3",
   "language": "python",
   "name": "python3"
  },
  "language_info": {
   "codemirror_mode": {
    "name": "ipython",
    "version": 3
   },
   "file_extension": ".py",
   "mimetype": "text/x-python",
   "name": "python",
   "nbconvert_exporter": "python",
   "pygments_lexer": "ipython3",
   "version": "3.12.1"
  }
 },
 "nbformat": 4,
 "nbformat_minor": 5
}

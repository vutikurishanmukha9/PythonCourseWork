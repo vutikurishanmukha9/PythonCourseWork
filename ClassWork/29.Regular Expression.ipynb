{
 "cells": [
  {
   "cell_type": "code",
   "execution_count": 6,
   "id": "918780b3",
   "metadata": {},
   "outputs": [
    {
     "name": "stdout",
     "output_type": "stream",
     "text": [
      "h\n"
     ]
    }
   ],
   "source": [
    "import re\n",
    "\n",
    "res = re.match(r'[a-z]','hello world')\n",
    "\n",
    "print(res.group() if res else \"No\")"
   ]
  },
  {
   "cell_type": "code",
   "execution_count": 7,
   "id": "f152165d",
   "metadata": {},
   "outputs": [
    {
     "name": "stdout",
     "output_type": "stream",
     "text": [
      "No\n"
     ]
    }
   ],
   "source": [
    "import re\n",
    "\n",
    "res = re.match(r'\\d','hello world')\n",
    "\n",
    "print(res.group() if res else \"No\")"
   ]
  },
  {
   "cell_type": "code",
   "execution_count": 8,
   "id": "d7ea8795",
   "metadata": {},
   "outputs": [
    {
     "name": "stdout",
     "output_type": "stream",
     "text": [
      "4\n"
     ]
    }
   ],
   "source": [
    "import re\n",
    "\n",
    "res = re.match(r'\\d','45hello world')\n",
    "\n",
    "print(res.group() if res else \"No\")"
   ]
  },
  {
   "cell_type": "code",
   "execution_count": 9,
   "id": "e8af078a",
   "metadata": {},
   "outputs": [
    {
     "name": "stdout",
     "output_type": "stream",
     "text": [
      "25\n"
     ]
    }
   ],
   "source": [
    "import re\n",
    "\n",
    "res = re.match(r'\\d{2}','25478hello world')\n",
    "\n",
    "print(res.group() if res else \"No\")"
   ]
  }
 ],
 "metadata": {
  "kernelspec": {
   "display_name": "Python 3",
   "language": "python",
   "name": "python3"
  },
  "language_info": {
   "codemirror_mode": {
    "name": "ipython",
    "version": 3
   },
   "file_extension": ".py",
   "mimetype": "text/x-python",
   "name": "python",
   "nbconvert_exporter": "python",
   "pygments_lexer": "ipython3",
   "version": "3.12.1"
  }
 },
 "nbformat": 4,
 "nbformat_minor": 5
}

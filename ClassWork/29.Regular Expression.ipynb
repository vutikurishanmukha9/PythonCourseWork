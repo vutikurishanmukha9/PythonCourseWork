{
 "cells": [
  {
   "cell_type": "code",
   "execution_count": 6,
   "id": "918780b3",
   "metadata": {},
   "outputs": [
    {
     "name": "stdout",
     "output_type": "stream",
     "text": [
      "h\n"
     ]
    }
   ],
   "source": [
    "import re\n",
    "\n",
    "res = re.match(r'[a-z]','hello world')\n",
    "\n",
    "print(res.group() if res else \"No\")"
   ]
  },
  {
   "cell_type": "code",
   "execution_count": 7,
   "id": "f152165d",
   "metadata": {},
   "outputs": [
    {
     "name": "stdout",
     "output_type": "stream",
     "text": [
      "No\n"
     ]
    }
   ],
   "source": [
    "import re\n",
    "\n",
    "res = re.match(r'\\d','hello world')\n",
    "\n",
    "print(res.group() if res else \"No\")"
   ]
  },
  {
   "cell_type": "code",
   "execution_count": 8,
   "id": "d7ea8795",
   "metadata": {},
   "outputs": [
    {
     "name": "stdout",
     "output_type": "stream",
     "text": [
      "4\n"
     ]
    }
   ],
   "source": [
    "import re\n",
    "\n",
    "res = re.match(r'\\d','45hello world')\n",
    "\n",
    "print(res.group() if res else \"No\")"
   ]
  },
  {
   "cell_type": "code",
   "execution_count": 9,
   "id": "e8af078a",
   "metadata": {},
   "outputs": [
    {
     "name": "stdout",
     "output_type": "stream",
     "text": [
      "25\n"
     ]
    }
   ],
   "source": [
    "import re\n",
    "\n",
    "res = re.match(r'\\d{2}','25478hello world')\n",
    "\n",
    "print(res.group() if res else \"No\")"
   ]
  },
  {
   "cell_type": "code",
   "execution_count": 18,
   "id": "54119f05",
   "metadata": {},
   "outputs": [
    {
     "name": "stdout",
     "output_type": "stream",
     "text": [
      "SH\n"
     ]
    }
   ],
   "source": [
    "import re\n",
    "res = re.match(r'[A-Z]{2}','SHanmukha')\n",
    "print(res.group() if res else \"No\")"
   ]
  },
  {
   "cell_type": "markdown",
   "id": "98fe2883",
   "metadata": {},
   "source": [
    "**Search**"
   ]
  },
  {
   "cell_type": "code",
   "execution_count": 23,
   "id": "a680a9b5",
   "metadata": {},
   "outputs": [
    {
     "name": "stdout",
     "output_type": "stream",
     "text": [
      "7892345678\n"
     ]
    }
   ],
   "source": [
    "import re\n",
    "result = re.search(r'[0-9]{10}','asdfghjk78923456789sdfghjkl23456789')\n",
    "print(result.group() if result else \"No\")"
   ]
  },
  {
   "cell_type": "code",
   "execution_count": 29,
   "id": "11a5a26a",
   "metadata": {},
   "outputs": [
    {
     "name": "stdout",
     "output_type": "stream",
     "text": [
      "No\n"
     ]
    }
   ],
   "source": [
    "import re\n",
    "result = re.search(r'[a,e,i,o,u]{5}','asdfghjklqwertyuiozxcvbnm,asdfghjklqwertyuiop')\n",
    "print(result.group() if result else \"No\")"
   ]
  },
  {
   "cell_type": "markdown",
   "id": "d09ad54c",
   "metadata": {},
   "source": [
    "**FindAll**"
   ]
  },
  {
   "cell_type": "code",
   "execution_count": 31,
   "id": "0edfd27b",
   "metadata": {},
   "outputs": [
    {
     "name": "stdout",
     "output_type": "stream",
     "text": [
      "['1', '2', '3', '4', '5', '6', '7', '8', '9', '0', '1', '2', '3', '4', '5', '6', '7', '8', '9', '0', '1', '2', '3', '4', '5', '6', '7', '8', '9', '0']\n"
     ]
    }
   ],
   "source": [
    "import re\n",
    "\n",
    "result = re.findall(r'[0-9]','1234567890-sdfghjklwertyuiop1234567890-1234567890')\n",
    "print(result)"
   ]
  },
  {
   "cell_type": "code",
   "execution_count": 35,
   "id": "6aceec44",
   "metadata": {},
   "outputs": [
    {
     "name": "stdout",
     "output_type": "stream",
     "text": [
      "['s', 'd', 'f', 'g', 'h', 'j', 'k', 'l', 'w', 'e', 'r', 't', 'y', 'u', 'i', 'o', 'p']\n"
     ]
    }
   ],
   "source": [
    "import re\n",
    "\n",
    "result = re.findall(r'[a-z]','1234567890-sdfghjklwertyuiop1234567890-1234567890')\n",
    "print(result)"
   ]
  },
  {
   "cell_type": "markdown",
   "id": "f474dd39",
   "metadata": {},
   "source": [
    "**Find Itter**"
   ]
  },
  {
   "cell_type": "code",
   "execution_count": 33,
   "id": "1189edec",
   "metadata": {},
   "outputs": [
    {
     "name": "stdout",
     "output_type": "stream",
     "text": [
      "1 0\n",
      "2 1\n",
      "3 2\n",
      "4 3\n",
      "5 4\n",
      "9 5\n",
      "0 6\n",
      "2 17\n",
      "3 18\n",
      "4 19\n",
      "5 20\n",
      "6 21\n",
      "7 22\n",
      "8 23\n",
      "9 24\n",
      "0 25\n"
     ]
    }
   ],
   "source": [
    "import re\n",
    "\n",
    "result = re.finditer(r'[0-9]{1}','1234590qwertyuiop234567890dfghjk')\n",
    "\n",
    "for i in result:\n",
    "    print(i.group(),i.start())"
   ]
  },
  {
   "cell_type": "code",
   "execution_count": 37,
   "id": "9ee58fc8",
   "metadata": {},
   "outputs": [
    {
     "name": "stdout",
     "output_type": "stream",
     "text": [
      "qw 7\n",
      "er 9\n",
      "ty 11\n",
      "ui 13\n",
      "op 15\n",
      "df 26\n",
      "gh 28\n",
      "jk 30\n"
     ]
    }
   ],
   "source": [
    "import re\n",
    "\n",
    "result = re.finditer(r'[a-z]{2}','1234590qwertyuiop234567890dfghjk')\n",
    "\n",
    "for i in result:\n",
    "    print(i.group(),i.start())"
   ]
  },
  {
   "cell_type": "markdown",
   "id": "ca9406f4",
   "metadata": {},
   "source": [
    "**full Match**"
   ]
  },
  {
   "cell_type": "code",
   "execution_count": 40,
   "id": "bf4dd576",
   "metadata": {},
   "outputs": [
    {
     "name": "stdout",
     "output_type": "stream",
     "text": [
      "No\n"
     ]
    }
   ],
   "source": [
    "import re\n",
    "\n",
    "result = re.fullmatch(r'[0-9]','0123456789')\n",
    "print(result.group() if result else \"No\")"
   ]
  },
  {
   "cell_type": "code",
   "execution_count": 43,
   "id": "7cbea525",
   "metadata": {},
   "outputs": [
    {
     "name": "stdout",
     "output_type": "stream",
     "text": [
      "01234567890123456789\n"
     ]
    }
   ],
   "source": [
    "import re\n",
    "result = re.fullmatch(r'[0-9]+', '01234567890123456789')\n",
    "print(result.group() if result else \"No\")"
   ]
  },
  {
   "cell_type": "code",
   "execution_count": 45,
   "id": "10f52649",
   "metadata": {},
   "outputs": [
    {
     "name": "stdout",
     "output_type": "stream",
     "text": [
      "0123456789\n"
     ]
    }
   ],
   "source": [
    "import re\n",
    "result = re.fullmatch(r'[0-9]*', '0123456789')\n",
    "print(result.group() if result else \"No\")"
   ]
  },
  {
   "cell_type": "code",
   "execution_count": 48,
   "id": "1fc94f8c",
   "metadata": {},
   "outputs": [
    {
     "name": "stdout",
     "output_type": "stream",
     "text": [
      "9638527412\n"
     ]
    }
   ],
   "source": [
    "import re\n",
    "result = re.fullmatch(r'\\d{10}','9638527412')\n",
    "print(result.group() if result else \"NO\")"
   ]
  },
  {
   "cell_type": "code",
   "execution_count": null,
   "id": "f5172973",
   "metadata": {},
   "outputs": [
    {
     "name": "stdout",
     "output_type": "stream",
     "text": [
      "9638527412\n"
     ]
    }
   ],
   "source": [
    "import re\n",
    "result = re.fullmatch(r'^[6-9]\\d{9}','9638527412')\n",
    "print(result.group() if result else \"NO\")"
   ]
  },
  {
   "cell_type": "code",
   "execution_count": 55,
   "id": "215b9c60",
   "metadata": {},
   "outputs": [
    {
     "name": "stdout",
     "output_type": "stream",
     "text": [
      "['Aio', 'Aqw', 'Acv', 'Axd', 'Ayc']\n"
     ]
    }
   ],
   "source": [
    "import re\n",
    "result = re.findall(r'A..','Aio Aqw Acv Axd Ayc')\n",
    "print(result)"
   ]
  }
 ],
 "metadata": {
  "kernelspec": {
   "display_name": "Python 3",
   "language": "python",
   "name": "python3"
  },
  "language_info": {
   "codemirror_mode": {
    "name": "ipython",
    "version": 3
   },
   "file_extension": ".py",
   "mimetype": "text/x-python",
   "name": "python",
   "nbconvert_exporter": "python",
   "pygments_lexer": "ipython3",
   "version": "3.12.1"
  }
 },
 "nbformat": 4,
 "nbformat_minor": 5
}

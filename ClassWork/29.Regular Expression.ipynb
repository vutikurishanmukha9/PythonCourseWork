{
 "cells": [
  {
   "cell_type": "code",
   "execution_count": null,
   "id": "918780b3",
   "metadata": {},
   "outputs": [],
   "source": [
    "import re\n",
    "\n",
    "res = re.match(r'[a-z]','hello world')\n",
    "\n",
    "print(res.group() if res else \"No\")"
   ]
  },
  {
   "cell_type": "code",
   "execution_count": null,
   "id": "f152165d",
   "metadata": {},
   "outputs": [],
   "source": [
    "import re\n",
    "\n",
    "res = re.match(r'\\d','hello world')\n",
    "\n",
    "print(res.group() if res else \"No\")"
   ]
  },
  {
   "cell_type": "code",
   "execution_count": null,
   "id": "d7ea8795",
   "metadata": {},
   "outputs": [],
   "source": [
    "import re\n",
    "\n",
    "res = re.match(r'\\d','45hello world')\n",
    "\n",
    "print(res.group() if res else \"No\")"
   ]
  },
  {
   "cell_type": "code",
   "execution_count": null,
   "id": "e8af078a",
   "metadata": {},
   "outputs": [],
   "source": [
    "import re\n",
    "\n",
    "res = re.match(r'\\d{2}','25478hello world')\n",
    "\n",
    "print(res.group() if res else \"No\")"
   ]
  },
  {
   "cell_type": "code",
   "execution_count": null,
   "id": "54119f05",
   "metadata": {},
   "outputs": [],
   "source": [
    "import re\n",
    "res = re.match(r'[A-Z]{2}','SHanmukha')\n",
    "print(res.group() if res else \"No\")"
   ]
  },
  {
   "cell_type": "markdown",
   "id": "98fe2883",
   "metadata": {},
   "source": [
    "**Search**"
   ]
  },
  {
   "cell_type": "code",
   "execution_count": null,
   "id": "a680a9b5",
   "metadata": {},
   "outputs": [],
   "source": [
    "import re\n",
    "result = re.search(r'[0-9]{10}','asdfghjk78923456789sdfghjkl23456789')\n",
    "print(result.group() if result else \"No\")"
   ]
  },
  {
   "cell_type": "code",
   "execution_count": null,
   "id": "11a5a26a",
   "metadata": {},
   "outputs": [],
   "source": [
    "import re\n",
    "result = re.search(r'[a,e,i,o,u]{5}','asdfghjklqwertyuiozxcvbnm,asdfghjklqwertyuiop')\n",
    "print(result.group() if result else \"No\")"
   ]
  },
  {
   "cell_type": "markdown",
   "id": "d09ad54c",
   "metadata": {},
   "source": [
    "**FindAll**"
   ]
  },
  {
   "cell_type": "code",
   "execution_count": null,
   "id": "0edfd27b",
   "metadata": {},
   "outputs": [],
   "source": [
    "import re\n",
    "\n",
    "result = re.findall(r'[0-9]','1234567890-sdfghjklwertyuiop1234567890-1234567890')\n",
    "print(result)"
   ]
  },
  {
   "cell_type": "code",
   "execution_count": null,
   "id": "6aceec44",
   "metadata": {},
   "outputs": [],
   "source": [
    "import re\n",
    "\n",
    "result = re.findall(r'[a-z]','1234567890-sdfghjklwertyuiop1234567890-1234567890')\n",
    "print(result)"
   ]
  },
  {
   "cell_type": "markdown",
   "id": "f474dd39",
   "metadata": {},
   "source": [
    "**Find Itter**"
   ]
  },
  {
   "cell_type": "code",
   "execution_count": null,
   "id": "1189edec",
   "metadata": {},
   "outputs": [],
   "source": [
    "import re\n",
    "\n",
    "result = re.finditer(r'[0-9]{1}','1234590qwertyuiop234567890dfghjk')\n",
    "\n",
    "for i in result:\n",
    "    print(i.group(),i.start())"
   ]
  },
  {
   "cell_type": "code",
   "execution_count": null,
   "id": "9ee58fc8",
   "metadata": {},
   "outputs": [],
   "source": [
    "import re\n",
    "\n",
    "result = re.finditer(r'[a-z]{2}','1234590qwertyuiop234567890dfghjk')\n",
    "\n",
    "for i in result:\n",
    "    print(i.group(),i.start())"
   ]
  },
  {
   "cell_type": "markdown",
   "id": "ca9406f4",
   "metadata": {},
   "source": [
    "**full Match**"
   ]
  },
  {
   "cell_type": "code",
   "execution_count": null,
   "id": "bf4dd576",
   "metadata": {},
   "outputs": [],
   "source": [
    "import re\n",
    "\n",
    "result = re.fullmatch(r'[0-9]','0123456789')\n",
    "print(result.group() if result else \"No\")"
   ]
  },
  {
   "cell_type": "code",
   "execution_count": null,
   "id": "7cbea525",
   "metadata": {},
   "outputs": [],
   "source": [
    "import re\n",
    "result = re.fullmatch(r'[0-9]+', '01234567890123456789')\n",
    "print(result.group() if result else \"No\")"
   ]
  },
  {
   "cell_type": "code",
   "execution_count": null,
   "id": "10f52649",
   "metadata": {},
   "outputs": [],
   "source": [
    "import re\n",
    "result = re.fullmatch(r'[0-9]*', '0123456789')\n",
    "print(result.group() if result else \"No\")"
   ]
  },
  {
   "cell_type": "code",
   "execution_count": null,
   "id": "1fc94f8c",
   "metadata": {},
   "outputs": [],
   "source": [
    "import re\n",
    "result = re.fullmatch(r'\\d{10}','9638527412')\n",
    "print(result.group() if result else \"NO\")"
   ]
  },
  {
   "cell_type": "code",
   "execution_count": null,
   "id": "f5172973",
   "metadata": {},
   "outputs": [],
   "source": [
    "import re\n",
    "result = re.fullmatch(r'^[6-9]\\d{9}','9638527412')\n",
    "print(result.group() if result else \"NO\")"
   ]
  },
  {
   "cell_type": "code",
   "execution_count": null,
   "id": "215b9c60",
   "metadata": {},
   "outputs": [],
   "source": [
    "import re\n",
    "result = re.findall(r'A..','Aio Aqw Acv Axd Ayc')\n",
    "print(result)"
   ]
  },
  {
   "cell_type": "code",
   "execution_count": null,
   "id": "f6631e47",
   "metadata": {},
   "outputs": [],
   "source": [
    "import re\n",
    "result = re.findall(r'\\w+\\s','asdf asdfgh wertyu cvbnm')\n",
    "print(result)"
   ]
  },
  {
   "cell_type": "markdown",
   "id": "2de47c4d",
   "metadata": {},
   "source": [
    "**Split**"
   ]
  },
  {
   "cell_type": "code",
   "execution_count": null,
   "id": "dc4ebcf3",
   "metadata": {},
   "outputs": [],
   "source": [
    "import re\n",
    "result = re.split(r'[s]','adfgsadfghjklsaswdswerfds')\n",
    "print(result)"
   ]
  },
  {
   "cell_type": "markdown",
   "id": "19ce284f",
   "metadata": {},
   "source": [
    "**SUB**"
   ]
  },
  {
   "cell_type": "code",
   "execution_count": null,
   "id": "86b0f3d7",
   "metadata": {},
   "outputs": [],
   "source": [
    "import re\n",
    "res = re.sub(r'[s]','/*-+','asdfhasdghasdgh')\n",
    "print(res)"
   ]
  },
  {
   "cell_type": "code",
   "execution_count": null,
   "id": "2598dae9",
   "metadata": {},
   "outputs": [
    {
     "name": "stdout",
     "output_type": "stream",
     "text": [
      "NO\n"
     ]
    }
   ],
   "source": [
    "import re\n",
    "res = re.search(r'[asdfghk][9]$', 'qwertyu9')\n",
    "print(res.group() if res else \"NO\")\n"
   ]
  },
  {
   "cell_type": "code",
   "execution_count": 70,
   "id": "e248b65f",
   "metadata": {},
   "outputs": [
    {
     "name": "stdout",
     "output_type": "stream",
     "text": [
      "['34', '56', '75', '47', '25', '45', '54', '52', '01', '54', '55']\n"
     ]
    }
   ],
   "source": [
    "import re \n",
    "res = re.findall(r'\\d{2}\\b','34 56 75 47 25 45 78954 55152 1445201 11622154 0022121210555')\n",
    "print(res)"
   ]
  },
  {
   "cell_type": "code",
   "execution_count": null,
   "id": "341d7972",
   "metadata": {},
   "outputs": [],
   "source": [
    "import re\n",
    "from datetime import datetime\n",
    "\n",
    "# 1. Validate Full Name\n",
    "def validate_name(name):\n",
    "    pattern = r'^[A-Za-z]{2,25}( [A-Za-z]{2,25})+$'\n",
    "    return bool(re.fullmatch(pattern, name))\n",
    "\n",
    "# 2. Validate Email\n",
    "def validate_email(email):\n",
    "    pattern = r'^[a-zA-Z0-9._]+@[a-zA-Z0-9.-]+\\.[a-zA-Z]{2,}$'\n",
    "    return bool(re.fullmatch(pattern, email))\n",
    "\n",
    "# 3. Validate Phone Number\n",
    "def validate_phone(phone):\n",
    "    pattern = r'^(?:\\+91|0)?[6-9]\\d{9}$'\n",
    "    return bool(re.fullmatch(pattern, phone))\n",
    "\n",
    "# 4. Validate Password\n",
    "def validate_password(password):\n",
    "    pattern = r'^(?=.*[A-Z])(?=.*[a-z])(?=.*\\d)(?=.*[@$!%*?&])[A-Za-z\\d@$!%*?&]{8,}$'\n",
    "    return bool(re.fullmatch(pattern, password))\n",
    "\n",
    "# 5. Validate Age\n",
    "def validate_age(age):\n",
    "    if not age.isdigit():\n",
    "        return False\n",
    "    age = int(age)\n",
    "    return 10 <= age <= 99\n",
    "\n",
    "# 6. Validate Username\n",
    "def validate_username(username):\n",
    "    pattern = r'^[a-zA-Z0-9]{5,15}$'\n",
    "    return bool(re.fullmatch(pattern, username))\n",
    "\n",
    "# 7. Validate Date of Birth using datetime\n",
    "def validate_dob(dob):\n",
    "    try:\n",
    "        datetime.strptime(dob, \"%Y-%m-%d\")\n",
    "        return True\n",
    "    except ValueError:\n",
    "        return False\n",
    "\n",
    "# 8. Validate Address\n",
    "def validate_address(address):\n",
    "    return len(address.strip()) >= 10\n",
    "\n",
    "# Function to repeatedly ask until valid\n",
    "def get_valid_input(prompt, validation_func):\n",
    "    while True:\n",
    "        user_input = input(prompt)\n",
    "        if validation_func(user_input):\n",
    "            return user_input\n",
    "        else:\n",
    "            print(\"Invalid input. Please try again.\")\n",
    "\n",
    "def main():\n",
    "    print(\"\\nFORM VALIDATION PROGRAM USING REGULAR EXPRESSIONS\\n\")\n",
    "\n",
    "    name = get_valid_input(\"Enter your full name (e.g., John Doe): \", validate_name)\n",
    "    email = get_valid_input(\"Enter your email: \", validate_email)\n",
    "    phone = get_valid_input(\"Enter your phone number: \", validate_phone)\n",
    "    username = get_valid_input(\"Create a username (5-15 alphanumeric characters): \", validate_username)\n",
    "    password = get_valid_input(\"Create a password (min 8 chars, 1 uppercase, 1 number, 1 special char): \", validate_password)\n",
    "    age = get_valid_input(\"Enter your age (10–99): \", validate_age)\n",
    "    dob = get_valid_input(\"Enter your Date of Birth (YYYY-MM-DD): \", validate_dob)\n",
    "    address = get_valid_input(\"Enter your address (min 10 characters): \", validate_address)\n",
    "\n",
    "    print(\"\\nAll fields validated successfully.\")\n",
    "    print(\"Form submitted successfully.\")\n",
    "\n",
    "if __name__ == \"__main__\":\n",
    "    main()"
   ]
  },
  {
   "cell_type": "code",
   "execution_count": 71,
   "id": "341d7972",
   "metadata": {},
   "outputs": [
    {
     "name": "stdout",
     "output_type": "stream",
     "text": [
      "\n",
      "FORM VALIDATION PROGRAM USING REGULAR EXPRESSIONS\n",
      "\n",
      "Invalid input. Please try again.\n",
      "Invalid input. Please try again.\n",
      "Invalid input. Please try again.\n",
      "Invalid input. Please try again.\n",
      "\n",
      "All fields validated successfully.\n",
      "Form submitted successfully.\n"
     ]
    }
   ],
   "source": [
    "import re\n",
    "from datetime import datetime\n",
    "\n",
    "# 1. Validate Full Name\n",
    "def validate_name(name):\n",
    "    pattern = r'^[A-Za-z]{2,25}( [A-Za-z]{2,25})+$'\n",
    "    return bool(re.fullmatch(pattern, name))\n",
    "\n",
    "# 2. Validate Email\n",
    "def validate_email(email):\n",
    "    pattern = r'^[a-zA-Z0-9._]+@[a-zA-Z0-9.-]+\\.[a-zA-Z]{2,}$'\n",
    "    return bool(re.fullmatch(pattern, email))\n",
    "\n",
    "# 3. Validate Phone Number\n",
    "def validate_phone(phone):\n",
    "    pattern = r'^(?:\\+91|0)?[6-9]\\d{9}$'\n",
    "    return bool(re.fullmatch(pattern, phone))\n",
    "\n",
    "# 4. Validate Password\n",
    "def validate_password(password):\n",
    "    pattern = r'^(?=.*[A-Z])(?=.*[a-z])(?=.*\\d)(?=.*[@$!%*?&])[A-Za-z\\d@$!%*?&]{8,}$'\n",
    "    return bool(re.fullmatch(pattern, password))\n",
    "\n",
    "# 5. Validate Age\n",
    "def validate_age(age):\n",
    "    if not age.isdigit():\n",
    "        return False\n",
    "    age = int(age)\n",
    "    return 10 <= age <= 99\n",
    "\n",
    "# 6. Validate Username\n",
    "def validate_username(username):\n",
    "    pattern = r'^[a-zA-Z0-9]{5,15}$'\n",
    "    return bool(re.fullmatch(pattern, username))\n",
    "\n",
    "# 7. Validate Date of Birth using datetime\n",
    "def validate_dob(dob):\n",
    "    try:\n",
    "        datetime.strptime(dob, \"%Y-%m-%d\")\n",
    "        return True\n",
    "    except ValueError:\n",
    "        return False\n",
    "\n",
    "# 8. Validate Address\n",
    "def validate_address(address):\n",
    "    return len(address.strip()) >= 10\n",
    "\n",
    "# Function to repeatedly ask until valid\n",
    "def get_valid_input(prompt, validation_func):\n",
    "    while True:\n",
    "        user_input = input(prompt)\n",
    "        if validation_func(user_input):\n",
    "            return user_input\n",
    "        else:\n",
    "            print(\"Invalid input. Please try again.\")\n",
    "\n",
    "def main():\n",
    "    print(\"\\nFORM VALIDATION PROGRAM USING REGULAR EXPRESSIONS\\n\")\n",
    "\n",
    "    name = get_valid_input(\"Enter your full name (e.g., John Doe): \", validate_name)\n",
    "    email = get_valid_input(\"Enter your email: \", validate_email)\n",
    "    phone = get_valid_input(\"Enter your phone number: \", validate_phone)\n",
    "    username = get_valid_input(\"Create a username (5-15 alphanumeric characters): \", validate_username)\n",
    "    password = get_valid_input(\"Create a password (min 8 chars, 1 uppercase, 1 number, 1 special char): \", validate_password)\n",
    "    age = get_valid_input(\"Enter your age (10–99): \", validate_age)\n",
    "    dob = get_valid_input(\"Enter your Date of Birth (YYYY-MM-DD): \", validate_dob)\n",
    "    address = get_valid_input(\"Enter your address (min 10 characters): \", validate_address)\n",
    "\n",
    "    print(\"\\nAll fields validated successfully.\")\n",
    "    print(\"Form submitted successfully.\")\n",
    "\n",
    "if __name__ == \"__main__\":\n",
    "    main()"
   ]
  },
  {
   "cell_type": "code",
   "execution_count": null,
   "id": "9989d1fc",
   "metadata": {},
   "outputs": [],
   "source": [
    "pattern = r'^[A-Za-z]{2,25}( [A-Za-z]{2,25})+$' #Full Name\n",
    "\n",
    "pattern = r'^[a-zA-Z0-9._]+@[a-zA-Z0-9.-]+\\.[a-zA-Z]{2,}$' #Email\n",
    "\n",
    "pattern = r'^(?:\\+91|0)?[6-9]\\d{9}$' #Phone Number\n",
    "\n",
    "pattern = r'^(?=.*[A-Z])(?=.*[a-z])(?=.*\\d)(?=.*[@$!%*?&])[A-Za-z\\d@$!%*?&]{8,}$' #Password\n",
    "\n",
    "\n"
   ]
  }
 ],
 "metadata": {
  "kernelspec": {
   "display_name": "Python 3",
   "language": "python",
   "name": "python3"
  },
  "language_info": {
   "codemirror_mode": {
    "name": "ipython",
    "version": 3
   },
   "file_extension": ".py",
   "mimetype": "text/x-python",
   "name": "python",
   "nbconvert_exporter": "python",
   "pygments_lexer": "ipython3",
   "version": "3.12.1"
  }
 },
 "nbformat": 4,
 "nbformat_minor": 5
}

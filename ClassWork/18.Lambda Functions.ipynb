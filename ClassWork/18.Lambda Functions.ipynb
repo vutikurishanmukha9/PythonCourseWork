{
 "cells": [
  {
   "cell_type": "markdown",
   "id": "ec9f5ecd",
   "metadata": {},
   "source": [
    "**LMBDA functions:**\n",
    "It is the shortest form of the function . \n",
    "It is used to define a function with a single expression. It is a shorthand for lambda x : x**2. \n",
    "It is used to define small anonymous functions. It is used to define functions "
   ]
  },
  {
   "cell_type": "markdown",
   "id": "34e860c1",
   "metadata": {},
   "source": [
    "Syntax for lambda"
   ]
  },
  {
   "cell_type": "code",
   "execution_count": 1,
   "id": "2ab364dd",
   "metadata": {},
   "outputs": [
    {
     "data": {
      "text/plain": [
       "'var = lambda arg: expr\\nlambda arg\\n'"
      ]
     },
     "execution_count": 1,
     "metadata": {},
     "output_type": "execute_result"
    }
   ],
   "source": [
    "'''var = lambda arg: expr\n",
    "lambda arg\n",
    "'''"
   ]
  },
  {
   "cell_type": "code",
   "execution_count": 2,
   "id": "1f1d65fb",
   "metadata": {},
   "outputs": [
    {
     "name": "stdout",
     "output_type": "stream",
     "text": [
      "add_lambda 300\n",
      "300\n"
     ]
    }
   ],
   "source": [
    "def add(a,b):\n",
    "    print(a+b)\n",
    "\n",
    "add_lambda = lambda a,b: a+b\n",
    "print(\"add_lambda\",add_lambda(100,200))\n",
    "\n",
    "add(100,200)"
   ]
  },
  {
   "cell_type": "code",
   "execution_count": 3,
   "id": "5e507859",
   "metadata": {},
   "outputs": [
    {
     "name": "stdout",
     "output_type": "stream",
     "text": [
      "odd_even_lambda Even\n"
     ]
    }
   ],
   "source": [
    "def odd_even(n):\n",
    "    if n % 2 == 0:\n",
    "        print(\"True\")\n",
    "    else:\n",
    "        print(\"Flase\")\n",
    "    \n",
    "odd_even_lambda = lambda n: \"Even\" if n % 2 == 0   else \"Odd\"\n",
    "print(\"odd_even_lambda\",odd_even_lambda(100))"
   ]
  },
  {
   "cell_type": "code",
   "execution_count": 4,
   "id": "2017b15e",
   "metadata": {},
   "outputs": [
    {
     "name": "stdout",
     "output_type": "stream",
     "text": [
      "10\n"
     ]
    }
   ],
   "source": [
    "maxnum = lambda a,b : a if a>b else b\n",
    "print(maxnum(5,10))"
   ]
  },
  {
   "cell_type": "code",
   "execution_count": 5,
   "id": "6de25ceb",
   "metadata": {},
   "outputs": [
    {
     "name": "stdout",
     "output_type": "stream",
     "text": [
      "10000\n"
     ]
    }
   ],
   "source": [
    "product = lambda a,b: a*b\n",
    "a = int(input(\"Enter the input: \"))\n",
    "b = int(input(\"Enter the input: \"))\n",
    "print(product(a,b))"
   ]
  },
  {
   "cell_type": "code",
   "execution_count": 6,
   "id": "deaa6fa9",
   "metadata": {},
   "outputs": [
    {
     "name": "stdout",
     "output_type": "stream",
     "text": [
      "[(1, 2), (10, 20), (100, 200), (500, 750)]\n"
     ]
    }
   ],
   "source": [
    "s = sorted([(1,2),(10,20),(100,200),(500,750)], key = lambda i:i[1])\n",
    "print(s)"
   ]
  },
  {
   "cell_type": "code",
   "execution_count": 7,
   "id": "45a7ba2c",
   "metadata": {},
   "outputs": [
    {
     "name": "stdout",
     "output_type": "stream",
     "text": [
      "[(450, 850, 100), (100, 450, 123), (450, 780, 789)]\n"
     ]
    }
   ],
   "source": [
    "s = sorted([(100,450,123),(450,780,789),(450,850,100)],key = lambda i:i[-1])\n",
    "print(s)"
   ]
  },
  {
   "cell_type": "markdown",
   "id": "995142fb",
   "metadata": {},
   "source": [
    "**Filter**"
   ]
  },
  {
   "cell_type": "code",
   "execution_count": 8,
   "id": "b77752ff",
   "metadata": {},
   "outputs": [
    {
     "name": "stdout",
     "output_type": "stream",
     "text": [
      "[2, 4, 6, 8]\n"
     ]
    }
   ],
   "source": [
    "q = [1,2,3,4,5,6,7,8,9]\n",
    "e = list(filter(lambda i : i % 2 == 0,q))\n",
    "\n",
    "print(e)"
   ]
  },
  {
   "cell_type": "code",
   "execution_count": 9,
   "id": "f45b086e",
   "metadata": {},
   "outputs": [
    {
     "name": "stdout",
     "output_type": "stream",
     "text": [
      "[1, 2, 3, 4, 5, 6, 7, 8, 9, 1, 2, 3, 5, 4]\n"
     ]
    }
   ],
   "source": [
    "s = [1,0,2,0,3,0,4,0,5,0,6,0,7,0,8,0,9,0,0,0,0,0,0,0,1,2,3,5,4]\n",
    "\n",
    "q = list(filter(lambda i : i != 0, s))\n",
    "\n",
    "print(q)"
   ]
  },
  {
   "cell_type": "code",
   "execution_count": 10,
   "id": "ac8b6734",
   "metadata": {},
   "outputs": [
    {
     "name": "stdout",
     "output_type": "stream",
     "text": [
      "['kohli', 'Rajat', 'Bhuvi']\n",
      "['kohli', 'Starc', 'Maxwel', 'Rajat', 'Bhuvi']\n",
      "['kohli', 'Maxwel', 'Rajat', 'Bhuvi']\n"
     ]
    }
   ],
   "source": [
    "RCB = {\n",
    "    'kohli':{'avilable':True,'price': 27,'age':34},\n",
    "    'Starc':{'avilable':False,'price': 21,'age':35},\n",
    "    'Maxwel':{'avilable':False,'price': 12,'age':30},\n",
    "    'Rajat':{'avilable':True,'price': 21,'age':24},\n",
    "    'Bhuvi':{'avilable':True,'price': 12,'age':31},\n",
    "    'DInesh':{'avilable':False,'price': 8,'age':40}\n",
    "}\n",
    "\n",
    "s = list(filter(lambda i :RCB[i]['avilable'] ,RCB))\n",
    "s1 = list(filter(lambda i : RCB[i]['price']>10, RCB))\n",
    "s2 = list(filter(lambda i: RCB[i]['age']<35, RCB))\n",
    "print(s)\n",
    "print(s1)\n",
    "print(s2)"
   ]
  },
  {
   "cell_type": "code",
   "execution_count": 11,
   "id": "597261e4",
   "metadata": {},
   "outputs": [
    {
     "name": "stdout",
     "output_type": "stream",
     "text": [
      "[200]\n"
     ]
    }
   ],
   "source": [
    "l = list(map(int,input(\"Enter the list of the numbers: \").split()))\n",
    "\n",
    "s = list(filter(lambda i: i % 2 == 0, l))\n",
    "print(s)"
   ]
  },
  {
   "cell_type": "code",
   "execution_count": 12,
   "id": "10055070",
   "metadata": {},
   "outputs": [
    {
     "name": "stdout",
     "output_type": "stream",
     "text": [
      "['KOHLI', 'RAJAT', 'BHUVI', 'STARC', 'JITHESH']\n"
     ]
    }
   ],
   "source": [
    "l = [\"Kohli\",\"Rajat\",\"Bhuvi\",\"Starc\",\"Jithesh\"]\n",
    "\n",
    "s = list(map(lambda i:i.upper(), l))\n",
    "print(s)"
   ]
  },
  {
   "cell_type": "code",
   "execution_count": 15,
   "id": "06c14a02",
   "metadata": {},
   "outputs": [
    {
     "name": "stdout",
     "output_type": "stream",
     "text": [
      "[5, 4, 5, 8, 7, 5, 11]\n"
     ]
    }
   ],
   "source": [
    "l = [\"Kohli\" , \"Salt\" , \"Rajat\", \"Padikkal\" , \"Jithesh\" , \"David\" , \"Livingstone\"]\n",
    "\n",
    "s = list(map(lambda x : len(x), l))\n",
    "print(s)"
   ]
  },
  {
   "cell_type": "markdown",
   "id": "5156798b",
   "metadata": {},
   "source": [
    "**Reduce Function**"
   ]
  },
  {
   "cell_type": "code",
   "execution_count": 4,
   "id": "c047e496",
   "metadata": {},
   "outputs": [
    {
     "name": "stdout",
     "output_type": "stream",
     "text": [
      "KohliSirajRajat\n"
     ]
    }
   ],
   "source": [
    "from functools import reduce\n",
    "rcb = ['Kohli','Siraj','Rajat']\n",
    "suma_all = reduce(lambda x,y: x+y, rcb)\n",
    "print(suma_all)"
   ]
  }
 ],
 "metadata": {
  "kernelspec": {
   "display_name": "Python 3",
   "language": "python",
   "name": "python3"
  },
  "language_info": {
   "codemirror_mode": {
    "name": "ipython",
    "version": 3
   },
   "file_extension": ".py",
   "mimetype": "text/x-python",
   "name": "python",
   "nbconvert_exporter": "python",
   "pygments_lexer": "ipython3",
   "version": "3.12.1"
  }
 },
 "nbformat": 4,
 "nbformat_minor": 5
}

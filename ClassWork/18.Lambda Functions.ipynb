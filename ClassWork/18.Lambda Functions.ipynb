{
 "cells": [
  {
   "cell_type": "markdown",
   "id": "ec9f5ecd",
   "metadata": {},
   "source": [
    "**LMBDA functions:**\n",
    "It is the shortest form of the function . \n",
    "It is used to define a function with a single expression. It is a shorthand for lambda x : x**2. \n",
    "It is used to define small anonymous functions. It is used to define functions "
   ]
  },
  {
   "cell_type": "markdown",
   "id": "34e860c1",
   "metadata": {},
   "source": [
    "Syntax for lambda"
   ]
  },
  {
   "cell_type": "code",
   "execution_count": null,
   "id": "2ab364dd",
   "metadata": {},
   "outputs": [],
   "source": [
    "'''var = lambda arg: expr\n",
    "lambda arg\n",
    "'''"
   ]
  },
  {
   "cell_type": "code",
   "execution_count": null,
   "id": "1f1d65fb",
   "metadata": {},
   "outputs": [],
   "source": [
    "def add(a,b):\n",
    "    print(a+b)\n",
    "\n",
    "add_lambda = lambda a,b: a+b\n",
    "print(\"add_lambda\",add_lambda(100,200))\n",
    "\n",
    "add(100,200)"
   ]
  },
  {
   "cell_type": "code",
   "execution_count": null,
   "id": "5e507859",
   "metadata": {},
   "outputs": [
    {
     "name": "stdout",
     "output_type": "stream",
     "text": [
      "odd_even_lambda Even\n"
     ]
    }
   ],
   "source": [
    "def odd_even(n):\n",
    "    if n % 2 == 0:\n",
    "        print(\"True\")\n",
    "    else:\n",
    "        print(\"Flase\")\n",
    "    \n",
    "odd_even_lambda = lambda n: \"Even\" if n % 2 == 0   else \"Odd\"\n",
    "print(\"odd_even_lambda\",odd_even_lambda(100))"
   ]
  },
  {
   "cell_type": "code",
   "execution_count": 5,
   "id": "2017b15e",
   "metadata": {},
   "outputs": [
    {
     "name": "stdout",
     "output_type": "stream",
     "text": [
      "10\n"
     ]
    }
   ],
   "source": [
    "maxnum = lambda a,b : a if a>b else b\n",
    "print(maxnum(5,10))"
   ]
  },
  {
   "cell_type": "code",
   "execution_count": 7,
   "id": "6de25ceb",
   "metadata": {},
   "outputs": [
    {
     "name": "stdout",
     "output_type": "stream",
     "text": [
      "20000\n"
     ]
    }
   ],
   "source": [
    "product = lambda a,b: a*b\n",
    "a = int(input(\"Enter the input: \"))\n",
    "b = int(input(\"Enter the input: \"))\n",
    "print(product(a,b))"
   ]
  },
  {
   "cell_type": "code",
   "execution_count": 8,
   "id": "deaa6fa9",
   "metadata": {},
   "outputs": [
    {
     "name": "stdout",
     "output_type": "stream",
     "text": [
      "[(1, 2), (10, 20), (100, 200), (500, 750)]\n"
     ]
    }
   ],
   "source": [
    "s = sorted([(1,2),(10,20),(100,200),(500,750)], key = lambda i:i[1])\n",
    "print(s)"
   ]
  },
  {
   "cell_type": "code",
   "execution_count": 9,
   "id": "45a7ba2c",
   "metadata": {},
   "outputs": [
    {
     "name": "stdout",
     "output_type": "stream",
     "text": [
      "[(450, 850, 100), (100, 450, 123), (450, 780, 789)]\n"
     ]
    }
   ],
   "source": [
    "s = sorted([(100,450,123),(450,780,789),(450,850,100)],key = lambda i:i[-1])\n",
    "print(s)"
   ]
  }
 ],
 "metadata": {
  "kernelspec": {
   "display_name": "Python 3",
   "language": "python",
   "name": "python3"
  },
  "language_info": {
   "codemirror_mode": {
    "name": "ipython",
    "version": 3
   },
   "file_extension": ".py",
   "mimetype": "text/x-python",
   "name": "python",
   "nbconvert_exporter": "python",
   "pygments_lexer": "ipython3",
   "version": "3.12.1"
  }
 },
 "nbformat": 4,
 "nbformat_minor": 5
}

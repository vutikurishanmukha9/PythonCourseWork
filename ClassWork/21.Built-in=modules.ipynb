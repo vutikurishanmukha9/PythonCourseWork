{
 "cells": [
  {
   "cell_type": "markdown",
   "id": "4a40a44f",
   "metadata": {},
   "source": [
    "**sys – System-Specific Parameters and Functions**"
   ]
  },
  {
   "cell_type": "markdown",
   "id": "a48c6c7b",
   "metadata": {},
   "source": [
    "sys.argv == List of command-line arguments"
   ]
  },
  {
   "cell_type": "code",
   "execution_count": 1,
   "id": "4fd581a1",
   "metadata": {},
   "outputs": [
    {
     "name": "stdout",
     "output_type": "stream",
     "text": [
      "['C:\\\\Users\\\\V SHANMUKH\\\\AppData\\\\Roaming\\\\Python\\\\Python312\\\\site-packages\\\\ipykernel_launcher.py', '--f=\"c:\\\\Users\\\\V SHANMUKH\\\\AppData\\\\Roaming\\\\jupyter\\\\runtime\\\\kernel-v3c4cdec7977f6dff3e081c1fe6bd6660d0adfe7a8.json\"']\n"
     ]
    }
   ],
   "source": [
    "import sys\n",
    "\n",
    "print(sys.argv)"
   ]
  },
  {
   "cell_type": "markdown",
   "id": "48113cdb",
   "metadata": {},
   "source": [
    "sys.exit() == Exits the program"
   ]
  },
  {
   "cell_type": "code",
   "execution_count": 8,
   "id": "8e826b18",
   "metadata": {},
   "outputs": [
    {
     "name": "stdout",
     "output_type": "stream",
     "text": [
      "35\n"
     ]
    },
    {
     "ename": "SystemExit",
     "evalue": "",
     "output_type": "error",
     "traceback": [
      "An exception has occurred, use %tb to see the full traceback.\n",
      "\u001b[31mSystemExit\u001b[39m\n"
     ]
    }
   ],
   "source": [
    "import sys\n",
    "\n",
    "a = 18\n",
    "b = 17\n",
    "print(a+b)\n",
    "sys.exit()\n",
    "print(a-b)"
   ]
  },
  {
   "cell_type": "markdown",
   "id": "2a163121",
   "metadata": {},
   "source": [
    "sys.path == List of paths for module search"
   ]
  },
  {
   "cell_type": "code",
   "execution_count": 5,
   "id": "ba7d5689",
   "metadata": {},
   "outputs": [
    {
     "name": "stdout",
     "output_type": "stream",
     "text": [
      "['c:\\\\Users\\\\V SHANMUKH\\\\AppData\\\\Local\\\\Programs\\\\Python\\\\Python312\\\\python312.zip', 'c:\\\\Users\\\\V SHANMUKH\\\\AppData\\\\Local\\\\Programs\\\\Python\\\\Python312\\\\DLLs', 'c:\\\\Users\\\\V SHANMUKH\\\\AppData\\\\Local\\\\Programs\\\\Python\\\\Python312\\\\Lib', 'c:\\\\Users\\\\V SHANMUKH\\\\AppData\\\\Local\\\\Programs\\\\Python\\\\Python312', '', 'C:\\\\Users\\\\V SHANMUKH\\\\AppData\\\\Roaming\\\\Python\\\\Python312\\\\site-packages', 'C:\\\\Users\\\\V SHANMUKH\\\\AppData\\\\Roaming\\\\Python\\\\Python312\\\\site-packages\\\\win32', 'C:\\\\Users\\\\V SHANMUKH\\\\AppData\\\\Roaming\\\\Python\\\\Python312\\\\site-packages\\\\win32\\\\lib', 'C:\\\\Users\\\\V SHANMUKH\\\\AppData\\\\Roaming\\\\Python\\\\Python312\\\\site-packages\\\\Pythonwin', 'c:\\\\Users\\\\V SHANMUKH\\\\AppData\\\\Local\\\\Programs\\\\Python\\\\Python312\\\\Lib\\\\site-packages']\n"
     ]
    }
   ],
   "source": [
    "import sys\n",
    "\n",
    "print(sys.path)"
   ]
  },
  {
   "cell_type": "markdown",
   "id": "61a03f5e",
   "metadata": {},
   "source": [
    "sys.version == Returns the Python version"
   ]
  },
  {
   "cell_type": "code",
   "execution_count": 6,
   "id": "9bdcc86b",
   "metadata": {},
   "outputs": [
    {
     "name": "stdout",
     "output_type": "stream",
     "text": [
      "3.12.1 (tags/v3.12.1:2305ca5, Dec  7 2023, 22:03:25) [MSC v.1937 64 bit (AMD64)]\n"
     ]
    }
   ],
   "source": [
    "import sys\n",
    "\n",
    "print(sys.version)"
   ]
  },
  {
   "cell_type": "markdown",
   "id": "806e33e7",
   "metadata": {},
   "source": [
    "**platform – System and Platform Information**"
   ]
  },
  {
   "cell_type": "markdown",
   "id": "ad32f3d8",
   "metadata": {},
   "source": [
    "platform.system() == Returns OS name (e.g., Windows, Linux)"
   ]
  },
  {
   "cell_type": "code",
   "execution_count": 9,
   "id": "505c2da3",
   "metadata": {},
   "outputs": [
    {
     "name": "stdout",
     "output_type": "stream",
     "text": [
      "Windows\n"
     ]
    }
   ],
   "source": [
    "import platform\n",
    "\n",
    "print(platform.system())"
   ]
  },
  {
   "cell_type": "markdown",
   "id": "f178a1cb",
   "metadata": {},
   "source": [
    "platform.release() ==  OS release version"
   ]
  },
  {
   "cell_type": "code",
   "execution_count": 10,
   "id": "b534f4e9",
   "metadata": {},
   "outputs": [
    {
     "name": "stdout",
     "output_type": "stream",
     "text": [
      "11\n"
     ]
    }
   ],
   "source": [
    "import platform\n",
    "\n",
    "print(platform.release())"
   ]
  },
  {
   "cell_type": "markdown",
   "id": "8642677e",
   "metadata": {},
   "source": [
    "platform.processor() == Returns processor type"
   ]
  },
  {
   "cell_type": "code",
   "execution_count": 11,
   "id": "33e1a18f",
   "metadata": {},
   "outputs": [
    {
     "name": "stdout",
     "output_type": "stream",
     "text": [
      "Intel64 Family 6 Model 140 Stepping 1, GenuineIntel\n"
     ]
    }
   ],
   "source": [
    "import platform\n",
    "\n",
    "print(platform.processor())"
   ]
  },
  {
   "cell_type": "markdown",
   "id": "40a48a14",
   "metadata": {},
   "source": [
    "**math – Mathematical Functions**"
   ]
  },
  {
   "cell_type": "markdown",
   "id": "16a26e42",
   "metadata": {},
   "source": [
    "math.pi = π = 3.14159..."
   ]
  },
  {
   "cell_type": "code",
   "execution_count": 12,
   "id": "fe2d33c7",
   "metadata": {},
   "outputs": [
    {
     "name": "stdout",
     "output_type": "stream",
     "text": [
      "1.0\n"
     ]
    }
   ],
   "source": [
    "import math\n",
    "\n",
    "print(math.sin(math.pi / 2))"
   ]
  },
  {
   "cell_type": "markdown",
   "id": "be07dee0",
   "metadata": {},
   "source": [
    "math.sqrt(x) == Returns the square root of x"
   ]
  },
  {
   "cell_type": "code",
   "execution_count": 13,
   "id": "2db549d6",
   "metadata": {},
   "outputs": [
    {
     "name": "stdout",
     "output_type": "stream",
     "text": [
      "10.0\n"
     ]
    }
   ],
   "source": [
    "import math\n",
    "\n",
    "print(math.sqrt(100))"
   ]
  },
  {
   "cell_type": "markdown",
   "id": "1e3c0c88",
   "metadata": {},
   "source": [
    "math.pow(x, y) == x raised to the power y (x^y)"
   ]
  },
  {
   "cell_type": "code",
   "execution_count": 18,
   "id": "ccda7d26",
   "metadata": {},
   "outputs": [
    {
     "name": "stdout",
     "output_type": "stream",
     "text": [
      "100.0\n"
     ]
    }
   ],
   "source": [
    "import math\n",
    "a = 10\n",
    "b = 2\n",
    "\n",
    "print(math.pow(a,b))"
   ]
  },
  {
   "cell_type": "markdown",
   "id": "a4ac8539",
   "metadata": {},
   "source": [
    "math.ceil(x) ==  Smallest integer ≥ x"
   ]
  },
  {
   "cell_type": "code",
   "execution_count": 24,
   "id": "842ea417",
   "metadata": {},
   "outputs": [
    {
     "name": "stdout",
     "output_type": "stream",
     "text": [
      "13\n"
     ]
    }
   ],
   "source": [
    "import math\n",
    "\n",
    "a = 12.9\n",
    "\n",
    "print(math.ceil(a))"
   ]
  },
  {
   "cell_type": "markdown",
   "id": "6d1a3c15",
   "metadata": {},
   "source": [
    "math.floor(x) == Largest integer ≤ x"
   ]
  },
  {
   "cell_type": "code",
   "execution_count": 25,
   "id": "41128fff",
   "metadata": {},
   "outputs": [
    {
     "name": "stdout",
     "output_type": "stream",
     "text": [
      "12\n"
     ]
    }
   ],
   "source": [
    "import math\n",
    "\n",
    "a = 12.9\n",
    "\n",
    "print(math.floor(a))"
   ]
  },
  {
   "cell_type": "markdown",
   "id": "687c59da",
   "metadata": {},
   "source": [
    "math.fabs(x) == Absolute value of x"
   ]
  },
  {
   "cell_type": "code",
   "execution_count": 30,
   "id": "b84a2bde",
   "metadata": {},
   "outputs": [
    {
     "name": "stdout",
     "output_type": "stream",
     "text": [
      "3.21456789,12.024568778\n"
     ]
    }
   ],
   "source": [
    "import math\n",
    "\n",
    "a = -3.21456789\n",
    "b = 12.024568778\n",
    "\n",
    "print(f'{math.fabs(a)},{math.fabs(b)}')"
   ]
  },
  {
   "cell_type": "markdown",
   "id": "3f2caab9",
   "metadata": {},
   "source": [
    "math.factorial(x) == Factorial of x (x!)"
   ]
  },
  {
   "cell_type": "code",
   "execution_count": 32,
   "id": "f0cfc8d5",
   "metadata": {},
   "outputs": [
    {
     "name": "stdout",
     "output_type": "stream",
     "text": [
      "120\n"
     ]
    }
   ],
   "source": [
    "import math\n",
    "\n",
    "a = 5\n",
    "print(math.factorial(a))"
   ]
  },
  {
   "cell_type": "markdown",
   "id": "a70b30e5",
   "metadata": {},
   "source": [
    "math.gcd(x, y) ==  Greatest common divisor"
   ]
  },
  {
   "cell_type": "code",
   "execution_count": 33,
   "id": "6c0e01cb",
   "metadata": {},
   "outputs": [
    {
     "name": "stdout",
     "output_type": "stream",
     "text": [
      "2\n"
     ]
    }
   ],
   "source": [
    "import math\n",
    "\n",
    "a = 1200\n",
    "b = 1358\n",
    "\n",
    "print(math.gcd(a,b))"
   ]
  },
  {
   "cell_type": "markdown",
   "id": "0bfcb5cd",
   "metadata": {},
   "source": [
    "math.log(x, base) == Logarithm of x to the given base"
   ]
  },
  {
   "cell_type": "code",
   "execution_count": 34,
   "id": "ee238b5b",
   "metadata": {},
   "outputs": [
    {
     "name": "stdout",
     "output_type": "stream",
     "text": [
      "0.4613998992981762\n"
     ]
    }
   ],
   "source": [
    "import math\n",
    "\n",
    "a = 10\n",
    "b = 147\n",
    "\n",
    "print(math.log(a,b))"
   ]
  },
  {
   "cell_type": "markdown",
   "id": "d7ce7b3a",
   "metadata": {},
   "source": [
    "math.sin(x) ==  Sine of x (x in radians)\n",
    "math.cos(x) == Cosine of x\n",
    "math.tan(x) ==  Tangent of x\n",
    "math.degrees(x)== Convert radians to degrees\n",
    "math.radians(x) == Convert degrees to radians"
   ]
  },
  {
   "cell_type": "code",
   "execution_count": 37,
   "id": "8b413268",
   "metadata": {},
   "outputs": [
    {
     "name": "stdout",
     "output_type": "stream",
     "text": [
      "0.8939966636005579\n"
     ]
    }
   ],
   "source": [
    "import math\n",
    "\n",
    "a = 90\n",
    "\n",
    "print(math.sin(a))"
   ]
  },
  {
   "cell_type": "markdown",
   "id": "c972202f",
   "metadata": {},
   "source": [
    "math.cos(x) ==  Cosine of x"
   ]
  },
  {
   "cell_type": "markdown",
   "id": "e2b78033",
   "metadata": {},
   "source": [
    "**random – Generate Random Numbers**"
   ]
  },
  {
   "cell_type": "markdown",
   "id": "d2dfd486",
   "metadata": {},
   "source": [
    "random.random() == Returns a float in the range [0.0, 1.0)"
   ]
  },
  {
   "cell_type": "code",
   "execution_count": 42,
   "id": "94e134e9",
   "metadata": {},
   "outputs": [
    {
     "name": "stdout",
     "output_type": "stream",
     "text": [
      "<built-in method random of Random object at 0x000001996D416D10>\n"
     ]
    }
   ],
   "source": [
    "import random\n",
    "print(random.random)"
   ]
  },
  {
   "cell_type": "markdown",
   "id": "ee7f2d61",
   "metadata": {},
   "source": [
    "random.randint(a, b) == Returns random integer between a and b (inclusive)"
   ]
  },
  {
   "cell_type": "code",
   "execution_count": 43,
   "id": "60932c4d",
   "metadata": {},
   "outputs": [
    {
     "name": "stdout",
     "output_type": "stream",
     "text": [
      "17\n"
     ]
    }
   ],
   "source": [
    "import random\n",
    "\n",
    "a = 1\n",
    "b = 20\n",
    "\n",
    "print(random.randint(a,b))"
   ]
  },
  {
   "cell_type": "markdown",
   "id": "3ac35e89",
   "metadata": {},
   "source": [
    "random.uniform(a, b) == Returns a float between a and b"
   ]
  },
  {
   "cell_type": "code",
   "execution_count": 44,
   "id": "46f26f89",
   "metadata": {},
   "outputs": [
    {
     "name": "stdout",
     "output_type": "stream",
     "text": [
      "28.755454773302674\n"
     ]
    }
   ],
   "source": [
    "import random\n",
    "a = 10\n",
    "b = 45\n",
    "print(random.uniform(a,b))"
   ]
  },
  {
   "cell_type": "markdown",
   "id": "04298124",
   "metadata": {},
   "source": [
    "random.choice(seq) == Returns a random element from a non-empty sequence"
   ]
  },
  {
   "cell_type": "code",
   "execution_count": 45,
   "id": "b306ec89",
   "metadata": {},
   "outputs": [
    {
     "name": "stdout",
     "output_type": "stream",
     "text": [
      "Siraj\n"
     ]
    }
   ],
   "source": [
    "import random\n",
    "\n",
    "a = [\"Kohli\", \"Rajat\",\"Siraj\",\"Jitesh\",\"Bhuvi\",\"Krunal\"]\n",
    "\n",
    "print(random.choice(a))"
   ]
  },
  {
   "cell_type": "markdown",
   "id": "881e06d2",
   "metadata": {},
   "source": [
    "random.choices(seq,k=n) == Returns a list of k random elements from seq"
   ]
  },
  {
   "cell_type": "code",
   "execution_count": 47,
   "id": "dd83e157",
   "metadata": {},
   "outputs": [
    {
     "name": "stdout",
     "output_type": "stream",
     "text": [
      "['Rajat', 'Kohli', 'Jitesh']\n"
     ]
    }
   ],
   "source": [
    "import random\n",
    "\n",
    "a = [\"Kohli\", \"Rajat\",\"Siraj\",\"Jitesh\",\"Bhuvi\",\"Krunal\"]\n",
    "\n",
    "print(random.choices(a,k=3))"
   ]
  },
  {
   "cell_type": "markdown",
   "id": "b6985bb3",
   "metadata": {},
   "source": [
    "random.shuffle(list) == Shuffles the list in place"
   ]
  },
  {
   "cell_type": "code",
   "execution_count": 51,
   "id": "ee9f9e8d",
   "metadata": {},
   "outputs": [
    {
     "name": "stdout",
     "output_type": "stream",
     "text": [
      "None\n"
     ]
    }
   ],
   "source": [
    "import random\n",
    "\n",
    "a = [\"Kohli\", \"Rajat\",\"Siraj\",\"Jitesh\",\"Bhuvi\",\"Krunal\"]\n",
    "\n",
    "print(random.shuffle(a))"
   ]
  },
  {
   "cell_type": "markdown",
   "id": "54528884",
   "metadata": {},
   "source": [
    "random.seed(n) == Sets the seed for reproducibility"
   ]
  },
  {
   "cell_type": "markdown",
   "id": "fd0d090e",
   "metadata": {},
   "source": [
    "**Data Structures and Iteration Utilities**"
   ]
  },
  {
   "cell_type": "markdown",
   "id": "ed574199",
   "metadata": {},
   "source": [
    "**collections – Specialized Data Structures**"
   ]
  },
  {
   "cell_type": "markdown",
   "id": "89d8a17b",
   "metadata": {},
   "source": [
    "Counter == Counts frequency of elements"
   ]
  },
  {
   "cell_type": "code",
   "execution_count": 8,
   "id": "82e22d48",
   "metadata": {},
   "outputs": [
    {
     "name": "stdout",
     "output_type": "stream",
     "text": [
      "asdfghjklqwertyuiopxcvbnm,asdfghjkqwertyuio\n",
      "Counter({'a': 2, 's': 2, 'd': 2, 'f': 2, 'g': 2, 'h': 2, 'j': 2, 'k': 2, 'q': 2, 'w': 2, 'e': 2, 'r': 2, 't': 2, 'y': 2, 'u': 2, 'i': 2, 'o': 2, 'l': 1, 'p': 1, 'x': 1, 'c': 1, 'v': 1, 'b': 1, 'n': 1, 'm': 1, ',': 1})\n"
     ]
    }
   ],
   "source": [
    "import collections\n",
    "\n",
    "s = input(\"Enter the input String:  \")\n",
    "print(s)\n",
    "print(collections.Counter(s))"
   ]
  },
  {
   "cell_type": "markdown",
   "id": "fd549340",
   "metadata": {},
   "source": [
    "defaultdict == Dictionary with default values"
   ]
  },
  {
   "cell_type": "code",
   "execution_count": 21,
   "id": "2882fb10",
   "metadata": {},
   "outputs": [
    {
     "name": "stdout",
     "output_type": "stream",
     "text": [
      "Shanmukha\n",
      "{'S': 1, 'h': 2, 'a': 2, 'n': 1, 'm': 1, 'u': 1, 'k': 1}\n"
     ]
    }
   ],
   "source": [
    "import collections\n",
    "\n",
    "s = input(\"Enter the input in a string:  \")\n",
    "d = collections.defaultdict(int)\n",
    "\n",
    "for i in s:\n",
    "    d[i] += 1\n",
    "print(s)\n",
    "print(dict(d))\n"
   ]
  },
  {
   "cell_type": "markdown",
   "id": "208d32f5",
   "metadata": {},
   "source": [
    "deque == Double-ended queue for fast appends/pops"
   ]
  },
  {
   "cell_type": "code",
   "execution_count": 26,
   "id": "49bc7a75",
   "metadata": {},
   "outputs": [
    {
     "name": "stdout",
     "output_type": "stream",
     "text": [
      "deque([1])\n"
     ]
    }
   ],
   "source": [
    "import collections\n",
    "\n",
    "l = collections.deque()\n",
    "l.append(1)\n",
    "l.append(2)\n",
    "l.append(3)\n",
    "l.append(18)\n",
    "l.append(38)\n",
    "l.pop()\n",
    "l.pop()\n",
    "l.pop()\n",
    "l.pop()\n",
    "print(l)  "
   ]
  }
 ],
 "metadata": {
  "kernelspec": {
   "display_name": "Python 3",
   "language": "python",
   "name": "python3"
  },
  "language_info": {
   "codemirror_mode": {
    "name": "ipython",
    "version": 3
   },
   "file_extension": ".py",
   "mimetype": "text/x-python",
   "name": "python",
   "nbconvert_exporter": "python",
   "pygments_lexer": "ipython3",
   "version": "3.12.1"
  }
 },
 "nbformat": 4,
 "nbformat_minor": 5
}

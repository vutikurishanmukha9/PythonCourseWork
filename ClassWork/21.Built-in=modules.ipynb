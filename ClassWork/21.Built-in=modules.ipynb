{
 "cells": [
  {
   "cell_type": "markdown",
   "id": "4a40a44f",
   "metadata": {},
   "source": [
    "**sys – System-Specific Parameters and Functions**"
   ]
  },
  {
   "cell_type": "markdown",
   "id": "a48c6c7b",
   "metadata": {},
   "source": [
    "sys.argv == List of command-line arguments"
   ]
  },
  {
   "cell_type": "code",
   "execution_count": 1,
   "id": "4fd581a1",
   "metadata": {},
   "outputs": [
    {
     "name": "stdout",
     "output_type": "stream",
     "text": [
      "['C:\\\\Users\\\\V SHANMUKH\\\\AppData\\\\Roaming\\\\Python\\\\Python312\\\\site-packages\\\\ipykernel_launcher.py', '--f=\"c:\\\\Users\\\\V SHANMUKH\\\\AppData\\\\Roaming\\\\jupyter\\\\runtime\\\\kernel-v3c4cdec7977f6dff3e081c1fe6bd6660d0adfe7a8.json\"']\n"
     ]
    }
   ],
   "source": [
    "import sys\n",
    "\n",
    "print(sys.argv)"
   ]
  },
  {
   "cell_type": "markdown",
   "id": "48113cdb",
   "metadata": {},
   "source": [
    "sys.exit() == Exits the program"
   ]
  },
  {
   "cell_type": "code",
   "execution_count": 8,
   "id": "8e826b18",
   "metadata": {},
   "outputs": [
    {
     "name": "stdout",
     "output_type": "stream",
     "text": [
      "35\n"
     ]
    },
    {
     "ename": "SystemExit",
     "evalue": "",
     "output_type": "error",
     "traceback": [
      "An exception has occurred, use %tb to see the full traceback.\n",
      "\u001b[31mSystemExit\u001b[39m\n"
     ]
    }
   ],
   "source": [
    "import sys\n",
    "\n",
    "a = 18\n",
    "b = 17\n",
    "print(a+b)\n",
    "sys.exit()\n",
    "print(a-b)"
   ]
  },
  {
   "cell_type": "markdown",
   "id": "2a163121",
   "metadata": {},
   "source": [
    "sys.path == List of paths for module search"
   ]
  },
  {
   "cell_type": "code",
   "execution_count": 5,
   "id": "ba7d5689",
   "metadata": {},
   "outputs": [
    {
     "name": "stdout",
     "output_type": "stream",
     "text": [
      "['c:\\\\Users\\\\V SHANMUKH\\\\AppData\\\\Local\\\\Programs\\\\Python\\\\Python312\\\\python312.zip', 'c:\\\\Users\\\\V SHANMUKH\\\\AppData\\\\Local\\\\Programs\\\\Python\\\\Python312\\\\DLLs', 'c:\\\\Users\\\\V SHANMUKH\\\\AppData\\\\Local\\\\Programs\\\\Python\\\\Python312\\\\Lib', 'c:\\\\Users\\\\V SHANMUKH\\\\AppData\\\\Local\\\\Programs\\\\Python\\\\Python312', '', 'C:\\\\Users\\\\V SHANMUKH\\\\AppData\\\\Roaming\\\\Python\\\\Python312\\\\site-packages', 'C:\\\\Users\\\\V SHANMUKH\\\\AppData\\\\Roaming\\\\Python\\\\Python312\\\\site-packages\\\\win32', 'C:\\\\Users\\\\V SHANMUKH\\\\AppData\\\\Roaming\\\\Python\\\\Python312\\\\site-packages\\\\win32\\\\lib', 'C:\\\\Users\\\\V SHANMUKH\\\\AppData\\\\Roaming\\\\Python\\\\Python312\\\\site-packages\\\\Pythonwin', 'c:\\\\Users\\\\V SHANMUKH\\\\AppData\\\\Local\\\\Programs\\\\Python\\\\Python312\\\\Lib\\\\site-packages']\n"
     ]
    }
   ],
   "source": [
    "import sys\n",
    "\n",
    "print(sys.path)"
   ]
  },
  {
   "cell_type": "markdown",
   "id": "61a03f5e",
   "metadata": {},
   "source": [
    "sys.version == Returns the Python version"
   ]
  },
  {
   "cell_type": "code",
   "execution_count": 6,
   "id": "9bdcc86b",
   "metadata": {},
   "outputs": [
    {
     "name": "stdout",
     "output_type": "stream",
     "text": [
      "3.12.1 (tags/v3.12.1:2305ca5, Dec  7 2023, 22:03:25) [MSC v.1937 64 bit (AMD64)]\n"
     ]
    }
   ],
   "source": [
    "import sys\n",
    "\n",
    "print(sys.version)"
   ]
  },
  {
   "cell_type": "markdown",
   "id": "806e33e7",
   "metadata": {},
   "source": [
    "**platform – System and Platform Information**"
   ]
  },
  {
   "cell_type": "markdown",
   "id": "ad32f3d8",
   "metadata": {},
   "source": [
    "platform.system() == Returns OS name (e.g., Windows, Linux)"
   ]
  },
  {
   "cell_type": "code",
   "execution_count": 9,
   "id": "505c2da3",
   "metadata": {},
   "outputs": [
    {
     "name": "stdout",
     "output_type": "stream",
     "text": [
      "Windows\n"
     ]
    }
   ],
   "source": [
    "import platform\n",
    "\n",
    "print(platform.system())"
   ]
  },
  {
   "cell_type": "markdown",
   "id": "f178a1cb",
   "metadata": {},
   "source": [
    "platform.release() ==  OS release version"
   ]
  },
  {
   "cell_type": "code",
   "execution_count": 10,
   "id": "b534f4e9",
   "metadata": {},
   "outputs": [
    {
     "name": "stdout",
     "output_type": "stream",
     "text": [
      "11\n"
     ]
    }
   ],
   "source": [
    "import platform\n",
    "\n",
    "print(platform.release())"
   ]
  },
  {
   "cell_type": "markdown",
   "id": "8642677e",
   "metadata": {},
   "source": [
    "platform.processor() == Returns processor type"
   ]
  },
  {
   "cell_type": "code",
   "execution_count": 11,
   "id": "33e1a18f",
   "metadata": {},
   "outputs": [
    {
     "name": "stdout",
     "output_type": "stream",
     "text": [
      "Intel64 Family 6 Model 140 Stepping 1, GenuineIntel\n"
     ]
    }
   ],
   "source": [
    "import platform\n",
    "\n",
    "print(platform.processor())"
   ]
  }
 ],
 "metadata": {
  "kernelspec": {
   "display_name": "Python 3",
   "language": "python",
   "name": "python3"
  },
  "language_info": {
   "codemirror_mode": {
    "name": "ipython",
    "version": 3
   },
   "file_extension": ".py",
   "mimetype": "text/x-python",
   "name": "python",
   "nbconvert_exporter": "python",
   "pygments_lexer": "ipython3",
   "version": "3.12.1"
  }
 },
 "nbformat": 4,
 "nbformat_minor": 5
}
